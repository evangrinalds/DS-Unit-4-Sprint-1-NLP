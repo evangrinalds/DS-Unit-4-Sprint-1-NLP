{
  "nbformat": 4,
  "nbformat_minor": 0,
  "metadata": {
    "colab": {
      "name": "LS_DSPT8_421_Text_Data_Assignment.ipynb",
      "provenance": [],
      "collapsed_sections": [],
      "include_colab_link": true
    },
    "kernelspec": {
      "display_name": "U4-S1-NLP-DS17",
      "language": "python",
      "name": "u4-s1-nlp-ds17"
    },
    "language_info": {
      "codemirror_mode": {
        "name": "ipython",
        "version": 3
      },
      "file_extension": ".py",
      "mimetype": "text/x-python",
      "name": "python",
      "nbconvert_exporter": "python",
      "pygments_lexer": "ipython3",
      "version": "3.7.0"
    },
    "toc-autonumbering": false
  },
  "cells": [
    {
      "cell_type": "markdown",
      "metadata": {
        "id": "view-in-github",
        "colab_type": "text"
      },
      "source": [
        "<a href=\"https://colab.research.google.com/github/evangrinalds/DS-Unit-4-Sprint-1-NLP/blob/main/module1-text-data/LS_DSPT8_421_Text_Data_Assignment.ipynb\" target=\"_parent\"><img src=\"https://colab.research.google.com/assets/colab-badge.svg\" alt=\"Open In Colab\"/></a>"
      ]
    },
    {
      "cell_type": "markdown",
      "metadata": {
        "id": "699R6Zf6clcr"
      },
      "source": [
        "<img align=\"left\" src=\"https://lever-client-logos.s3.amazonaws.com/864372b1-534c-480e-acd5-9711f850815c-1524247202159.png\" width=200>\n",
        "<br></br>\n",
        "<br></br>\n",
        "\n",
        "# Natural Language Processing (NLP)\n",
        "## *Data Science Unit 4 Sprint 1 Assignment 1*\n",
        "\n",
        "Your goal in this assignment: find the attributes of the best & worst coffee shops in the dataset. The text is fairly raw: dates in the review, extra words in the `star_rating` column, etc. You'll probably want to clean that stuff up for a better analysis. \n",
        "\n",
        "Analyze the corpus of text using text visualizations of token frequency. Try cleaning the data as much as possible. Try the following techniques: \n",
        "- Lemmatization\n",
        "- Custom stopword removal\n",
        "\n",
        "Keep in mind the attributes of good tokens. Once you have a solid baseline, layer in the star rating in your visualization(s). Key part of this assignment - produce a write-up of the attributes of the best and worst coffee shops. Based on your analysis, what makes the best the best and the worst the worst. Use graphs and numbesr from your analysis to support your conclusions. There should be plenty of markdown cells! :coffee:"
      ]
    },
    {
      "cell_type": "code",
      "metadata": {
        "id": "tYEyrowCclct",
        "colab": {
          "base_uri": "https://localhost:8080/",
          "height": 321
        },
        "outputId": "11c145a8-2c1e-49a4-e8ba-9502bbd97d40"
      },
      "source": [
        "from IPython.display import YouTubeVideo\n",
        "\n",
        "YouTubeVideo('Jml7NVYm8cs')"
      ],
      "execution_count": 1,
      "outputs": [
        {
          "output_type": "execute_result",
          "data": {
            "text/html": [
              "\n",
              "        <iframe\n",
              "            width=\"400\"\n",
              "            height=\"300\"\n",
              "            src=\"https://www.youtube.com/embed/Jml7NVYm8cs\"\n",
              "            frameborder=\"0\"\n",
              "            allowfullscreen\n",
              "        ></iframe>\n",
              "        "
            ],
            "text/plain": [
              "<IPython.lib.display.YouTubeVideo at 0x7fd69f295978>"
            ],
            "image/jpeg": "[encoded data removed]"
          },
          "metadata": {
            "tags": []
          },
          "execution_count": 1
        }
      ]
    },
    {
      "cell_type": "code",
      "metadata": {
        "id": "qdrfROuMclcu",
        "colab": {
          "base_uri": "https://localhost:8080/",
          "height": 35
        },
        "outputId": "85212c9b-2c38-40ad-ef22-197764bd418f"
      },
      "source": [
        "%pwd"
      ],
      "execution_count": 2,
      "outputs": [
        {
          "output_type": "execute_result",
          "data": {
            "application/vnd.google.colaboratory.intrinsic+json": {
              "type": "string"
            },
            "text/plain": [
              "'/content'"
            ]
          },
          "metadata": {
            "tags": []
          },
          "execution_count": 2
        }
      ]
    },
    {
      "cell_type": "code",
      "metadata": {
        "id": "ojd6yKXeclcu",
        "colab": {
          "base_uri": "https://localhost:8080/",
          "height": 204
        },
        "outputId": "fb0567e3-9acf-41b3-cc86-8580a200798c"
      },
      "source": [
        "import pandas as pd\n",
        "\n",
        "url = \"https://raw.githubusercontent.com/evangrinalds/DS-Unit-4-Sprint-1-NLP/main/module1-text-data/data/yelp_coffeeshop_review_data.csv\"\n",
        "\n",
        "shops = pd.read_csv(url)\n",
        "shops.head()"
      ],
      "execution_count": 3,
      "outputs": [
        {
          "output_type": "execute_result",
          "data": {
            "text/html": [
              "<div>\n",
              "<style scoped>\n",
              "    .dataframe tbody tr th:only-of-type {\n",
              "        vertical-align: middle;\n",
              "    }\n",
              "\n",
              "    .dataframe tbody tr th {\n",
              "        vertical-align: top;\n",
              "    }\n",
              "\n",
              "    .dataframe thead th {\n",
              "        text-align: right;\n",
              "    }\n",
              "</style>\n",
              "<table border=\"1\" class=\"dataframe\">\n",
              "  <thead>\n",
              "    <tr style=\"text-align: right;\">\n",
              "      <th></th>\n",
              "      <th>coffee_shop_name</th>\n",
              "      <th>full_review_text</th>\n",
              "      <th>star_rating</th>\n",
              "    </tr>\n",
              "  </thead>\n",
              "  <tbody>\n",
              "    <tr>\n",
              "      <th>0</th>\n",
              "      <td>The Factory - Cafe With a Soul</td>\n",
              "      <td>11/25/2016 1 check-in Love love loved the atm...</td>\n",
              "      <td>5.0 star rating</td>\n",
              "    </tr>\n",
              "    <tr>\n",
              "      <th>1</th>\n",
              "      <td>The Factory - Cafe With a Soul</td>\n",
              "      <td>12/2/2016 Listed in Date Night: Austin, Ambia...</td>\n",
              "      <td>4.0 star rating</td>\n",
              "    </tr>\n",
              "    <tr>\n",
              "      <th>2</th>\n",
              "      <td>The Factory - Cafe With a Soul</td>\n",
              "      <td>11/30/2016 1 check-in Listed in Brunch Spots ...</td>\n",
              "      <td>4.0 star rating</td>\n",
              "    </tr>\n",
              "    <tr>\n",
              "      <th>3</th>\n",
              "      <td>The Factory - Cafe With a Soul</td>\n",
              "      <td>11/25/2016 Very cool decor! Good drinks Nice ...</td>\n",
              "      <td>2.0 star rating</td>\n",
              "    </tr>\n",
              "    <tr>\n",
              "      <th>4</th>\n",
              "      <td>The Factory - Cafe With a Soul</td>\n",
              "      <td>12/3/2016 1 check-in They are located within ...</td>\n",
              "      <td>4.0 star rating</td>\n",
              "    </tr>\n",
              "  </tbody>\n",
              "</table>\n",
              "</div>"
            ],
            "text/plain": [
              "                  coffee_shop_name  ...        star_rating\n",
              "0  The Factory - Cafe With a Soul   ...   5.0 star rating \n",
              "1  The Factory - Cafe With a Soul   ...   4.0 star rating \n",
              "2  The Factory - Cafe With a Soul   ...   4.0 star rating \n",
              "3  The Factory - Cafe With a Soul   ...   2.0 star rating \n",
              "4  The Factory - Cafe With a Soul   ...   4.0 star rating \n",
              "\n",
              "[5 rows x 3 columns]"
            ]
          },
          "metadata": {
            "tags": []
          },
          "execution_count": 3
        }
      ]
    },
    {
      "cell_type": "code",
      "metadata": {
        "id": "VNY5RGBMclcu",
        "colab": {
          "base_uri": "https://localhost:8080/",
          "height": 419
        },
        "outputId": "eda9d39b-4600-489a-e9da-47ee5bcc2291"
      },
      "source": [
        "temp = shops\n",
        "temp = temp.sort_values(by='star_rating')\n",
        "temp"
      ],
      "execution_count": 4,
      "outputs": [
        {
          "output_type": "execute_result",
          "data": {
            "text/html": [
              "<div>\n",
              "<style scoped>\n",
              "    .dataframe tbody tr th:only-of-type {\n",
              "        vertical-align: middle;\n",
              "    }\n",
              "\n",
              "    .dataframe tbody tr th {\n",
              "        vertical-align: top;\n",
              "    }\n",
              "\n",
              "    .dataframe thead th {\n",
              "        text-align: right;\n",
              "    }\n",
              "</style>\n",
              "<table border=\"1\" class=\"dataframe\">\n",
              "  <thead>\n",
              "    <tr style=\"text-align: right;\">\n",
              "      <th></th>\n",
              "      <th>coffee_shop_name</th>\n",
              "      <th>full_review_text</th>\n",
              "      <th>star_rating</th>\n",
              "    </tr>\n",
              "  </thead>\n",
              "  <tbody>\n",
              "    <tr>\n",
              "      <th>3807</th>\n",
              "      <td>Cream Whiskers</td>\n",
              "      <td>9/14/2016 Did you know that humans are very p...</td>\n",
              "      <td>1.0 star rating</td>\n",
              "    </tr>\n",
              "    <tr>\n",
              "      <th>4856</th>\n",
              "      <td>The Buzz Mill</td>\n",
              "      <td>7/27/2016 I have no idea what their drinks ar...</td>\n",
              "      <td>1.0 star rating</td>\n",
              "    </tr>\n",
              "    <tr>\n",
              "      <th>1861</th>\n",
              "      <td>Epoch Coffee</td>\n",
              "      <td>2/13/2016 I lived within walking distance to ...</td>\n",
              "      <td>1.0 star rating</td>\n",
              "    </tr>\n",
              "    <tr>\n",
              "      <th>2328</th>\n",
              "      <td>Mary’s Cafe</td>\n",
              "      <td>10/15/2015 The hours are wrong, the site says...</td>\n",
              "      <td>1.0 star rating</td>\n",
              "    </tr>\n",
              "    <tr>\n",
              "      <th>6459</th>\n",
              "      <td>Strange Brew, Austin Coffee</td>\n",
              "      <td>9/30/2015 I want love this place even though ...</td>\n",
              "      <td>1.0 star rating</td>\n",
              "    </tr>\n",
              "    <tr>\n",
              "      <th>...</th>\n",
              "      <td>...</td>\n",
              "      <td>...</td>\n",
              "      <td>...</td>\n",
              "    </tr>\n",
              "    <tr>\n",
              "      <th>4701</th>\n",
              "      <td>Cafe Ruckus</td>\n",
              "      <td>4/19/2014 1 check-in Listed in The Yelp 100 C...</td>\n",
              "      <td>5.0 star rating</td>\n",
              "    </tr>\n",
              "    <tr>\n",
              "      <th>1905</th>\n",
              "      <td>Apanas Coffee &amp; Beer</td>\n",
              "      <td>10/19/2016 The staff was extremely friendly a...</td>\n",
              "      <td>5.0 star rating</td>\n",
              "    </tr>\n",
              "    <tr>\n",
              "      <th>1904</th>\n",
              "      <td>Apanas Coffee &amp; Beer</td>\n",
              "      <td>9/10/2016 Good selection of local Austin area...</td>\n",
              "      <td>5.0 star rating</td>\n",
              "    </tr>\n",
              "    <tr>\n",
              "      <th>4671</th>\n",
              "      <td>Elixer Coffee</td>\n",
              "      <td>7/21/2011 Cheerful and attentive staff. Delic...</td>\n",
              "      <td>5.0 star rating</td>\n",
              "    </tr>\n",
              "    <tr>\n",
              "      <th>0</th>\n",
              "      <td>The Factory - Cafe With a Soul</td>\n",
              "      <td>11/25/2016 1 check-in Love love loved the atm...</td>\n",
              "      <td>5.0 star rating</td>\n",
              "    </tr>\n",
              "  </tbody>\n",
              "</table>\n",
              "<p>7616 rows × 3 columns</p>\n",
              "</div>"
            ],
            "text/plain": [
              "                     coffee_shop_name  ...        star_rating\n",
              "3807                  Cream Whiskers   ...   1.0 star rating \n",
              "4856                   The Buzz Mill   ...   1.0 star rating \n",
              "1861                    Epoch Coffee   ...   1.0 star rating \n",
              "2328                     Mary’s Cafe   ...   1.0 star rating \n",
              "6459     Strange Brew, Austin Coffee   ...   1.0 star rating \n",
              "...                               ...  ...                ...\n",
              "4701                     Cafe Ruckus   ...   5.0 star rating \n",
              "1905            Apanas Coffee & Beer   ...   5.0 star rating \n",
              "1904            Apanas Coffee & Beer   ...   5.0 star rating \n",
              "4671                   Elixer Coffee   ...   5.0 star rating \n",
              "0     The Factory - Cafe With a Soul   ...   5.0 star rating \n",
              "\n",
              "[7616 rows x 3 columns]"
            ]
          },
          "metadata": {
            "tags": []
          },
          "execution_count": 4
        }
      ]
    },
    {
      "cell_type": "code",
      "metadata": {
        "id": "yxYs-fE1clcu",
        "colab": {
          "base_uri": "https://localhost:8080/"
        },
        "outputId": "61451d04-0cc9-4223-c4a7-3075032d1534"
      },
      "source": [
        "print(shops['star_rating'].iloc[0])"
      ],
      "execution_count": 5,
      "outputs": [
        {
          "output_type": "stream",
          "text": [
            " 5.0 star rating \n"
          ],
          "name": "stdout"
        }
      ]
    },
    {
      "cell_type": "code",
      "metadata": {
        "id": "hegIRyrlclcv",
        "colab": {
          "base_uri": "https://localhost:8080/"
        },
        "outputId": "0d3671c9-69f1-4d4a-e5fd-dbbcf6dfbb27"
      },
      "source": [
        "print(len(shops))"
      ],
      "execution_count": 6,
      "outputs": [
        {
          "output_type": "stream",
          "text": [
            "7616\n"
          ],
          "name": "stdout"
        }
      ]
    },
    {
      "cell_type": "code",
      "metadata": {
        "id": "D8VYrjD7clcv",
        "colab": {
          "base_uri": "https://localhost:8080/"
        },
        "outputId": "27924dd6-5131-4037-b875-92168a065c3a"
      },
      "source": [
        "shops['full_review_text'] = shops['full_review_text'].apply(lambda x: x.lower())\n",
        "shops['full_review_text'].value_counts()"
      ],
      "execution_count": 7,
      "outputs": [
        {
          "output_type": "execute_result",
          "data": {
            "text/plain": [
              " 10/19/2016 the matcha lattes are amazing! great atmosphere, great food and drink, and everything is plated beautifully. the kind of place where you can tell the employees take pride in their work. i'll definitely be back often.                                                                                                                                                                                                                                                                                                                                                                                                                                                                                                                                                                                                                                                                   4\n",
              " 11/2/2016 i was so pleasantly surprised by this place! i only went because i had time to kill and they were the only coffee shop nearby open until 2 am. but i'm so glad i tried it out. it's not your typical austin coffee shop. the quality of the drinks here was top notch, and they offer unique food and drinks. i had the macha latte (i think that's what it was called) and it was fantastic! the people were so friendly, the decor was beautiful, with plenty of comfortable seating (including swings from the ceiling!), and it was just the perfect place to chill with friends. i'll definitely be coming back!                                                                                                                                                                                                                                                                       4\n",
              " 11/21/2016 this spot is super cute (\"like eating in a pottery barn\"), with drinks that are unique and with a somewhat limited menu. we tried the chicken and waffles, which was surprisingly delicious and our drinks were also tasty. i had the livin la vida mocha and my husband had the pour over. i will definitely return with company, but prices weren't good enough to make this a regular stop in our rotation.                                                                                                                                                                                                                                                                                                                                                                                                                                                                             4\n",
              " 10/16/2016 amazing coffee! waffle banana and nutella is incredible! beautiful place! the service is great! everything is just perfect!                                                                                                                                                                                                                                                                                                                                                                                                                                                                                                                                                                                                                                                                                                                                                                4\n",
              " 11/26/2016 1 check-in i love the deco a lot, it's a really good place to chill, it's modern, unique and appreciate the aesthetics, so i give that 5 stars, but the coffee was really disappointing. i ordered a coffee and it was a lot smaller than the picture on the menu and it was really expensive. it didn't taste good either. other than there being no outlets and expensive coffee, this place is great.                                                                                                                                                                                                                                                                                                                                                                                                                                                                                   4\n",
              "                                                                                                                                                                                                                                                                                                                                                                                                                                                                                                                                                                                                                                                                                                                                                                                                                                                                                                      ..\n",
              " 4/18/2015 admittedly, i have high standards for coffee, but this was terrible. the cappuccino i ordered had virtually no foam, tasted like slightly bitter, watered down coffee flavored milk, and was barely warm. the barista was not at all friendly, engaging just enough to take our money, and hand us the coffee. we will not be back.  *i have updated this review due to the response of the owner to my initial review. she graciously offered a refund, and invited us to come back for a better experience. while that doesn't change my initial experience, i appreciate her caring enough to do so.                                                                                                                                                                                                                                                                                     1\n",
              " 11/2/2016 summer moon stands out from the crowd with their moon milk. i love the moon milk in both their iced coffee (winter moon) and hot coffee (summer moon). clearly i am not alone as it always seems to be busy.  it is often a bit of a wait but it's always worth it. those who are short on time should try their nitro coffee, which is on tap thus removing  the wait for them to make the expresso shots. the nitro does, however, have a lot of caffeine so those who goes that route should be prepared for a caffeine rush.  in addition to coffee they also serve breakfast tacos, sandwiches, and baked goods from other local places. i am a big fan of the lemon poppy seed bread from russell's bakery. if you are looking to stay a while after getting your coffee, they have lots of seating including a few nice, big comfy chairs and some nice large tables for groups.     1\n",
              " 9/20/2016 the staff is always super friendly and i love that their mocha latte's aren't too sweet and they make the chocolate sauce in house.                                                                                                                                                                                                                                                                                                                                                                                                                                                                                                                                                                                                                                                                                                                                                         1\n",
              " 3/10/2015 -great [cheap and fast] breakfast burritos -great beer selection -pleasant people  check it out if you haven't                                                                                                                                                                                                                                                                                                                                                                                                                                                                                                                                                                                                                                                                                                                                                                              1\n",
              " 12/1/2016 updated review i am a big breakfast fan - more traditional and less breakfast taco so i have been going to both kirby lane and cafe java regularly now for the last few years.  lately it has been more cafe java as the kirby lane i want to has been inconsistent as of late and the regular employees i got to know being moved to other newer locations.  as others note more than likely you will have to wait as there is usually a line but the breakfast is solid.  good bacon which is always key and the cafe java special is crazy good for value.  really friendly staff and good coffee from the house to the coffee of the day for a wide variety.  great way to start a morning.                                                                                                                                                                                             1\n",
              "Name: full_review_text, Length: 6915, dtype: int64"
            ]
          },
          "metadata": {
            "tags": []
          },
          "execution_count": 7
        }
      ]
    },
    {
      "cell_type": "code",
      "metadata": {
        "id": "9Bog1wq9fA49"
      },
      "source": [
        "python -m spacy download en_core_web_lg"
      ],
      "execution_count": null,
      "outputs": []
    },
    {
      "cell_type": "code",
      "metadata": {
        "id": "h9ILuHSuclcv"
      },
      "source": [
        "# Base\n",
        "from collections import Counter\n",
        "import re\n",
        " \n",
        "import pandas as pd\n",
        "\n",
        "# Plotting\n",
        "import matplotlib.pyplot as plt\n",
        "import seaborn as sns\n",
        "\n",
        "# NLP Libraries\n",
        "import spacy\n",
        "from spacy.tokenizer import Tokenizer\n",
        "from nltk.stem import PorterStemmer\n",
        "\n",
        "nlp = spacy.load(\"en_core_web_lg\")"
      ],
      "execution_count": null,
      "outputs": []
    },
    {
      "cell_type": "code",
      "metadata": {
        "id": "_ynotNmyclcv"
      },
      "source": [
        "def tokenize(text):\n",
        "    \"\"\"Parses a string into a list of semantic units (words)\n",
        "\n",
        "    Args:\n",
        "        text (str): The string that the function will tokenize.\n",
        "\n",
        "    Returns:\n",
        "        list: tokens parsed out by the mechanics of your choice\n",
        "    \"\"\"\n",
        "    \n",
        "    tokens = re.sub('[^a-zA-Z 0-9]', '', text)\n",
        "    tokens = tokens.lower().split()\n",
        "    \n",
        "    return tokens"
      ],
      "execution_count": null,
      "outputs": []
    },
    {
      "cell_type": "markdown",
      "metadata": {
        "id": "Axay5ovmclcv"
      },
      "source": [
        "## How do we want to analyze these coffee shop tokens? \n",
        "\n",
        "- Overall Word / Token Count\n",
        "- View Counts by Rating \n",
        "- *Hint:* a 'bad' coffee shops has a rating betweeen 1 & 3 based on the distribution of ratings. A 'good' coffee shop is a 4 or 5. "
      ]
    },
    {
      "cell_type": "code",
      "metadata": {
        "id": "7PcM8Ry-clcv"
      },
      "source": [
        "shops['tokens'] = shops['full_review_text'].apply(tokenize)"
      ],
      "execution_count": null,
      "outputs": []
    },
    {
      "cell_type": "code",
      "metadata": {
        "id": "iF-Am6Ybclcv"
      },
      "source": [
        "def count (docs):\n",
        "    \n",
        "        word_counts = Counter()\n",
        "        appears_in = Counter()\n",
        "        \n",
        "        total_docs = len(docs)\n",
        "        \n",
        "        for doc in docs:\n",
        "            word_counts.update(doc)\n",
        "            appears_in.update(set(doc))\n",
        "            \n",
        "        temp = zip(word_counts.keys(), word_counts.values())\n",
        "        \n",
        "        wc = pd.DataFrame(temp, columns = ['word', 'count'])\n",
        "        \n",
        "        wc['rank'] = wc['count'].rank(method='first', ascending=False)\n",
        "        total = wc['count'].sum()\n",
        "        \n",
        "        wc['pct_total'] = wc['count'].apply(lambda x: x / total)\n",
        "        \n",
        "        wc = wc.sort_values(by='rank')\n",
        "        wc['cul_pct_total'] = wc['pct_total'].cumsum()\n",
        "        \n",
        "        t2 = zip(appears_in.keys(), appears_in.values())\n",
        "        ac = pd.DataFrame(t2, columns=['word', 'appears_in'])\n",
        "        wc = ac.merge(wc, on='word')\n",
        "        \n",
        "        wc['appears_in_pct'] = wc['appears_in'].apply(lambda x: x / total_docs)\n",
        "        \n",
        "        return wc.sort_values(by='rank')"
      ],
      "execution_count": null,
      "outputs": []
    },
    {
      "cell_type": "code",
      "metadata": {
        "id": "hD4dDzP7clcv",
        "outputId": "655dd118-c2cd-4f96-b756-3c9c232ae107"
      },
      "source": [
        "# Object from Base Python \n",
        "from collections import Counter\n",
        "\n",
        "# The object 'Counter takes an iterable, but you can instaniate an empty one and update it.'\n",
        "word_counts = Counter()\n",
        "\n",
        "# Update it based on a split of each of our documents\n",
        "shops['tokens'].apply(lambda x: word_counts.update(x))\n",
        "\n",
        "# Print out the 10 most common words\n",
        "word_counts.most_common(10)"
      ],
      "execution_count": null,
      "outputs": [
        {
          "output_type": "execute_result",
          "data": {
            "text/plain": [
              "[('the', 34809),\n",
              " ('and', 26650),\n",
              " ('a', 22755),\n",
              " ('i', 20237),\n",
              " ('to', 17164),\n",
              " ('of', 12600),\n",
              " ('is', 11999),\n",
              " ('coffee', 10353),\n",
              " ('was', 9707),\n",
              " ('in', 9546)]"
            ]
          },
          "metadata": {
            "tags": []
          },
          "execution_count": 21
        }
      ]
    },
    {
      "cell_type": "code",
      "metadata": {
        "id": "_CoLvrs6clcw"
      },
      "source": [
        "wc = count(shops['tokens'])"
      ],
      "execution_count": null,
      "outputs": []
    },
    {
      "cell_type": "code",
      "metadata": {
        "id": "3JRPvMrXclcw"
      },
      "source": [
        "def get_lemmas(text):\n",
        "    \n",
        "    lemmas = []\n",
        "    \n",
        "    doc = nlp(text)\n",
        "    \n",
        "    for token in doc:\n",
        "        if ((token.is_stop == False) and (token.is_punct == False)) and (token.pos_ !='PRON'):\n",
        "            lemmas.append(token.lemma_)\n",
        "    \n",
        "    return lemmas"
      ],
      "execution_count": null,
      "outputs": []
    },
    {
      "cell_type": "code",
      "metadata": {
        "id": "S2pD-F0sclcw"
      },
      "source": [
        "STOP_WORDS = nlp.Defaults.stop_words.union(['coffee','I', ' ', 'i', 'it', \"it's\", 'it.', 'the', 'this',])"
      ],
      "execution_count": null,
      "outputs": []
    },
    {
      "cell_type": "code",
      "metadata": {
        "id": "QNzuF-Dqclcw"
      },
      "source": [
        "x1 = shops[shops['star_rating'] == shops['star_rating'].iloc[0]]\n",
        "x2 = shops[shops['star_rating'] == shops['star_rating'].iloc[3807]]"
      ],
      "execution_count": null,
      "outputs": []
    },
    {
      "cell_type": "code",
      "metadata": {
        "id": "zc0oMCDzclcw",
        "outputId": "cce48ee7-69ba-4831-e71e-aac7f1bedbbd"
      },
      "source": [
        "x1.head()"
      ],
      "execution_count": null,
      "outputs": [
        {
          "output_type": "execute_result",
          "data": {
            "text/html": [
              "<div>\n",
              "<style scoped>\n",
              "    .dataframe tbody tr th:only-of-type {\n",
              "        vertical-align: middle;\n",
              "    }\n",
              "\n",
              "    .dataframe tbody tr th {\n",
              "        vertical-align: top;\n",
              "    }\n",
              "\n",
              "    .dataframe thead th {\n",
              "        text-align: right;\n",
              "    }\n",
              "</style>\n",
              "<table border=\"1\" class=\"dataframe\">\n",
              "  <thead>\n",
              "    <tr style=\"text-align: right;\">\n",
              "      <th></th>\n",
              "      <th>coffee_shop_name</th>\n",
              "      <th>full_review_text</th>\n",
              "      <th>star_rating</th>\n",
              "      <th>tokens</th>\n",
              "    </tr>\n",
              "  </thead>\n",
              "  <tbody>\n",
              "    <tr>\n",
              "      <th>0</th>\n",
              "      <td>The Factory - Cafe With a Soul</td>\n",
              "      <td>11/25/2016 1 check-in love love loved the atm...</td>\n",
              "      <td>5.0 star rating</td>\n",
              "      <td>[11252016, 1, checkin, love, love, loved, the,...</td>\n",
              "    </tr>\n",
              "    <tr>\n",
              "      <th>7</th>\n",
              "      <td>The Factory - Cafe With a Soul</td>\n",
              "      <td>11/2/2016 2 check-ins love this place!  5 sta...</td>\n",
              "      <td>5.0 star rating</td>\n",
              "      <td>[1122016, 2, checkins, love, this, place, 5, s...</td>\n",
              "    </tr>\n",
              "    <tr>\n",
              "      <th>9</th>\n",
              "      <td>The Factory - Cafe With a Soul</td>\n",
              "      <td>11/10/2016 3 check-ins this place has been sh...</td>\n",
              "      <td>5.0 star rating</td>\n",
              "      <td>[11102016, 3, checkins, this, place, has, been...</td>\n",
              "    </tr>\n",
              "    <tr>\n",
              "      <th>13</th>\n",
              "      <td>The Factory - Cafe With a Soul</td>\n",
              "      <td>12/5/2016 this is such a cute little cafe! i'...</td>\n",
              "      <td>5.0 star rating</td>\n",
              "      <td>[1252016, this, is, such, a, cute, little, caf...</td>\n",
              "    </tr>\n",
              "    <tr>\n",
              "      <th>14</th>\n",
              "      <td>The Factory - Cafe With a Soul</td>\n",
              "      <td>11/13/2016 beautiful eccentric coffee shop wi...</td>\n",
              "      <td>5.0 star rating</td>\n",
              "      <td>[11132016, beautiful, eccentric, coffee, shop,...</td>\n",
              "    </tr>\n",
              "  </tbody>\n",
              "</table>\n",
              "</div>"
            ],
            "text/plain": [
              "                   coffee_shop_name  \\\n",
              "0   The Factory - Cafe With a Soul    \n",
              "7   The Factory - Cafe With a Soul    \n",
              "9   The Factory - Cafe With a Soul    \n",
              "13  The Factory - Cafe With a Soul    \n",
              "14  The Factory - Cafe With a Soul    \n",
              "\n",
              "                                     full_review_text        star_rating  \\\n",
              "0    11/25/2016 1 check-in love love loved the atm...   5.0 star rating    \n",
              "7    11/2/2016 2 check-ins love this place!  5 sta...   5.0 star rating    \n",
              "9    11/10/2016 3 check-ins this place has been sh...   5.0 star rating    \n",
              "13   12/5/2016 this is such a cute little cafe! i'...   5.0 star rating    \n",
              "14   11/13/2016 beautiful eccentric coffee shop wi...   5.0 star rating    \n",
              "\n",
              "                                               tokens  \n",
              "0   [11252016, 1, checkin, love, love, loved, the,...  \n",
              "7   [1122016, 2, checkins, love, this, place, 5, s...  \n",
              "9   [11102016, 3, checkins, this, place, has, been...  \n",
              "13  [1252016, this, is, such, a, cute, little, caf...  \n",
              "14  [11132016, beautiful, eccentric, coffee, shop,...  "
            ]
          },
          "metadata": {
            "tags": []
          },
          "execution_count": 27
        }
      ]
    },
    {
      "cell_type": "code",
      "metadata": {
        "id": "eK3eO3m3clcw",
        "outputId": "44c7d4c1-b367-4ac2-9b2d-3635dc5a8f17"
      },
      "source": [
        "x2.head()"
      ],
      "execution_count": null,
      "outputs": [
        {
          "output_type": "execute_result",
          "data": {
            "text/html": [
              "<div>\n",
              "<style scoped>\n",
              "    .dataframe tbody tr th:only-of-type {\n",
              "        vertical-align: middle;\n",
              "    }\n",
              "\n",
              "    .dataframe tbody tr th {\n",
              "        vertical-align: top;\n",
              "    }\n",
              "\n",
              "    .dataframe thead th {\n",
              "        text-align: right;\n",
              "    }\n",
              "</style>\n",
              "<table border=\"1\" class=\"dataframe\">\n",
              "  <thead>\n",
              "    <tr style=\"text-align: right;\">\n",
              "      <th></th>\n",
              "      <th>coffee_shop_name</th>\n",
              "      <th>full_review_text</th>\n",
              "      <th>star_rating</th>\n",
              "      <th>tokens</th>\n",
              "    </tr>\n",
              "  </thead>\n",
              "  <tbody>\n",
              "    <tr>\n",
              "      <th>25</th>\n",
              "      <td>The Factory - Cafe With a Soul</td>\n",
              "      <td>12/2/2016 okay, so after visiting my friends ...</td>\n",
              "      <td>1.0 star rating</td>\n",
              "      <td>[1222016, okay, so, after, visiting, my, frien...</td>\n",
              "    </tr>\n",
              "    <tr>\n",
              "      <th>39</th>\n",
              "      <td>The Factory - Cafe With a Soul</td>\n",
              "      <td>12/2/2016 a cafe that doesn't have wifi but m...</td>\n",
              "      <td>1.0 star rating</td>\n",
              "      <td>[1222016, a, cafe, that, doesnt, have, wifi, b...</td>\n",
              "    </tr>\n",
              "    <tr>\n",
              "      <th>94</th>\n",
              "      <td>Vintage Heart Coffee</td>\n",
              "      <td>9/18/2016 i was not impressed. first of all, ...</td>\n",
              "      <td>1.0 star rating</td>\n",
              "      <td>[9182016, i, was, not, impressed, first, of, a...</td>\n",
              "    </tr>\n",
              "    <tr>\n",
              "      <th>99</th>\n",
              "      <td>Vintage Heart Coffee</td>\n",
              "      <td>9/4/2016 2 check-ins second attempt at the pl...</td>\n",
              "      <td>1.0 star rating</td>\n",
              "      <td>[942016, 2, checkins, second, attempt, at, the...</td>\n",
              "    </tr>\n",
              "    <tr>\n",
              "      <th>322</th>\n",
              "      <td>Mozart’s Coffee Roasters</td>\n",
              "      <td>11/29/2015 when i lived in austin, mozarts wa...</td>\n",
              "      <td>1.0 star rating</td>\n",
              "      <td>[11292015, when, i, lived, in, austin, mozarts...</td>\n",
              "    </tr>\n",
              "  </tbody>\n",
              "</table>\n",
              "</div>"
            ],
            "text/plain": [
              "                    coffee_shop_name  \\\n",
              "25   The Factory - Cafe With a Soul    \n",
              "39   The Factory - Cafe With a Soul    \n",
              "94             Vintage Heart Coffee    \n",
              "99             Vintage Heart Coffee    \n",
              "322        Mozart’s Coffee Roasters    \n",
              "\n",
              "                                      full_review_text        star_rating  \\\n",
              "25    12/2/2016 okay, so after visiting my friends ...   1.0 star rating    \n",
              "39    12/2/2016 a cafe that doesn't have wifi but m...   1.0 star rating    \n",
              "94    9/18/2016 i was not impressed. first of all, ...   1.0 star rating    \n",
              "99    9/4/2016 2 check-ins second attempt at the pl...   1.0 star rating    \n",
              "322   11/29/2015 when i lived in austin, mozarts wa...   1.0 star rating    \n",
              "\n",
              "                                                tokens  \n",
              "25   [1222016, okay, so, after, visiting, my, frien...  \n",
              "39   [1222016, a, cafe, that, doesnt, have, wifi, b...  \n",
              "94   [9182016, i, was, not, impressed, first, of, a...  \n",
              "99   [942016, 2, checkins, second, attempt, at, the...  \n",
              "322  [11292015, when, i, lived, in, austin, mozarts...  "
            ]
          },
          "metadata": {
            "tags": []
          },
          "execution_count": 28
        }
      ]
    },
    {
      "cell_type": "code",
      "metadata": {
        "id": "oxy1ljqyclcw"
      },
      "source": [
        "def lts(df):\n",
        "    for i in range(len(df)):\n",
        "        df['tokens'].iloc[i] = '-'.join(df['tokens'].iloc[i])\n",
        "        df['tokens'].iloc[i] = df['tokens'].iloc[i].replace('-', ' ')\n",
        "    return df['tokens']"
      ],
      "execution_count": null,
      "outputs": []
    },
    {
      "cell_type": "code",
      "metadata": {
        "id": "dZi1lBtmclcw"
      },
      "source": [
        "from spacy.tokenizer import Tokenizer\n",
        "\n",
        "tokenizer = Tokenizer(nlp.vocab)"
      ],
      "execution_count": null,
      "outputs": []
    },
    {
      "cell_type": "code",
      "metadata": {
        "id": "mkTDbWtIclcw",
        "outputId": "fec06076-cafe-4f0a-f698-22be6f2bb167"
      },
      "source": [
        "tokens = []\n",
        "\n",
        "for doc in tokenizer.pipe(x1['full_review_text'], batch_size=500):\n",
        "    \n",
        "    doc_tokens = []\n",
        "    \n",
        "    for token in doc:\n",
        "        if token.text.lower() not in STOP_WORDS:\n",
        "            doc_tokens.append(token.text.lower())\n",
        "            \n",
        "    tokens.append(doc_tokens)\n",
        "    \n",
        "x1['tokens'] = tokens"
      ],
      "execution_count": null,
      "outputs": [
        {
          "output_type": "stream",
          "text": [
            "/Users/egrinalds/opt/anaconda3/envs/U4-S1-NLP-DS17/lib/python3.7/site-packages/ipykernel_launcher.py:13: SettingWithCopyWarning: \n",
            "A value is trying to be set on a copy of a slice from a DataFrame.\n",
            "Try using .loc[row_indexer,col_indexer] = value instead\n",
            "\n",
            "See the caveats in the documentation: https://pandas.pydata.org/pandas-docs/stable/user_guide/indexing.html#returning-a-view-versus-a-copy\n",
            "  del sys.path[0]\n"
          ],
          "name": "stderr"
        }
      ]
    },
    {
      "cell_type": "code",
      "metadata": {
        "id": "6oNc2M0dclcw",
        "outputId": "5a626b0b-877d-4dc0-d84b-e151a416fbcb"
      },
      "source": [
        "tokens1 = []\n",
        "\n",
        "for doc1 in tokenizer.pipe(x2['full_review_text'], batch_size=500):\n",
        "    \n",
        "    doc_tokens1 = []\n",
        "    \n",
        "    for token1 in doc1:\n",
        "        if token1.text.lower() not in STOP_WORDS:\n",
        "            doc_tokens1.append(token1.text.lower())\n",
        "    \n",
        "    tokens1.append(doc_tokens1)\n",
        "\n",
        "x2['tokens'] = tokens1"
      ],
      "execution_count": null,
      "outputs": [
        {
          "output_type": "stream",
          "text": [
            "/Users/egrinalds/opt/anaconda3/envs/U4-S1-NLP-DS17/lib/python3.7/site-packages/ipykernel_launcher.py:13: SettingWithCopyWarning: \n",
            "A value is trying to be set on a copy of a slice from a DataFrame.\n",
            "Try using .loc[row_indexer,col_indexer] = value instead\n",
            "\n",
            "See the caveats in the documentation: https://pandas.pydata.org/pandas-docs/stable/user_guide/indexing.html#returning-a-view-versus-a-copy\n",
            "  del sys.path[0]\n"
          ],
          "name": "stderr"
        }
      ]
    },
    {
      "cell_type": "code",
      "metadata": {
        "id": "4m9LNwUaclcx",
        "outputId": "5d4b7d6a-9efe-42d5-ff82-0b7ff668bcff"
      },
      "source": [
        "x1.head()"
      ],
      "execution_count": null,
      "outputs": [
        {
          "output_type": "execute_result",
          "data": {
            "text/html": [
              "<div>\n",
              "<style scoped>\n",
              "    .dataframe tbody tr th:only-of-type {\n",
              "        vertical-align: middle;\n",
              "    }\n",
              "\n",
              "    .dataframe tbody tr th {\n",
              "        vertical-align: top;\n",
              "    }\n",
              "\n",
              "    .dataframe thead th {\n",
              "        text-align: right;\n",
              "    }\n",
              "</style>\n",
              "<table border=\"1\" class=\"dataframe\">\n",
              "  <thead>\n",
              "    <tr style=\"text-align: right;\">\n",
              "      <th></th>\n",
              "      <th>coffee_shop_name</th>\n",
              "      <th>full_review_text</th>\n",
              "      <th>star_rating</th>\n",
              "      <th>tokens</th>\n",
              "    </tr>\n",
              "  </thead>\n",
              "  <tbody>\n",
              "    <tr>\n",
              "      <th>0</th>\n",
              "      <td>The Factory - Cafe With a Soul</td>\n",
              "      <td>11/25/2016 1 check-in love love loved the atm...</td>\n",
              "      <td>5.0 star rating</td>\n",
              "      <td>[11/25/2016, 1, check-in, love, love, loved, a...</td>\n",
              "    </tr>\n",
              "    <tr>\n",
              "      <th>7</th>\n",
              "      <td>The Factory - Cafe With a Soul</td>\n",
              "      <td>11/2/2016 2 check-ins love this place!  5 sta...</td>\n",
              "      <td>5.0 star rating</td>\n",
              "      <td>[11/2/2016, 2, check-ins, love, place!, 5, sta...</td>\n",
              "    </tr>\n",
              "    <tr>\n",
              "      <th>9</th>\n",
              "      <td>The Factory - Cafe With a Soul</td>\n",
              "      <td>11/10/2016 3 check-ins this place has been sh...</td>\n",
              "      <td>5.0 star rating</td>\n",
              "      <td>[11/10/2016, 3, check-ins, place, shown, socia...</td>\n",
              "    </tr>\n",
              "    <tr>\n",
              "      <th>13</th>\n",
              "      <td>The Factory - Cafe With a Soul</td>\n",
              "      <td>12/5/2016 this is such a cute little cafe! i'...</td>\n",
              "      <td>5.0 star rating</td>\n",
              "      <td>[12/5/2016, cute, little, cafe!, i've, driven,...</td>\n",
              "    </tr>\n",
              "    <tr>\n",
              "      <th>14</th>\n",
              "      <td>The Factory - Cafe With a Soul</td>\n",
              "      <td>11/13/2016 beautiful eccentric coffee shop wi...</td>\n",
              "      <td>5.0 star rating</td>\n",
              "      <td>[11/13/2016, beautiful, eccentric, shop, libra...</td>\n",
              "    </tr>\n",
              "  </tbody>\n",
              "</table>\n",
              "</div>"
            ],
            "text/plain": [
              "                   coffee_shop_name  \\\n",
              "0   The Factory - Cafe With a Soul    \n",
              "7   The Factory - Cafe With a Soul    \n",
              "9   The Factory - Cafe With a Soul    \n",
              "13  The Factory - Cafe With a Soul    \n",
              "14  The Factory - Cafe With a Soul    \n",
              "\n",
              "                                     full_review_text        star_rating  \\\n",
              "0    11/25/2016 1 check-in love love loved the atm...   5.0 star rating    \n",
              "7    11/2/2016 2 check-ins love this place!  5 sta...   5.0 star rating    \n",
              "9    11/10/2016 3 check-ins this place has been sh...   5.0 star rating    \n",
              "13   12/5/2016 this is such a cute little cafe! i'...   5.0 star rating    \n",
              "14   11/13/2016 beautiful eccentric coffee shop wi...   5.0 star rating    \n",
              "\n",
              "                                               tokens  \n",
              "0   [11/25/2016, 1, check-in, love, love, loved, a...  \n",
              "7   [11/2/2016, 2, check-ins, love, place!, 5, sta...  \n",
              "9   [11/10/2016, 3, check-ins, place, shown, socia...  \n",
              "13  [12/5/2016, cute, little, cafe!, i've, driven,...  \n",
              "14  [11/13/2016, beautiful, eccentric, shop, libra...  "
            ]
          },
          "metadata": {
            "tags": []
          },
          "execution_count": 33
        }
      ]
    },
    {
      "cell_type": "code",
      "metadata": {
        "id": "hljBVcEMclcx",
        "outputId": "0bdab789-a6d0-43f5-d93c-c428471fae24"
      },
      "source": [
        "x2.head()"
      ],
      "execution_count": null,
      "outputs": [
        {
          "output_type": "execute_result",
          "data": {
            "text/html": [
              "<div>\n",
              "<style scoped>\n",
              "    .dataframe tbody tr th:only-of-type {\n",
              "        vertical-align: middle;\n",
              "    }\n",
              "\n",
              "    .dataframe tbody tr th {\n",
              "        vertical-align: top;\n",
              "    }\n",
              "\n",
              "    .dataframe thead th {\n",
              "        text-align: right;\n",
              "    }\n",
              "</style>\n",
              "<table border=\"1\" class=\"dataframe\">\n",
              "  <thead>\n",
              "    <tr style=\"text-align: right;\">\n",
              "      <th></th>\n",
              "      <th>coffee_shop_name</th>\n",
              "      <th>full_review_text</th>\n",
              "      <th>star_rating</th>\n",
              "      <th>tokens</th>\n",
              "    </tr>\n",
              "  </thead>\n",
              "  <tbody>\n",
              "    <tr>\n",
              "      <th>25</th>\n",
              "      <td>The Factory - Cafe With a Soul</td>\n",
              "      <td>12/2/2016 okay, so after visiting my friends ...</td>\n",
              "      <td>1.0 star rating</td>\n",
              "      <td>[12/2/2016, okay,, visiting, friends, la, tryi...</td>\n",
              "    </tr>\n",
              "    <tr>\n",
              "      <th>39</th>\n",
              "      <td>The Factory - Cafe With a Soul</td>\n",
              "      <td>12/2/2016 a cafe that doesn't have wifi but m...</td>\n",
              "      <td>1.0 star rating</td>\n",
              "      <td>[12/2/2016, cafe, doesn't, wifi, makes, order,...</td>\n",
              "    </tr>\n",
              "    <tr>\n",
              "      <th>94</th>\n",
              "      <td>Vintage Heart Coffee</td>\n",
              "      <td>9/18/2016 i was not impressed. first of all, ...</td>\n",
              "      <td>1.0 star rating</td>\n",
              "      <td>[9/18/2016, impressed., all,, parking, huge, h...</td>\n",
              "    </tr>\n",
              "    <tr>\n",
              "      <th>99</th>\n",
              "      <td>Vintage Heart Coffee</td>\n",
              "      <td>9/4/2016 2 check-ins second attempt at the pl...</td>\n",
              "      <td>1.0 star rating</td>\n",
              "      <td>[9/4/2016, 2, check-ins, second, attempt, plac...</td>\n",
              "    </tr>\n",
              "    <tr>\n",
              "      <th>322</th>\n",
              "      <td>Mozart’s Coffee Roasters</td>\n",
              "      <td>11/29/2015 when i lived in austin, mozarts wa...</td>\n",
              "      <td>1.0 star rating</td>\n",
              "      <td>[11/29/2015, lived, austin,, mozarts, spot, me...</td>\n",
              "    </tr>\n",
              "  </tbody>\n",
              "</table>\n",
              "</div>"
            ],
            "text/plain": [
              "                    coffee_shop_name  \\\n",
              "25   The Factory - Cafe With a Soul    \n",
              "39   The Factory - Cafe With a Soul    \n",
              "94             Vintage Heart Coffee    \n",
              "99             Vintage Heart Coffee    \n",
              "322        Mozart’s Coffee Roasters    \n",
              "\n",
              "                                      full_review_text        star_rating  \\\n",
              "25    12/2/2016 okay, so after visiting my friends ...   1.0 star rating    \n",
              "39    12/2/2016 a cafe that doesn't have wifi but m...   1.0 star rating    \n",
              "94    9/18/2016 i was not impressed. first of all, ...   1.0 star rating    \n",
              "99    9/4/2016 2 check-ins second attempt at the pl...   1.0 star rating    \n",
              "322   11/29/2015 when i lived in austin, mozarts wa...   1.0 star rating    \n",
              "\n",
              "                                                tokens  \n",
              "25   [12/2/2016, okay,, visiting, friends, la, tryi...  \n",
              "39   [12/2/2016, cafe, doesn't, wifi, makes, order,...  \n",
              "94   [9/18/2016, impressed., all,, parking, huge, h...  \n",
              "99   [9/4/2016, 2, check-ins, second, attempt, plac...  \n",
              "322  [11/29/2015, lived, austin,, mozarts, spot, me...  "
            ]
          },
          "metadata": {
            "tags": []
          },
          "execution_count": 34
        }
      ]
    },
    {
      "cell_type": "code",
      "metadata": {
        "id": "w32JrEe1clcx",
        "outputId": "5e9e9a7a-a0d9-4366-e0cf-cf5cf6336a38"
      },
      "source": [
        "x1['tokens'] = lts(x1)\n",
        "x2['tokens'] = lts(x2)"
      ],
      "execution_count": null,
      "outputs": [
        {
          "output_type": "stream",
          "text": [
            "/Users/egrinalds/opt/anaconda3/envs/U4-S1-NLP-DS17/lib/python3.7/site-packages/ipykernel_launcher.py:3: SettingWithCopyWarning: \n",
            "A value is trying to be set on a copy of a slice from a DataFrame\n",
            "\n",
            "See the caveats in the documentation: https://pandas.pydata.org/pandas-docs/stable/user_guide/indexing.html#returning-a-view-versus-a-copy\n",
            "  This is separate from the ipykernel package so we can avoid doing imports until\n",
            "/Users/egrinalds/opt/anaconda3/envs/U4-S1-NLP-DS17/lib/python3.7/site-packages/ipykernel_launcher.py:4: SettingWithCopyWarning: \n",
            "A value is trying to be set on a copy of a slice from a DataFrame\n",
            "\n",
            "See the caveats in the documentation: https://pandas.pydata.org/pandas-docs/stable/user_guide/indexing.html#returning-a-view-versus-a-copy\n",
            "  after removing the cwd from sys.path.\n",
            "/Users/egrinalds/opt/anaconda3/envs/U4-S1-NLP-DS17/lib/python3.7/site-packages/ipykernel_launcher.py:1: SettingWithCopyWarning: \n",
            "A value is trying to be set on a copy of a slice from a DataFrame.\n",
            "Try using .loc[row_indexer,col_indexer] = value instead\n",
            "\n",
            "See the caveats in the documentation: https://pandas.pydata.org/pandas-docs/stable/user_guide/indexing.html#returning-a-view-versus-a-copy\n",
            "  \"\"\"Entry point for launching an IPython kernel.\n",
            "/Users/egrinalds/opt/anaconda3/envs/U4-S1-NLP-DS17/lib/python3.7/site-packages/ipykernel_launcher.py:2: SettingWithCopyWarning: \n",
            "A value is trying to be set on a copy of a slice from a DataFrame.\n",
            "Try using .loc[row_indexer,col_indexer] = value instead\n",
            "\n",
            "See the caveats in the documentation: https://pandas.pydata.org/pandas-docs/stable/user_guide/indexing.html#returning-a-view-versus-a-copy\n",
            "  \n"
          ],
          "name": "stderr"
        }
      ]
    },
    {
      "cell_type": "code",
      "metadata": {
        "id": "hqrEbA2sclcx",
        "outputId": "e11ac078-5f20-4bcf-f8c7-e96cbc31c32c"
      },
      "source": [
        "x1.head()"
      ],
      "execution_count": null,
      "outputs": [
        {
          "output_type": "execute_result",
          "data": {
            "text/html": [
              "<div>\n",
              "<style scoped>\n",
              "    .dataframe tbody tr th:only-of-type {\n",
              "        vertical-align: middle;\n",
              "    }\n",
              "\n",
              "    .dataframe tbody tr th {\n",
              "        vertical-align: top;\n",
              "    }\n",
              "\n",
              "    .dataframe thead th {\n",
              "        text-align: right;\n",
              "    }\n",
              "</style>\n",
              "<table border=\"1\" class=\"dataframe\">\n",
              "  <thead>\n",
              "    <tr style=\"text-align: right;\">\n",
              "      <th></th>\n",
              "      <th>coffee_shop_name</th>\n",
              "      <th>full_review_text</th>\n",
              "      <th>star_rating</th>\n",
              "      <th>tokens</th>\n",
              "    </tr>\n",
              "  </thead>\n",
              "  <tbody>\n",
              "    <tr>\n",
              "      <th>0</th>\n",
              "      <td>The Factory - Cafe With a Soul</td>\n",
              "      <td>11/25/2016 1 check-in love love loved the atm...</td>\n",
              "      <td>5.0 star rating</td>\n",
              "      <td>11/25/2016 1 check in love love loved atmosphe...</td>\n",
              "    </tr>\n",
              "    <tr>\n",
              "      <th>7</th>\n",
              "      <td>The Factory - Cafe With a Soul</td>\n",
              "      <td>11/2/2016 2 check-ins love this place!  5 sta...</td>\n",
              "      <td>5.0 star rating</td>\n",
              "      <td>11/2/2016 2 check ins love place! 5 stars clea...</td>\n",
              "    </tr>\n",
              "    <tr>\n",
              "      <th>9</th>\n",
              "      <td>The Factory - Cafe With a Soul</td>\n",
              "      <td>11/10/2016 3 check-ins this place has been sh...</td>\n",
              "      <td>5.0 star rating</td>\n",
              "      <td>11/10/2016 3 check ins place shown social medi...</td>\n",
              "    </tr>\n",
              "    <tr>\n",
              "      <th>13</th>\n",
              "      <td>The Factory - Cafe With a Soul</td>\n",
              "      <td>12/5/2016 this is such a cute little cafe! i'...</td>\n",
              "      <td>5.0 star rating</td>\n",
              "      <td>12/5/2016 cute little cafe! i've driven place ...</td>\n",
              "    </tr>\n",
              "    <tr>\n",
              "      <th>14</th>\n",
              "      <td>The Factory - Cafe With a Soul</td>\n",
              "      <td>11/13/2016 beautiful eccentric coffee shop wi...</td>\n",
              "      <td>5.0 star rating</td>\n",
              "      <td>11/13/2016 beautiful eccentric shop library pe...</td>\n",
              "    </tr>\n",
              "  </tbody>\n",
              "</table>\n",
              "</div>"
            ],
            "text/plain": [
              "                   coffee_shop_name  \\\n",
              "0   The Factory - Cafe With a Soul    \n",
              "7   The Factory - Cafe With a Soul    \n",
              "9   The Factory - Cafe With a Soul    \n",
              "13  The Factory - Cafe With a Soul    \n",
              "14  The Factory - Cafe With a Soul    \n",
              "\n",
              "                                     full_review_text        star_rating  \\\n",
              "0    11/25/2016 1 check-in love love loved the atm...   5.0 star rating    \n",
              "7    11/2/2016 2 check-ins love this place!  5 sta...   5.0 star rating    \n",
              "9    11/10/2016 3 check-ins this place has been sh...   5.0 star rating    \n",
              "13   12/5/2016 this is such a cute little cafe! i'...   5.0 star rating    \n",
              "14   11/13/2016 beautiful eccentric coffee shop wi...   5.0 star rating    \n",
              "\n",
              "                                               tokens  \n",
              "0   11/25/2016 1 check in love love loved atmosphe...  \n",
              "7   11/2/2016 2 check ins love place! 5 stars clea...  \n",
              "9   11/10/2016 3 check ins place shown social medi...  \n",
              "13  12/5/2016 cute little cafe! i've driven place ...  \n",
              "14  11/13/2016 beautiful eccentric shop library pe...  "
            ]
          },
          "metadata": {
            "tags": []
          },
          "execution_count": 36
        }
      ]
    },
    {
      "cell_type": "code",
      "metadata": {
        "id": "GJ_QvS0wclcx",
        "outputId": "ad64ae47-6a23-453f-d7ca-189f569447ba"
      },
      "source": [
        "x2.head()"
      ],
      "execution_count": null,
      "outputs": [
        {
          "output_type": "execute_result",
          "data": {
            "text/html": [
              "<div>\n",
              "<style scoped>\n",
              "    .dataframe tbody tr th:only-of-type {\n",
              "        vertical-align: middle;\n",
              "    }\n",
              "\n",
              "    .dataframe tbody tr th {\n",
              "        vertical-align: top;\n",
              "    }\n",
              "\n",
              "    .dataframe thead th {\n",
              "        text-align: right;\n",
              "    }\n",
              "</style>\n",
              "<table border=\"1\" class=\"dataframe\">\n",
              "  <thead>\n",
              "    <tr style=\"text-align: right;\">\n",
              "      <th></th>\n",
              "      <th>coffee_shop_name</th>\n",
              "      <th>full_review_text</th>\n",
              "      <th>star_rating</th>\n",
              "      <th>tokens</th>\n",
              "    </tr>\n",
              "  </thead>\n",
              "  <tbody>\n",
              "    <tr>\n",
              "      <th>25</th>\n",
              "      <td>The Factory - Cafe With a Soul</td>\n",
              "      <td>12/2/2016 okay, so after visiting my friends ...</td>\n",
              "      <td>1.0 star rating</td>\n",
              "      <td>12/2/2016 okay, visiting friends la trying min...</td>\n",
              "    </tr>\n",
              "    <tr>\n",
              "      <th>39</th>\n",
              "      <td>The Factory - Cafe With a Soul</td>\n",
              "      <td>12/2/2016 a cafe that doesn't have wifi but m...</td>\n",
              "      <td>1.0 star rating</td>\n",
              "      <td>12/2/2016 cafe doesn't wifi makes order ipad. ...</td>\n",
              "    </tr>\n",
              "    <tr>\n",
              "      <th>94</th>\n",
              "      <td>Vintage Heart Coffee</td>\n",
              "      <td>9/18/2016 i was not impressed. first of all, ...</td>\n",
              "      <td>1.0 star rating</td>\n",
              "      <td>9/18/2016 impressed. all, parking huge hassle ...</td>\n",
              "    </tr>\n",
              "    <tr>\n",
              "      <th>99</th>\n",
              "      <td>Vintage Heart Coffee</td>\n",
              "      <td>9/4/2016 2 check-ins second attempt at the pl...</td>\n",
              "      <td>1.0 star rating</td>\n",
              "      <td>9/4/2016 2 check ins second attempt place exce...</td>\n",
              "    </tr>\n",
              "    <tr>\n",
              "      <th>322</th>\n",
              "      <td>Mozart’s Coffee Roasters</td>\n",
              "      <td>11/29/2015 when i lived in austin, mozarts wa...</td>\n",
              "      <td>1.0 star rating</td>\n",
              "      <td>11/29/2015 lived austin, mozarts spot me. coun...</td>\n",
              "    </tr>\n",
              "  </tbody>\n",
              "</table>\n",
              "</div>"
            ],
            "text/plain": [
              "                    coffee_shop_name  \\\n",
              "25   The Factory - Cafe With a Soul    \n",
              "39   The Factory - Cafe With a Soul    \n",
              "94             Vintage Heart Coffee    \n",
              "99             Vintage Heart Coffee    \n",
              "322        Mozart’s Coffee Roasters    \n",
              "\n",
              "                                      full_review_text        star_rating  \\\n",
              "25    12/2/2016 okay, so after visiting my friends ...   1.0 star rating    \n",
              "39    12/2/2016 a cafe that doesn't have wifi but m...   1.0 star rating    \n",
              "94    9/18/2016 i was not impressed. first of all, ...   1.0 star rating    \n",
              "99    9/4/2016 2 check-ins second attempt at the pl...   1.0 star rating    \n",
              "322   11/29/2015 when i lived in austin, mozarts wa...   1.0 star rating    \n",
              "\n",
              "                                                tokens  \n",
              "25   12/2/2016 okay, visiting friends la trying min...  \n",
              "39   12/2/2016 cafe doesn't wifi makes order ipad. ...  \n",
              "94   9/18/2016 impressed. all, parking huge hassle ...  \n",
              "99   9/4/2016 2 check ins second attempt place exce...  \n",
              "322  11/29/2015 lived austin, mozarts spot me. coun...  "
            ]
          },
          "metadata": {
            "tags": []
          },
          "execution_count": 37
        }
      ]
    },
    {
      "cell_type": "code",
      "metadata": {
        "id": "0lb46B_eclcx",
        "outputId": "026f1e41-bc35-4a04-f3c1-058c79f4a8c0"
      },
      "source": [
        "x1['lemmas'] = x1['tokens'].apply(get_lemmas)\n",
        "x2['lemmas'] = x2['tokens'].apply(get_lemmas)"
      ],
      "execution_count": null,
      "outputs": [
        {
          "output_type": "stream",
          "text": [
            "/Users/egrinalds/opt/anaconda3/envs/U4-S1-NLP-DS17/lib/python3.7/site-packages/ipykernel_launcher.py:1: SettingWithCopyWarning: \n",
            "A value is trying to be set on a copy of a slice from a DataFrame.\n",
            "Try using .loc[row_indexer,col_indexer] = value instead\n",
            "\n",
            "See the caveats in the documentation: https://pandas.pydata.org/pandas-docs/stable/user_guide/indexing.html#returning-a-view-versus-a-copy\n",
            "  \"\"\"Entry point for launching an IPython kernel.\n",
            "/Users/egrinalds/opt/anaconda3/envs/U4-S1-NLP-DS17/lib/python3.7/site-packages/ipykernel_launcher.py:2: SettingWithCopyWarning: \n",
            "A value is trying to be set on a copy of a slice from a DataFrame.\n",
            "Try using .loc[row_indexer,col_indexer] = value instead\n",
            "\n",
            "See the caveats in the documentation: https://pandas.pydata.org/pandas-docs/stable/user_guide/indexing.html#returning-a-view-versus-a-copy\n",
            "  \n"
          ],
          "name": "stderr"
        }
      ]
    },
    {
      "cell_type": "code",
      "metadata": {
        "id": "r08t2sKrclcx",
        "outputId": "0d7265ac-8a48-4365-a6fd-5037829045ad"
      },
      "source": [
        "wc = count(x1['lemmas'])\n",
        "wc_top20 = wc[wc['rank'] <= 20]\n",
        "\n",
        "squarify.plot(sizes=wc_top20['pct_total'], label=wc_top20['word'], alpha=0.8 )\n",
        "plt.axis('off')\n",
        "plt.show()"
      ],
      "execution_count": null,
      "outputs": [
        {
          "output_type": "display_data",
          "data": {
            "image/png": "[encoded data removed]",
            "text/plain": [
              "<Figure size 432x288 with 1 Axes>"
            ]
          },
          "metadata": {
            "tags": [],
            "needs_background": "light"
          }
        }
      ]
    },
    {
      "cell_type": "code",
      "metadata": {
        "id": "etG_R0Tlclcy",
        "outputId": "594194cc-1bd1-4952-88fb-4bb7f0bcaa1a"
      },
      "source": [
        "wc_top20.head()"
      ],
      "execution_count": null,
      "outputs": [
        {
          "output_type": "execute_result",
          "data": {
            "text/html": [
              "<div>\n",
              "<style scoped>\n",
              "    .dataframe tbody tr th:only-of-type {\n",
              "        vertical-align: middle;\n",
              "    }\n",
              "\n",
              "    .dataframe tbody tr th {\n",
              "        vertical-align: top;\n",
              "    }\n",
              "\n",
              "    .dataframe thead th {\n",
              "        text-align: right;\n",
              "    }\n",
              "</style>\n",
              "<table border=\"1\" class=\"dataframe\">\n",
              "  <thead>\n",
              "    <tr style=\"text-align: right;\">\n",
              "      <th></th>\n",
              "      <th>word</th>\n",
              "      <th>appears_in</th>\n",
              "      <th>count</th>\n",
              "      <th>rank</th>\n",
              "      <th>pct_total</th>\n",
              "      <th>cul_pct_total</th>\n",
              "      <th>appears_in_pct</th>\n",
              "    </tr>\n",
              "  </thead>\n",
              "  <tbody>\n",
              "    <tr>\n",
              "      <th>76</th>\n",
              "      <td>place</td>\n",
              "      <td>1863</td>\n",
              "      <td>2813</td>\n",
              "      <td>1.0</td>\n",
              "      <td>0.017317</td>\n",
              "      <td>0.017317</td>\n",
              "      <td>0.492857</td>\n",
              "    </tr>\n",
              "    <tr>\n",
              "      <th>44</th>\n",
              "      <td>good</td>\n",
              "      <td>1667</td>\n",
              "      <td>2406</td>\n",
              "      <td>2.0</td>\n",
              "      <td>0.014811</td>\n",
              "      <td>0.032128</td>\n",
              "      <td>0.441005</td>\n",
              "    </tr>\n",
              "    <tr>\n",
              "      <th>296</th>\n",
              "      <td>great</td>\n",
              "      <td>1567</td>\n",
              "      <td>2196</td>\n",
              "      <td>3.0</td>\n",
              "      <td>0.013518</td>\n",
              "      <td>0.045646</td>\n",
              "      <td>0.414550</td>\n",
              "    </tr>\n",
              "    <tr>\n",
              "      <th>21</th>\n",
              "      <td>check</td>\n",
              "      <td>1465</td>\n",
              "      <td>1586</td>\n",
              "      <td>4.0</td>\n",
              "      <td>0.009763</td>\n",
              "      <td>0.055410</td>\n",
              "      <td>0.387566</td>\n",
              "    </tr>\n",
              "    <tr>\n",
              "      <th>28</th>\n",
              "      <td>love</td>\n",
              "      <td>1111</td>\n",
              "      <td>1503</td>\n",
              "      <td>5.0</td>\n",
              "      <td>0.009252</td>\n",
              "      <td>0.064662</td>\n",
              "      <td>0.293915</td>\n",
              "    </tr>\n",
              "  </tbody>\n",
              "</table>\n",
              "</div>"
            ],
            "text/plain": [
              "      word  appears_in  count  rank  pct_total  cul_pct_total  appears_in_pct\n",
              "76   place        1863   2813   1.0   0.017317       0.017317        0.492857\n",
              "44    good        1667   2406   2.0   0.014811       0.032128        0.441005\n",
              "296  great        1567   2196   3.0   0.013518       0.045646        0.414550\n",
              "21   check        1465   1586   4.0   0.009763       0.055410        0.387566\n",
              "28    love        1111   1503   5.0   0.009252       0.064662        0.293915"
            ]
          },
          "metadata": {
            "tags": []
          },
          "execution_count": 40
        }
      ]
    },
    {
      "cell_type": "code",
      "metadata": {
        "id": "gVGBaiXhclcy",
        "outputId": "c1849ee5-4804-4811-fc77-62593eeaeae4"
      },
      "source": [
        "twc = count(x2['lemmas'])\n",
        "twc_top20 = twc[twc['rank'] <= 20]\n",
        "\n",
        "squarify.plot(sizes=twc_top20['pct_total'], label=twc_top20['word'], alpha=.8 )\n",
        "plt.axis('off')\n",
        "plt.show()"
      ],
      "execution_count": null,
      "outputs": [
        {
          "output_type": "display_data",
          "data": {
            "image/png": "[encoded data removed]",
            "text/plain": [
              "<Figure size 432x288 with 1 Axes>"
            ]
          },
          "metadata": {
            "tags": [],
            "needs_background": "light"
          }
        }
      ]
    },
    {
      "cell_type": "code",
      "metadata": {
        "id": "htfnFdoxclcy",
        "outputId": "dd1cac58-80b1-4b3c-e72c-015d014b7ac8"
      },
      "source": [
        "twc_top20.head()"
      ],
      "execution_count": null,
      "outputs": [
        {
          "output_type": "execute_result",
          "data": {
            "text/html": [
              "<div>\n",
              "<style scoped>\n",
              "    .dataframe tbody tr th:only-of-type {\n",
              "        vertical-align: middle;\n",
              "    }\n",
              "\n",
              "    .dataframe tbody tr th {\n",
              "        vertical-align: top;\n",
              "    }\n",
              "\n",
              "    .dataframe thead th {\n",
              "        text-align: right;\n",
              "    }\n",
              "</style>\n",
              "<table border=\"1\" class=\"dataframe\">\n",
              "  <thead>\n",
              "    <tr style=\"text-align: right;\">\n",
              "      <th></th>\n",
              "      <th>word</th>\n",
              "      <th>appears_in</th>\n",
              "      <th>count</th>\n",
              "      <th>rank</th>\n",
              "      <th>pct_total</th>\n",
              "      <th>cul_pct_total</th>\n",
              "      <th>appears_in_pct</th>\n",
              "    </tr>\n",
              "  </thead>\n",
              "  <tbody>\n",
              "    <tr>\n",
              "      <th>39</th>\n",
              "      <td>place</td>\n",
              "      <td>140</td>\n",
              "      <td>232</td>\n",
              "      <td>1.0</td>\n",
              "      <td>0.015453</td>\n",
              "      <td>0.015453</td>\n",
              "      <td>0.503597</td>\n",
              "    </tr>\n",
              "    <tr>\n",
              "      <th>22</th>\n",
              "      <td>order</td>\n",
              "      <td>95</td>\n",
              "      <td>181</td>\n",
              "      <td>2.0</td>\n",
              "      <td>0.012056</td>\n",
              "      <td>0.027509</td>\n",
              "      <td>0.341727</td>\n",
              "    </tr>\n",
              "    <tr>\n",
              "      <th>98</th>\n",
              "      <td>like</td>\n",
              "      <td>104</td>\n",
              "      <td>173</td>\n",
              "      <td>3.0</td>\n",
              "      <td>0.011523</td>\n",
              "      <td>0.039033</td>\n",
              "      <td>0.374101</td>\n",
              "    </tr>\n",
              "    <tr>\n",
              "      <th>17</th>\n",
              "      <td>service</td>\n",
              "      <td>94</td>\n",
              "      <td>130</td>\n",
              "      <td>4.0</td>\n",
              "      <td>0.008659</td>\n",
              "      <td>0.047692</td>\n",
              "      <td>0.338129</td>\n",
              "    </tr>\n",
              "    <tr>\n",
              "      <th>42</th>\n",
              "      <td>drink</td>\n",
              "      <td>60</td>\n",
              "      <td>129</td>\n",
              "      <td>5.0</td>\n",
              "      <td>0.008593</td>\n",
              "      <td>0.056285</td>\n",
              "      <td>0.215827</td>\n",
              "    </tr>\n",
              "  </tbody>\n",
              "</table>\n",
              "</div>"
            ],
            "text/plain": [
              "       word  appears_in  count  rank  pct_total  cul_pct_total  appears_in_pct\n",
              "39    place         140    232   1.0   0.015453       0.015453        0.503597\n",
              "22    order          95    181   2.0   0.012056       0.027509        0.341727\n",
              "98     like         104    173   3.0   0.011523       0.039033        0.374101\n",
              "17  service          94    130   4.0   0.008659       0.047692        0.338129\n",
              "42    drink          60    129   5.0   0.008593       0.056285        0.215827"
            ]
          },
          "metadata": {
            "tags": []
          },
          "execution_count": 42
        }
      ]
    },
    {
      "cell_type": "markdown",
      "metadata": {
        "id": "ozyqzCNyclcy"
      },
      "source": [
        "# Can visualize the words with the greatest difference in counts between 'good' & 'bad'?\n",
        "\n",
        "Couple Notes: \n",
        "- Rel. freq. instead of absolute counts b/c of different numbers of reviews\n",
        "- Only look at the top 5-10 words with the greatest differences\n"
      ]
    },
    {
      "cell_type": "code",
      "metadata": {
        "id": "VmdBH70Hclcy"
      },
      "source": [
        ""
      ],
      "execution_count": null,
      "outputs": []
    },
    {
      "cell_type": "code",
      "metadata": {
        "id": "KwCWxcBCclcy"
      },
      "source": [
        ""
      ],
      "execution_count": null,
      "outputs": []
    },
    {
      "cell_type": "code",
      "metadata": {
        "id": "7W1MuBFfclcy"
      },
      "source": [
        ""
      ],
      "execution_count": null,
      "outputs": []
    },
    {
      "cell_type": "markdown",
      "metadata": {
        "id": "1dCb1q8XphcP",
        "toc-hr-collapsed": true
      },
      "source": [
        "## Stretch Goals\n",
        "\n",
        "* Analyze another corpus of documents - such as Indeed.com job listings ;).\n",
        "* Play with the Spacy API to\n",
        " - Extract Named Entities\n",
        " - Extracting 'noun chunks'\n",
        " - Attempt Document Classification with just Spacy\n",
        " - *Note:* This [course](https://course.spacy.io/) will be of interesting in helping you with these stretch goals. \n",
        "* Try to build a plotly dash app with your text data \n",
        "\n"
      ]
    }
  ]
}