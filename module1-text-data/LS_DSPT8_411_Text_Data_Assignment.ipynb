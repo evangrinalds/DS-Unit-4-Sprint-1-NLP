{
 "cells": [
  {
   "cell_type": "markdown",
   "metadata": {},
   "source": [
    "<img align=\"left\" src=\"https://lever-client-logos.s3.amazonaws.com/864372b1-534c-480e-acd5-9711f850815c-1524247202159.png\" width=200>\n",
    "<br></br>\n",
    "<br></br>\n",
    "\n",
    "# Natural Language Processing (NLP)\n",
    "## *Data Science Unit 4 Sprint 1 Assignment 1*\n",
    "\n",
    "Your goal in this assignment: find the attributes of the best & worst coffee shops in the dataset. The text is fairly raw: dates in the review, extra words in the `star_rating` column, etc. You'll probably want to clean that stuff up for a better analysis. \n",
    "\n",
    "Analyze the corpus of text using text visualizations of token frequency. Try cleaning the data as much as possible. Try the following techniques: \n",
    "- Lemmatization\n",
    "- Custom stopword removal\n",
    "\n",
    "Keep in mind the attributes of good tokens. Once you have a solid baseline, layer in the star rating in your visualization(s). Key part of this assignment - produce a write-up of the attributes of the best and worst coffee shops. Based on your analysis, what makes the best the best and the worst the worst. Use graphs and numbesr from your analysis to support your conclusions. There should be plenty of markdown cells! :coffee:"
   ]
  },
  {
   "cell_type": "code",
   "execution_count": 1,
   "metadata": {},
   "outputs": [
    {
     "data": {
      "image/jpeg": "[encoded data removed]",
      "text/html": [
       "\n",
       "        <iframe\n",
       "            width=\"400\"\n",
       "            height=\"300\"\n",
       "            src=\"https://www.youtube.com/embed/Jml7NVYm8cs\"\n",
       "            frameborder=\"0\"\n",
       "            allowfullscreen\n",
       "        ></iframe>\n",
       "        "
      ],
      "text/plain": [
       "<IPython.lib.display.YouTubeVideo at 0x7f9b872122e8>"
      ]
     },
     "execution_count": 1,
     "metadata": {},
     "output_type": "execute_result"
    }
   ],
   "source": [
    "from IPython.display import YouTubeVideo\n",
    "\n",
    "YouTubeVideo('Jml7NVYm8cs')"
   ]
  },
  {
   "cell_type": "code",
   "execution_count": 1,
   "metadata": {},
   "outputs": [
    {
     "data": {
      "text/plain": [
       "'/Users/personalmac/Lambda/DS-Unit-4-Sprint-1-NLP/module1-text-data'"
      ]
     },
     "execution_count": 1,
     "metadata": {},
     "output_type": "execute_result"
    }
   ],
   "source": [
    "%pwd"
   ]
  },
  {
   "cell_type": "code",
   "execution_count": 4,
   "metadata": {},
   "outputs": [
    {
     "name": "stdout",
     "output_type": "stream",
     "text": [
      "(7616, 3)\n"
     ]
    },
    {
     "data": {
      "text/html": [
       "<div>\n",
       "<style scoped>\n",
       "    .dataframe tbody tr th:only-of-type {\n",
       "        vertical-align: middle;\n",
       "    }\n",
       "\n",
       "    .dataframe tbody tr th {\n",
       "        vertical-align: top;\n",
       "    }\n",
       "\n",
       "    .dataframe thead th {\n",
       "        text-align: right;\n",
       "    }\n",
       "</style>\n",
       "<table border=\"1\" class=\"dataframe\">\n",
       "  <thead>\n",
       "    <tr style=\"text-align: right;\">\n",
       "      <th></th>\n",
       "      <th>coffee_shop_name</th>\n",
       "      <th>full_review_text</th>\n",
       "      <th>star_rating</th>\n",
       "    </tr>\n",
       "  </thead>\n",
       "  <tbody>\n",
       "    <tr>\n",
       "      <th>0</th>\n",
       "      <td>The Factory - Cafe With a Soul</td>\n",
       "      <td>11/25/2016 1 check-in Love love loved the atm...</td>\n",
       "      <td>5.0 star rating</td>\n",
       "    </tr>\n",
       "    <tr>\n",
       "      <th>1</th>\n",
       "      <td>The Factory - Cafe With a Soul</td>\n",
       "      <td>12/2/2016 Listed in Date Night: Austin, Ambia...</td>\n",
       "      <td>4.0 star rating</td>\n",
       "    </tr>\n",
       "    <tr>\n",
       "      <th>2</th>\n",
       "      <td>The Factory - Cafe With a Soul</td>\n",
       "      <td>11/30/2016 1 check-in Listed in Brunch Spots ...</td>\n",
       "      <td>4.0 star rating</td>\n",
       "    </tr>\n",
       "    <tr>\n",
       "      <th>3</th>\n",
       "      <td>The Factory - Cafe With a Soul</td>\n",
       "      <td>11/25/2016 Very cool decor! Good drinks Nice ...</td>\n",
       "      <td>2.0 star rating</td>\n",
       "    </tr>\n",
       "    <tr>\n",
       "      <th>4</th>\n",
       "      <td>The Factory - Cafe With a Soul</td>\n",
       "      <td>12/3/2016 1 check-in They are located within ...</td>\n",
       "      <td>4.0 star rating</td>\n",
       "    </tr>\n",
       "  </tbody>\n",
       "</table>\n",
       "</div>"
      ],
      "text/plain": [
       "                  coffee_shop_name  \\\n",
       "0  The Factory - Cafe With a Soul    \n",
       "1  The Factory - Cafe With a Soul    \n",
       "2  The Factory - Cafe With a Soul    \n",
       "3  The Factory - Cafe With a Soul    \n",
       "4  The Factory - Cafe With a Soul    \n",
       "\n",
       "                                    full_review_text        star_rating  \n",
       "0   11/25/2016 1 check-in Love love loved the atm...   5.0 star rating   \n",
       "1   12/2/2016 Listed in Date Night: Austin, Ambia...   4.0 star rating   \n",
       "2   11/30/2016 1 check-in Listed in Brunch Spots ...   4.0 star rating   \n",
       "3   11/25/2016 Very cool decor! Good drinks Nice ...   2.0 star rating   \n",
       "4   12/3/2016 1 check-in They are located within ...   4.0 star rating   "
      ]
     },
     "execution_count": 4,
     "metadata": {},
     "output_type": "execute_result"
    }
   ],
   "source": [
    "import pandas as pd\n",
    "\n",
    "shops = pd.read_csv('./data/yelp_coffeeshop_review_data.csv', engine='python')\n",
    "print(shops.shape)\n",
    "shops.head(5)"
   ]
  },
  {
   "cell_type": "code",
   "execution_count": 5,
   "metadata": {},
   "outputs": [
    {
     "data": {
      "text/html": [
       "<div>\n",
       "<style scoped>\n",
       "    .dataframe tbody tr th:only-of-type {\n",
       "        vertical-align: middle;\n",
       "    }\n",
       "\n",
       "    .dataframe tbody tr th {\n",
       "        vertical-align: top;\n",
       "    }\n",
       "\n",
       "    .dataframe thead th {\n",
       "        text-align: right;\n",
       "    }\n",
       "</style>\n",
       "<table border=\"1\" class=\"dataframe\">\n",
       "  <thead>\n",
       "    <tr style=\"text-align: right;\">\n",
       "      <th></th>\n",
       "      <th>coffee_shop_name</th>\n",
       "      <th>full_review_text</th>\n",
       "      <th>star_rating</th>\n",
       "    </tr>\n",
       "  </thead>\n",
       "  <tbody>\n",
       "    <tr>\n",
       "      <th>3807</th>\n",
       "      <td>Cream Whiskers</td>\n",
       "      <td>9/14/2016 Did you know that humans are very p...</td>\n",
       "      <td>1.0 star rating</td>\n",
       "    </tr>\n",
       "    <tr>\n",
       "      <th>4856</th>\n",
       "      <td>The Buzz Mill</td>\n",
       "      <td>7/27/2016 I have no idea what their drinks ar...</td>\n",
       "      <td>1.0 star rating</td>\n",
       "    </tr>\n",
       "    <tr>\n",
       "      <th>1861</th>\n",
       "      <td>Epoch Coffee</td>\n",
       "      <td>2/13/2016 I lived within walking distance to ...</td>\n",
       "      <td>1.0 star rating</td>\n",
       "    </tr>\n",
       "    <tr>\n",
       "      <th>2328</th>\n",
       "      <td>Mary’s Cafe</td>\n",
       "      <td>10/15/2015 The hours are wrong, the site says...</td>\n",
       "      <td>1.0 star rating</td>\n",
       "    </tr>\n",
       "    <tr>\n",
       "      <th>6459</th>\n",
       "      <td>Strange Brew, Austin Coffee</td>\n",
       "      <td>9/30/2015 I want love this place even though ...</td>\n",
       "      <td>1.0 star rating</td>\n",
       "    </tr>\n",
       "    <tr>\n",
       "      <th>...</th>\n",
       "      <td>...</td>\n",
       "      <td>...</td>\n",
       "      <td>...</td>\n",
       "    </tr>\n",
       "    <tr>\n",
       "      <th>4701</th>\n",
       "      <td>Cafe Ruckus</td>\n",
       "      <td>4/19/2014 1 check-in Listed in The Yelp 100 C...</td>\n",
       "      <td>5.0 star rating</td>\n",
       "    </tr>\n",
       "    <tr>\n",
       "      <th>1905</th>\n",
       "      <td>Apanas Coffee &amp; Beer</td>\n",
       "      <td>10/19/2016 The staff was extremely friendly a...</td>\n",
       "      <td>5.0 star rating</td>\n",
       "    </tr>\n",
       "    <tr>\n",
       "      <th>1904</th>\n",
       "      <td>Apanas Coffee &amp; Beer</td>\n",
       "      <td>9/10/2016 Good selection of local Austin area...</td>\n",
       "      <td>5.0 star rating</td>\n",
       "    </tr>\n",
       "    <tr>\n",
       "      <th>4671</th>\n",
       "      <td>Elixer Coffee</td>\n",
       "      <td>7/21/2011 Cheerful and attentive staff. Delic...</td>\n",
       "      <td>5.0 star rating</td>\n",
       "    </tr>\n",
       "    <tr>\n",
       "      <th>0</th>\n",
       "      <td>The Factory - Cafe With a Soul</td>\n",
       "      <td>11/25/2016 1 check-in Love love loved the atm...</td>\n",
       "      <td>5.0 star rating</td>\n",
       "    </tr>\n",
       "  </tbody>\n",
       "</table>\n",
       "<p>7616 rows × 3 columns</p>\n",
       "</div>"
      ],
      "text/plain": [
       "                     coffee_shop_name  \\\n",
       "3807                  Cream Whiskers    \n",
       "4856                   The Buzz Mill    \n",
       "1861                    Epoch Coffee    \n",
       "2328                     Mary’s Cafe    \n",
       "6459     Strange Brew, Austin Coffee    \n",
       "...                               ...   \n",
       "4701                     Cafe Ruckus    \n",
       "1905            Apanas Coffee & Beer    \n",
       "1904            Apanas Coffee & Beer    \n",
       "4671                   Elixer Coffee    \n",
       "0     The Factory - Cafe With a Soul    \n",
       "\n",
       "                                       full_review_text        star_rating  \n",
       "3807   9/14/2016 Did you know that humans are very p...   1.0 star rating   \n",
       "4856   7/27/2016 I have no idea what their drinks ar...   1.0 star rating   \n",
       "1861   2/13/2016 I lived within walking distance to ...   1.0 star rating   \n",
       "2328   10/15/2015 The hours are wrong, the site says...   1.0 star rating   \n",
       "6459   9/30/2015 I want love this place even though ...   1.0 star rating   \n",
       "...                                                 ...                ...  \n",
       "4701   4/19/2014 1 check-in Listed in The Yelp 100 C...   5.0 star rating   \n",
       "1905   10/19/2016 The staff was extremely friendly a...   5.0 star rating   \n",
       "1904   9/10/2016 Good selection of local Austin area...   5.0 star rating   \n",
       "4671   7/21/2011 Cheerful and attentive staff. Delic...   5.0 star rating   \n",
       "0      11/25/2016 1 check-in Love love loved the atm...   5.0 star rating   \n",
       "\n",
       "[7616 rows x 3 columns]"
      ]
     },
     "execution_count": 5,
     "metadata": {},
     "output_type": "execute_result"
    }
   ],
   "source": [
    "temp = shops\n",
    "temp = temp.sort_values(by='star_rating')\n",
    "temp"
   ]
  },
  {
   "cell_type": "code",
   "execution_count": 6,
   "metadata": {},
   "outputs": [
    {
     "name": "stdout",
     "output_type": "stream",
     "text": [
      " 5.0 star rating \n"
     ]
    }
   ],
   "source": [
    "print(shops['star_rating'].iloc[0])"
   ]
  },
  {
   "cell_type": "code",
   "execution_count": 7,
   "metadata": {},
   "outputs": [
    {
     "name": "stdout",
     "output_type": "stream",
     "text": [
      "7616\n"
     ]
    }
   ],
   "source": [
    "print(len(shops))"
   ]
  },
  {
   "cell_type": "code",
   "execution_count": 8,
   "metadata": {},
   "outputs": [
    {
     "data": {
      "text/plain": [
       " 11/12/2016 great coffee, food and atmosphere! love the set-up. order on an ipad and they call your name out when your food is ready.                                                                                                                                                                                                                                                                                                                                                                                                                                                                                                                                                                                                                                                                                                                                                                                                                                                                                                                                                                                                                                                                                                                                                                                                                                                                 4\n",
       " 10/7/2016 1 check-in marymint monroe  + chicken and waffles samich = my favorite cafe in austin.  ... ohhh and decor is pretty sweet too                                                                                                                                                                                                                                                                                                                                                                                                                                                                                                                                                                                                                                                                                                                                                                                                                                                                                                                                                                                                                                                                                                                                                                                                                                                             4\n",
       " 10/15/2016 this place is really nice. they have done a great job... it's the type of place that you could spend hours in. they have a small menu right now, but their drinks, waffles, and pastries are really well made. we'll definitely be coming back soon.... like tomorrow. viva matcha latte and pop-art                                                                                                                                                                                                                                                                                                                                                                                                                                                                                                                                                                                                                                                                                                                                                                                                                                                                                                                                                                                                                                                                                      4\n",
       " 10/16/2016 my only complaint and desire and heart wish is for this place to be open longer and to allow for wifi. this place makes my heart happy, it motivates me to study because i want to come here, and it makes me wish i had time to settle and read a wonderful book. the atmosphere is perfect, the workers are generous and kind, it's a beautiful place to be.                                                                                                                                                                                                                                                                                                                                                                                                                                                                                                                                                                                                                                                                                                                                                                                                                                                                                                                                                                                                                            4\n",
       " 10/27/2016 2 check-ins listed in \"nuptial coffee bliss!\", anderson lane is the new black oh hey, the pro vs con format. i've never used that before. let's try it:  pros: 1. this place is cooler than i thought. 2. it's open until 2am. no, really. 3. they have beer & wine. i didn't know that until i saw the beer taps. they offered me a sample.  cons: 1. if you have to describe the factory with one word, it probably won't be \"inexpensive.\"  i don't think they're shooting for the \"sixth coffeehouse on anderson lane but with flash\" title here, i think they really want to be the official bistro in the neighborhood - far more casual than bartlett or hopdoddy, but with a lot more flair than tea haus or starbuck evenings. staying open until 2am is a good start, and let's see if they add more to the menu. remember, no one thought that gentrified walmart would do well either.  in the meantime, have fun with those chicken & waffles, and their colorful matcha-infused coffees. i'm only interested in straight black, and their pourover stumptown is great stuff. try the $5 pop tart at least once, mainly because you can. and then let's meet back here in a couple of weeks, just to see what's been tweaked. this place defines hipster man-cave. i liked the long table with 1/2 bar chairs & stools, & the cool plates & cups. there's a $5 pop tart.     4\n",
       "                                                                                                                                                                                                                                                                                                                                                                                                                                                                                                                                                                                                                                                                                                                                                                                                                                                                                                                                                                                                                                                                                                                                                                                                                                                                                                                                                                                                     ..\n",
       " 8/6/2015 dolce neve is just a street over from my house; i'm pretty happy i am just discovering this place now otherwise i would be at least 5 pounds heavier. i really enjoyed the goat cheese pear and the salty caramel.  the gelato options are very unique and tasty and its a total plus that you have the option to try the different flavors before making a final decision. friendly staff and great atmosphere. i am looking forward to my next visit.                                                                                                                                                                                                                                                                                                                                                                                                                                                                                                                                                                                                                                                                                                                                                                                                                                                                                                                                     1\n",
       " 9/15/2016 saving live music in austin 24/7.  thanks strange brew!                                                                                                                                                                                                                                                                                                                                                                                                                                                                                                                                                                                                                                                                                                                                                                                                                                                                                                                                                                                                                                                                                                                                                                                                                                                                                                                                    1\n",
       " 1/28/2016 3 check-ins this is a big coffeeshop with lots of seating and outlet plugs. the only terrible thing about bennu is how dim it is. i was studying there one night and i literally could not see my keyboard because it was so dark. the coffee here is okay, i always get the iced bennu because its iced and sweet. the chairs are very comfy and they have all different kinds of chairs and couches and tables for you to work at. it's usually quiet here which is nice. parking sucks because there aren't that many spaces and the parking lot is very small so its hard to maneuver your car around there.                                                                                                                                                                                                                                                                                                                                                                                                                                                                                                                                                                                                                                                                                                                                                                           1\n",
       " 9/15/2016 needed a quick brunch near my place in the domain and it did not disappoint! with cute coffee shop vibes and friendly staff, it made a good first impression. it only got better when the food arrived!  i chose the migas plate and my boyfriend selected for a traditional sausage plate. the food came out fast and it was delicious! we were so full but had to finish our plates. also, very affordable and a good amount of food for the price! where have you been all my life café java?! i definitely will be coming back.                                                                                                                                                                                                                                                                                                                                                                                                                                                                                                                                                                                                                                                                                                                                                                                                                                                        1\n",
       " 7/12/2016 i love the atmosphere, the coffee, and the food! i wish it was closer to my neck of the woods; i'd go more often. there are usually a few dogs and kiddos here too, and it can be pretty loud if you're trying to work here. good for a hangout with a friend, but not for in-depth working or meetings.                                                                                                                                                                                                                                                                                                                                                                                                                                                                                                                                                                                                                                                                                                                                                                                                                                                                                                                                                                                                                                                                                   1\n",
       "Name: full_review_text, Length: 6915, dtype: int64"
      ]
     },
     "execution_count": 8,
     "metadata": {},
     "output_type": "execute_result"
    }
   ],
   "source": [
    "shops['full_review_text'] = shops['full_review_text'].apply(lambda x: x.lower())\n",
    "shops['full_review_text'].value_counts()"
   ]
  },
  {
   "cell_type": "code",
   "execution_count": 10,
   "metadata": {},
   "outputs": [],
   "source": [
    "# Base\n",
    "from collections import Counter\n",
    "import re\n",
    " \n",
    "import pandas as pd\n",
    "\n",
    "# Plotting\n",
    "import squarify\n",
    "import matplotlib.pyplot as plt\n",
    "import seaborn as sns\n",
    "\n",
    "# NLP Libraries\n",
    "import spacy\n",
    "from spacy.tokenizer import Tokenizer\n",
    "from nltk.stem import PorterStemmer\n",
    "\n",
    "nlp = spacy.load(\"en_core_web_md\")"
   ]
  },
  {
   "cell_type": "code",
   "execution_count": 11,
   "metadata": {},
   "outputs": [],
   "source": [
    "def tokenize(text):\n",
    "    \"\"\"Parses a string into a list of semantic units (words)\n",
    "\n",
    "    Args:\n",
    "        text (str): The string that the function will tokenize.\n",
    "\n",
    "    Returns:\n",
    "        list: tokens parsed out by the mechanics of your choice\n",
    "    \"\"\"\n",
    "    \n",
    "    tokens = re.sub('[^a-zA-Z 0-9]', '', text)\n",
    "    tokens = tokens.lower().split()\n",
    "    \n",
    "    return tokens"
   ]
  },
  {
   "cell_type": "markdown",
   "metadata": {},
   "source": [
    "## How do we want to analyze these coffee shop tokens? \n",
    "\n",
    "- Overall Word / Token Count\n",
    "- View Counts by Rating \n",
    "- *Hint:* a 'bad' coffee shops has a rating betweeen 1 & 3 based on the distribution of ratings. A 'good' coffee shop is a 4 or 5. "
   ]
  },
  {
   "cell_type": "code",
   "execution_count": 12,
   "metadata": {},
   "outputs": [],
   "source": [
    "shops['tokens'] = shops['full_review_text'].apply(tokenize)"
   ]
  },
  {
   "cell_type": "code",
   "execution_count": 13,
   "metadata": {},
   "outputs": [],
   "source": [
    "def count (docs):\n",
    "    \n",
    "        word_counts = Counter()\n",
    "        appears_in = Counter()\n",
    "        \n",
    "        total_docs = len(docs)\n",
    "        \n",
    "        for doc in docs:\n",
    "            word_counts.update(doc)\n",
    "            appears_in.update(set(doc))\n",
    "            \n",
    "        temp = zip(word_counts.keys(), word_counts.values())\n",
    "        \n",
    "        wc = pd.DataFrame(temp, columns = ['word', 'count'])\n",
    "        \n",
    "        wc['rank'] = wc['count'].rank(method='first', ascending=False)\n",
    "        total = wc['count'].sum()\n",
    "        \n",
    "        wc['pct_total'] = wc['count'].apply(lambda x: x / total)\n",
    "        \n",
    "        wc = wc.sort_values(by='rank')\n",
    "        wc['cul_pct_total'] = wc['pct_total'].cumsum()\n",
    "        \n",
    "        t2 = zip(appears_in.keys(), appears_in.values())\n",
    "        ac = pd.DataFrame(t2, columns=['word', 'appears_in'])\n",
    "        wc = ac.merge(wc, on='word')\n",
    "        \n",
    "        wc['appears_in_pct'] = wc['appears_in'].apply(lambda x: x / total_docs)\n",
    "        \n",
    "        return wc.sort_values(by='rank')"
   ]
  },
  {
   "cell_type": "code",
   "execution_count": 14,
   "metadata": {},
   "outputs": [
    {
     "data": {
      "text/plain": [
       "[('the', 34809),\n",
       " ('and', 26650),\n",
       " ('a', 22755),\n",
       " ('i', 20237),\n",
       " ('to', 17164),\n",
       " ('of', 12600),\n",
       " ('is', 11999),\n",
       " ('coffee', 10353),\n",
       " ('was', 9707),\n",
       " ('in', 9546)]"
      ]
     },
     "execution_count": 14,
     "metadata": {},
     "output_type": "execute_result"
    }
   ],
   "source": [
    "# Object from Base Python \n",
    "from collections import Counter\n",
    "\n",
    "# The object 'Counter takes an iterable, but you can instaniate an empty one and update it.'\n",
    "word_counts = Counter()\n",
    "\n",
    "# Update it based on a split of each of our documents\n",
    "shops['tokens'].apply(lambda x: word_counts.update(x))\n",
    "\n",
    "# Print out the 10 most common words\n",
    "word_counts.most_common(10)"
   ]
  },
  {
   "cell_type": "code",
   "execution_count": 15,
   "metadata": {},
   "outputs": [],
   "source": [
    "wc = count(shops['tokens'])"
   ]
  },
  {
   "cell_type": "code",
   "execution_count": 16,
   "metadata": {},
   "outputs": [],
   "source": [
    "def get_lemmas(text):\n",
    "    \n",
    "    lemmas = []\n",
    "    \n",
    "    doc = nlp(text)\n",
    "    \n",
    "    for token in doc:\n",
    "        if ((token.is_stop == False) and (token.is_punct == False)) and (token.pos_ !='PRON'):\n",
    "            lemmas.append(token.lemma_)\n",
    "    \n",
    "    return lemmas"
   ]
  },
  {
   "cell_type": "code",
   "execution_count": 17,
   "metadata": {},
   "outputs": [],
   "source": [
    "STOP_WORDS = nlp.Defaults.stop_words.union(['coffee','I', ' ', 'i', 'it', \"it's\", 'it.', 'the', 'this',])"
   ]
  },
  {
   "cell_type": "code",
   "execution_count": 18,
   "metadata": {},
   "outputs": [],
   "source": [
    "x1 = shops[shops['star_rating'] == shops['star_rating'].iloc[0]]\n",
    "x2 = shops[shops['star_rating'] == shops['star_rating'].iloc[3807]]"
   ]
  },
  {
   "cell_type": "code",
   "execution_count": 19,
   "metadata": {},
   "outputs": [
    {
     "data": {
      "text/html": [
       "<div>\n",
       "<style scoped>\n",
       "    .dataframe tbody tr th:only-of-type {\n",
       "        vertical-align: middle;\n",
       "    }\n",
       "\n",
       "    .dataframe tbody tr th {\n",
       "        vertical-align: top;\n",
       "    }\n",
       "\n",
       "    .dataframe thead th {\n",
       "        text-align: right;\n",
       "    }\n",
       "</style>\n",
       "<table border=\"1\" class=\"dataframe\">\n",
       "  <thead>\n",
       "    <tr style=\"text-align: right;\">\n",
       "      <th></th>\n",
       "      <th>coffee_shop_name</th>\n",
       "      <th>full_review_text</th>\n",
       "      <th>star_rating</th>\n",
       "      <th>tokens</th>\n",
       "    </tr>\n",
       "  </thead>\n",
       "  <tbody>\n",
       "    <tr>\n",
       "      <th>0</th>\n",
       "      <td>The Factory - Cafe With a Soul</td>\n",
       "      <td>11/25/2016 1 check-in love love loved the atm...</td>\n",
       "      <td>5.0 star rating</td>\n",
       "      <td>[11252016, 1, checkin, love, love, loved, the,...</td>\n",
       "    </tr>\n",
       "    <tr>\n",
       "      <th>7</th>\n",
       "      <td>The Factory - Cafe With a Soul</td>\n",
       "      <td>11/2/2016 2 check-ins love this place!  5 sta...</td>\n",
       "      <td>5.0 star rating</td>\n",
       "      <td>[1122016, 2, checkins, love, this, place, 5, s...</td>\n",
       "    </tr>\n",
       "    <tr>\n",
       "      <th>9</th>\n",
       "      <td>The Factory - Cafe With a Soul</td>\n",
       "      <td>11/10/2016 3 check-ins this place has been sh...</td>\n",
       "      <td>5.0 star rating</td>\n",
       "      <td>[11102016, 3, checkins, this, place, has, been...</td>\n",
       "    </tr>\n",
       "    <tr>\n",
       "      <th>13</th>\n",
       "      <td>The Factory - Cafe With a Soul</td>\n",
       "      <td>12/5/2016 this is such a cute little cafe! i'...</td>\n",
       "      <td>5.0 star rating</td>\n",
       "      <td>[1252016, this, is, such, a, cute, little, caf...</td>\n",
       "    </tr>\n",
       "    <tr>\n",
       "      <th>14</th>\n",
       "      <td>The Factory - Cafe With a Soul</td>\n",
       "      <td>11/13/2016 beautiful eccentric coffee shop wi...</td>\n",
       "      <td>5.0 star rating</td>\n",
       "      <td>[11132016, beautiful, eccentric, coffee, shop,...</td>\n",
       "    </tr>\n",
       "  </tbody>\n",
       "</table>\n",
       "</div>"
      ],
      "text/plain": [
       "                   coffee_shop_name  \\\n",
       "0   The Factory - Cafe With a Soul    \n",
       "7   The Factory - Cafe With a Soul    \n",
       "9   The Factory - Cafe With a Soul    \n",
       "13  The Factory - Cafe With a Soul    \n",
       "14  The Factory - Cafe With a Soul    \n",
       "\n",
       "                                     full_review_text        star_rating  \\\n",
       "0    11/25/2016 1 check-in love love loved the atm...   5.0 star rating    \n",
       "7    11/2/2016 2 check-ins love this place!  5 sta...   5.0 star rating    \n",
       "9    11/10/2016 3 check-ins this place has been sh...   5.0 star rating    \n",
       "13   12/5/2016 this is such a cute little cafe! i'...   5.0 star rating    \n",
       "14   11/13/2016 beautiful eccentric coffee shop wi...   5.0 star rating    \n",
       "\n",
       "                                               tokens  \n",
       "0   [11252016, 1, checkin, love, love, loved, the,...  \n",
       "7   [1122016, 2, checkins, love, this, place, 5, s...  \n",
       "9   [11102016, 3, checkins, this, place, has, been...  \n",
       "13  [1252016, this, is, such, a, cute, little, caf...  \n",
       "14  [11132016, beautiful, eccentric, coffee, shop,...  "
      ]
     },
     "execution_count": 19,
     "metadata": {},
     "output_type": "execute_result"
    }
   ],
   "source": [
    "x1.head()"
   ]
  },
  {
   "cell_type": "code",
   "execution_count": 20,
   "metadata": {},
   "outputs": [
    {
     "data": {
      "text/html": [
       "<div>\n",
       "<style scoped>\n",
       "    .dataframe tbody tr th:only-of-type {\n",
       "        vertical-align: middle;\n",
       "    }\n",
       "\n",
       "    .dataframe tbody tr th {\n",
       "        vertical-align: top;\n",
       "    }\n",
       "\n",
       "    .dataframe thead th {\n",
       "        text-align: right;\n",
       "    }\n",
       "</style>\n",
       "<table border=\"1\" class=\"dataframe\">\n",
       "  <thead>\n",
       "    <tr style=\"text-align: right;\">\n",
       "      <th></th>\n",
       "      <th>coffee_shop_name</th>\n",
       "      <th>full_review_text</th>\n",
       "      <th>star_rating</th>\n",
       "      <th>tokens</th>\n",
       "    </tr>\n",
       "  </thead>\n",
       "  <tbody>\n",
       "    <tr>\n",
       "      <th>25</th>\n",
       "      <td>The Factory - Cafe With a Soul</td>\n",
       "      <td>12/2/2016 okay, so after visiting my friends ...</td>\n",
       "      <td>1.0 star rating</td>\n",
       "      <td>[1222016, okay, so, after, visiting, my, frien...</td>\n",
       "    </tr>\n",
       "    <tr>\n",
       "      <th>39</th>\n",
       "      <td>The Factory - Cafe With a Soul</td>\n",
       "      <td>12/2/2016 a cafe that doesn't have wifi but m...</td>\n",
       "      <td>1.0 star rating</td>\n",
       "      <td>[1222016, a, cafe, that, doesnt, have, wifi, b...</td>\n",
       "    </tr>\n",
       "    <tr>\n",
       "      <th>94</th>\n",
       "      <td>Vintage Heart Coffee</td>\n",
       "      <td>9/18/2016 i was not impressed. first of all, ...</td>\n",
       "      <td>1.0 star rating</td>\n",
       "      <td>[9182016, i, was, not, impressed, first, of, a...</td>\n",
       "    </tr>\n",
       "    <tr>\n",
       "      <th>99</th>\n",
       "      <td>Vintage Heart Coffee</td>\n",
       "      <td>9/4/2016 2 check-ins second attempt at the pl...</td>\n",
       "      <td>1.0 star rating</td>\n",
       "      <td>[942016, 2, checkins, second, attempt, at, the...</td>\n",
       "    </tr>\n",
       "    <tr>\n",
       "      <th>322</th>\n",
       "      <td>Mozart’s Coffee Roasters</td>\n",
       "      <td>11/29/2015 when i lived in austin, mozarts wa...</td>\n",
       "      <td>1.0 star rating</td>\n",
       "      <td>[11292015, when, i, lived, in, austin, mozarts...</td>\n",
       "    </tr>\n",
       "  </tbody>\n",
       "</table>\n",
       "</div>"
      ],
      "text/plain": [
       "                    coffee_shop_name  \\\n",
       "25   The Factory - Cafe With a Soul    \n",
       "39   The Factory - Cafe With a Soul    \n",
       "94             Vintage Heart Coffee    \n",
       "99             Vintage Heart Coffee    \n",
       "322        Mozart’s Coffee Roasters    \n",
       "\n",
       "                                      full_review_text        star_rating  \\\n",
       "25    12/2/2016 okay, so after visiting my friends ...   1.0 star rating    \n",
       "39    12/2/2016 a cafe that doesn't have wifi but m...   1.0 star rating    \n",
       "94    9/18/2016 i was not impressed. first of all, ...   1.0 star rating    \n",
       "99    9/4/2016 2 check-ins second attempt at the pl...   1.0 star rating    \n",
       "322   11/29/2015 when i lived in austin, mozarts wa...   1.0 star rating    \n",
       "\n",
       "                                                tokens  \n",
       "25   [1222016, okay, so, after, visiting, my, frien...  \n",
       "39   [1222016, a, cafe, that, doesnt, have, wifi, b...  \n",
       "94   [9182016, i, was, not, impressed, first, of, a...  \n",
       "99   [942016, 2, checkins, second, attempt, at, the...  \n",
       "322  [11292015, when, i, lived, in, austin, mozarts...  "
      ]
     },
     "execution_count": 20,
     "metadata": {},
     "output_type": "execute_result"
    }
   ],
   "source": [
    "x2.head()"
   ]
  },
  {
   "cell_type": "code",
   "execution_count": 21,
   "metadata": {},
   "outputs": [],
   "source": [
    "def lts(df):\n",
    "    for i in range(len(df)):\n",
    "        df['tokens'].iloc[i] = '-'.join(df['tokens'].iloc[i])\n",
    "        df['tokens'].iloc[i] = df['tokens'].iloc[i].replace('-', ' ')\n",
    "    return df['tokens']"
   ]
  },
  {
   "cell_type": "code",
   "execution_count": 22,
   "metadata": {},
   "outputs": [],
   "source": [
    "from spacy.tokenizer import Tokenizer\n",
    "\n",
    "tokenizer = Tokenizer(nlp.vocab)"
   ]
  },
  {
   "cell_type": "code",
   "execution_count": 23,
   "metadata": {},
   "outputs": [
    {
     "name": "stderr",
     "output_type": "stream",
     "text": [
      "/Applications/anaconda3/envs/U4-S1-NLP/lib/python3.7/site-packages/ipykernel_launcher.py:13: SettingWithCopyWarning: \n",
      "A value is trying to be set on a copy of a slice from a DataFrame.\n",
      "Try using .loc[row_indexer,col_indexer] = value instead\n",
      "\n",
      "See the caveats in the documentation: https://pandas.pydata.org/pandas-docs/stable/user_guide/indexing.html#returning-a-view-versus-a-copy\n",
      "  del sys.path[0]\n"
     ]
    }
   ],
   "source": [
    "tokens = []\n",
    "\n",
    "for doc in tokenizer.pipe(x1['full_review_text'], batch_size=500):\n",
    "    \n",
    "    doc_tokens = []\n",
    "    \n",
    "    for token in doc:\n",
    "        if token.text.lower() not in STOP_WORDS:\n",
    "            doc_tokens.append(token.text.lower())\n",
    "            \n",
    "    tokens.append(doc_tokens)\n",
    "    \n",
    "x1['tokens'] = tokens"
   ]
  },
  {
   "cell_type": "code",
   "execution_count": 24,
   "metadata": {},
   "outputs": [
    {
     "name": "stderr",
     "output_type": "stream",
     "text": [
      "/Applications/anaconda3/envs/U4-S1-NLP/lib/python3.7/site-packages/ipykernel_launcher.py:13: SettingWithCopyWarning: \n",
      "A value is trying to be set on a copy of a slice from a DataFrame.\n",
      "Try using .loc[row_indexer,col_indexer] = value instead\n",
      "\n",
      "See the caveats in the documentation: https://pandas.pydata.org/pandas-docs/stable/user_guide/indexing.html#returning-a-view-versus-a-copy\n",
      "  del sys.path[0]\n"
     ]
    }
   ],
   "source": [
    "tokens1 = []\n",
    "\n",
    "for doc1 in tokenizer.pipe(x2['full_review_text'], batch_size=500):\n",
    "    \n",
    "    doc_tokens1 = []\n",
    "    \n",
    "    for token1 in doc1:\n",
    "        if token1.text.lower() not in STOP_WORDS:\n",
    "            doc_tokens1.append(token1.text.lower())\n",
    "    \n",
    "    tokens1.append(doc_tokens1)\n",
    "\n",
    "x2['tokens'] = tokens1"
   ]
  },
  {
   "cell_type": "code",
   "execution_count": 25,
   "metadata": {},
   "outputs": [
    {
     "data": {
      "text/html": [
       "<div>\n",
       "<style scoped>\n",
       "    .dataframe tbody tr th:only-of-type {\n",
       "        vertical-align: middle;\n",
       "    }\n",
       "\n",
       "    .dataframe tbody tr th {\n",
       "        vertical-align: top;\n",
       "    }\n",
       "\n",
       "    .dataframe thead th {\n",
       "        text-align: right;\n",
       "    }\n",
       "</style>\n",
       "<table border=\"1\" class=\"dataframe\">\n",
       "  <thead>\n",
       "    <tr style=\"text-align: right;\">\n",
       "      <th></th>\n",
       "      <th>coffee_shop_name</th>\n",
       "      <th>full_review_text</th>\n",
       "      <th>star_rating</th>\n",
       "      <th>tokens</th>\n",
       "    </tr>\n",
       "  </thead>\n",
       "  <tbody>\n",
       "    <tr>\n",
       "      <th>0</th>\n",
       "      <td>The Factory - Cafe With a Soul</td>\n",
       "      <td>11/25/2016 1 check-in love love loved the atm...</td>\n",
       "      <td>5.0 star rating</td>\n",
       "      <td>[11/25/2016, 1, check-in, love, love, loved, a...</td>\n",
       "    </tr>\n",
       "    <tr>\n",
       "      <th>7</th>\n",
       "      <td>The Factory - Cafe With a Soul</td>\n",
       "      <td>11/2/2016 2 check-ins love this place!  5 sta...</td>\n",
       "      <td>5.0 star rating</td>\n",
       "      <td>[11/2/2016, 2, check-ins, love, place!, 5, sta...</td>\n",
       "    </tr>\n",
       "    <tr>\n",
       "      <th>9</th>\n",
       "      <td>The Factory - Cafe With a Soul</td>\n",
       "      <td>11/10/2016 3 check-ins this place has been sh...</td>\n",
       "      <td>5.0 star rating</td>\n",
       "      <td>[11/10/2016, 3, check-ins, place, shown, socia...</td>\n",
       "    </tr>\n",
       "    <tr>\n",
       "      <th>13</th>\n",
       "      <td>The Factory - Cafe With a Soul</td>\n",
       "      <td>12/5/2016 this is such a cute little cafe! i'...</td>\n",
       "      <td>5.0 star rating</td>\n",
       "      <td>[12/5/2016, cute, little, cafe!, i've, driven,...</td>\n",
       "    </tr>\n",
       "    <tr>\n",
       "      <th>14</th>\n",
       "      <td>The Factory - Cafe With a Soul</td>\n",
       "      <td>11/13/2016 beautiful eccentric coffee shop wi...</td>\n",
       "      <td>5.0 star rating</td>\n",
       "      <td>[11/13/2016, beautiful, eccentric, shop, libra...</td>\n",
       "    </tr>\n",
       "  </tbody>\n",
       "</table>\n",
       "</div>"
      ],
      "text/plain": [
       "                   coffee_shop_name  \\\n",
       "0   The Factory - Cafe With a Soul    \n",
       "7   The Factory - Cafe With a Soul    \n",
       "9   The Factory - Cafe With a Soul    \n",
       "13  The Factory - Cafe With a Soul    \n",
       "14  The Factory - Cafe With a Soul    \n",
       "\n",
       "                                     full_review_text        star_rating  \\\n",
       "0    11/25/2016 1 check-in love love loved the atm...   5.0 star rating    \n",
       "7    11/2/2016 2 check-ins love this place!  5 sta...   5.0 star rating    \n",
       "9    11/10/2016 3 check-ins this place has been sh...   5.0 star rating    \n",
       "13   12/5/2016 this is such a cute little cafe! i'...   5.0 star rating    \n",
       "14   11/13/2016 beautiful eccentric coffee shop wi...   5.0 star rating    \n",
       "\n",
       "                                               tokens  \n",
       "0   [11/25/2016, 1, check-in, love, love, loved, a...  \n",
       "7   [11/2/2016, 2, check-ins, love, place!, 5, sta...  \n",
       "9   [11/10/2016, 3, check-ins, place, shown, socia...  \n",
       "13  [12/5/2016, cute, little, cafe!, i've, driven,...  \n",
       "14  [11/13/2016, beautiful, eccentric, shop, libra...  "
      ]
     },
     "execution_count": 25,
     "metadata": {},
     "output_type": "execute_result"
    }
   ],
   "source": [
    "x1.head()"
   ]
  },
  {
   "cell_type": "code",
   "execution_count": 26,
   "metadata": {},
   "outputs": [
    {
     "data": {
      "text/html": [
       "<div>\n",
       "<style scoped>\n",
       "    .dataframe tbody tr th:only-of-type {\n",
       "        vertical-align: middle;\n",
       "    }\n",
       "\n",
       "    .dataframe tbody tr th {\n",
       "        vertical-align: top;\n",
       "    }\n",
       "\n",
       "    .dataframe thead th {\n",
       "        text-align: right;\n",
       "    }\n",
       "</style>\n",
       "<table border=\"1\" class=\"dataframe\">\n",
       "  <thead>\n",
       "    <tr style=\"text-align: right;\">\n",
       "      <th></th>\n",
       "      <th>coffee_shop_name</th>\n",
       "      <th>full_review_text</th>\n",
       "      <th>star_rating</th>\n",
       "      <th>tokens</th>\n",
       "    </tr>\n",
       "  </thead>\n",
       "  <tbody>\n",
       "    <tr>\n",
       "      <th>25</th>\n",
       "      <td>The Factory - Cafe With a Soul</td>\n",
       "      <td>12/2/2016 okay, so after visiting my friends ...</td>\n",
       "      <td>1.0 star rating</td>\n",
       "      <td>[12/2/2016, okay,, visiting, friends, la, tryi...</td>\n",
       "    </tr>\n",
       "    <tr>\n",
       "      <th>39</th>\n",
       "      <td>The Factory - Cafe With a Soul</td>\n",
       "      <td>12/2/2016 a cafe that doesn't have wifi but m...</td>\n",
       "      <td>1.0 star rating</td>\n",
       "      <td>[12/2/2016, cafe, doesn't, wifi, makes, order,...</td>\n",
       "    </tr>\n",
       "    <tr>\n",
       "      <th>94</th>\n",
       "      <td>Vintage Heart Coffee</td>\n",
       "      <td>9/18/2016 i was not impressed. first of all, ...</td>\n",
       "      <td>1.0 star rating</td>\n",
       "      <td>[9/18/2016, impressed., all,, parking, huge, h...</td>\n",
       "    </tr>\n",
       "    <tr>\n",
       "      <th>99</th>\n",
       "      <td>Vintage Heart Coffee</td>\n",
       "      <td>9/4/2016 2 check-ins second attempt at the pl...</td>\n",
       "      <td>1.0 star rating</td>\n",
       "      <td>[9/4/2016, 2, check-ins, second, attempt, plac...</td>\n",
       "    </tr>\n",
       "    <tr>\n",
       "      <th>322</th>\n",
       "      <td>Mozart’s Coffee Roasters</td>\n",
       "      <td>11/29/2015 when i lived in austin, mozarts wa...</td>\n",
       "      <td>1.0 star rating</td>\n",
       "      <td>[11/29/2015, lived, austin,, mozarts, spot, me...</td>\n",
       "    </tr>\n",
       "  </tbody>\n",
       "</table>\n",
       "</div>"
      ],
      "text/plain": [
       "                    coffee_shop_name  \\\n",
       "25   The Factory - Cafe With a Soul    \n",
       "39   The Factory - Cafe With a Soul    \n",
       "94             Vintage Heart Coffee    \n",
       "99             Vintage Heart Coffee    \n",
       "322        Mozart’s Coffee Roasters    \n",
       "\n",
       "                                      full_review_text        star_rating  \\\n",
       "25    12/2/2016 okay, so after visiting my friends ...   1.0 star rating    \n",
       "39    12/2/2016 a cafe that doesn't have wifi but m...   1.0 star rating    \n",
       "94    9/18/2016 i was not impressed. first of all, ...   1.0 star rating    \n",
       "99    9/4/2016 2 check-ins second attempt at the pl...   1.0 star rating    \n",
       "322   11/29/2015 when i lived in austin, mozarts wa...   1.0 star rating    \n",
       "\n",
       "                                                tokens  \n",
       "25   [12/2/2016, okay,, visiting, friends, la, tryi...  \n",
       "39   [12/2/2016, cafe, doesn't, wifi, makes, order,...  \n",
       "94   [9/18/2016, impressed., all,, parking, huge, h...  \n",
       "99   [9/4/2016, 2, check-ins, second, attempt, plac...  \n",
       "322  [11/29/2015, lived, austin,, mozarts, spot, me...  "
      ]
     },
     "execution_count": 26,
     "metadata": {},
     "output_type": "execute_result"
    }
   ],
   "source": [
    "x2.head()"
   ]
  },
  {
   "cell_type": "code",
   "execution_count": 27,
   "metadata": {},
   "outputs": [
    {
     "name": "stderr",
     "output_type": "stream",
     "text": [
      "/Applications/anaconda3/envs/U4-S1-NLP/lib/python3.7/site-packages/ipykernel_launcher.py:3: SettingWithCopyWarning: \n",
      "A value is trying to be set on a copy of a slice from a DataFrame\n",
      "\n",
      "See the caveats in the documentation: https://pandas.pydata.org/pandas-docs/stable/user_guide/indexing.html#returning-a-view-versus-a-copy\n",
      "  This is separate from the ipykernel package so we can avoid doing imports until\n",
      "/Applications/anaconda3/envs/U4-S1-NLP/lib/python3.7/site-packages/ipykernel_launcher.py:4: SettingWithCopyWarning: \n",
      "A value is trying to be set on a copy of a slice from a DataFrame\n",
      "\n",
      "See the caveats in the documentation: https://pandas.pydata.org/pandas-docs/stable/user_guide/indexing.html#returning-a-view-versus-a-copy\n",
      "  after removing the cwd from sys.path.\n",
      "/Applications/anaconda3/envs/U4-S1-NLP/lib/python3.7/site-packages/ipykernel_launcher.py:1: SettingWithCopyWarning: \n",
      "A value is trying to be set on a copy of a slice from a DataFrame.\n",
      "Try using .loc[row_indexer,col_indexer] = value instead\n",
      "\n",
      "See the caveats in the documentation: https://pandas.pydata.org/pandas-docs/stable/user_guide/indexing.html#returning-a-view-versus-a-copy\n",
      "  \"\"\"Entry point for launching an IPython kernel.\n",
      "/Applications/anaconda3/envs/U4-S1-NLP/lib/python3.7/site-packages/ipykernel_launcher.py:2: SettingWithCopyWarning: \n",
      "A value is trying to be set on a copy of a slice from a DataFrame.\n",
      "Try using .loc[row_indexer,col_indexer] = value instead\n",
      "\n",
      "See the caveats in the documentation: https://pandas.pydata.org/pandas-docs/stable/user_guide/indexing.html#returning-a-view-versus-a-copy\n",
      "  \n"
     ]
    }
   ],
   "source": [
    "x1['tokens'] = lts(x1)\n",
    "x2['tokens'] = lts(x2)"
   ]
  },
  {
   "cell_type": "code",
   "execution_count": 28,
   "metadata": {},
   "outputs": [
    {
     "data": {
      "text/html": [
       "<div>\n",
       "<style scoped>\n",
       "    .dataframe tbody tr th:only-of-type {\n",
       "        vertical-align: middle;\n",
       "    }\n",
       "\n",
       "    .dataframe tbody tr th {\n",
       "        vertical-align: top;\n",
       "    }\n",
       "\n",
       "    .dataframe thead th {\n",
       "        text-align: right;\n",
       "    }\n",
       "</style>\n",
       "<table border=\"1\" class=\"dataframe\">\n",
       "  <thead>\n",
       "    <tr style=\"text-align: right;\">\n",
       "      <th></th>\n",
       "      <th>coffee_shop_name</th>\n",
       "      <th>full_review_text</th>\n",
       "      <th>star_rating</th>\n",
       "      <th>tokens</th>\n",
       "    </tr>\n",
       "  </thead>\n",
       "  <tbody>\n",
       "    <tr>\n",
       "      <th>0</th>\n",
       "      <td>The Factory - Cafe With a Soul</td>\n",
       "      <td>11/25/2016 1 check-in love love loved the atm...</td>\n",
       "      <td>5.0 star rating</td>\n",
       "      <td>11/25/2016 1 check in love love loved atmosphe...</td>\n",
       "    </tr>\n",
       "    <tr>\n",
       "      <th>7</th>\n",
       "      <td>The Factory - Cafe With a Soul</td>\n",
       "      <td>11/2/2016 2 check-ins love this place!  5 sta...</td>\n",
       "      <td>5.0 star rating</td>\n",
       "      <td>11/2/2016 2 check ins love place! 5 stars clea...</td>\n",
       "    </tr>\n",
       "    <tr>\n",
       "      <th>9</th>\n",
       "      <td>The Factory - Cafe With a Soul</td>\n",
       "      <td>11/10/2016 3 check-ins this place has been sh...</td>\n",
       "      <td>5.0 star rating</td>\n",
       "      <td>11/10/2016 3 check ins place shown social medi...</td>\n",
       "    </tr>\n",
       "    <tr>\n",
       "      <th>13</th>\n",
       "      <td>The Factory - Cafe With a Soul</td>\n",
       "      <td>12/5/2016 this is such a cute little cafe! i'...</td>\n",
       "      <td>5.0 star rating</td>\n",
       "      <td>12/5/2016 cute little cafe! i've driven place ...</td>\n",
       "    </tr>\n",
       "    <tr>\n",
       "      <th>14</th>\n",
       "      <td>The Factory - Cafe With a Soul</td>\n",
       "      <td>11/13/2016 beautiful eccentric coffee shop wi...</td>\n",
       "      <td>5.0 star rating</td>\n",
       "      <td>11/13/2016 beautiful eccentric shop library pe...</td>\n",
       "    </tr>\n",
       "  </tbody>\n",
       "</table>\n",
       "</div>"
      ],
      "text/plain": [
       "                   coffee_shop_name  \\\n",
       "0   The Factory - Cafe With a Soul    \n",
       "7   The Factory - Cafe With a Soul    \n",
       "9   The Factory - Cafe With a Soul    \n",
       "13  The Factory - Cafe With a Soul    \n",
       "14  The Factory - Cafe With a Soul    \n",
       "\n",
       "                                     full_review_text        star_rating  \\\n",
       "0    11/25/2016 1 check-in love love loved the atm...   5.0 star rating    \n",
       "7    11/2/2016 2 check-ins love this place!  5 sta...   5.0 star rating    \n",
       "9    11/10/2016 3 check-ins this place has been sh...   5.0 star rating    \n",
       "13   12/5/2016 this is such a cute little cafe! i'...   5.0 star rating    \n",
       "14   11/13/2016 beautiful eccentric coffee shop wi...   5.0 star rating    \n",
       "\n",
       "                                               tokens  \n",
       "0   11/25/2016 1 check in love love loved atmosphe...  \n",
       "7   11/2/2016 2 check ins love place! 5 stars clea...  \n",
       "9   11/10/2016 3 check ins place shown social medi...  \n",
       "13  12/5/2016 cute little cafe! i've driven place ...  \n",
       "14  11/13/2016 beautiful eccentric shop library pe...  "
      ]
     },
     "execution_count": 28,
     "metadata": {},
     "output_type": "execute_result"
    }
   ],
   "source": [
    "x1.head()"
   ]
  },
  {
   "cell_type": "code",
   "execution_count": 29,
   "metadata": {},
   "outputs": [
    {
     "data": {
      "text/html": [
       "<div>\n",
       "<style scoped>\n",
       "    .dataframe tbody tr th:only-of-type {\n",
       "        vertical-align: middle;\n",
       "    }\n",
       "\n",
       "    .dataframe tbody tr th {\n",
       "        vertical-align: top;\n",
       "    }\n",
       "\n",
       "    .dataframe thead th {\n",
       "        text-align: right;\n",
       "    }\n",
       "</style>\n",
       "<table border=\"1\" class=\"dataframe\">\n",
       "  <thead>\n",
       "    <tr style=\"text-align: right;\">\n",
       "      <th></th>\n",
       "      <th>coffee_shop_name</th>\n",
       "      <th>full_review_text</th>\n",
       "      <th>star_rating</th>\n",
       "      <th>tokens</th>\n",
       "    </tr>\n",
       "  </thead>\n",
       "  <tbody>\n",
       "    <tr>\n",
       "      <th>25</th>\n",
       "      <td>The Factory - Cafe With a Soul</td>\n",
       "      <td>12/2/2016 okay, so after visiting my friends ...</td>\n",
       "      <td>1.0 star rating</td>\n",
       "      <td>12/2/2016 okay, visiting friends la trying min...</td>\n",
       "    </tr>\n",
       "    <tr>\n",
       "      <th>39</th>\n",
       "      <td>The Factory - Cafe With a Soul</td>\n",
       "      <td>12/2/2016 a cafe that doesn't have wifi but m...</td>\n",
       "      <td>1.0 star rating</td>\n",
       "      <td>12/2/2016 cafe doesn't wifi makes order ipad. ...</td>\n",
       "    </tr>\n",
       "    <tr>\n",
       "      <th>94</th>\n",
       "      <td>Vintage Heart Coffee</td>\n",
       "      <td>9/18/2016 i was not impressed. first of all, ...</td>\n",
       "      <td>1.0 star rating</td>\n",
       "      <td>9/18/2016 impressed. all, parking huge hassle ...</td>\n",
       "    </tr>\n",
       "    <tr>\n",
       "      <th>99</th>\n",
       "      <td>Vintage Heart Coffee</td>\n",
       "      <td>9/4/2016 2 check-ins second attempt at the pl...</td>\n",
       "      <td>1.0 star rating</td>\n",
       "      <td>9/4/2016 2 check ins second attempt place exce...</td>\n",
       "    </tr>\n",
       "    <tr>\n",
       "      <th>322</th>\n",
       "      <td>Mozart’s Coffee Roasters</td>\n",
       "      <td>11/29/2015 when i lived in austin, mozarts wa...</td>\n",
       "      <td>1.0 star rating</td>\n",
       "      <td>11/29/2015 lived austin, mozarts spot me. coun...</td>\n",
       "    </tr>\n",
       "  </tbody>\n",
       "</table>\n",
       "</div>"
      ],
      "text/plain": [
       "                    coffee_shop_name  \\\n",
       "25   The Factory - Cafe With a Soul    \n",
       "39   The Factory - Cafe With a Soul    \n",
       "94             Vintage Heart Coffee    \n",
       "99             Vintage Heart Coffee    \n",
       "322        Mozart’s Coffee Roasters    \n",
       "\n",
       "                                      full_review_text        star_rating  \\\n",
       "25    12/2/2016 okay, so after visiting my friends ...   1.0 star rating    \n",
       "39    12/2/2016 a cafe that doesn't have wifi but m...   1.0 star rating    \n",
       "94    9/18/2016 i was not impressed. first of all, ...   1.0 star rating    \n",
       "99    9/4/2016 2 check-ins second attempt at the pl...   1.0 star rating    \n",
       "322   11/29/2015 when i lived in austin, mozarts wa...   1.0 star rating    \n",
       "\n",
       "                                                tokens  \n",
       "25   12/2/2016 okay, visiting friends la trying min...  \n",
       "39   12/2/2016 cafe doesn't wifi makes order ipad. ...  \n",
       "94   9/18/2016 impressed. all, parking huge hassle ...  \n",
       "99   9/4/2016 2 check ins second attempt place exce...  \n",
       "322  11/29/2015 lived austin, mozarts spot me. coun...  "
      ]
     },
     "execution_count": 29,
     "metadata": {},
     "output_type": "execute_result"
    }
   ],
   "source": [
    "x2.head()"
   ]
  },
  {
   "cell_type": "code",
   "execution_count": 30,
   "metadata": {},
   "outputs": [
    {
     "name": "stderr",
     "output_type": "stream",
     "text": [
      "/Applications/anaconda3/envs/U4-S1-NLP/lib/python3.7/site-packages/ipykernel_launcher.py:1: SettingWithCopyWarning: \n",
      "A value is trying to be set on a copy of a slice from a DataFrame.\n",
      "Try using .loc[row_indexer,col_indexer] = value instead\n",
      "\n",
      "See the caveats in the documentation: https://pandas.pydata.org/pandas-docs/stable/user_guide/indexing.html#returning-a-view-versus-a-copy\n",
      "  \"\"\"Entry point for launching an IPython kernel.\n",
      "/Applications/anaconda3/envs/U4-S1-NLP/lib/python3.7/site-packages/ipykernel_launcher.py:2: SettingWithCopyWarning: \n",
      "A value is trying to be set on a copy of a slice from a DataFrame.\n",
      "Try using .loc[row_indexer,col_indexer] = value instead\n",
      "\n",
      "See the caveats in the documentation: https://pandas.pydata.org/pandas-docs/stable/user_guide/indexing.html#returning-a-view-versus-a-copy\n",
      "  \n"
     ]
    }
   ],
   "source": [
    "x1['lemmas'] = x1['tokens'].apply(get_lemmas)\n",
    "x2['lemmas'] = x2['tokens'].apply(get_lemmas)"
   ]
  },
  {
   "cell_type": "code",
   "execution_count": 31,
   "metadata": {},
   "outputs": [
    {
     "data": {
      "image/png": "[encoded data removed]",
      "text/plain": [
       "<Figure size 432x288 with 1 Axes>"
      ]
     },
     "metadata": {
      "needs_background": "light"
     },
     "output_type": "display_data"
    }
   ],
   "source": [
    "wc = count(x1['lemmas'])\n",
    "wc_top20 = wc[wc['rank'] <= 20]\n",
    "\n",
    "squarify.plot(sizes=wc_top20['pct_total'], label=wc_top20['word'], alpha=0.8 )\n",
    "plt.axis('off')\n",
    "plt.show()"
   ]
  },
  {
   "cell_type": "code",
   "execution_count": 32,
   "metadata": {},
   "outputs": [
    {
     "data": {
      "text/html": [
       "<div>\n",
       "<style scoped>\n",
       "    .dataframe tbody tr th:only-of-type {\n",
       "        vertical-align: middle;\n",
       "    }\n",
       "\n",
       "    .dataframe tbody tr th {\n",
       "        vertical-align: top;\n",
       "    }\n",
       "\n",
       "    .dataframe thead th {\n",
       "        text-align: right;\n",
       "    }\n",
       "</style>\n",
       "<table border=\"1\" class=\"dataframe\">\n",
       "  <thead>\n",
       "    <tr style=\"text-align: right;\">\n",
       "      <th></th>\n",
       "      <th>word</th>\n",
       "      <th>appears_in</th>\n",
       "      <th>count</th>\n",
       "      <th>rank</th>\n",
       "      <th>pct_total</th>\n",
       "      <th>cul_pct_total</th>\n",
       "      <th>appears_in_pct</th>\n",
       "    </tr>\n",
       "  </thead>\n",
       "  <tbody>\n",
       "    <tr>\n",
       "      <th>52</th>\n",
       "      <td>place</td>\n",
       "      <td>1864</td>\n",
       "      <td>2817</td>\n",
       "      <td>1.0</td>\n",
       "      <td>0.017341</td>\n",
       "      <td>0.017341</td>\n",
       "      <td>0.493122</td>\n",
       "    </tr>\n",
       "    <tr>\n",
       "      <th>134</th>\n",
       "      <td>good</td>\n",
       "      <td>1664</td>\n",
       "      <td>2374</td>\n",
       "      <td>2.0</td>\n",
       "      <td>0.014614</td>\n",
       "      <td>0.031954</td>\n",
       "      <td>0.440212</td>\n",
       "    </tr>\n",
       "    <tr>\n",
       "      <th>300</th>\n",
       "      <td>great</td>\n",
       "      <td>1567</td>\n",
       "      <td>2196</td>\n",
       "      <td>3.0</td>\n",
       "      <td>0.013518</td>\n",
       "      <td>0.045472</td>\n",
       "      <td>0.414550</td>\n",
       "    </tr>\n",
       "    <tr>\n",
       "      <th>35</th>\n",
       "      <td>check</td>\n",
       "      <td>1465</td>\n",
       "      <td>1585</td>\n",
       "      <td>4.0</td>\n",
       "      <td>0.009757</td>\n",
       "      <td>0.055229</td>\n",
       "      <td>0.387566</td>\n",
       "    </tr>\n",
       "    <tr>\n",
       "      <th>17</th>\n",
       "      <td>love</td>\n",
       "      <td>1111</td>\n",
       "      <td>1503</td>\n",
       "      <td>5.0</td>\n",
       "      <td>0.009252</td>\n",
       "      <td>0.064481</td>\n",
       "      <td>0.293915</td>\n",
       "    </tr>\n",
       "  </tbody>\n",
       "</table>\n",
       "</div>"
      ],
      "text/plain": [
       "      word  appears_in  count  rank  pct_total  cul_pct_total  appears_in_pct\n",
       "52   place        1864   2817   1.0   0.017341       0.017341        0.493122\n",
       "134   good        1664   2374   2.0   0.014614       0.031954        0.440212\n",
       "300  great        1567   2196   3.0   0.013518       0.045472        0.414550\n",
       "35   check        1465   1585   4.0   0.009757       0.055229        0.387566\n",
       "17    love        1111   1503   5.0   0.009252       0.064481        0.293915"
      ]
     },
     "execution_count": 32,
     "metadata": {},
     "output_type": "execute_result"
    }
   ],
   "source": [
    "wc_top20.head()"
   ]
  },
  {
   "cell_type": "code",
   "execution_count": 33,
   "metadata": {},
   "outputs": [
    {
     "data": {
      "image/png": "[encoded data removed]",
      "text/plain": [
       "<Figure size 432x288 with 1 Axes>"
      ]
     },
     "metadata": {
      "needs_background": "light"
     },
     "output_type": "display_data"
    }
   ],
   "source": [
    "twc = count(x2['lemmas'])\n",
    "twc_top20 = twc[twc['rank'] <= 20]\n",
    "\n",
    "squarify.plot(sizes=twc_top20['pct_total'], label=twc_top20['word'], alpha=.8 )\n",
    "plt.axis('off')\n",
    "plt.show()"
   ]
  },
  {
   "cell_type": "code",
   "execution_count": 34,
   "metadata": {},
   "outputs": [
    {
     "data": {
      "text/html": [
       "<div>\n",
       "<style scoped>\n",
       "    .dataframe tbody tr th:only-of-type {\n",
       "        vertical-align: middle;\n",
       "    }\n",
       "\n",
       "    .dataframe tbody tr th {\n",
       "        vertical-align: top;\n",
       "    }\n",
       "\n",
       "    .dataframe thead th {\n",
       "        text-align: right;\n",
       "    }\n",
       "</style>\n",
       "<table border=\"1\" class=\"dataframe\">\n",
       "  <thead>\n",
       "    <tr style=\"text-align: right;\">\n",
       "      <th></th>\n",
       "      <th>word</th>\n",
       "      <th>appears_in</th>\n",
       "      <th>count</th>\n",
       "      <th>rank</th>\n",
       "      <th>pct_total</th>\n",
       "      <th>cul_pct_total</th>\n",
       "      <th>appears_in_pct</th>\n",
       "    </tr>\n",
       "  </thead>\n",
       "  <tbody>\n",
       "    <tr>\n",
       "      <th>20</th>\n",
       "      <td>place</td>\n",
       "      <td>139</td>\n",
       "      <td>231</td>\n",
       "      <td>1.0</td>\n",
       "      <td>0.015388</td>\n",
       "      <td>0.015388</td>\n",
       "      <td>0.500000</td>\n",
       "    </tr>\n",
       "    <tr>\n",
       "      <th>64</th>\n",
       "      <td>order</td>\n",
       "      <td>91</td>\n",
       "      <td>177</td>\n",
       "      <td>2.0</td>\n",
       "      <td>0.011791</td>\n",
       "      <td>0.027178</td>\n",
       "      <td>0.327338</td>\n",
       "    </tr>\n",
       "    <tr>\n",
       "      <th>114</th>\n",
       "      <td>like</td>\n",
       "      <td>104</td>\n",
       "      <td>173</td>\n",
       "      <td>3.0</td>\n",
       "      <td>0.011524</td>\n",
       "      <td>0.038702</td>\n",
       "      <td>0.374101</td>\n",
       "    </tr>\n",
       "    <tr>\n",
       "      <th>41</th>\n",
       "      <td>service</td>\n",
       "      <td>94</td>\n",
       "      <td>130</td>\n",
       "      <td>4.0</td>\n",
       "      <td>0.008660</td>\n",
       "      <td>0.047362</td>\n",
       "      <td>0.338129</td>\n",
       "    </tr>\n",
       "    <tr>\n",
       "      <th>16</th>\n",
       "      <td>drink</td>\n",
       "      <td>58</td>\n",
       "      <td>127</td>\n",
       "      <td>5.0</td>\n",
       "      <td>0.008460</td>\n",
       "      <td>0.055822</td>\n",
       "      <td>0.208633</td>\n",
       "    </tr>\n",
       "  </tbody>\n",
       "</table>\n",
       "</div>"
      ],
      "text/plain": [
       "        word  appears_in  count  rank  pct_total  cul_pct_total  \\\n",
       "20     place         139    231   1.0   0.015388       0.015388   \n",
       "64     order          91    177   2.0   0.011791       0.027178   \n",
       "114     like         104    173   3.0   0.011524       0.038702   \n",
       "41   service          94    130   4.0   0.008660       0.047362   \n",
       "16     drink          58    127   5.0   0.008460       0.055822   \n",
       "\n",
       "     appears_in_pct  \n",
       "20         0.500000  \n",
       "64         0.327338  \n",
       "114        0.374101  \n",
       "41         0.338129  \n",
       "16         0.208633  "
      ]
     },
     "execution_count": 34,
     "metadata": {},
     "output_type": "execute_result"
    }
   ],
   "source": [
    "twc_top20.head()"
   ]
  },
  {
   "cell_type": "markdown",
   "metadata": {},
   "source": [
    "# Can visualize the words with the greatest difference in counts between 'good' & 'bad'?\n",
    "\n",
    "Couple Notes: \n",
    "- Rel. freq. instead of absolute counts b/c of different numbers of reviews\n",
    "- Only look at the top 5-10 words with the greatest differences\n"
   ]
  },
  {
   "cell_type": "code",
   "execution_count": null,
   "metadata": {},
   "outputs": [],
   "source": []
  },
  {
   "cell_type": "code",
   "execution_count": null,
   "metadata": {},
   "outputs": [],
   "source": []
  },
  {
   "cell_type": "code",
   "execution_count": 46,
   "metadata": {},
   "outputs": [],
   "source": []
  },
  {
   "cell_type": "markdown",
   "metadata": {
    "colab_type": "text",
    "id": "1dCb1q8XphcP",
    "toc-hr-collapsed": true
   },
   "source": [
    "## Stretch Goals\n",
    "\n",
    "* Analyze another corpus of documents - such as Indeed.com job listings ;).\n",
    "* Play with the Spacy API to\n",
    " - Extract Named Entities\n",
    " - Extracting 'noun chunks'\n",
    " - Attempt Document Classification with just Spacy\n",
    " - *Note:* This [course](https://course.spacy.io/) will be of interesting in helping you with these stretch goals. \n",
    "* Try to build a plotly dash app with your text data \n",
    "\n"
   ]
  }
 ],
 "metadata": {
  "colab": {
   "collapsed_sections": [],
   "name": "LS_DS_421_Text_Data_Assignment.ipynb",
   "provenance": [],
   "version": "0.3.2"
  },
  "kernelspec": {
   "display_name": "U4-S1-NLP (Python3)",
   "language": "python",
   "name": "u4-s1-nlp"
  },
  "language_info": {
   "codemirror_mode": {
    "name": "ipython",
    "version": 3
   },
   "file_extension": ".py",
   "mimetype": "text/x-python",
   "name": "python",
   "nbconvert_exporter": "python",
   "pygments_lexer": "ipython3",
   "version": "3.7.0"
  },
  "toc-autonumbering": false
 },
 "nbformat": 4,
 "nbformat_minor": 4
}
