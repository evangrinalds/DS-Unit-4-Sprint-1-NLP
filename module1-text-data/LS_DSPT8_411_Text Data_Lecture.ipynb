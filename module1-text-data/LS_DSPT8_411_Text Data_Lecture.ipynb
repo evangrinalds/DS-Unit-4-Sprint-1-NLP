{
 "cells": [
  {
   "cell_type": "markdown",
   "metadata": {
    "toc-hr-collapsed": false
   },
   "source": [
    "Lambda School Data Science\n",
    "\n",
    "*Unit 4, Sprint 1, Module 1*\n",
    "\n",
    "---\n",
    "<h1 id=\"moduleTitle\"> Natural Language Processing Introduction (Prepare)</h1>\n",
    "\n",
    "\"Natural\" meaning - not computer languages but spoken/written human languages. The hard thing about NLP is that human languages are far less structured or consistent than computer languages. This is perhaps the largest source of difficulty when trying to get computers to \"understand\" human languages. How do you get a machine to understand sarcasm, and irony, and synonyms, connotation, denotation, nuance, and tone of voice --all without it having lived a lifetime of experience for context? If you think about it, our human brains have been exposed to quite a lot of training data to help us interpret languages, and even then we misunderstand each other pretty frequently. \n",
    "    \n",
    "\n",
    "<h2 id='moduleObjectives'>Learning Objectives</h2>\n",
    "\n",
    "By the end of end of this module, a student should be able to:\n",
    "* <a href=\"#p1\">Objective 1</a>: Tokenize text\n",
    "* <a href=\"#p1\">Objective 2</a>: Remove stop words from text\n",
    "* <a href=\"#p3\">Objective 3</a>: Perform stemming and lemmatization on tokens\n",
    "\n",
    "## Conda Environments\n",
    "\n",
    "You will be completing each module this sprint on your machine. We will be using conda environments to manage the packages and their dependencies for this sprint's content. In a classroom setting, instructors typically abstract away environment for you. However, environment management is an important professional data science skill. We showed you how to manage environments using pipvirtual env during Unit 3, but in this sprint, we will introduce an environment management tool common in the data science community: \n",
    "\n",
    "> __conda__: Package, dependency and environment management for any language—Python, R, Ruby, Lua, Scala, Java, JavaScript, C/ C++, FORTRAN, and more.\n",
    "\n",
    "The easiest way to install conda on your machine is via the [Anaconda Distribution](https://www.anaconda.com/distribution/) of Python & R. Once you have conda installed, read [\"A Guide to Conda Environments\"](https://towardsdatascience.com/a-guide-to-conda-environments-bc6180fc533). This article will provide an introduce into some of the conda basics. If you need some additional help getting started, the official [\"Setting started with conda\"](https://conda.io/projects/conda/en/latest/user-guide/getting-started.html) guide will point you in the right direction. \n",
    "\n",
    ":snake: \n",
    "\n",
    "To get the sprint environment setup: \n",
    "\n",
    "1. Open your command line tool (Terminal for MacOS, Anaconda Prompt for Windows)\n",
    "2. Navigate to the folder with this sprint's content. There should be a `requirements.txt`\n",
    "3. Run `conda create -n U4-S1-NLP python==3.7` => You can also rename the environment if you would like. Once the command completes, your conda environment should be ready.\n",
    "4. Now, we are going to add in the require python packages for this sprint. You will need to 'activate' the conda environment: `source activate U4-S1-NLP` on Terminal or `conda activate U4-S1-NLP` on Anaconda Prompt. Once your environment is activate, run `pip install -r requirements.txt` which will install the required packages into your environment.\n",
    "5. We are going to also add an Ipython Kernel reference to your conda environment, so we can use it from JupyterLab. \n",
    "6. Next run `python -m ipykernel install --user --name U4-S1-NLP --display-name \"U4-S1-NLP (Python3)\"` => This will add a json object to an ipython file, so JupterLab will know that it can use this isolated instance of Python. :) \n",
    "7. Last step, we need to install the models for Spacy. Run these commands `python -m spacy download en_core_web_md` and `python -m spacy download en_core_web_lg`\n",
    "8. Deactivate your conda environment and launch JupyterLab. You should know see \"U4-S1-NLP (Python3)\" in the list of available kernels on launch screen. "
   ]
  },
  {
   "cell_type": "markdown",
   "metadata": {
    "toc-hr-collapsed": false
   },
   "source": [
    "# Tokenze Text (Learn)\n",
    "<a id=\"p1\"></a>"
   ]
  },
  {
   "cell_type": "markdown",
   "metadata": {
    "toc-hr-collapsed": true
   },
   "source": [
    "## Overview\n",
    "\n",
    "> **token**: an instance of a sequence of characters in some particular document that are grouped together as a useful semantic unit for processing\n",
    "\n",
    "> [_*Introduction to Information Retrival*_](https://nlp.stanford.edu/IR-book/)\n",
    "\n",
    "\n",
    "### The attributes of good tokens\n",
    "\n",
    "* Should be stored in an iterable data structure\n",
    "  - Allows analysis of the \"semantic unit\"\n",
    "* Should be all the same case\n",
    "  - Reduces the complexity of our data\n",
    "* Should be free of non-alphanumeric characters (ie punctuation, whitespace)\n",
    "  - Removes information that is probably not relevant to the analysis"
   ]
  },
  {
   "cell_type": "code",
   "execution_count": 1,
   "metadata": {},
   "outputs": [],
   "source": [
    "# Import Required Libariries\n",
    "import pandas as pd\n",
    "from collections import Counter\n",
    "\n",
    "# Plotting\n",
    "import squarify\n",
    "import matplotlib.pyplot as plt\n",
    "import seaborn as sns\n",
    "\n",
    "# NLP Libraries\n",
    "import re\n",
    "from nltk.stem import PorterStemmer\n",
    "import spacy\n",
    "from spacy.tokenizer import Tokenizer"
   ]
  },
  {
   "cell_type": "markdown",
   "metadata": {},
   "source": [
    "Let's pretend we are trying analyze the random sequence here. Question: what is the most common character in this sequence?"
   ]
  },
  {
   "cell_type": "code",
   "execution_count": 2,
   "metadata": {},
   "outputs": [],
   "source": [
    "random_seq = \"AABAAFBBBBCGCDDEEEFCFFDFFAFFZFGGGGHEAFJAAZBBFCZ\""
   ]
  },
  {
   "cell_type": "markdown",
   "metadata": {},
   "source": [
    "A useful unit of analysis for us is going to be a letter or character"
   ]
  },
  {
   "cell_type": "code",
   "execution_count": 3,
   "metadata": {},
   "outputs": [
    {
     "name": "stdout",
     "output_type": "stream",
     "text": [
      "['A', 'A', 'B', 'A', 'A', 'F', 'B', 'B', 'B', 'B', 'C', 'G', 'C', 'D', 'D', 'E', 'E', 'E', 'F', 'C', 'F', 'F', 'D', 'F', 'F', 'A', 'F', 'F', 'Z', 'F', 'G', 'G', 'G', 'G', 'H', 'E', 'A', 'F', 'J', 'A', 'A', 'Z', 'B', 'B', 'F', 'C', 'Z']\n"
     ]
    }
   ],
   "source": [
    "tokens = list(random_seq)\n",
    "print(tokens)"
   ]
  },
  {
   "cell_type": "markdown",
   "metadata": {},
   "source": [
    "Our tokens are already \"good\": in an iterable datastructure, all the same case, and free of noise characters (punctuation, whitespace), so we can jump straight into analysis."
   ]
  },
  {
   "cell_type": "code",
   "execution_count": 4,
   "metadata": {},
   "outputs": [
    {
     "data": {
      "image/png": "[encoded data removed]",
      "text/plain": [
       "<Figure size 432x288 with 1 Axes>"
      ]
     },
     "metadata": {
      "needs_background": "light"
     },
     "output_type": "display_data"
    }
   ],
   "source": [
    "sns.countplot(tokens);"
   ]
  },
  {
   "cell_type": "markdown",
   "metadata": {},
   "source": [
    "The most common character in our sequence is  \"F\". We can't just glance at the the sequence to know which character is the most common. We (humans) struggle to subitize complex data (like random text sequences).\n",
    "\n",
    "> __Subitize__ is the ability to tell the number of objects in a set, quickly, without counting.  \n",
    "\n",
    "We need to chunk the data into countable pieces \"tokens\" for us to analyze them. This inability subitize text data is the motivation for our discussion today."
   ]
  },
  {
   "cell_type": "markdown",
   "metadata": {
    "toc-hr-collapsed": true
   },
   "source": [
    "### Tokenizing with Pure Python"
   ]
  },
  {
   "cell_type": "code",
   "execution_count": 5,
   "metadata": {},
   "outputs": [],
   "source": [
    "sample = \"Friends, Romans, countrymen, lend me your ears;\""
   ]
  },
  {
   "cell_type": "markdown",
   "metadata": {},
   "source": [
    "##### Iterable Tokens\n",
    "\n",
    "A string object in Python is already iterable. However, the item you iterate over is a character not a token:\n",
    "\n",
    "```\n",
    "from time import sleep\n",
    "for num, character in enumerate(sample):\n",
    "    sleep(.5)\n",
    "    print(f\"Char {num} - {character}\", end=\"\\r\")\n",
    "```\n",
    "\n",
    "If we instead care about the words in our sample (our semantic unit), we can use the string method `.split()` to separate the whitespace and create iterable units. :)"
   ]
  },
  {
   "cell_type": "code",
   "execution_count": 6,
   "metadata": {},
   "outputs": [
    {
     "data": {
      "text/plain": [
       "['Friends,', 'Romans,', 'countrymen,', 'lend', 'me', 'your', 'ears;']"
      ]
     },
     "execution_count": 6,
     "metadata": {},
     "output_type": "execute_result"
    }
   ],
   "source": [
    "sample.split()"
   ]
  },
  {
   "cell_type": "markdown",
   "metadata": {},
   "source": [
    "##### Case Normalization\n",
    "A common data cleaning data cleaning task with token is to standardize or normalize the case. Normalizing case reduces the chance that you have duplicate records for things which have practically the same semantic meaning. You can use either the `.lower()` or `.upper()` string methods to normalize case.\n",
    "\n",
    "Consider the following example: "
   ]
  },
  {
   "cell_type": "code",
   "execution_count": 20,
   "metadata": {},
   "outputs": [
    {
     "name": "stdout",
     "output_type": "stream",
     "text": [
      "(232, 24)\n"
     ]
    },
    {
     "data": {
      "text/html": [
       "<div>\n",
       "<style scoped>\n",
       "    .dataframe tbody tr th:only-of-type {\n",
       "        vertical-align: middle;\n",
       "    }\n",
       "\n",
       "    .dataframe tbody tr th {\n",
       "        vertical-align: top;\n",
       "    }\n",
       "\n",
       "    .dataframe thead th {\n",
       "        text-align: right;\n",
       "    }\n",
       "</style>\n",
       "<table border=\"1\" class=\"dataframe\">\n",
       "  <thead>\n",
       "    <tr style=\"text-align: right;\">\n",
       "      <th></th>\n",
       "      <th>id</th>\n",
       "      <th>dateAdded</th>\n",
       "      <th>dateUpdated</th>\n",
       "      <th>name</th>\n",
       "      <th>asins</th>\n",
       "      <th>brand</th>\n",
       "      <th>categories</th>\n",
       "      <th>primaryCategories</th>\n",
       "      <th>imageURLs</th>\n",
       "      <th>keys</th>\n",
       "      <th>...</th>\n",
       "      <th>reviews.didPurchase</th>\n",
       "      <th>reviews.doRecommend</th>\n",
       "      <th>reviews.id</th>\n",
       "      <th>reviews.numHelpful</th>\n",
       "      <th>reviews.rating</th>\n",
       "      <th>reviews.sourceURLs</th>\n",
       "      <th>reviews.text</th>\n",
       "      <th>reviews.title</th>\n",
       "      <th>reviews.username</th>\n",
       "      <th>sourceURLs</th>\n",
       "    </tr>\n",
       "  </thead>\n",
       "  <tbody>\n",
       "    <tr>\n",
       "      <th>0</th>\n",
       "      <td>AVpflnS7ilAPnD_xehxE</td>\n",
       "      <td>2015-01-22T12:25:23Z</td>\n",
       "      <td>2019-04-22T11:07:50Z</td>\n",
       "      <td>AmazonBasics 15.6-Inch Laptop and Tablet Bag</td>\n",
       "      <td>B00DUGZFWY</td>\n",
       "      <td>Amazonbasics</td>\n",
       "      <td>Bags, Cases &amp; Sleeves,Computers &amp; Accessories,...</td>\n",
       "      <td>Electronics</td>\n",
       "      <td>http://i.ebayimg.com/images/g/V9oAAOSwFGNWTa-h...</td>\n",
       "      <td>amazonbasics156inchlaptoptabletbag/b00dugzfwy,...</td>\n",
       "      <td>...</td>\n",
       "      <td>NaN</td>\n",
       "      <td>NaN</td>\n",
       "      <td>NaN</td>\n",
       "      <td>NaN</td>\n",
       "      <td>5</td>\n",
       "      <td>https://www.ebay.com/urw/product-reviews/15428...</td>\n",
       "      <td>Very well constructed and reasonably priced.</td>\n",
       "      <td>laptop computer bag</td>\n",
       "      <td>docarte-38</td>\n",
       "      <td>https://www.amazon.com/AmazonBasics-15-6-Inch-...</td>\n",
       "    </tr>\n",
       "    <tr>\n",
       "      <th>1</th>\n",
       "      <td>AVpflnS7ilAPnD_xehxE</td>\n",
       "      <td>2015-01-22T12:25:23Z</td>\n",
       "      <td>2019-04-22T11:07:50Z</td>\n",
       "      <td>AmazonBasics 15.6-Inch Laptop and Tablet Bag</td>\n",
       "      <td>B00DUGZFWY</td>\n",
       "      <td>Amazonbasics</td>\n",
       "      <td>Bags, Cases &amp; Sleeves,Computers &amp; Accessories,...</td>\n",
       "      <td>Electronics</td>\n",
       "      <td>http://i.ebayimg.com/images/g/V9oAAOSwFGNWTa-h...</td>\n",
       "      <td>amazonbasics156inchlaptoptabletbag/b00dugzfwy,...</td>\n",
       "      <td>...</td>\n",
       "      <td>NaN</td>\n",
       "      <td>NaN</td>\n",
       "      <td>NaN</td>\n",
       "      <td>NaN</td>\n",
       "      <td>5</td>\n",
       "      <td>https://www.ebay.com/itm/Amazonbasics-15-6-Inc...</td>\n",
       "      <td>Everything was great and I like it very much</td>\n",
       "      <td>Looks nice and has great features</td>\n",
       "      <td>murr3963_kzgjiur</td>\n",
       "      <td>https://www.amazon.com/AmazonBasics-15-6-Inch-...</td>\n",
       "    </tr>\n",
       "    <tr>\n",
       "      <th>2</th>\n",
       "      <td>AVpflnS7ilAPnD_xehxE</td>\n",
       "      <td>2015-01-22T12:25:23Z</td>\n",
       "      <td>2019-04-22T11:07:50Z</td>\n",
       "      <td>AmazonBasics 15.6-Inch Laptop and Tablet Bag</td>\n",
       "      <td>B00DUGZFWY</td>\n",
       "      <td>Amazonbasics</td>\n",
       "      <td>Bags, Cases &amp; Sleeves,Computers &amp; Accessories,...</td>\n",
       "      <td>Electronics</td>\n",
       "      <td>http://i.ebayimg.com/images/g/V9oAAOSwFGNWTa-h...</td>\n",
       "      <td>amazonbasics156inchlaptoptabletbag/b00dugzfwy,...</td>\n",
       "      <td>...</td>\n",
       "      <td>NaN</td>\n",
       "      <td>NaN</td>\n",
       "      <td>NaN</td>\n",
       "      <td>NaN</td>\n",
       "      <td>5</td>\n",
       "      <td>https://www.ebay.com/urw/product-reviews/15428...</td>\n",
       "      <td>buy it not bad for the price at worth it !!</td>\n",
       "      <td>NICE good deal</td>\n",
       "      <td>cab121461</td>\n",
       "      <td>https://www.amazon.com/AmazonBasics-15-6-Inch-...</td>\n",
       "    </tr>\n",
       "    <tr>\n",
       "      <th>3</th>\n",
       "      <td>AVpflnS7ilAPnD_xehxE</td>\n",
       "      <td>2015-01-22T12:25:23Z</td>\n",
       "      <td>2019-04-22T11:07:50Z</td>\n",
       "      <td>AmazonBasics 15.6-Inch Laptop and Tablet Bag</td>\n",
       "      <td>B00DUGZFWY</td>\n",
       "      <td>Amazonbasics</td>\n",
       "      <td>Bags, Cases &amp; Sleeves,Computers &amp; Accessories,...</td>\n",
       "      <td>Electronics</td>\n",
       "      <td>http://i.ebayimg.com/images/g/V9oAAOSwFGNWTa-h...</td>\n",
       "      <td>amazonbasics156inchlaptoptabletbag/b00dugzfwy,...</td>\n",
       "      <td>...</td>\n",
       "      <td>NaN</td>\n",
       "      <td>NaN</td>\n",
       "      <td>NaN</td>\n",
       "      <td>NaN</td>\n",
       "      <td>5</td>\n",
       "      <td>https://www.ebay.com/urw/product-reviews/15428...</td>\n",
       "      <td>Fits well, small from outside but inside it is...</td>\n",
       "      <td>Overall nice bag</td>\n",
       "      <td>imaorabialnajja_0</td>\n",
       "      <td>https://www.amazon.com/AmazonBasics-15-6-Inch-...</td>\n",
       "    </tr>\n",
       "    <tr>\n",
       "      <th>4</th>\n",
       "      <td>AVpflnS7ilAPnD_xehxE</td>\n",
       "      <td>2015-01-22T12:25:23Z</td>\n",
       "      <td>2019-04-22T11:07:50Z</td>\n",
       "      <td>AmazonBasics 15.6-Inch Laptop and Tablet Bag</td>\n",
       "      <td>B00DUGZFWY</td>\n",
       "      <td>Amazonbasics</td>\n",
       "      <td>Bags, Cases &amp; Sleeves,Computers &amp; Accessories,...</td>\n",
       "      <td>Electronics</td>\n",
       "      <td>http://i.ebayimg.com/images/g/V9oAAOSwFGNWTa-h...</td>\n",
       "      <td>amazonbasics156inchlaptoptabletbag/b00dugzfwy,...</td>\n",
       "      <td>...</td>\n",
       "      <td>NaN</td>\n",
       "      <td>NaN</td>\n",
       "      <td>NaN</td>\n",
       "      <td>NaN</td>\n",
       "      <td>4</td>\n",
       "      <td>http://www.amazon.co.uk/gp/product-reviews/B00...</td>\n",
       "      <td>I liked this item for the price,quality and us...</td>\n",
       "      <td>Professional.</td>\n",
       "      <td>Mr. N. H. Robinson spooky</td>\n",
       "      <td>https://www.amazon.com/AmazonBasics-15-6-Inch-...</td>\n",
       "    </tr>\n",
       "  </tbody>\n",
       "</table>\n",
       "<p>5 rows × 24 columns</p>\n",
       "</div>"
      ],
      "text/plain": [
       "                     id             dateAdded           dateUpdated  \\\n",
       "0  AVpflnS7ilAPnD_xehxE  2015-01-22T12:25:23Z  2019-04-22T11:07:50Z   \n",
       "1  AVpflnS7ilAPnD_xehxE  2015-01-22T12:25:23Z  2019-04-22T11:07:50Z   \n",
       "2  AVpflnS7ilAPnD_xehxE  2015-01-22T12:25:23Z  2019-04-22T11:07:50Z   \n",
       "3  AVpflnS7ilAPnD_xehxE  2015-01-22T12:25:23Z  2019-04-22T11:07:50Z   \n",
       "4  AVpflnS7ilAPnD_xehxE  2015-01-22T12:25:23Z  2019-04-22T11:07:50Z   \n",
       "\n",
       "                                           name       asins         brand  \\\n",
       "0  AmazonBasics 15.6-Inch Laptop and Tablet Bag  B00DUGZFWY  Amazonbasics   \n",
       "1  AmazonBasics 15.6-Inch Laptop and Tablet Bag  B00DUGZFWY  Amazonbasics   \n",
       "2  AmazonBasics 15.6-Inch Laptop and Tablet Bag  B00DUGZFWY  Amazonbasics   \n",
       "3  AmazonBasics 15.6-Inch Laptop and Tablet Bag  B00DUGZFWY  Amazonbasics   \n",
       "4  AmazonBasics 15.6-Inch Laptop and Tablet Bag  B00DUGZFWY  Amazonbasics   \n",
       "\n",
       "                                          categories primaryCategories  \\\n",
       "0  Bags, Cases & Sleeves,Computers & Accessories,...       Electronics   \n",
       "1  Bags, Cases & Sleeves,Computers & Accessories,...       Electronics   \n",
       "2  Bags, Cases & Sleeves,Computers & Accessories,...       Electronics   \n",
       "3  Bags, Cases & Sleeves,Computers & Accessories,...       Electronics   \n",
       "4  Bags, Cases & Sleeves,Computers & Accessories,...       Electronics   \n",
       "\n",
       "                                           imageURLs  \\\n",
       "0  http://i.ebayimg.com/images/g/V9oAAOSwFGNWTa-h...   \n",
       "1  http://i.ebayimg.com/images/g/V9oAAOSwFGNWTa-h...   \n",
       "2  http://i.ebayimg.com/images/g/V9oAAOSwFGNWTa-h...   \n",
       "3  http://i.ebayimg.com/images/g/V9oAAOSwFGNWTa-h...   \n",
       "4  http://i.ebayimg.com/images/g/V9oAAOSwFGNWTa-h...   \n",
       "\n",
       "                                                keys  ... reviews.didPurchase  \\\n",
       "0  amazonbasics156inchlaptoptabletbag/b00dugzfwy,...  ...                 NaN   \n",
       "1  amazonbasics156inchlaptoptabletbag/b00dugzfwy,...  ...                 NaN   \n",
       "2  amazonbasics156inchlaptoptabletbag/b00dugzfwy,...  ...                 NaN   \n",
       "3  amazonbasics156inchlaptoptabletbag/b00dugzfwy,...  ...                 NaN   \n",
       "4  amazonbasics156inchlaptoptabletbag/b00dugzfwy,...  ...                 NaN   \n",
       "\n",
       "  reviews.doRecommend reviews.id reviews.numHelpful  reviews.rating  \\\n",
       "0                 NaN        NaN                NaN               5   \n",
       "1                 NaN        NaN                NaN               5   \n",
       "2                 NaN        NaN                NaN               5   \n",
       "3                 NaN        NaN                NaN               5   \n",
       "4                 NaN        NaN                NaN               4   \n",
       "\n",
       "                                  reviews.sourceURLs  \\\n",
       "0  https://www.ebay.com/urw/product-reviews/15428...   \n",
       "1  https://www.ebay.com/itm/Amazonbasics-15-6-Inc...   \n",
       "2  https://www.ebay.com/urw/product-reviews/15428...   \n",
       "3  https://www.ebay.com/urw/product-reviews/15428...   \n",
       "4  http://www.amazon.co.uk/gp/product-reviews/B00...   \n",
       "\n",
       "                                        reviews.text  \\\n",
       "0       Very well constructed and reasonably priced.   \n",
       "1       Everything was great and I like it very much   \n",
       "2        buy it not bad for the price at worth it !!   \n",
       "3  Fits well, small from outside but inside it is...   \n",
       "4  I liked this item for the price,quality and us...   \n",
       "\n",
       "                       reviews.title           reviews.username  \\\n",
       "0                laptop computer bag                 docarte-38   \n",
       "1  Looks nice and has great features           murr3963_kzgjiur   \n",
       "2                     NICE good deal                  cab121461   \n",
       "3                   Overall nice bag          imaorabialnajja_0   \n",
       "4                      Professional.  Mr. N. H. Robinson spooky   \n",
       "\n",
       "                                          sourceURLs  \n",
       "0  https://www.amazon.com/AmazonBasics-15-6-Inch-...  \n",
       "1  https://www.amazon.com/AmazonBasics-15-6-Inch-...  \n",
       "2  https://www.amazon.com/AmazonBasics-15-6-Inch-...  \n",
       "3  https://www.amazon.com/AmazonBasics-15-6-Inch-...  \n",
       "4  https://www.amazon.com/AmazonBasics-15-6-Inch-...  \n",
       "\n",
       "[5 rows x 24 columns]"
      ]
     },
     "execution_count": 20,
     "metadata": {},
     "output_type": "execute_result"
    }
   ],
   "source": [
    "df = pd.read_csv('./data/amazon_reviews - subset.csv', engine='python')\n",
    "print(df.shape)\n",
    "df.head()"
   ]
  },
  {
   "cell_type": "code",
   "execution_count": 21,
   "metadata": {},
   "outputs": [
    {
     "data": {
      "text/plain": [
       "Amazon          205\n",
       "Amazonbasics     27\n",
       "Name: brand, dtype: int64"
      ]
     },
     "execution_count": 21,
     "metadata": {},
     "output_type": "execute_result"
    }
   ],
   "source": [
    "# Notice anything odd here? \n",
    "df['brand'].value_counts()"
   ]
  },
  {
   "cell_type": "code",
   "execution_count": 22,
   "metadata": {},
   "outputs": [
    {
     "data": {
      "text/plain": [
       "amazon          205\n",
       "amazonbasics     27\n",
       "Name: brand, dtype: int64"
      ]
     },
     "execution_count": 22,
     "metadata": {},
     "output_type": "execute_result"
    }
   ],
   "source": [
    "# Much cleaner\n",
    "df['brand'] = df['brand'].apply(lambda x: x.lower())\n",
    "df['brand'].value_counts()"
   ]
  },
  {
   "cell_type": "markdown",
   "metadata": {},
   "source": [
    "##### Keep Only Alphanumeric Characters\n",
    "Yes, we only want letters and numbers. Everything else is probably noise: punctuation, whitespace, and other notation. This one is little bit more complicated than our previous example. Here we will have to import the base package `re` (regular expressions). \n",
    "\n",
    "The only regex expression pattern you need for this is `'[^a-zA-Z 0-9]'` which keeps lower case letters, upper case letters, spaces, and numbers."
   ]
  },
  {
   "cell_type": "code",
   "execution_count": 23,
   "metadata": {},
   "outputs": [
    {
     "name": "stdout",
     "output_type": "stream",
     "text": [
      "Friends, Romans, countrymen, lend me your ears; 911\n"
     ]
    }
   ],
   "source": [
    "sample = sample+\" 911\"\n",
    "print(sample)"
   ]
  },
  {
   "cell_type": "code",
   "execution_count": 24,
   "metadata": {},
   "outputs": [
    {
     "data": {
      "text/plain": [
       "'Friends Romans countrymen lend me your ears 911'"
      ]
     },
     "execution_count": 24,
     "metadata": {},
     "output_type": "execute_result"
    }
   ],
   "source": [
    "# Removing any characters that are not a-z or A-Z or 0-9\n",
    "re.sub('[^a-zA-Z 0-9]', '', sample)"
   ]
  },
  {
   "cell_type": "markdown",
   "metadata": {},
   "source": [
    "#### Two Minute Challenge \n",
    "- Complete the function `tokenize` below\n",
    "- Combine the methods which we discussed above to clean text before we analyze it\n",
    "- You can put the methods in any order you want"
   ]
  },
  {
   "cell_type": "code",
   "execution_count": 25,
   "metadata": {},
   "outputs": [],
   "source": [
    "def tokenize(text):\n",
    "    \"\"\"Parses a string into a list of semantic units (words)\n",
    "\n",
    "    Args:\n",
    "        text (str): The string that the function will tokenize.\n",
    "\n",
    "    Returns:\n",
    "        list: tokens parsed out by the mechanics of your choice\n",
    "    \"\"\"\n",
    "    \n",
    "    tokens = re.sub('[^a-zA-Z 0-9]', '', text)\n",
    "    tokens = tokens.lower().split()\n",
    "    \n",
    "    return tokens"
   ]
  },
  {
   "cell_type": "code",
   "execution_count": 26,
   "metadata": {},
   "outputs": [
    {
     "data": {
      "text/plain": [
       "['friends', 'romans', 'countrymen', 'lend', 'me', 'your', 'ears', '911']"
      ]
     },
     "execution_count": 26,
     "metadata": {},
     "output_type": "execute_result"
    }
   ],
   "source": [
    "tokenize(sample)"
   ]
  },
  {
   "cell_type": "markdown",
   "metadata": {
    "toc-hr-collapsed": true
   },
   "source": [
    "## Follow Along\n",
    "\n",
    "Our inability to analyze text data becomes quickly amplified in a business context. Consider the following: \n",
    "\n",
    "A business which sells widgets also collects customer reviews of those widgets. When the business first started out, they had a human read the reviews to look for patterns. Now, the business sells thousands of widgets a month. The human readers can't keep up with the pace of reviews to synthesize an accurate analysis. They need some science to help them analyze their data.\n",
    "\n",
    "Now, let's pretend that business is Amazon, and the widgets are Amazon products such as the Alexa, Echo, or other AmazonBasics products. Let's analyze their reviews with some counts. This dataset is available on [Kaggle](https://www.kaggle.com/datafiniti/consumer-reviews-of-amazon-products/)."
   ]
  },
  {
   "cell_type": "code",
   "execution_count": 27,
   "metadata": {},
   "outputs": [
    {
     "data": {
      "text/plain": [
       "Wife loves it! Great sound, great technology! Compact and durable.                                                                                                                                                                                                                                                                                                                                                                                                                                                                                                                                                                                                                                                                                                         0.00431\n",
       "I added this to my echo collection great for on the go and around the house. I don't like that you have to tap it to activate                                                                                                                                                                                                                                                                                                                                                                                                                                                                                                                                                                                                                                              0.00431\n",
       "I love the portability of this expandable file good quality, good cost. I recommend                                                                                                                                                                                                                                                                                                                                                                                                                                                                                                                                                                                                                                                                                        0.00431\n",
       "I would recommend it. It is fun to use and puts out good sound.                                                                                                                                                                                                                                                                                                                                                                                                                                                                                                                                                                                                                                                                                                            0.00431\n",
       "The sound in this is on par with other high end portable speakers. That however is really just the tip of the iceberg. If you have amazon prime you can access all your music just by asking. Also this works if you have Phillips hue so you can turn the lights off and on with your voice.                                                                                                                                                                                                                                                                                                                                                                                                                                                                              0.00431\n",
       "great sound easily portable around the house both inside and outside. the option to have it automatically respond without pushing the button was a surprise but a welcome one!                                                                                                                                                                                                                                                                                                                                                                                                                                                                                                                                                                                             0.00431\n",
       "This portable Bluetooth speaker has an excellent sound which can be taken anywhere unlike the Echo and Echo Dot which both have to be plugged in. Want to listen to a favorite song? Just ask Alexa. Want to know the weather report? Just ask Alexa. Want to know your horoscope? Just ask Alexa. A lot of fun and entertainment at a great price. Big things come in small packages!                                                                                                                                                                                                                                                                                                                                                                                     0.00431\n",
       "We have two Amazon Echo's and both work flawlessly!Easy to set up, great for all around use, constantly add new features.                                                                                                                                                                                                                                                                                                                                                                                                                                                                                                                                                                                                                                                  0.00431\n",
       "Nice product. Will work perfectly for my projects. Nice and sturdy. Thank you!                                                                                                                                                                                                                                                                                                                                                                                                                                                                                                                                                                                                                                                                                             0.00431\n",
       "Good loud sound. Very good speaker. Convenient voice commands to take outside of house.                                                                                                                                                                                                                                                                                                                                                                                                                                                                                                                                                                                                                                                                                    0.00431\n",
       "I purchased the Amazon Tap when it was on sale for around $80. The sound is amazing (unlike my Amazon Echo it has stereo speakers!) and the battery life is great! It has Wi-Fi and Bluetooth so you can stream from the internet or from your mobile device. Highly recommended!                                                                                                                                                                                                                                                                                                                                                                                                                                                                                          0.00431\n",
       "Even as a speaker alone this item is worth the price!                                                                                                                                                                                                                                                                                                                                                                                                                                                                                                                                                                                                                                                                                                                      0.00431\n",
       "Good product cheap price! Very happy with my purchase..                                                                                                                                                                                                                                                                                                                                                                                                                                                                                                                                                                                                                                                                                                                    0.00431\n",
       "We were so excited to get the tap since it was a larger speaker than the dot and unlike the echo has a battery charger with it to make it portable. We already have an echo which works perfectly in our home. When listening to online radio on the tap it cut in and out constantly. We returned it and exchanged gor the dot.                                                                                                                                                                                                                                                                                                                                                                                                                                           0.00431\n",
       "Cute speaker. a bit expensive but the amazon streaming capabilities make it worth it                                                                                                                                                                                                                                                                                                                                                                                                                                                                                                                                                                                                                                                                                       0.00431\n",
       "I didn't have time to play with all the features, but I love this thing! The voice is so clear and doesn't sound robotic. I can't wait to try other features that my echo has..                                                                                                                                                                                                                                                                                                                                                                                                                                                                                                                                                                                            0.00431\n",
       "Amazon Echo is great. But it is stuck at home. Amazon Tap on the other hand goes everywhere. In the short time we have had ours, we have brought it to Sweden, Portugal, the lake up north and friend's houses. It has served as a music host at card games, answered questions and added things to our shopping list. It is easy to set up Amazon Tap to a wifi network using the Alexa app on your smartphone. You can also easily pair several devices to the Tap via Bluetooth. What really makes this device great is that the cloud based software is continually updated. New skills and capabilities are made available on a regular basis. Amazon really hit home with the Tap as the voice interface is so easy to use, and the portability makes it a great.    0.00431\n",
       "Love being able to use Alexa unplugged. Amazing device!                                                                                                                                                                                                                                                                                                                                                                                                                                                                                                                                                                                                                                                                                                                    0.00431\n",
       "just bought. seems to be working great so far. not sure how long it will last.                                                                                                                                                                                                                                                                                                                                                                                                                                                                                                                                                                                                                                                                                             0.00431\n",
       "With the new update allowing hands-free \"Hey Alexa\" commands, this is a great device. The battery allows you to disconnect from the wall. The sound is very good and fills a small room well with decent levels. Alexa is very accurate (most of the time) to voice commands. My only complaint is that Bluetooth streaming from devices (like my iPhone or iPad) sometimes breaks up and stutters a bit. Other than that, I think this is a great device.                                                                                                                                                                                                                                                                                                                 0.00431\n",
       "Charges all my items extra fast. Love it when I'm short on time                                                                                                                                                                                                                                                                                                                                                                                                                                                                                                                                                                                                                                                                                                            0.00431\n",
       "This has all the benefits of the Echo for a slightly better price. I also love the portability.                                                                                                                                                                                                                                                                                                                                                                                                                                                                                                                                                                                                                                                                            0.00431\n",
       "arrived on time well packed disappointed with quality does the job it was only for keeping dust off second laptop,a very tight fit though                                                                                                                                                                                                                                                                                                                                                                                                                                                                                                                                                                                                                                  0.00431\n",
       "Awesome. I really enjoy using it. The portability is a plus!                                                                                                                                                                                                                                                                                                                                                                                                                                                                                                                                                                                                                                                                                                               0.00431\n",
       "This is a must for Prime members great sound and can be used as Bluetooth speaker to boot.                                                                                                                                                                                                                                                                                                                                                                                                                                                                                                                                                                                                                                                                                 0.00431\n",
       "Amazon Tap is a great device. The device has very good audio quality despite it's small size. The biggest difference between this and the larger Amazon Echo, is that you have to press the \"microphone\" button before the device will listen to you (which is great for people who are concerned that the Echo is always listening to what you say). So far, the battery life has been great. With the Alexa app, it is very easy to connect this device to different Wi-Fi networks.                                                                                                                                                                                                                                                                                     0.00431\n",
       "Looked at the Echo before we bought this and I would have been a fool to buy it when you have to add a battery to make it portable. This has everything we need and then some.                                                                                                                                                                                                                                                                                                                                                                                                                                                                                                                                                                                             0.00431\n",
       "This is a awesome product. My husband and I love it.                                                                                                                                                                                                                                                                                                                                                                                                                                                                                                                                                                                                                                                                                                                       0.00431\n",
       "Hey it's only a wall charger...Hey it's only a wall charger...Hey it's only a wall charger... Yet to fail, nough said.                                                                                                                                                                                                                                                                                                                                                                                                                                                                                                                                                                                                                                                     0.00431\n",
       "Amazon tap is one of my best buys this year so far...The only thing that could make the tap better is an upgrade so you don't have to tap every command....That would make it a 5star device....                                                                                                                                                                                                                                                                                                                                                                                                                                                                                                                                                                           0.00431\n",
       "Great speaker and the sound is great. Use it every day. Love being able to use Alexa when attached to my network.                                                                                                                                                                                                                                                                                                                                                                                                                                                                                                                                                                                                                                                          0.00431\n",
       "This is my second Echo purchase. My first was the original Echo for my home and the automation feature aside. The sound is excellent, Alexa's response is better than any digital assistant to date, and the ready access to Prime is convenient. This is all of that and portable and rechargeable as well. Additionally the inclusion of Bluetooth and a headphone jack is amazing.                                                                                                                                                                                                                                                                                                                                                                                      0.00431\n",
       "Very well constructed and reasonably priced.                                                                                                                                                                                                                                                                                                                                                                                                                                                                                                                                                                                                                                                                                                                               0.00431\n",
       "very interesting device, but having to touch button is a pain sometimes.if that would bother you, then go with Echo.                                                                                                                                                                                                                                                                                                                                                                                                                                                                                                                                                                                                                                                       0.00431\n",
       "Amazon Tap is exactly what I expected it would be. The sound quality is good with the Alexa features. I love that you can charge it on the base or with micro USB cord. I would recommend it to anyone that is interested in Amazon Echo and would like the portability.                                                                                                                                                                                                                                                                                                                                                                                                                                                                                                   0.00431\n",
       "I have an Amazon Echo and the Amazon Tap works wonderfully with Echo. The sound quality is great. It is easy to use and set up. It beats turning on the receiver for music. If you are looking for great and easy sound machine the Tap is it.                                                                                                                                                                                                                                                                                                                                                                                                                                                                                                                             0.00431\n",
       "Case is well made and fits my WD Passport drive perfectly with enough room for the usb cable.                                                                                                                                                                                                                                                                                                                                                                                                                                                                                                                                                                                                                                                                              0.00431\n",
       "I read the review that says it is NOT like the one pictured, and as far as my order goes, that is a false statement. The case is EXACTLY like the ones Amazon offers, just cheaper and with free shipping. Perfect deal. I can't complain.                                                                                                                                                                                                                                                                                                                                                                                                                                                                                                                                 0.00431\n",
       "I love the Amazon Tap. The sound is great and it's completely portable. It lacks the convenience of touch free voice command but it cost less to compensate. Excellent product for the money!                                                                                                                                                                                                                                                                                                                                                                                                                                                                                                                                                                              0.00431\n",
       "I found that I was immediately sked by a staff member if I needed help. I received good advice and shown similar alternative products. What I bought was perfect for what I wanted. The price was quite reasonable.                                                                                                                                                                                                                                                                                                                                                                                                                                                                                                                                                        0.00431\n",
       "This review can not be valid due to the device did not work for me. I would put it down. Just upgraded to the ECHO instead of the tap.                                                                                                                                                                                                                                                                                                                                                                                                                                                                                                                                                                                                                                     0.00431\n",
       "The Amazon Echo is a really fun thing to play with. We always try to find new things to say to it which would make it say something funny.The Echo has been the most helpful in our home for creating shopping lists for everyone in the house with a phone. If any of us find ourselves at the store, we know what the others want. Shopping on Amazon is really easy and fun as well.There's a whole bunch of apps so it won't be hard for you to find what will make the Echo useful to you specifically. We love it. I couldn't recommend it more.                                                                                                                                                                                                                     0.00431\n",
       "I love this product. Great sound quality and at a good price                                                                                                                                                                                                                                                                                                                                                                                                                                                                                                                                                                                                                                                                                                               0.00431\n",
       "I use it all around the house. I move it upstairs and down. With the upgrade firmware you don't have to tap. Just say \"Alexa.\" Good sound, but not as good as JBL charge speaker. I bought a 2nd one as a Christmas gift.                                                                                                                                                                                                                                                                                                                                                                                                                                                                                                                                                  0.00431\n",
       "This is fun but would not buy again. Not very informative. Keeps say \"I do not understand your question. \"                                                                                                                                                                                                                                                                                                                                                                                                                                                                                                                                                                                                                                                                 0.00431\n",
       "Bought this for my boyfriend, he LOVES it! He takes it on every trip we go on. It's so powerful for such a small speaker! I would definitely recommend this to anyone.                                                                                                                                                                                                                                                                                                                                                                                                                                                                                                                                                                                                     0.00431\n",
       "This is my 5th Alexa that I purchased for my home. I love it and place them in every room in the house. I highly recommend the 1st generation Alexa as it is the best sounding of them all. I have also purchased the newer one and the quality of sound was not near the Alexa 1st generation. I am now purchasing for Christmas gifts. Grab the 1st generation Alexa while you can before you can no longer get them. Sounds great, ease of use extremely easy and connection with great ease.                                                                                                                                                                                                                                                                           0.00431\n",
       "Works good for a plug in for the kindle fire that I bought                                                                                                                                                                                                                                                                                                                                                                                                                                                                                                                                                                                                                                                                                                                 0.00431\n",
       "got as a gift. Might not have got for my self- but love it and glad I had a birthday - lol                                                                                                                                                                                                                                                                                                                                                                                                                                                                                                                                                                                                                                                                                 0.00431\n",
       "Hey--It works. I prefer to get a battery recharge direct from the source instead of from my computer. The cord is convenient.                                                                                                                                                                                                                                                                                                                                                                                                                                                                                                                                                                                                                                              0.00431\n",
       "Name: reviews.text, dtype: float64"
      ]
     },
     "execution_count": 27,
     "metadata": {},
     "output_type": "execute_result"
    }
   ],
   "source": [
    "# How can we count the raw text?\n",
    "df['reviews.text'].value_counts(normalize=True)[:50]"
   ]
  },
  {
   "cell_type": "code",
   "execution_count": 28,
   "metadata": {},
   "outputs": [
    {
     "data": {
      "text/plain": [
       "0    [very, well, constructed, and, reasonably, pri...\n",
       "1    [everything, was, great, and, i, like, it, ver...\n",
       "2    [buy, it, not, bad, for, the, price, at, worth...\n",
       "3    [fits, well, small, from, outside, but, inside...\n",
       "4    [i, liked, this, item, for, the, pricequality,...\n",
       "Name: base_tokens, dtype: object"
      ]
     },
     "execution_count": 28,
     "metadata": {},
     "output_type": "execute_result"
    }
   ],
   "source": [
    "df['base_tokens'] = df['reviews.text'].apply(tokenize)\n",
    "df['base_tokens'].head()"
   ]
  },
  {
   "cell_type": "code",
   "execution_count": 29,
   "metadata": {},
   "outputs": [
    {
     "data": {
      "text/html": [
       "<div>\n",
       "<style scoped>\n",
       "    .dataframe tbody tr th:only-of-type {\n",
       "        vertical-align: middle;\n",
       "    }\n",
       "\n",
       "    .dataframe tbody tr th {\n",
       "        vertical-align: top;\n",
       "    }\n",
       "\n",
       "    .dataframe thead th {\n",
       "        text-align: right;\n",
       "    }\n",
       "</style>\n",
       "<table border=\"1\" class=\"dataframe\">\n",
       "  <thead>\n",
       "    <tr style=\"text-align: right;\">\n",
       "      <th></th>\n",
       "      <th>reviews.text</th>\n",
       "      <th>base_tokens</th>\n",
       "    </tr>\n",
       "  </thead>\n",
       "  <tbody>\n",
       "    <tr>\n",
       "      <th>0</th>\n",
       "      <td>Very well constructed and reasonably priced.</td>\n",
       "      <td>[very, well, constructed, and, reasonably, pri...</td>\n",
       "    </tr>\n",
       "    <tr>\n",
       "      <th>1</th>\n",
       "      <td>Everything was great and I like it very much</td>\n",
       "      <td>[everything, was, great, and, i, like, it, ver...</td>\n",
       "    </tr>\n",
       "    <tr>\n",
       "      <th>2</th>\n",
       "      <td>buy it not bad for the price at worth it !!</td>\n",
       "      <td>[buy, it, not, bad, for, the, price, at, worth...</td>\n",
       "    </tr>\n",
       "    <tr>\n",
       "      <th>3</th>\n",
       "      <td>Fits well, small from outside but inside it is...</td>\n",
       "      <td>[fits, well, small, from, outside, but, inside...</td>\n",
       "    </tr>\n",
       "    <tr>\n",
       "      <th>4</th>\n",
       "      <td>I liked this item for the price,quality and us...</td>\n",
       "      <td>[i, liked, this, item, for, the, pricequality,...</td>\n",
       "    </tr>\n",
       "    <tr>\n",
       "      <th>5</th>\n",
       "      <td>love it so far. No problems.</td>\n",
       "      <td>[love, it, so, far, no, problems]</td>\n",
       "    </tr>\n",
       "    <tr>\n",
       "      <th>6</th>\n",
       "      <td>fab case for any laptop would buy another agai...</td>\n",
       "      <td>[fab, case, for, any, laptop, would, buy, anot...</td>\n",
       "    </tr>\n",
       "    <tr>\n",
       "      <th>7</th>\n",
       "      <td>This bag is really great value for money, givi...</td>\n",
       "      <td>[this, bag, is, really, great, value, for, mon...</td>\n",
       "    </tr>\n",
       "    <tr>\n",
       "      <th>8</th>\n",
       "      <td>arrived on time well packed disappointed with ...</td>\n",
       "      <td>[arrived, on, time, well, packed, disappointed...</td>\n",
       "    </tr>\n",
       "    <tr>\n",
       "      <th>9</th>\n",
       "      <td>I have the Western Digital My Passport Ultra 2...</td>\n",
       "      <td>[i, have, the, western, digital, my, passport,...</td>\n",
       "    </tr>\n",
       "  </tbody>\n",
       "</table>\n",
       "</div>"
      ],
      "text/plain": [
       "                                        reviews.text  \\\n",
       "0       Very well constructed and reasonably priced.   \n",
       "1       Everything was great and I like it very much   \n",
       "2        buy it not bad for the price at worth it !!   \n",
       "3  Fits well, small from outside but inside it is...   \n",
       "4  I liked this item for the price,quality and us...   \n",
       "5                       love it so far. No problems.   \n",
       "6  fab case for any laptop would buy another agai...   \n",
       "7  This bag is really great value for money, givi...   \n",
       "8  arrived on time well packed disappointed with ...   \n",
       "9  I have the Western Digital My Passport Ultra 2...   \n",
       "\n",
       "                                         base_tokens  \n",
       "0  [very, well, constructed, and, reasonably, pri...  \n",
       "1  [everything, was, great, and, i, like, it, ver...  \n",
       "2  [buy, it, not, bad, for, the, price, at, worth...  \n",
       "3  [fits, well, small, from, outside, but, inside...  \n",
       "4  [i, liked, this, item, for, the, pricequality,...  \n",
       "5                  [love, it, so, far, no, problems]  \n",
       "6  [fab, case, for, any, laptop, would, buy, anot...  \n",
       "7  [this, bag, is, really, great, value, for, mon...  \n",
       "8  [arrived, on, time, well, packed, disappointed...  \n",
       "9  [i, have, the, western, digital, my, passport,...  "
      ]
     },
     "execution_count": 29,
     "metadata": {},
     "output_type": "execute_result"
    }
   ],
   "source": [
    "df[['reviews.text', 'base_tokens']][:10]"
   ]
  },
  {
   "cell_type": "code",
   "execution_count": 30,
   "metadata": {},
   "outputs": [
    {
     "data": {
      "text/plain": [
       "Electronics               220\n",
       "Office Supplies             9\n",
       "Animals & Pet Supplies      2\n",
       "Home & Garden               1\n",
       "Name: primaryCategories, dtype: int64"
      ]
     },
     "execution_count": 30,
     "metadata": {},
     "output_type": "execute_result"
    }
   ],
   "source": [
    "df['primaryCategories'].value_counts()"
   ]
  },
  {
   "cell_type": "code",
   "execution_count": 31,
   "metadata": {},
   "outputs": [
    {
     "data": {
      "text/html": [
       "<div>\n",
       "<style scoped>\n",
       "    .dataframe tbody tr th:only-of-type {\n",
       "        vertical-align: middle;\n",
       "    }\n",
       "\n",
       "    .dataframe tbody tr th {\n",
       "        vertical-align: top;\n",
       "    }\n",
       "\n",
       "    .dataframe thead th {\n",
       "        text-align: right;\n",
       "    }\n",
       "</style>\n",
       "<table border=\"1\" class=\"dataframe\">\n",
       "  <thead>\n",
       "    <tr style=\"text-align: right;\">\n",
       "      <th></th>\n",
       "      <th>id</th>\n",
       "      <th>dateAdded</th>\n",
       "      <th>dateUpdated</th>\n",
       "      <th>name</th>\n",
       "      <th>asins</th>\n",
       "      <th>brand</th>\n",
       "      <th>categories</th>\n",
       "      <th>primaryCategories</th>\n",
       "      <th>imageURLs</th>\n",
       "      <th>keys</th>\n",
       "      <th>...</th>\n",
       "      <th>reviews.doRecommend</th>\n",
       "      <th>reviews.id</th>\n",
       "      <th>reviews.numHelpful</th>\n",
       "      <th>reviews.rating</th>\n",
       "      <th>reviews.sourceURLs</th>\n",
       "      <th>reviews.text</th>\n",
       "      <th>reviews.title</th>\n",
       "      <th>reviews.username</th>\n",
       "      <th>sourceURLs</th>\n",
       "      <th>base_tokens</th>\n",
       "    </tr>\n",
       "  </thead>\n",
       "  <tbody>\n",
       "    <tr>\n",
       "      <th>0</th>\n",
       "      <td>AVpflnS7ilAPnD_xehxE</td>\n",
       "      <td>2015-01-22T12:25:23Z</td>\n",
       "      <td>2019-04-22T11:07:50Z</td>\n",
       "      <td>AmazonBasics 15.6-Inch Laptop and Tablet Bag</td>\n",
       "      <td>B00DUGZFWY</td>\n",
       "      <td>amazonbasics</td>\n",
       "      <td>Bags, Cases &amp; Sleeves,Computers &amp; Accessories,...</td>\n",
       "      <td>Electronics</td>\n",
       "      <td>http://i.ebayimg.com/images/g/V9oAAOSwFGNWTa-h...</td>\n",
       "      <td>amazonbasics156inchlaptoptabletbag/b00dugzfwy,...</td>\n",
       "      <td>...</td>\n",
       "      <td>NaN</td>\n",
       "      <td>NaN</td>\n",
       "      <td>NaN</td>\n",
       "      <td>5</td>\n",
       "      <td>https://www.ebay.com/urw/product-reviews/15428...</td>\n",
       "      <td>Very well constructed and reasonably priced.</td>\n",
       "      <td>laptop computer bag</td>\n",
       "      <td>docarte-38</td>\n",
       "      <td>https://www.amazon.com/AmazonBasics-15-6-Inch-...</td>\n",
       "      <td>[very, well, constructed, and, reasonably, pri...</td>\n",
       "    </tr>\n",
       "    <tr>\n",
       "      <th>1</th>\n",
       "      <td>AVpflnS7ilAPnD_xehxE</td>\n",
       "      <td>2015-01-22T12:25:23Z</td>\n",
       "      <td>2019-04-22T11:07:50Z</td>\n",
       "      <td>AmazonBasics 15.6-Inch Laptop and Tablet Bag</td>\n",
       "      <td>B00DUGZFWY</td>\n",
       "      <td>amazonbasics</td>\n",
       "      <td>Bags, Cases &amp; Sleeves,Computers &amp; Accessories,...</td>\n",
       "      <td>Electronics</td>\n",
       "      <td>http://i.ebayimg.com/images/g/V9oAAOSwFGNWTa-h...</td>\n",
       "      <td>amazonbasics156inchlaptoptabletbag/b00dugzfwy,...</td>\n",
       "      <td>...</td>\n",
       "      <td>NaN</td>\n",
       "      <td>NaN</td>\n",
       "      <td>NaN</td>\n",
       "      <td>5</td>\n",
       "      <td>https://www.ebay.com/itm/Amazonbasics-15-6-Inc...</td>\n",
       "      <td>Everything was great and I like it very much</td>\n",
       "      <td>Looks nice and has great features</td>\n",
       "      <td>murr3963_kzgjiur</td>\n",
       "      <td>https://www.amazon.com/AmazonBasics-15-6-Inch-...</td>\n",
       "      <td>[everything, was, great, and, i, like, it, ver...</td>\n",
       "    </tr>\n",
       "    <tr>\n",
       "      <th>2</th>\n",
       "      <td>AVpflnS7ilAPnD_xehxE</td>\n",
       "      <td>2015-01-22T12:25:23Z</td>\n",
       "      <td>2019-04-22T11:07:50Z</td>\n",
       "      <td>AmazonBasics 15.6-Inch Laptop and Tablet Bag</td>\n",
       "      <td>B00DUGZFWY</td>\n",
       "      <td>amazonbasics</td>\n",
       "      <td>Bags, Cases &amp; Sleeves,Computers &amp; Accessories,...</td>\n",
       "      <td>Electronics</td>\n",
       "      <td>http://i.ebayimg.com/images/g/V9oAAOSwFGNWTa-h...</td>\n",
       "      <td>amazonbasics156inchlaptoptabletbag/b00dugzfwy,...</td>\n",
       "      <td>...</td>\n",
       "      <td>NaN</td>\n",
       "      <td>NaN</td>\n",
       "      <td>NaN</td>\n",
       "      <td>5</td>\n",
       "      <td>https://www.ebay.com/urw/product-reviews/15428...</td>\n",
       "      <td>buy it not bad for the price at worth it !!</td>\n",
       "      <td>NICE good deal</td>\n",
       "      <td>cab121461</td>\n",
       "      <td>https://www.amazon.com/AmazonBasics-15-6-Inch-...</td>\n",
       "      <td>[buy, it, not, bad, for, the, price, at, worth...</td>\n",
       "    </tr>\n",
       "  </tbody>\n",
       "</table>\n",
       "<p>3 rows × 25 columns</p>\n",
       "</div>"
      ],
      "text/plain": [
       "                     id             dateAdded           dateUpdated  \\\n",
       "0  AVpflnS7ilAPnD_xehxE  2015-01-22T12:25:23Z  2019-04-22T11:07:50Z   \n",
       "1  AVpflnS7ilAPnD_xehxE  2015-01-22T12:25:23Z  2019-04-22T11:07:50Z   \n",
       "2  AVpflnS7ilAPnD_xehxE  2015-01-22T12:25:23Z  2019-04-22T11:07:50Z   \n",
       "\n",
       "                                           name       asins         brand  \\\n",
       "0  AmazonBasics 15.6-Inch Laptop and Tablet Bag  B00DUGZFWY  amazonbasics   \n",
       "1  AmazonBasics 15.6-Inch Laptop and Tablet Bag  B00DUGZFWY  amazonbasics   \n",
       "2  AmazonBasics 15.6-Inch Laptop and Tablet Bag  B00DUGZFWY  amazonbasics   \n",
       "\n",
       "                                          categories primaryCategories  \\\n",
       "0  Bags, Cases & Sleeves,Computers & Accessories,...       Electronics   \n",
       "1  Bags, Cases & Sleeves,Computers & Accessories,...       Electronics   \n",
       "2  Bags, Cases & Sleeves,Computers & Accessories,...       Electronics   \n",
       "\n",
       "                                           imageURLs  \\\n",
       "0  http://i.ebayimg.com/images/g/V9oAAOSwFGNWTa-h...   \n",
       "1  http://i.ebayimg.com/images/g/V9oAAOSwFGNWTa-h...   \n",
       "2  http://i.ebayimg.com/images/g/V9oAAOSwFGNWTa-h...   \n",
       "\n",
       "                                                keys  ... reviews.doRecommend  \\\n",
       "0  amazonbasics156inchlaptoptabletbag/b00dugzfwy,...  ...                 NaN   \n",
       "1  amazonbasics156inchlaptoptabletbag/b00dugzfwy,...  ...                 NaN   \n",
       "2  amazonbasics156inchlaptoptabletbag/b00dugzfwy,...  ...                 NaN   \n",
       "\n",
       "  reviews.id reviews.numHelpful reviews.rating  \\\n",
       "0        NaN                NaN              5   \n",
       "1        NaN                NaN              5   \n",
       "2        NaN                NaN              5   \n",
       "\n",
       "                                  reviews.sourceURLs  \\\n",
       "0  https://www.ebay.com/urw/product-reviews/15428...   \n",
       "1  https://www.ebay.com/itm/Amazonbasics-15-6-Inc...   \n",
       "2  https://www.ebay.com/urw/product-reviews/15428...   \n",
       "\n",
       "                                   reviews.text  \\\n",
       "0  Very well constructed and reasonably priced.   \n",
       "1  Everything was great and I like it very much   \n",
       "2   buy it not bad for the price at worth it !!   \n",
       "\n",
       "                       reviews.title  reviews.username  \\\n",
       "0                laptop computer bag        docarte-38   \n",
       "1  Looks nice and has great features  murr3963_kzgjiur   \n",
       "2                     NICE good deal         cab121461   \n",
       "\n",
       "                                          sourceURLs  \\\n",
       "0  https://www.amazon.com/AmazonBasics-15-6-Inch-...   \n",
       "1  https://www.amazon.com/AmazonBasics-15-6-Inch-...   \n",
       "2  https://www.amazon.com/AmazonBasics-15-6-Inch-...   \n",
       "\n",
       "                                         base_tokens  \n",
       "0  [very, well, constructed, and, reasonably, pri...  \n",
       "1  [everything, was, great, and, i, like, it, ver...  \n",
       "2  [buy, it, not, bad, for, the, price, at, worth...  \n",
       "\n",
       "[3 rows x 25 columns]"
      ]
     },
     "execution_count": 31,
     "metadata": {},
     "output_type": "execute_result"
    }
   ],
   "source": [
    "df = df[df['primaryCategories'] == 'Electronics'].copy()\n",
    "df.head(3)"
   ]
  },
  {
   "cell_type": "markdown",
   "metadata": {},
   "source": [
    "#### Analyzing Tokens"
   ]
  },
  {
   "cell_type": "code",
   "execution_count": 32,
   "metadata": {},
   "outputs": [
    {
     "data": {
      "text/plain": [
       "[('the', 443),\n",
       " ('to', 297),\n",
       " ('and', 261),\n",
       " ('i', 255),\n",
       " ('it', 255),\n",
       " ('a', 214),\n",
       " ('is', 179),\n",
       " ('for', 132),\n",
       " ('this', 122),\n",
       " ('my', 110)]"
      ]
     },
     "execution_count": 32,
     "metadata": {},
     "output_type": "execute_result"
    }
   ],
   "source": [
    "# The object `Counter` takes an iterable, but you can instaniate an empty one and update it. \n",
    "word_counts = Counter()\n",
    "\n",
    "# Update it based on a split of each of our documents\n",
    "df['base_tokens'].apply(lambda x: word_counts.update(x))\n",
    "\n",
    "# Print out the 10 most common words\n",
    "word_counts.most_common(10)"
   ]
  },
  {
   "cell_type": "markdown",
   "metadata": {},
   "source": [
    "Let's create a fuction which takes a corpus of document and returns and dataframe of word counts for us to analyze."
   ]
  },
  {
   "cell_type": "code",
   "execution_count": 33,
   "metadata": {},
   "outputs": [],
   "source": [
    "def count(docs):\n",
    "    '''This function takes a list of tokenized documents as input and returns\n",
    "    a dataframe with frequency counts and rank for each token.\n",
    "    \n",
    "    # Arguments\n",
    "        docs: list, tokenized list of documents\n",
    "        \n",
    "    # Returns\n",
    "        wc: dataframe, \n",
    "    '''\n",
    "    \n",
    "    word_counts = Counter()\n",
    "    appears_in = Counter()\n",
    "\n",
    "    total_docs = len(docs)\n",
    "\n",
    "    for doc in docs:\n",
    "        word_counts.update(doc)\n",
    "        appears_in.update(set(doc))\n",
    "\n",
    "    temp = zip(word_counts.keys(), word_counts.values())\n",
    "\n",
    "    wc = pd.DataFrame(temp, columns = ['word', 'count'])\n",
    "\n",
    "    wc['rank'] = wc['count'].rank(method='first', ascending=False)\n",
    "    total = wc['count'].sum()\n",
    "\n",
    "    wc['pct_total'] = wc['count'].apply(lambda x: x / total)\n",
    "\n",
    "    wc = wc.sort_values(by='rank')\n",
    "    wc['cul_pct_total'] = wc['pct_total'].cumsum()\n",
    "\n",
    "    t2 = zip(appears_in.keys(), appears_in.values())\n",
    "    ac = pd.DataFrame(t2, columns=['word', 'appears_in'])\n",
    "    wc = ac.merge(wc, on='word')\n",
    "\n",
    "    wc['appears_in_pct'] = wc['appears_in'].apply(lambda x: x / total_docs)\n",
    "\n",
    "    return wc.sort_values(by='rank')"
   ]
  },
  {
   "cell_type": "code",
   "execution_count": 34,
   "metadata": {},
   "outputs": [
    {
     "name": "stdout",
     "output_type": "stream",
     "text": [
      "(1517, 7)\n"
     ]
    },
    {
     "data": {
      "text/html": [
       "<div>\n",
       "<style scoped>\n",
       "    .dataframe tbody tr th:only-of-type {\n",
       "        vertical-align: middle;\n",
       "    }\n",
       "\n",
       "    .dataframe tbody tr th {\n",
       "        vertical-align: top;\n",
       "    }\n",
       "\n",
       "    .dataframe thead th {\n",
       "        text-align: right;\n",
       "    }\n",
       "</style>\n",
       "<table border=\"1\" class=\"dataframe\">\n",
       "  <thead>\n",
       "    <tr style=\"text-align: right;\">\n",
       "      <th></th>\n",
       "      <th>word</th>\n",
       "      <th>appears_in</th>\n",
       "      <th>count</th>\n",
       "      <th>rank</th>\n",
       "      <th>pct_total</th>\n",
       "      <th>cul_pct_total</th>\n",
       "      <th>appears_in_pct</th>\n",
       "    </tr>\n",
       "  </thead>\n",
       "  <tbody>\n",
       "    <tr>\n",
       "      <th>13</th>\n",
       "      <td>the</td>\n",
       "      <td>133</td>\n",
       "      <td>443</td>\n",
       "      <td>1.0</td>\n",
       "      <td>0.050955</td>\n",
       "      <td>0.050955</td>\n",
       "      <td>0.604545</td>\n",
       "    </tr>\n",
       "    <tr>\n",
       "      <th>210</th>\n",
       "      <td>to</td>\n",
       "      <td>115</td>\n",
       "      <td>297</td>\n",
       "      <td>2.0</td>\n",
       "      <td>0.034161</td>\n",
       "      <td>0.085116</td>\n",
       "      <td>0.522727</td>\n",
       "    </tr>\n",
       "    <tr>\n",
       "      <th>2</th>\n",
       "      <td>and</td>\n",
       "      <td>140</td>\n",
       "      <td>261</td>\n",
       "      <td>3.0</td>\n",
       "      <td>0.030021</td>\n",
       "      <td>0.115137</td>\n",
       "      <td>0.636364</td>\n",
       "    </tr>\n",
       "    <tr>\n",
       "      <th>6</th>\n",
       "      <td>i</td>\n",
       "      <td>111</td>\n",
       "      <td>255</td>\n",
       "      <td>4.0</td>\n",
       "      <td>0.029331</td>\n",
       "      <td>0.144467</td>\n",
       "      <td>0.504545</td>\n",
       "    </tr>\n",
       "    <tr>\n",
       "      <th>10</th>\n",
       "      <td>it</td>\n",
       "      <td>127</td>\n",
       "      <td>255</td>\n",
       "      <td>5.0</td>\n",
       "      <td>0.029331</td>\n",
       "      <td>0.173798</td>\n",
       "      <td>0.577273</td>\n",
       "    </tr>\n",
       "  </tbody>\n",
       "</table>\n",
       "</div>"
      ],
      "text/plain": [
       "    word  appears_in  count  rank  pct_total  cul_pct_total  appears_in_pct\n",
       "13   the         133    443   1.0   0.050955       0.050955        0.604545\n",
       "210   to         115    297   2.0   0.034161       0.085116        0.522727\n",
       "2    and         140    261   3.0   0.030021       0.115137        0.636364\n",
       "6      i         111    255   4.0   0.029331       0.144467        0.504545\n",
       "10    it         127    255   5.0   0.029331       0.173798        0.577273"
      ]
     },
     "execution_count": 34,
     "metadata": {},
     "output_type": "execute_result"
    }
   ],
   "source": [
    "# Use the Function\n",
    "wc = count(df['base_tokens'])\n",
    "print(wc.shape)\n",
    "wc.head()"
   ]
  },
  {
   "cell_type": "code",
   "execution_count": 35,
   "metadata": {},
   "outputs": [
    {
     "data": {
      "image/png": "[encoded data removed]",
      "text/plain": [
       "<Figure size 432x288 with 1 Axes>"
      ]
     },
     "metadata": {
      "needs_background": "light"
     },
     "output_type": "display_data"
    }
   ],
   "source": [
    "# Cumulative Distribution Plot\n",
    "sns.lineplot(x='rank', y='cul_pct_total', data=wc);"
   ]
  },
  {
   "cell_type": "code",
   "execution_count": 36,
   "metadata": {},
   "outputs": [
    {
     "data": {
      "text/plain": [
       "0.6130664826317"
      ]
     },
     "execution_count": 36,
     "metadata": {},
     "output_type": "execute_result"
    }
   ],
   "source": [
    "wc[wc['rank'] <= 100]['cul_pct_total'].max()"
   ]
  },
  {
   "cell_type": "code",
   "execution_count": 37,
   "metadata": {},
   "outputs": [
    {
     "data": {
      "image/png": "[encoded data removed]",
      "text/plain": [
       "<Figure size 576x576 with 1 Axes>"
      ]
     },
     "metadata": {
      "needs_background": "light"
     },
     "output_type": "display_data"
    }
   ],
   "source": [
    "wc_top20 = wc[wc['rank'] <= 20]\n",
    "\n",
    "plt.figure(figsize=(8,8))\n",
    "squarify.plot(sizes=wc_top20['pct_total'], label=wc_top20['word'], alpha=.8 )\n",
    "plt.axis('off')\n",
    "plt.show()"
   ]
  },
  {
   "cell_type": "markdown",
   "metadata": {},
   "source": [
    "### Processing Raw Text with Spacy\n",
    "\n",
    "Spacy's datamodel for documents is unique among NLP libraries. Instead of storing the documents components in various data structures, Spacy indexes components and simply stores the lookup information. \n",
    "\n",
    "This is often why Spacy is considered to be more production grade than library like NLTK."
   ]
  },
  {
   "cell_type": "code",
   "execution_count": 38,
   "metadata": {},
   "outputs": [],
   "source": [
    "# Inialize spaCy model and tokenizer\n",
    "nlp = spacy.load(\"en_core_web_md\")\n",
    "tokenizer = Tokenizer(nlp.vocab)\n",
    "x = nlp(\"The cat ate it's food.\")"
   ]
  },
  {
   "cell_type": "code",
   "execution_count": 39,
   "metadata": {},
   "outputs": [
    {
     "data": {
      "text/plain": [
       "['_',\n",
       " '__bytes__',\n",
       " '__class__',\n",
       " '__delattr__',\n",
       " '__dir__',\n",
       " '__doc__',\n",
       " '__eq__',\n",
       " '__format__',\n",
       " '__ge__',\n",
       " '__getattribute__',\n",
       " '__getitem__',\n",
       " '__gt__',\n",
       " '__hash__',\n",
       " '__init__',\n",
       " '__init_subclass__',\n",
       " '__iter__',\n",
       " '__le__',\n",
       " '__len__',\n",
       " '__lt__',\n",
       " '__ne__',\n",
       " '__new__',\n",
       " '__pyx_vtable__',\n",
       " '__reduce__',\n",
       " '__reduce_ex__',\n",
       " '__repr__',\n",
       " '__setattr__',\n",
       " '__setstate__',\n",
       " '__sizeof__',\n",
       " '__str__',\n",
       " '__subclasshook__',\n",
       " '__unicode__',\n",
       " '_bulk_merge',\n",
       " '_py_tokens',\n",
       " '_realloc',\n",
       " '_vector',\n",
       " '_vector_norm',\n",
       " 'cats',\n",
       " 'char_span',\n",
       " 'count_by',\n",
       " 'doc',\n",
       " 'ents',\n",
       " 'extend_tensor',\n",
       " 'from_array',\n",
       " 'from_bytes',\n",
       " 'from_disk',\n",
       " 'get_extension',\n",
       " 'get_lca_matrix',\n",
       " 'has_extension',\n",
       " 'has_vector',\n",
       " 'is_nered',\n",
       " 'is_parsed',\n",
       " 'is_sentenced',\n",
       " 'is_tagged',\n",
       " 'lang',\n",
       " 'lang_',\n",
       " 'mem',\n",
       " 'merge',\n",
       " 'noun_chunks',\n",
       " 'noun_chunks_iterator',\n",
       " 'print_tree',\n",
       " 'remove_extension',\n",
       " 'retokenize',\n",
       " 'sentiment',\n",
       " 'sents',\n",
       " 'set_extension',\n",
       " 'similarity',\n",
       " 'tensor',\n",
       " 'text',\n",
       " 'text_with_ws',\n",
       " 'to_array',\n",
       " 'to_bytes',\n",
       " 'to_disk',\n",
       " 'to_json',\n",
       " 'to_utf8_array',\n",
       " 'user_data',\n",
       " 'user_hooks',\n",
       " 'user_span_hooks',\n",
       " 'user_token_hooks',\n",
       " 'vector',\n",
       " 'vector_norm',\n",
       " 'vocab']"
      ]
     },
     "execution_count": 39,
     "metadata": {},
     "output_type": "execute_result"
    }
   ],
   "source": [
    "dir(x)"
   ]
  },
  {
   "cell_type": "code",
   "execution_count": 40,
   "metadata": {},
   "outputs": [
    {
     "data": {
      "text/plain": [
       "['Friends,', 'Romans,', 'countrymen,', 'lend', 'me', 'your', 'ears;']"
      ]
     },
     "execution_count": 40,
     "metadata": {},
     "output_type": "execute_result"
    }
   ],
   "source": [
    "# Print out list of tokens\n",
    "sample = \"Friends, Romans, countrymen, lend me your ears;\"\n",
    "[token.text for token in tokenizer(sample)]"
   ]
  },
  {
   "cell_type": "code",
   "execution_count": 41,
   "metadata": {},
   "outputs": [
    {
     "data": {
      "text/plain": [
       "['_',\n",
       " '__bytes__',\n",
       " '__class__',\n",
       " '__delattr__',\n",
       " '__dir__',\n",
       " '__doc__',\n",
       " '__eq__',\n",
       " '__format__',\n",
       " '__ge__',\n",
       " '__getattribute__',\n",
       " '__getitem__',\n",
       " '__gt__',\n",
       " '__hash__',\n",
       " '__init__',\n",
       " '__init_subclass__',\n",
       " '__iter__',\n",
       " '__le__',\n",
       " '__len__',\n",
       " '__lt__',\n",
       " '__ne__',\n",
       " '__new__',\n",
       " '__pyx_vtable__',\n",
       " '__reduce__',\n",
       " '__reduce_ex__',\n",
       " '__repr__',\n",
       " '__setattr__',\n",
       " '__setstate__',\n",
       " '__sizeof__',\n",
       " '__str__',\n",
       " '__subclasshook__',\n",
       " '__unicode__',\n",
       " '_bulk_merge',\n",
       " '_py_tokens',\n",
       " '_realloc',\n",
       " '_vector',\n",
       " '_vector_norm',\n",
       " 'cats',\n",
       " 'char_span',\n",
       " 'count_by',\n",
       " 'doc',\n",
       " 'ents',\n",
       " 'extend_tensor',\n",
       " 'from_array',\n",
       " 'from_bytes',\n",
       " 'from_disk',\n",
       " 'get_extension',\n",
       " 'get_lca_matrix',\n",
       " 'has_extension',\n",
       " 'has_vector',\n",
       " 'is_nered',\n",
       " 'is_parsed',\n",
       " 'is_sentenced',\n",
       " 'is_tagged',\n",
       " 'lang',\n",
       " 'lang_',\n",
       " 'mem',\n",
       " 'merge',\n",
       " 'noun_chunks',\n",
       " 'noun_chunks_iterator',\n",
       " 'print_tree',\n",
       " 'remove_extension',\n",
       " 'retokenize',\n",
       " 'sentiment',\n",
       " 'sents',\n",
       " 'set_extension',\n",
       " 'similarity',\n",
       " 'tensor',\n",
       " 'text',\n",
       " 'text_with_ws',\n",
       " 'to_array',\n",
       " 'to_bytes',\n",
       " 'to_disk',\n",
       " 'to_json',\n",
       " 'to_utf8_array',\n",
       " 'user_data',\n",
       " 'user_hooks',\n",
       " 'user_span_hooks',\n",
       " 'user_token_hooks',\n",
       " 'vector',\n",
       " 'vector_norm',\n",
       " 'vocab']"
      ]
     },
     "execution_count": 41,
     "metadata": {},
     "output_type": "execute_result"
    }
   ],
   "source": [
    "token = tokenizer('dog')\n",
    "dir(token)"
   ]
  },
  {
   "cell_type": "code",
   "execution_count": 42,
   "metadata": {},
   "outputs": [
    {
     "data": {
      "text/plain": [
       "0    [Very, well, constructed, and, reasonably, pri...\n",
       "1    [Everything, was, great, and, I, like, it, ver...\n",
       "2    [buy, it, not, bad, for, the, price, at, worth...\n",
       "3    [Fits, well,, small, from, outside, but, insid...\n",
       "4    [I, liked, this, item, for, the, price,quality...\n",
       "Name: spaCy_tokens, dtype: object"
      ]
     },
     "execution_count": 42,
     "metadata": {},
     "output_type": "execute_result"
    }
   ],
   "source": [
    "# Make them tokens using the Tokenizer Pipe\n",
    "tokens = []\n",
    "for doc in tokenizer.pipe(df['reviews.text'], batch_size=500):\n",
    "    doc_tokens = [token.text for token in doc]\n",
    "    tokens.append(doc_tokens)\n",
    "\n",
    "df['spaCy_tokens'] = tokens\n",
    "df['spaCy_tokens'].head()"
   ]
  },
  {
   "cell_type": "code",
   "execution_count": 43,
   "metadata": {},
   "outputs": [
    {
     "name": "stdout",
     "output_type": "stream",
     "text": [
      "(2170, 7)\n"
     ]
    },
    {
     "data": {
      "text/html": [
       "<div>\n",
       "<style scoped>\n",
       "    .dataframe tbody tr th:only-of-type {\n",
       "        vertical-align: middle;\n",
       "    }\n",
       "\n",
       "    .dataframe tbody tr th {\n",
       "        vertical-align: top;\n",
       "    }\n",
       "\n",
       "    .dataframe thead th {\n",
       "        text-align: right;\n",
       "    }\n",
       "</style>\n",
       "<table border=\"1\" class=\"dataframe\">\n",
       "  <thead>\n",
       "    <tr style=\"text-align: right;\">\n",
       "      <th></th>\n",
       "      <th>word</th>\n",
       "      <th>appears_in</th>\n",
       "      <th>count</th>\n",
       "      <th>rank</th>\n",
       "      <th>pct_total</th>\n",
       "      <th>cul_pct_total</th>\n",
       "      <th>appears_in_pct</th>\n",
       "    </tr>\n",
       "  </thead>\n",
       "  <tbody>\n",
       "    <tr>\n",
       "      <th>14</th>\n",
       "      <td>the</td>\n",
       "      <td>122</td>\n",
       "      <td>377</td>\n",
       "      <td>1.0</td>\n",
       "      <td>0.043264</td>\n",
       "      <td>0.043264</td>\n",
       "      <td>0.554545</td>\n",
       "    </tr>\n",
       "    <tr>\n",
       "      <th>238</th>\n",
       "      <td>to</td>\n",
       "      <td>114</td>\n",
       "      <td>295</td>\n",
       "      <td>2.0</td>\n",
       "      <td>0.033854</td>\n",
       "      <td>0.077117</td>\n",
       "      <td>0.518182</td>\n",
       "    </tr>\n",
       "    <tr>\n",
       "      <th>2</th>\n",
       "      <td>and</td>\n",
       "      <td>139</td>\n",
       "      <td>258</td>\n",
       "      <td>3.0</td>\n",
       "      <td>0.029608</td>\n",
       "      <td>0.106725</td>\n",
       "      <td>0.631818</td>\n",
       "    </tr>\n",
       "    <tr>\n",
       "      <th>13</th>\n",
       "      <td>I</td>\n",
       "      <td>106</td>\n",
       "      <td>234</td>\n",
       "      <td>4.0</td>\n",
       "      <td>0.026853</td>\n",
       "      <td>0.133578</td>\n",
       "      <td>0.481818</td>\n",
       "    </tr>\n",
       "    <tr>\n",
       "      <th>187</th>\n",
       "      <td>a</td>\n",
       "      <td>104</td>\n",
       "      <td>209</td>\n",
       "      <td>5.0</td>\n",
       "      <td>0.023984</td>\n",
       "      <td>0.157563</td>\n",
       "      <td>0.472727</td>\n",
       "    </tr>\n",
       "  </tbody>\n",
       "</table>\n",
       "</div>"
      ],
      "text/plain": [
       "    word  appears_in  count  rank  pct_total  cul_pct_total  appears_in_pct\n",
       "14   the         122    377   1.0   0.043264       0.043264        0.554545\n",
       "238   to         114    295   2.0   0.033854       0.077117        0.518182\n",
       "2    and         139    258   3.0   0.029608       0.106725        0.631818\n",
       "13     I         106    234   4.0   0.026853       0.133578        0.481818\n",
       "187    a         104    209   5.0   0.023984       0.157563        0.472727"
      ]
     },
     "execution_count": 43,
     "metadata": {},
     "output_type": "execute_result"
    }
   ],
   "source": [
    "wc = count(df['spaCy_tokens'])\n",
    "print(wc.shape)\n",
    "wc.head()"
   ]
  },
  {
   "cell_type": "code",
   "execution_count": 44,
   "metadata": {},
   "outputs": [
    {
     "data": {
      "image/png": "[encoded data removed]",
      "text/plain": [
       "<Figure size 576x576 with 1 Axes>"
      ]
     },
     "metadata": {
      "needs_background": "light"
     },
     "output_type": "display_data"
    }
   ],
   "source": [
    "wc_top20 = wc[wc['rank'] <= 20]\n",
    "\n",
    "plt.figure(figsize=(8,8))\n",
    "squarify.plot(sizes=wc_top20['pct_total'], label=wc_top20['word'], alpha=.8 )\n",
    "plt.axis('off')\n",
    "plt.show()"
   ]
  },
  {
   "cell_type": "markdown",
   "metadata": {
    "toc-hr-collapsed": true
   },
   "source": [
    "## Challenge\n",
    "\n",
    "In the module project, you will apply tokenization to another set of review data and produce visualizations of those tokens. "
   ]
  },
  {
   "cell_type": "markdown",
   "metadata": {
    "toc-hr-collapsed": false
   },
   "source": [
    "# Stop Words (Learn)\n",
    "<a id=\"p2\"></a>"
   ]
  },
  {
   "cell_type": "markdown",
   "metadata": {},
   "source": [
    "## Overview\n",
    "Section Agenda\n",
    "- What are they?\n",
    "- How do we get rid of them using Spacy?\n",
    "- Visualization\n",
    "- Libraries of Stop Words\n",
    "- Extending Stop Words\n",
    "- Statistical trimming\n",
    "\n",
    "If the visualizations above, you began to notice a pattern. Most of the words don't really add much to our understanding of product reviews. Words such as \"I\", \"and\", \"of\", etc. have almost no semantic meaning to us. We call these useless words \"stop words,\" because we should 'stop' ourselves from including them in the analysis. \n",
    "\n",
    "Most NLP libraries have built in lists of stop words that common english words: conjunctions, articles, adverbs, pronouns, and common verbs. The best practice, however, is to extend/customize these standard english stopwords for your problem's domain. If I am studying political science, I may want to exclude the word \"politics\" from my analysis; it's so common it does not add to my understanding. "
   ]
  },
  {
   "cell_type": "markdown",
   "metadata": {
    "toc-hr-collapsed": true
   },
   "source": [
    "## Follow Along \n",
    "\n",
    "### Default Stop Words\n",
    "Let's take a look at the standard stop words that came with our Spacy model:"
   ]
  },
  {
   "cell_type": "code",
   "execution_count": 45,
   "metadata": {},
   "outputs": [
    {
     "data": {
      "text/plain": [
       "{\"'d\",\n",
       " \"'ll\",\n",
       " \"'m\",\n",
       " \"'re\",\n",
       " \"'s\",\n",
       " \"'ve\",\n",
       " 'a',\n",
       " 'about',\n",
       " 'above',\n",
       " 'across',\n",
       " 'after',\n",
       " 'afterwards',\n",
       " 'again',\n",
       " 'against',\n",
       " 'all',\n",
       " 'almost',\n",
       " 'alone',\n",
       " 'along',\n",
       " 'already',\n",
       " 'also',\n",
       " 'although',\n",
       " 'always',\n",
       " 'am',\n",
       " 'among',\n",
       " 'amongst',\n",
       " 'amount',\n",
       " 'an',\n",
       " 'and',\n",
       " 'another',\n",
       " 'any',\n",
       " 'anyhow',\n",
       " 'anyone',\n",
       " 'anything',\n",
       " 'anyway',\n",
       " 'anywhere',\n",
       " 'are',\n",
       " 'around',\n",
       " 'as',\n",
       " 'at',\n",
       " 'back',\n",
       " 'be',\n",
       " 'became',\n",
       " 'because',\n",
       " 'become',\n",
       " 'becomes',\n",
       " 'becoming',\n",
       " 'been',\n",
       " 'before',\n",
       " 'beforehand',\n",
       " 'behind',\n",
       " 'being',\n",
       " 'below',\n",
       " 'beside',\n",
       " 'besides',\n",
       " 'between',\n",
       " 'beyond',\n",
       " 'both',\n",
       " 'bottom',\n",
       " 'but',\n",
       " 'by',\n",
       " 'ca',\n",
       " 'call',\n",
       " 'can',\n",
       " 'cannot',\n",
       " 'could',\n",
       " 'did',\n",
       " 'do',\n",
       " 'does',\n",
       " 'doing',\n",
       " 'done',\n",
       " 'down',\n",
       " 'due',\n",
       " 'during',\n",
       " 'each',\n",
       " 'eight',\n",
       " 'either',\n",
       " 'eleven',\n",
       " 'else',\n",
       " 'elsewhere',\n",
       " 'empty',\n",
       " 'enough',\n",
       " 'even',\n",
       " 'ever',\n",
       " 'every',\n",
       " 'everyone',\n",
       " 'everything',\n",
       " 'everywhere',\n",
       " 'except',\n",
       " 'few',\n",
       " 'fifteen',\n",
       " 'fifty',\n",
       " 'first',\n",
       " 'five',\n",
       " 'for',\n",
       " 'former',\n",
       " 'formerly',\n",
       " 'forty',\n",
       " 'four',\n",
       " 'from',\n",
       " 'front',\n",
       " 'full',\n",
       " 'further',\n",
       " 'get',\n",
       " 'give',\n",
       " 'go',\n",
       " 'had',\n",
       " 'has',\n",
       " 'have',\n",
       " 'he',\n",
       " 'hence',\n",
       " 'her',\n",
       " 'here',\n",
       " 'hereafter',\n",
       " 'hereby',\n",
       " 'herein',\n",
       " 'hereupon',\n",
       " 'hers',\n",
       " 'herself',\n",
       " 'him',\n",
       " 'himself',\n",
       " 'his',\n",
       " 'how',\n",
       " 'however',\n",
       " 'hundred',\n",
       " 'i',\n",
       " 'if',\n",
       " 'in',\n",
       " 'indeed',\n",
       " 'into',\n",
       " 'is',\n",
       " 'it',\n",
       " 'its',\n",
       " 'itself',\n",
       " 'just',\n",
       " 'keep',\n",
       " 'last',\n",
       " 'latter',\n",
       " 'latterly',\n",
       " 'least',\n",
       " 'less',\n",
       " 'made',\n",
       " 'make',\n",
       " 'many',\n",
       " 'may',\n",
       " 'me',\n",
       " 'meanwhile',\n",
       " 'might',\n",
       " 'mine',\n",
       " 'more',\n",
       " 'moreover',\n",
       " 'most',\n",
       " 'mostly',\n",
       " 'move',\n",
       " 'much',\n",
       " 'must',\n",
       " 'my',\n",
       " 'myself',\n",
       " \"n't\",\n",
       " 'name',\n",
       " 'namely',\n",
       " 'neither',\n",
       " 'never',\n",
       " 'nevertheless',\n",
       " 'next',\n",
       " 'nine',\n",
       " 'no',\n",
       " 'nobody',\n",
       " 'none',\n",
       " 'noone',\n",
       " 'nor',\n",
       " 'not',\n",
       " 'nothing',\n",
       " 'now',\n",
       " 'nowhere',\n",
       " 'n‘t',\n",
       " 'n’t',\n",
       " 'of',\n",
       " 'off',\n",
       " 'often',\n",
       " 'on',\n",
       " 'once',\n",
       " 'one',\n",
       " 'only',\n",
       " 'onto',\n",
       " 'or',\n",
       " 'other',\n",
       " 'others',\n",
       " 'otherwise',\n",
       " 'our',\n",
       " 'ours',\n",
       " 'ourselves',\n",
       " 'out',\n",
       " 'over',\n",
       " 'own',\n",
       " 'part',\n",
       " 'per',\n",
       " 'perhaps',\n",
       " 'please',\n",
       " 'put',\n",
       " 'quite',\n",
       " 'rather',\n",
       " 're',\n",
       " 'really',\n",
       " 'regarding',\n",
       " 'same',\n",
       " 'say',\n",
       " 'see',\n",
       " 'seem',\n",
       " 'seemed',\n",
       " 'seeming',\n",
       " 'seems',\n",
       " 'serious',\n",
       " 'several',\n",
       " 'she',\n",
       " 'should',\n",
       " 'show',\n",
       " 'side',\n",
       " 'since',\n",
       " 'six',\n",
       " 'sixty',\n",
       " 'so',\n",
       " 'some',\n",
       " 'somehow',\n",
       " 'someone',\n",
       " 'something',\n",
       " 'sometime',\n",
       " 'sometimes',\n",
       " 'somewhere',\n",
       " 'still',\n",
       " 'such',\n",
       " 'take',\n",
       " 'ten',\n",
       " 'than',\n",
       " 'that',\n",
       " 'the',\n",
       " 'their',\n",
       " 'them',\n",
       " 'themselves',\n",
       " 'then',\n",
       " 'thence',\n",
       " 'there',\n",
       " 'thereafter',\n",
       " 'thereby',\n",
       " 'therefore',\n",
       " 'therein',\n",
       " 'thereupon',\n",
       " 'these',\n",
       " 'they',\n",
       " 'third',\n",
       " 'this',\n",
       " 'those',\n",
       " 'though',\n",
       " 'three',\n",
       " 'through',\n",
       " 'throughout',\n",
       " 'thru',\n",
       " 'thus',\n",
       " 'to',\n",
       " 'together',\n",
       " 'too',\n",
       " 'top',\n",
       " 'toward',\n",
       " 'towards',\n",
       " 'twelve',\n",
       " 'twenty',\n",
       " 'two',\n",
       " 'under',\n",
       " 'unless',\n",
       " 'until',\n",
       " 'up',\n",
       " 'upon',\n",
       " 'us',\n",
       " 'used',\n",
       " 'using',\n",
       " 'various',\n",
       " 'very',\n",
       " 'via',\n",
       " 'was',\n",
       " 'we',\n",
       " 'well',\n",
       " 'were',\n",
       " 'what',\n",
       " 'whatever',\n",
       " 'when',\n",
       " 'whence',\n",
       " 'whenever',\n",
       " 'where',\n",
       " 'whereafter',\n",
       " 'whereas',\n",
       " 'whereby',\n",
       " 'wherein',\n",
       " 'whereupon',\n",
       " 'wherever',\n",
       " 'whether',\n",
       " 'which',\n",
       " 'while',\n",
       " 'whither',\n",
       " 'who',\n",
       " 'whoever',\n",
       " 'whole',\n",
       " 'whom',\n",
       " 'whose',\n",
       " 'why',\n",
       " 'will',\n",
       " 'with',\n",
       " 'within',\n",
       " 'without',\n",
       " 'would',\n",
       " 'yet',\n",
       " 'you',\n",
       " 'your',\n",
       " 'yours',\n",
       " 'yourself',\n",
       " 'yourselves',\n",
       " '‘d',\n",
       " '‘ll',\n",
       " '‘m',\n",
       " '‘re',\n",
       " '‘s',\n",
       " '‘ve',\n",
       " '’d',\n",
       " '’ll',\n",
       " '’m',\n",
       " '’re',\n",
       " '’s',\n",
       " '’ve'}"
      ]
     },
     "execution_count": 45,
     "metadata": {},
     "output_type": "execute_result"
    }
   ],
   "source": [
    "# Spacy's Default Stop Words\n",
    "nlp.Defaults.stop_words"
   ]
  },
  {
   "cell_type": "code",
   "execution_count": 46,
   "metadata": {},
   "outputs": [
    {
     "data": {
      "text/plain": [
       "0                   [constructed, reasonably, priced.]\n",
       "1                                        [great, like]\n",
       "2                             [buy, bad, price, worth]\n",
       "3    [fits, well,, small, outside, inside, big,, th...\n",
       "4    [liked, item, price,quality, usability., ideal...\n",
       "Name: spaCy_tokens_v2, dtype: object"
      ]
     },
     "execution_count": 46,
     "metadata": {},
     "output_type": "execute_result"
    }
   ],
   "source": [
    "tokens = []\n",
    "\n",
    "# Return lower case tokens and ignore stop words/punctuation\n",
    "for doc in tokenizer.pipe(df['reviews.text'], batch_size=500):\n",
    "    \n",
    "    doc_tokens = []\n",
    "    \n",
    "    for token in doc:\n",
    "        if (token.is_stop == False) & (token.is_punct == False):\n",
    "            doc_tokens.append(token.text.lower())\n",
    "\n",
    "    tokens.append(doc_tokens)\n",
    "\n",
    "df['spaCy_tokens_v2'] = tokens\n",
    "df['spaCy_tokens_v2'].head()"
   ]
  },
  {
   "cell_type": "code",
   "execution_count": 47,
   "metadata": {},
   "outputs": [
    {
     "name": "stdout",
     "output_type": "stream",
     "text": [
      "(1752, 7)\n"
     ]
    },
    {
     "data": {
      "text/html": [
       "<div>\n",
       "<style scoped>\n",
       "    .dataframe tbody tr th:only-of-type {\n",
       "        vertical-align: middle;\n",
       "    }\n",
       "\n",
       "    .dataframe tbody tr th {\n",
       "        vertical-align: top;\n",
       "    }\n",
       "\n",
       "    .dataframe thead th {\n",
       "        text-align: right;\n",
       "    }\n",
       "</style>\n",
       "<table border=\"1\" class=\"dataframe\">\n",
       "  <thead>\n",
       "    <tr style=\"text-align: right;\">\n",
       "      <th></th>\n",
       "      <th>word</th>\n",
       "      <th>appears_in</th>\n",
       "      <th>count</th>\n",
       "      <th>rank</th>\n",
       "      <th>pct_total</th>\n",
       "      <th>cul_pct_total</th>\n",
       "      <th>appears_in_pct</th>\n",
       "    </tr>\n",
       "  </thead>\n",
       "  <tbody>\n",
       "    <tr>\n",
       "      <th>3</th>\n",
       "      <td>great</td>\n",
       "      <td>66</td>\n",
       "      <td>76</td>\n",
       "      <td>1.0</td>\n",
       "      <td>0.018274</td>\n",
       "      <td>0.018274</td>\n",
       "      <td>0.300000</td>\n",
       "    </tr>\n",
       "    <tr>\n",
       "      <th>17</th>\n",
       "      <td>amazon</td>\n",
       "      <td>44</td>\n",
       "      <td>61</td>\n",
       "      <td>2.0</td>\n",
       "      <td>0.014667</td>\n",
       "      <td>0.032941</td>\n",
       "      <td>0.200000</td>\n",
       "    </tr>\n",
       "    <tr>\n",
       "      <th>896</th>\n",
       "      <td>sound</td>\n",
       "      <td>47</td>\n",
       "      <td>53</td>\n",
       "      <td>3.0</td>\n",
       "      <td>0.012743</td>\n",
       "      <td>0.045684</td>\n",
       "      <td>0.213636</td>\n",
       "    </tr>\n",
       "    <tr>\n",
       "      <th>764</th>\n",
       "      <td>echo</td>\n",
       "      <td>34</td>\n",
       "      <td>46</td>\n",
       "      <td>4.0</td>\n",
       "      <td>0.011060</td>\n",
       "      <td>0.056744</td>\n",
       "      <td>0.154545</td>\n",
       "    </tr>\n",
       "    <tr>\n",
       "      <th>804</th>\n",
       "      <td>alexa</td>\n",
       "      <td>32</td>\n",
       "      <td>40</td>\n",
       "      <td>5.0</td>\n",
       "      <td>0.009618</td>\n",
       "      <td>0.066362</td>\n",
       "      <td>0.145455</td>\n",
       "    </tr>\n",
       "  </tbody>\n",
       "</table>\n",
       "</div>"
      ],
      "text/plain": [
       "       word  appears_in  count  rank  pct_total  cul_pct_total  appears_in_pct\n",
       "3     great          66     76   1.0   0.018274       0.018274        0.300000\n",
       "17   amazon          44     61   2.0   0.014667       0.032941        0.200000\n",
       "896   sound          47     53   3.0   0.012743       0.045684        0.213636\n",
       "764    echo          34     46   4.0   0.011060       0.056744        0.154545\n",
       "804   alexa          32     40   5.0   0.009618       0.066362        0.145455"
      ]
     },
     "execution_count": 47,
     "metadata": {},
     "output_type": "execute_result"
    }
   ],
   "source": [
    "wc = count(df['spaCy_tokens_v2'])\n",
    "print(wc.shape)\n",
    "wc.head()"
   ]
  },
  {
   "cell_type": "code",
   "execution_count": 48,
   "metadata": {},
   "outputs": [
    {
     "data": {
      "image/png": "[encoded data removed]",
      "text/plain": [
       "<Figure size 576x576 with 1 Axes>"
      ]
     },
     "metadata": {
      "needs_background": "light"
     },
     "output_type": "display_data"
    }
   ],
   "source": [
    "wc_top20 = wc[wc['rank'] <= 20]\n",
    "\n",
    "plt.figure(figsize=(8,8))\n",
    "squarify.plot(sizes=wc_top20['pct_total'], label=wc_top20['word'], alpha=.8 )\n",
    "plt.axis('off')\n",
    "plt.show()"
   ]
  },
  {
   "cell_type": "markdown",
   "metadata": {},
   "source": [
    "### Extending Stop Words"
   ]
  },
  {
   "cell_type": "code",
   "execution_count": 49,
   "metadata": {},
   "outputs": [
    {
     "name": "stdout",
     "output_type": "stream",
     "text": [
      "<class 'set'>\n"
     ]
    }
   ],
   "source": [
    "print(type(nlp.Defaults.stop_words))"
   ]
  },
  {
   "cell_type": "code",
   "execution_count": 50,
   "metadata": {},
   "outputs": [
    {
     "data": {
      "text/plain": [
       "{\"'d\",\n",
       " \"'ll\",\n",
       " \"'m\",\n",
       " \"'re\",\n",
       " \"'s\",\n",
       " \"'ve\",\n",
       " 'Amazon',\n",
       " 'I',\n",
       " 'a',\n",
       " 'about',\n",
       " 'above',\n",
       " 'across',\n",
       " 'after',\n",
       " 'afterwards',\n",
       " 'again',\n",
       " 'against',\n",
       " 'all',\n",
       " 'almost',\n",
       " 'alone',\n",
       " 'along',\n",
       " 'already',\n",
       " 'also',\n",
       " 'although',\n",
       " 'always',\n",
       " 'am',\n",
       " 'amazon',\n",
       " 'among',\n",
       " 'amongst',\n",
       " 'amount',\n",
       " 'an',\n",
       " 'and',\n",
       " 'another',\n",
       " 'any',\n",
       " 'anyhow',\n",
       " 'anyone',\n",
       " 'anything',\n",
       " 'anyway',\n",
       " 'anywhere',\n",
       " 'are',\n",
       " 'around',\n",
       " 'as',\n",
       " 'at',\n",
       " 'back',\n",
       " 'batteries',\n",
       " 'be',\n",
       " 'became',\n",
       " 'because',\n",
       " 'become',\n",
       " 'becomes',\n",
       " 'becoming',\n",
       " 'been',\n",
       " 'before',\n",
       " 'beforehand',\n",
       " 'behind',\n",
       " 'being',\n",
       " 'below',\n",
       " 'beside',\n",
       " 'besides',\n",
       " 'between',\n",
       " 'beyond',\n",
       " 'both',\n",
       " 'bottom',\n",
       " 'but',\n",
       " 'by',\n",
       " 'ca',\n",
       " 'call',\n",
       " 'can',\n",
       " 'cannot',\n",
       " 'could',\n",
       " 'did',\n",
       " 'do',\n",
       " 'does',\n",
       " 'doing',\n",
       " 'done',\n",
       " 'down',\n",
       " 'due',\n",
       " 'during',\n",
       " 'each',\n",
       " 'eight',\n",
       " 'either',\n",
       " 'eleven',\n",
       " 'else',\n",
       " 'elsewhere',\n",
       " 'empty',\n",
       " 'enough',\n",
       " 'even',\n",
       " 'ever',\n",
       " 'every',\n",
       " 'everyone',\n",
       " 'everything',\n",
       " 'everywhere',\n",
       " 'except',\n",
       " 'few',\n",
       " 'fifteen',\n",
       " 'fifty',\n",
       " 'first',\n",
       " 'five',\n",
       " 'for',\n",
       " 'former',\n",
       " 'formerly',\n",
       " 'forty',\n",
       " 'four',\n",
       " 'from',\n",
       " 'front',\n",
       " 'full',\n",
       " 'further',\n",
       " 'get',\n",
       " 'give',\n",
       " 'go',\n",
       " 'had',\n",
       " 'has',\n",
       " 'have',\n",
       " 'he',\n",
       " 'hence',\n",
       " 'her',\n",
       " 'here',\n",
       " 'hereafter',\n",
       " 'hereby',\n",
       " 'herein',\n",
       " 'hereupon',\n",
       " 'hers',\n",
       " 'herself',\n",
       " 'him',\n",
       " 'himself',\n",
       " 'his',\n",
       " 'how',\n",
       " 'however',\n",
       " 'hundred',\n",
       " 'i',\n",
       " 'if',\n",
       " 'in',\n",
       " 'indeed',\n",
       " 'into',\n",
       " 'is',\n",
       " 'it',\n",
       " \"it's\",\n",
       " 'it.',\n",
       " 'its',\n",
       " 'itself',\n",
       " 'just',\n",
       " 'keep',\n",
       " 'last',\n",
       " 'latter',\n",
       " 'latterly',\n",
       " 'least',\n",
       " 'less',\n",
       " 'made',\n",
       " 'make',\n",
       " 'many',\n",
       " 'may',\n",
       " 'me',\n",
       " 'meanwhile',\n",
       " 'might',\n",
       " 'mine',\n",
       " 'more',\n",
       " 'moreover',\n",
       " 'most',\n",
       " 'mostly',\n",
       " 'move',\n",
       " 'much',\n",
       " 'must',\n",
       " 'my',\n",
       " 'myself',\n",
       " \"n't\",\n",
       " 'name',\n",
       " 'namely',\n",
       " 'neither',\n",
       " 'never',\n",
       " 'nevertheless',\n",
       " 'next',\n",
       " 'nine',\n",
       " 'no',\n",
       " 'nobody',\n",
       " 'none',\n",
       " 'noone',\n",
       " 'nor',\n",
       " 'not',\n",
       " 'nothing',\n",
       " 'now',\n",
       " 'nowhere',\n",
       " 'n‘t',\n",
       " 'n’t',\n",
       " 'of',\n",
       " 'off',\n",
       " 'often',\n",
       " 'on',\n",
       " 'once',\n",
       " 'one',\n",
       " 'only',\n",
       " 'onto',\n",
       " 'or',\n",
       " 'other',\n",
       " 'others',\n",
       " 'otherwise',\n",
       " 'our',\n",
       " 'ours',\n",
       " 'ourselves',\n",
       " 'out',\n",
       " 'over',\n",
       " 'own',\n",
       " 'part',\n",
       " 'per',\n",
       " 'perhaps',\n",
       " 'please',\n",
       " 'put',\n",
       " 'quite',\n",
       " 'rather',\n",
       " 're',\n",
       " 'really',\n",
       " 'regarding',\n",
       " 'same',\n",
       " 'say',\n",
       " 'see',\n",
       " 'seem',\n",
       " 'seemed',\n",
       " 'seeming',\n",
       " 'seems',\n",
       " 'serious',\n",
       " 'several',\n",
       " 'she',\n",
       " 'should',\n",
       " 'show',\n",
       " 'side',\n",
       " 'since',\n",
       " 'six',\n",
       " 'sixty',\n",
       " 'so',\n",
       " 'some',\n",
       " 'somehow',\n",
       " 'someone',\n",
       " 'something',\n",
       " 'sometime',\n",
       " 'sometimes',\n",
       " 'somewhere',\n",
       " 'still',\n",
       " 'such',\n",
       " 'take',\n",
       " 'ten',\n",
       " 'than',\n",
       " 'that',\n",
       " 'the',\n",
       " 'their',\n",
       " 'them',\n",
       " 'themselves',\n",
       " 'then',\n",
       " 'thence',\n",
       " 'there',\n",
       " 'thereafter',\n",
       " 'thereby',\n",
       " 'therefore',\n",
       " 'therein',\n",
       " 'thereupon',\n",
       " 'these',\n",
       " 'they',\n",
       " 'third',\n",
       " 'this',\n",
       " 'those',\n",
       " 'though',\n",
       " 'three',\n",
       " 'through',\n",
       " 'throughout',\n",
       " 'thru',\n",
       " 'thus',\n",
       " 'to',\n",
       " 'together',\n",
       " 'too',\n",
       " 'top',\n",
       " 'toward',\n",
       " 'towards',\n",
       " 'twelve',\n",
       " 'twenty',\n",
       " 'two',\n",
       " 'under',\n",
       " 'unless',\n",
       " 'until',\n",
       " 'up',\n",
       " 'upon',\n",
       " 'us',\n",
       " 'used',\n",
       " 'using',\n",
       " 'various',\n",
       " 'very',\n",
       " 'via',\n",
       " 'was',\n",
       " 'we',\n",
       " 'well',\n",
       " 'were',\n",
       " 'what',\n",
       " 'whatever',\n",
       " 'when',\n",
       " 'whence',\n",
       " 'whenever',\n",
       " 'where',\n",
       " 'whereafter',\n",
       " 'whereas',\n",
       " 'whereby',\n",
       " 'wherein',\n",
       " 'whereupon',\n",
       " 'wherever',\n",
       " 'whether',\n",
       " 'which',\n",
       " 'while',\n",
       " 'whither',\n",
       " 'who',\n",
       " 'whoever',\n",
       " 'whole',\n",
       " 'whom',\n",
       " 'whose',\n",
       " 'why',\n",
       " 'will',\n",
       " 'with',\n",
       " 'within',\n",
       " 'without',\n",
       " 'would',\n",
       " 'yet',\n",
       " 'you',\n",
       " 'your',\n",
       " 'yours',\n",
       " 'yourself',\n",
       " 'yourselves',\n",
       " '‘d',\n",
       " '‘ll',\n",
       " '‘m',\n",
       " '‘re',\n",
       " '‘s',\n",
       " '‘ve',\n",
       " '’d',\n",
       " '’ll',\n",
       " '’m',\n",
       " '’re',\n",
       " '’s',\n",
       " '’ve'}"
      ]
     },
     "execution_count": 50,
     "metadata": {},
     "output_type": "execute_result"
    }
   ],
   "source": [
    "STOP_WORDS = nlp.Defaults.stop_words.union(['batteries','I', 'amazon', 'i', 'Amazon', 'it', \"it's\", 'it.', 'the', 'this'])\n",
    "STOP_WORDS"
   ]
  },
  {
   "cell_type": "code",
   "execution_count": 51,
   "metadata": {},
   "outputs": [],
   "source": [
    "tokens = []\n",
    "for doc in tokenizer.pipe(df['reviews.text'], batch_size=500):\n",
    "    \n",
    "    doc_tokens = []\n",
    "    for token in doc: \n",
    "        if (token.text.lower() not in STOP_WORDS) & (token.is_punct == False):\n",
    "            doc_tokens.append(token.text.lower())\n",
    "   \n",
    "    tokens.append(doc_tokens)\n",
    "    \n",
    "df['spaCy_tokens_v3'] = tokens"
   ]
  },
  {
   "cell_type": "code",
   "execution_count": 52,
   "metadata": {},
   "outputs": [
    {
     "name": "stdout",
     "output_type": "stream",
     "text": [
      "(1749, 7)\n"
     ]
    },
    {
     "data": {
      "text/html": [
       "<div>\n",
       "<style scoped>\n",
       "    .dataframe tbody tr th:only-of-type {\n",
       "        vertical-align: middle;\n",
       "    }\n",
       "\n",
       "    .dataframe tbody tr th {\n",
       "        vertical-align: top;\n",
       "    }\n",
       "\n",
       "    .dataframe thead th {\n",
       "        text-align: right;\n",
       "    }\n",
       "</style>\n",
       "<table border=\"1\" class=\"dataframe\">\n",
       "  <thead>\n",
       "    <tr style=\"text-align: right;\">\n",
       "      <th></th>\n",
       "      <th>word</th>\n",
       "      <th>appears_in</th>\n",
       "      <th>count</th>\n",
       "      <th>rank</th>\n",
       "      <th>pct_total</th>\n",
       "      <th>cul_pct_total</th>\n",
       "      <th>appears_in_pct</th>\n",
       "    </tr>\n",
       "  </thead>\n",
       "  <tbody>\n",
       "    <tr>\n",
       "      <th>3</th>\n",
       "      <td>great</td>\n",
       "      <td>66</td>\n",
       "      <td>76</td>\n",
       "      <td>1.0</td>\n",
       "      <td>0.018756</td>\n",
       "      <td>0.018756</td>\n",
       "      <td>0.300000</td>\n",
       "    </tr>\n",
       "    <tr>\n",
       "      <th>893</th>\n",
       "      <td>sound</td>\n",
       "      <td>47</td>\n",
       "      <td>53</td>\n",
       "      <td>2.0</td>\n",
       "      <td>0.013080</td>\n",
       "      <td>0.031836</td>\n",
       "      <td>0.213636</td>\n",
       "    </tr>\n",
       "    <tr>\n",
       "      <th>761</th>\n",
       "      <td>echo</td>\n",
       "      <td>34</td>\n",
       "      <td>46</td>\n",
       "      <td>3.0</td>\n",
       "      <td>0.011352</td>\n",
       "      <td>0.043189</td>\n",
       "      <td>0.154545</td>\n",
       "    </tr>\n",
       "    <tr>\n",
       "      <th>801</th>\n",
       "      <td>alexa</td>\n",
       "      <td>32</td>\n",
       "      <td>40</td>\n",
       "      <td>4.0</td>\n",
       "      <td>0.009872</td>\n",
       "      <td>0.053060</td>\n",
       "      <td>0.145455</td>\n",
       "    </tr>\n",
       "    <tr>\n",
       "      <th>4</th>\n",
       "      <td>like</td>\n",
       "      <td>30</td>\n",
       "      <td>39</td>\n",
       "      <td>5.0</td>\n",
       "      <td>0.009625</td>\n",
       "      <td>0.062685</td>\n",
       "      <td>0.136364</td>\n",
       "    </tr>\n",
       "  </tbody>\n",
       "</table>\n",
       "</div>"
      ],
      "text/plain": [
       "      word  appears_in  count  rank  pct_total  cul_pct_total  appears_in_pct\n",
       "3    great          66     76   1.0   0.018756       0.018756        0.300000\n",
       "893  sound          47     53   2.0   0.013080       0.031836        0.213636\n",
       "761   echo          34     46   3.0   0.011352       0.043189        0.154545\n",
       "801  alexa          32     40   4.0   0.009872       0.053060        0.145455\n",
       "4     like          30     39   5.0   0.009625       0.062685        0.136364"
      ]
     },
     "execution_count": 52,
     "metadata": {},
     "output_type": "execute_result"
    }
   ],
   "source": [
    "wc = count(df['spaCy_tokens_v3'])\n",
    "print(wc.shape)\n",
    "wc.head()"
   ]
  },
  {
   "cell_type": "code",
   "execution_count": 53,
   "metadata": {},
   "outputs": [],
   "source": [
    "# To make this comparison more interesting, let's compare: All Amazon Reviews, Fire HD 8 only, and Kindle only\n",
    "df['FireHD_8'] = df['name'].str.contains('fire hd 8', case=False)\n",
    "df['Kindle'] = df['name'].str.contains('kindle', case=False)"
   ]
  },
  {
   "cell_type": "code",
   "execution_count": 54,
   "metadata": {},
   "outputs": [
    {
     "data": {
      "text/html": [
       "<div>\n",
       "<style scoped>\n",
       "    .dataframe tbody tr th:only-of-type {\n",
       "        vertical-align: middle;\n",
       "    }\n",
       "\n",
       "    .dataframe tbody tr th {\n",
       "        vertical-align: top;\n",
       "    }\n",
       "\n",
       "    .dataframe thead th {\n",
       "        text-align: right;\n",
       "    }\n",
       "</style>\n",
       "<table border=\"1\" class=\"dataframe\">\n",
       "  <thead>\n",
       "    <tr style=\"text-align: right;\">\n",
       "      <th></th>\n",
       "      <th>id</th>\n",
       "      <th>dateAdded</th>\n",
       "      <th>dateUpdated</th>\n",
       "      <th>name</th>\n",
       "      <th>asins</th>\n",
       "      <th>brand</th>\n",
       "      <th>categories</th>\n",
       "      <th>primaryCategories</th>\n",
       "      <th>imageURLs</th>\n",
       "      <th>keys</th>\n",
       "      <th>...</th>\n",
       "      <th>reviews.text</th>\n",
       "      <th>reviews.title</th>\n",
       "      <th>reviews.username</th>\n",
       "      <th>sourceURLs</th>\n",
       "      <th>base_tokens</th>\n",
       "      <th>spaCy_tokens</th>\n",
       "      <th>spaCy_tokens_v2</th>\n",
       "      <th>spaCy_tokens_v3</th>\n",
       "      <th>FireHD_8</th>\n",
       "      <th>Kindle</th>\n",
       "    </tr>\n",
       "  </thead>\n",
       "  <tbody>\n",
       "    <tr>\n",
       "      <th>0</th>\n",
       "      <td>AVpflnS7ilAPnD_xehxE</td>\n",
       "      <td>2015-01-22T12:25:23Z</td>\n",
       "      <td>2019-04-22T11:07:50Z</td>\n",
       "      <td>AmazonBasics 15.6-Inch Laptop and Tablet Bag</td>\n",
       "      <td>B00DUGZFWY</td>\n",
       "      <td>amazonbasics</td>\n",
       "      <td>Bags, Cases &amp; Sleeves,Computers &amp; Accessories,...</td>\n",
       "      <td>Electronics</td>\n",
       "      <td>http://i.ebayimg.com/images/g/V9oAAOSwFGNWTa-h...</td>\n",
       "      <td>amazonbasics156inchlaptoptabletbag/b00dugzfwy,...</td>\n",
       "      <td>...</td>\n",
       "      <td>Very well constructed and reasonably priced.</td>\n",
       "      <td>laptop computer bag</td>\n",
       "      <td>docarte-38</td>\n",
       "      <td>https://www.amazon.com/AmazonBasics-15-6-Inch-...</td>\n",
       "      <td>[very, well, constructed, and, reasonably, pri...</td>\n",
       "      <td>[Very, well, constructed, and, reasonably, pri...</td>\n",
       "      <td>[constructed, reasonably, priced.]</td>\n",
       "      <td>[constructed, reasonably, priced.]</td>\n",
       "      <td>False</td>\n",
       "      <td>False</td>\n",
       "    </tr>\n",
       "    <tr>\n",
       "      <th>1</th>\n",
       "      <td>AVpflnS7ilAPnD_xehxE</td>\n",
       "      <td>2015-01-22T12:25:23Z</td>\n",
       "      <td>2019-04-22T11:07:50Z</td>\n",
       "      <td>AmazonBasics 15.6-Inch Laptop and Tablet Bag</td>\n",
       "      <td>B00DUGZFWY</td>\n",
       "      <td>amazonbasics</td>\n",
       "      <td>Bags, Cases &amp; Sleeves,Computers &amp; Accessories,...</td>\n",
       "      <td>Electronics</td>\n",
       "      <td>http://i.ebayimg.com/images/g/V9oAAOSwFGNWTa-h...</td>\n",
       "      <td>amazonbasics156inchlaptoptabletbag/b00dugzfwy,...</td>\n",
       "      <td>...</td>\n",
       "      <td>Everything was great and I like it very much</td>\n",
       "      <td>Looks nice and has great features</td>\n",
       "      <td>murr3963_kzgjiur</td>\n",
       "      <td>https://www.amazon.com/AmazonBasics-15-6-Inch-...</td>\n",
       "      <td>[everything, was, great, and, i, like, it, ver...</td>\n",
       "      <td>[Everything, was, great, and, I, like, it, ver...</td>\n",
       "      <td>[great, like]</td>\n",
       "      <td>[great, like]</td>\n",
       "      <td>False</td>\n",
       "      <td>False</td>\n",
       "    </tr>\n",
       "  </tbody>\n",
       "</table>\n",
       "<p>2 rows × 30 columns</p>\n",
       "</div>"
      ],
      "text/plain": [
       "                     id             dateAdded           dateUpdated  \\\n",
       "0  AVpflnS7ilAPnD_xehxE  2015-01-22T12:25:23Z  2019-04-22T11:07:50Z   \n",
       "1  AVpflnS7ilAPnD_xehxE  2015-01-22T12:25:23Z  2019-04-22T11:07:50Z   \n",
       "\n",
       "                                           name       asins         brand  \\\n",
       "0  AmazonBasics 15.6-Inch Laptop and Tablet Bag  B00DUGZFWY  amazonbasics   \n",
       "1  AmazonBasics 15.6-Inch Laptop and Tablet Bag  B00DUGZFWY  amazonbasics   \n",
       "\n",
       "                                          categories primaryCategories  \\\n",
       "0  Bags, Cases & Sleeves,Computers & Accessories,...       Electronics   \n",
       "1  Bags, Cases & Sleeves,Computers & Accessories,...       Electronics   \n",
       "\n",
       "                                           imageURLs  \\\n",
       "0  http://i.ebayimg.com/images/g/V9oAAOSwFGNWTa-h...   \n",
       "1  http://i.ebayimg.com/images/g/V9oAAOSwFGNWTa-h...   \n",
       "\n",
       "                                                keys  ...  \\\n",
       "0  amazonbasics156inchlaptoptabletbag/b00dugzfwy,...  ...   \n",
       "1  amazonbasics156inchlaptoptabletbag/b00dugzfwy,...  ...   \n",
       "\n",
       "                                   reviews.text  \\\n",
       "0  Very well constructed and reasonably priced.   \n",
       "1  Everything was great and I like it very much   \n",
       "\n",
       "                       reviews.title  reviews.username  \\\n",
       "0                laptop computer bag        docarte-38   \n",
       "1  Looks nice and has great features  murr3963_kzgjiur   \n",
       "\n",
       "                                          sourceURLs  \\\n",
       "0  https://www.amazon.com/AmazonBasics-15-6-Inch-...   \n",
       "1  https://www.amazon.com/AmazonBasics-15-6-Inch-...   \n",
       "\n",
       "                                         base_tokens  \\\n",
       "0  [very, well, constructed, and, reasonably, pri...   \n",
       "1  [everything, was, great, and, i, like, it, ver...   \n",
       "\n",
       "                                        spaCy_tokens  \\\n",
       "0  [Very, well, constructed, and, reasonably, pri...   \n",
       "1  [Everything, was, great, and, I, like, it, ver...   \n",
       "\n",
       "                      spaCy_tokens_v2                     spaCy_tokens_v3  \\\n",
       "0  [constructed, reasonably, priced.]  [constructed, reasonably, priced.]   \n",
       "1                       [great, like]                       [great, like]   \n",
       "\n",
       "   FireHD_8 Kindle  \n",
       "0     False  False  \n",
       "1     False  False  \n",
       "\n",
       "[2 rows x 30 columns]"
      ]
     },
     "execution_count": 54,
     "metadata": {},
     "output_type": "execute_result"
    }
   ],
   "source": [
    "df.head(2)"
   ]
  },
  {
   "cell_type": "code",
   "execution_count": 55,
   "metadata": {},
   "outputs": [
    {
     "name": "stdout",
     "output_type": "stream",
     "text": [
      "(1749, 7) (0, 7) (563, 7)\n"
     ]
    },
    {
     "data": {
      "image/png": "[encoded data removed]",
      "text/plain": [
       "<Figure size 1440x576 with 3 Axes>"
      ]
     },
     "metadata": {
      "needs_background": "light"
     },
     "output_type": "display_data"
    }
   ],
   "source": [
    "# Use the Function for all reviews, Fire HD 8 only, and Kindle only\n",
    "wc = count(df['spaCy_tokens_v3'])\n",
    "wc_fire_hd_8 = count(df[df['FireHD_8'] == True]['spaCy_tokens_v3'])\n",
    "wc_kindle = count(df[df['Kindle'] == True]['spaCy_tokens_v3'])\n",
    "print(wc.shape, wc_fire_hd_8.shape, wc_kindle.shape)\n",
    "\n",
    "# Get top 20 word occurences for each set of data\n",
    "wc_top20 = wc[wc['rank'] <= 20]\n",
    "wc_fire_top20 = wc_fire_hd_8[wc_fire_hd_8['rank'] <= 20]\n",
    "wc_kindle_top20 = wc_kindle[wc_kindle['rank'] <= 20]\n",
    "\n",
    "fig, axes = plt.subplots(1, 3, figsize=(20, 8))\n",
    "\n",
    "axes[0].set_title('All Amazon Reviews')\n",
    "squarify.plot(sizes=wc_top20['pct_total'], label=wc_top20['word'], alpha=.8, ax=axes[0])\n",
    "axes[0].axis('off')\n",
    "\n",
    "axes[1].set_title('Fire HD 8 Tablet')\n",
    "squarify.plot(sizes=wc_fire_top20['pct_total'], label=wc_fire_top20['word'], alpha=.8, ax=axes[1])\n",
    "axes[1].axis('off')\n",
    "\n",
    "axes[2].set_title('Kindle')\n",
    "squarify.plot(sizes=wc_kindle_top20['pct_total'], label=wc_kindle_top20['word'], alpha=.8, ax=axes[2])\n",
    "axes[2].axis('off')\n",
    "plt.show()"
   ]
  },
  {
   "cell_type": "code",
   "execution_count": 56,
   "metadata": {},
   "outputs": [
    {
     "data": {
      "text/plain": [
       "5    168\n",
       "4     35\n",
       "2      7\n",
       "3      6\n",
       "1      4\n",
       "Name: reviews.rating, dtype: int64"
      ]
     },
     "execution_count": 56,
     "metadata": {},
     "output_type": "execute_result"
    }
   ],
   "source": [
    "df['reviews.rating'].value_counts()"
   ]
  },
  {
   "cell_type": "markdown",
   "metadata": {},
   "source": [
    "### Statistical Trimming\n",
    "\n",
    "So far, we have talked about stop word in relation to either broad english words or domain specific stop words. Another common approach to stop word removal is via statistical trimming. The basic idea: preserve the words that give the most about of variation in your data. \n",
    "\n",
    "Do you remember this graph?"
   ]
  },
  {
   "cell_type": "code",
   "execution_count": 57,
   "metadata": {},
   "outputs": [
    {
     "data": {
      "image/png": "[encoded data removed]",
      "text/plain": [
       "<Figure size 432x288 with 1 Axes>"
      ]
     },
     "metadata": {
      "needs_background": "light"
     },
     "output_type": "display_data"
    }
   ],
   "source": [
    "sns.lineplot(x='rank', y='cul_pct_total', data=wc);"
   ]
  },
  {
   "cell_type": "markdown",
   "metadata": {},
   "source": [
    "This graph tells us that only a *handful* of words represented 80% of words in the overall corpus. We can interpret this in two ways: \n",
    "1. The words that appear most frequently may not provide any insight into the mean on the documents since they are so prevalent. \n",
    "2. Words that appear infrequency (at the end of the graph) also probably do not add much value, because the are mentioned so rarely. \n",
    "\n",
    "Let's take a look at the words at the bottom and the top and make a decision for ourselves:"
   ]
  },
  {
   "cell_type": "code",
   "execution_count": 58,
   "metadata": {},
   "outputs": [
    {
     "data": {
      "text/html": [
       "<div>\n",
       "<style scoped>\n",
       "    .dataframe tbody tr th:only-of-type {\n",
       "        vertical-align: middle;\n",
       "    }\n",
       "\n",
       "    .dataframe tbody tr th {\n",
       "        vertical-align: top;\n",
       "    }\n",
       "\n",
       "    .dataframe thead th {\n",
       "        text-align: right;\n",
       "    }\n",
       "</style>\n",
       "<table border=\"1\" class=\"dataframe\">\n",
       "  <thead>\n",
       "    <tr style=\"text-align: right;\">\n",
       "      <th></th>\n",
       "      <th>word</th>\n",
       "      <th>appears_in</th>\n",
       "      <th>count</th>\n",
       "      <th>rank</th>\n",
       "      <th>pct_total</th>\n",
       "      <th>cul_pct_total</th>\n",
       "      <th>appears_in_pct</th>\n",
       "    </tr>\n",
       "  </thead>\n",
       "  <tbody>\n",
       "    <tr>\n",
       "      <th>1725</th>\n",
       "      <td>wifi's</td>\n",
       "      <td>1</td>\n",
       "      <td>1</td>\n",
       "      <td>1730.0</td>\n",
       "      <td>0.000247</td>\n",
       "      <td>0.995311</td>\n",
       "      <td>0.004545</td>\n",
       "    </tr>\n",
       "    <tr>\n",
       "      <th>1727</th>\n",
       "      <td>hotels,</td>\n",
       "      <td>1</td>\n",
       "      <td>1</td>\n",
       "      <td>1731.0</td>\n",
       "      <td>0.000247</td>\n",
       "      <td>0.995558</td>\n",
       "      <td>0.004545</td>\n",
       "    </tr>\n",
       "    <tr>\n",
       "      <th>1726</th>\n",
       "      <td>situation...takes</td>\n",
       "      <td>1</td>\n",
       "      <td>1</td>\n",
       "      <td>1732.0</td>\n",
       "      <td>0.000247</td>\n",
       "      <td>0.995805</td>\n",
       "      <td>0.004545</td>\n",
       "    </tr>\n",
       "    <tr>\n",
       "      <th>1732</th>\n",
       "      <td>looked</td>\n",
       "      <td>1</td>\n",
       "      <td>1</td>\n",
       "      <td>1733.0</td>\n",
       "      <td>0.000247</td>\n",
       "      <td>0.996051</td>\n",
       "      <td>0.004545</td>\n",
       "    </tr>\n",
       "    <tr>\n",
       "      <th>1733</th>\n",
       "      <td>fool</td>\n",
       "      <td>1</td>\n",
       "      <td>1</td>\n",
       "      <td>1734.0</td>\n",
       "      <td>0.000247</td>\n",
       "      <td>0.996298</td>\n",
       "      <td>0.004545</td>\n",
       "    </tr>\n",
       "    <tr>\n",
       "      <th>1734</th>\n",
       "      <td>some.</td>\n",
       "      <td>1</td>\n",
       "      <td>1</td>\n",
       "      <td>1735.0</td>\n",
       "      <td>0.000247</td>\n",
       "      <td>0.996545</td>\n",
       "      <td>0.004545</td>\n",
       "    </tr>\n",
       "    <tr>\n",
       "      <th>1739</th>\n",
       "      <td>performing</td>\n",
       "      <td>1</td>\n",
       "      <td>1</td>\n",
       "      <td>1736.0</td>\n",
       "      <td>0.000247</td>\n",
       "      <td>0.996792</td>\n",
       "      <td>0.004545</td>\n",
       "    </tr>\n",
       "    <tr>\n",
       "      <th>1735</th>\n",
       "      <td>functions</td>\n",
       "      <td>1</td>\n",
       "      <td>1</td>\n",
       "      <td>1737.0</td>\n",
       "      <td>0.000247</td>\n",
       "      <td>0.997038</td>\n",
       "      <td>0.004545</td>\n",
       "    </tr>\n",
       "    <tr>\n",
       "      <th>1738</th>\n",
       "      <td>none.</td>\n",
       "      <td>1</td>\n",
       "      <td>1</td>\n",
       "      <td>1738.0</td>\n",
       "      <td>0.000247</td>\n",
       "      <td>0.997285</td>\n",
       "      <td>0.004545</td>\n",
       "    </tr>\n",
       "    <tr>\n",
       "      <th>1736</th>\n",
       "      <td>siri</td>\n",
       "      <td>1</td>\n",
       "      <td>1</td>\n",
       "      <td>1739.0</td>\n",
       "      <td>0.000247</td>\n",
       "      <td>0.997532</td>\n",
       "      <td>0.004545</td>\n",
       "    </tr>\n",
       "    <tr>\n",
       "      <th>1737</th>\n",
       "      <td>who?</td>\n",
       "      <td>1</td>\n",
       "      <td>1</td>\n",
       "      <td>1740.0</td>\n",
       "      <td>0.000247</td>\n",
       "      <td>0.997779</td>\n",
       "      <td>0.004545</td>\n",
       "    </tr>\n",
       "    <tr>\n",
       "      <th>1747</th>\n",
       "      <td>fantastic</td>\n",
       "      <td>1</td>\n",
       "      <td>1</td>\n",
       "      <td>1741.0</td>\n",
       "      <td>0.000247</td>\n",
       "      <td>0.998026</td>\n",
       "      <td>0.004545</td>\n",
       "    </tr>\n",
       "    <tr>\n",
       "      <th>1741</th>\n",
       "      <td>pandora</td>\n",
       "      <td>1</td>\n",
       "      <td>1</td>\n",
       "      <td>1742.0</td>\n",
       "      <td>0.000247</td>\n",
       "      <td>0.998272</td>\n",
       "      <td>0.004545</td>\n",
       "    </tr>\n",
       "    <tr>\n",
       "      <th>1748</th>\n",
       "      <td>andespn</td>\n",
       "      <td>1</td>\n",
       "      <td>1</td>\n",
       "      <td>1743.0</td>\n",
       "      <td>0.000247</td>\n",
       "      <td>0.998519</td>\n",
       "      <td>0.004545</td>\n",
       "    </tr>\n",
       "    <tr>\n",
       "      <th>1745</th>\n",
       "      <td>garage</td>\n",
       "      <td>1</td>\n",
       "      <td>1</td>\n",
       "      <td>1744.0</td>\n",
       "      <td>0.000247</td>\n",
       "      <td>0.998766</td>\n",
       "      <td>0.004545</td>\n",
       "    </tr>\n",
       "    <tr>\n",
       "      <th>1746</th>\n",
       "      <td>concert</td>\n",
       "      <td>1</td>\n",
       "      <td>1</td>\n",
       "      <td>1745.0</td>\n",
       "      <td>0.000247</td>\n",
       "      <td>0.999013</td>\n",
       "      <td>0.004545</td>\n",
       "    </tr>\n",
       "    <tr>\n",
       "      <th>1740</th>\n",
       "      <td>hall.</td>\n",
       "      <td>1</td>\n",
       "      <td>1</td>\n",
       "      <td>1746.0</td>\n",
       "      <td>0.000247</td>\n",
       "      <td>0.999260</td>\n",
       "      <td>0.004545</td>\n",
       "    </tr>\n",
       "    <tr>\n",
       "      <th>1743</th>\n",
       "      <td>hrs</td>\n",
       "      <td>1</td>\n",
       "      <td>1</td>\n",
       "      <td>1747.0</td>\n",
       "      <td>0.000247</td>\n",
       "      <td>0.999506</td>\n",
       "      <td>0.004545</td>\n",
       "    </tr>\n",
       "    <tr>\n",
       "      <th>1742</th>\n",
       "      <td>stand</td>\n",
       "      <td>1</td>\n",
       "      <td>1</td>\n",
       "      <td>1748.0</td>\n",
       "      <td>0.000247</td>\n",
       "      <td>0.999753</td>\n",
       "      <td>0.004545</td>\n",
       "    </tr>\n",
       "    <tr>\n",
       "      <th>1744</th>\n",
       "      <td>simpler</td>\n",
       "      <td>1</td>\n",
       "      <td>1</td>\n",
       "      <td>1749.0</td>\n",
       "      <td>0.000247</td>\n",
       "      <td>1.000000</td>\n",
       "      <td>0.004545</td>\n",
       "    </tr>\n",
       "  </tbody>\n",
       "</table>\n",
       "</div>"
      ],
      "text/plain": [
       "                   word  appears_in  count    rank  pct_total  cul_pct_total  \\\n",
       "1725             wifi's           1      1  1730.0   0.000247       0.995311   \n",
       "1727            hotels,           1      1  1731.0   0.000247       0.995558   \n",
       "1726  situation...takes           1      1  1732.0   0.000247       0.995805   \n",
       "1732             looked           1      1  1733.0   0.000247       0.996051   \n",
       "1733               fool           1      1  1734.0   0.000247       0.996298   \n",
       "1734              some.           1      1  1735.0   0.000247       0.996545   \n",
       "1739         performing           1      1  1736.0   0.000247       0.996792   \n",
       "1735          functions           1      1  1737.0   0.000247       0.997038   \n",
       "1738              none.           1      1  1738.0   0.000247       0.997285   \n",
       "1736               siri           1      1  1739.0   0.000247       0.997532   \n",
       "1737               who?           1      1  1740.0   0.000247       0.997779   \n",
       "1747          fantastic           1      1  1741.0   0.000247       0.998026   \n",
       "1741            pandora           1      1  1742.0   0.000247       0.998272   \n",
       "1748            andespn           1      1  1743.0   0.000247       0.998519   \n",
       "1745             garage           1      1  1744.0   0.000247       0.998766   \n",
       "1746            concert           1      1  1745.0   0.000247       0.999013   \n",
       "1740              hall.           1      1  1746.0   0.000247       0.999260   \n",
       "1743                hrs           1      1  1747.0   0.000247       0.999506   \n",
       "1742              stand           1      1  1748.0   0.000247       0.999753   \n",
       "1744            simpler           1      1  1749.0   0.000247       1.000000   \n",
       "\n",
       "      appears_in_pct  \n",
       "1725        0.004545  \n",
       "1727        0.004545  \n",
       "1726        0.004545  \n",
       "1732        0.004545  \n",
       "1733        0.004545  \n",
       "1734        0.004545  \n",
       "1739        0.004545  \n",
       "1735        0.004545  \n",
       "1738        0.004545  \n",
       "1736        0.004545  \n",
       "1737        0.004545  \n",
       "1747        0.004545  \n",
       "1741        0.004545  \n",
       "1748        0.004545  \n",
       "1745        0.004545  \n",
       "1746        0.004545  \n",
       "1740        0.004545  \n",
       "1743        0.004545  \n",
       "1742        0.004545  \n",
       "1744        0.004545  "
      ]
     },
     "execution_count": 58,
     "metadata": {},
     "output_type": "execute_result"
    }
   ],
   "source": [
    "wc.tail(20)"
   ]
  },
  {
   "cell_type": "code",
   "execution_count": 59,
   "metadata": {},
   "outputs": [
    {
     "data": {
      "text/plain": [
       "count    1749.000000\n",
       "mean        0.009665\n",
       "std         0.016299\n",
       "min         0.004545\n",
       "25%         0.004545\n",
       "50%         0.004545\n",
       "75%         0.009091\n",
       "max         0.300000\n",
       "Name: appears_in_pct, dtype: float64"
      ]
     },
     "execution_count": 59,
     "metadata": {},
     "output_type": "execute_result"
    }
   ],
   "source": [
    "wc['appears_in_pct'].describe()"
   ]
  },
  {
   "cell_type": "code",
   "execution_count": 60,
   "metadata": {},
   "outputs": [
    {
     "data": {
      "image/png": "[encoded data removed]",
      "text/plain": [
       "<Figure size 432x288 with 1 Axes>"
      ]
     },
     "metadata": {
      "needs_background": "light"
     },
     "output_type": "display_data"
    }
   ],
   "source": [
    "# Frequency of appears in documents\n",
    "sns.distplot(wc['appears_in_pct']);"
   ]
  },
  {
   "cell_type": "code",
   "execution_count": 61,
   "metadata": {},
   "outputs": [
    {
     "data": {
      "image/png": "[encoded data removed]",
      "text/plain": [
       "<Figure size 432x288 with 1 Axes>"
      ]
     },
     "metadata": {
      "needs_background": "light"
     },
     "output_type": "display_data"
    }
   ],
   "source": [
    "# Tree-Map w/ Words that appear in a least 0.1% of documents. \n",
    "wc = wc[wc['appears_in_pct'] >= 0.001]\n",
    "sns.distplot(wc['appears_in_pct']);"
   ]
  },
  {
   "cell_type": "code",
   "execution_count": 62,
   "metadata": {},
   "outputs": [
    {
     "data": {
      "text/plain": [
       "(1749, 7)"
      ]
     },
     "execution_count": 62,
     "metadata": {},
     "output_type": "execute_result"
    }
   ],
   "source": [
    "wc.shape"
   ]
  },
  {
   "cell_type": "code",
   "execution_count": 63,
   "metadata": {},
   "outputs": [
    {
     "data": {
      "text/html": [
       "<div>\n",
       "<style scoped>\n",
       "    .dataframe tbody tr th:only-of-type {\n",
       "        vertical-align: middle;\n",
       "    }\n",
       "\n",
       "    .dataframe tbody tr th {\n",
       "        vertical-align: top;\n",
       "    }\n",
       "\n",
       "    .dataframe thead th {\n",
       "        text-align: right;\n",
       "    }\n",
       "</style>\n",
       "<table border=\"1\" class=\"dataframe\">\n",
       "  <thead>\n",
       "    <tr style=\"text-align: right;\">\n",
       "      <th></th>\n",
       "      <th>word</th>\n",
       "      <th>appears_in</th>\n",
       "      <th>count</th>\n",
       "      <th>rank</th>\n",
       "      <th>pct_total</th>\n",
       "      <th>cul_pct_total</th>\n",
       "      <th>appears_in_pct</th>\n",
       "    </tr>\n",
       "  </thead>\n",
       "  <tbody>\n",
       "    <tr>\n",
       "      <th>1746</th>\n",
       "      <td>concert</td>\n",
       "      <td>1</td>\n",
       "      <td>1</td>\n",
       "      <td>1745.0</td>\n",
       "      <td>0.000247</td>\n",
       "      <td>0.999013</td>\n",
       "      <td>0.004545</td>\n",
       "    </tr>\n",
       "    <tr>\n",
       "      <th>1740</th>\n",
       "      <td>hall.</td>\n",
       "      <td>1</td>\n",
       "      <td>1</td>\n",
       "      <td>1746.0</td>\n",
       "      <td>0.000247</td>\n",
       "      <td>0.999260</td>\n",
       "      <td>0.004545</td>\n",
       "    </tr>\n",
       "    <tr>\n",
       "      <th>1743</th>\n",
       "      <td>hrs</td>\n",
       "      <td>1</td>\n",
       "      <td>1</td>\n",
       "      <td>1747.0</td>\n",
       "      <td>0.000247</td>\n",
       "      <td>0.999506</td>\n",
       "      <td>0.004545</td>\n",
       "    </tr>\n",
       "    <tr>\n",
       "      <th>1742</th>\n",
       "      <td>stand</td>\n",
       "      <td>1</td>\n",
       "      <td>1</td>\n",
       "      <td>1748.0</td>\n",
       "      <td>0.000247</td>\n",
       "      <td>0.999753</td>\n",
       "      <td>0.004545</td>\n",
       "    </tr>\n",
       "    <tr>\n",
       "      <th>1744</th>\n",
       "      <td>simpler</td>\n",
       "      <td>1</td>\n",
       "      <td>1</td>\n",
       "      <td>1749.0</td>\n",
       "      <td>0.000247</td>\n",
       "      <td>1.000000</td>\n",
       "      <td>0.004545</td>\n",
       "    </tr>\n",
       "  </tbody>\n",
       "</table>\n",
       "</div>"
      ],
      "text/plain": [
       "         word  appears_in  count    rank  pct_total  cul_pct_total  \\\n",
       "1746  concert           1      1  1745.0   0.000247       0.999013   \n",
       "1740    hall.           1      1  1746.0   0.000247       0.999260   \n",
       "1743      hrs           1      1  1747.0   0.000247       0.999506   \n",
       "1742    stand           1      1  1748.0   0.000247       0.999753   \n",
       "1744  simpler           1      1  1749.0   0.000247       1.000000   \n",
       "\n",
       "      appears_in_pct  \n",
       "1746        0.004545  \n",
       "1740        0.004545  \n",
       "1743        0.004545  \n",
       "1742        0.004545  \n",
       "1744        0.004545  "
      ]
     },
     "execution_count": 63,
     "metadata": {},
     "output_type": "execute_result"
    }
   ],
   "source": [
    "wc.tail(5)"
   ]
  },
  {
   "cell_type": "markdown",
   "metadata": {},
   "source": [
    "## Challenge\n",
    "\n",
    "In the module project, you will apply stop word removal to a new corpus. You will focus on applying dictionary based stop word removal, but as a stretch goal, you should consider applying statistical stopword trimming. "
   ]
  },
  {
   "cell_type": "markdown",
   "metadata": {
    "toc-hr-collapsed": false
   },
   "source": [
    "# Stemming & Lemmatization (Learn)\n",
    "<a id=\"p3\"></a>"
   ]
  },
  {
   "cell_type": "markdown",
   "metadata": {
    "toc-hr-collapsed": false
   },
   "source": [
    "## Overview\n",
    "\n",
    "You can see from our example above there is still some normalization to do to get a clean analysis. You notice that there many words (*i.e.* 'batteries', 'battery') which share the same root word. We can use either the process of stemming or lemmatization to trim our words down to the 'root' word. \n",
    "\n",
    "__Section Agenda__:\n",
    "\n",
    "- Which is which\n",
    "- why use one v. other\n",
    "- show side by side visualizations \n",
    "- how to do it in spacy & nltk\n",
    "- introduce PoS in here as well"
   ]
  },
  {
   "cell_type": "markdown",
   "metadata": {
    "toc-hr-collapsed": true
   },
   "source": [
    "## Follow Along"
   ]
  },
  {
   "cell_type": "markdown",
   "metadata": {
    "toc-hr-collapsed": true
   },
   "source": [
    "### Stemming\n",
    "\n",
    "> *a process for removing the commoner morphological and inflexional endings from words in English. Its main use is as part of a term normalisation process that is usually done when setting up Information Retrieval systems.* - [Martin Porter](https://tartarus.org/martin/PorterStemmer/)\n",
    "\n",
    "Some examples include:\n",
    "- 'ing'\n",
    "- 'ed'\n",
    "- 's'\n",
    "\n",
    "These rules are by no means comprehensive, but they are somewhere to start. Most stemming is done by well documented algorithms such as Porter, Snowball, and Dawson. Porter and its newer version Snowball are the most popular stemming algorithms today. For more information on various stemming algorithms check out [*\"A Comparative Study of Stemming Algorithms\"*](https://pdfs.semanticscholar.org/1c0c/0fa35d4ff8a2f925eb955e48d655494bd167.pdf) \n",
    "\n",
    "\n",
    "Spacy does not do stemming out of the box, but instead uses a different technique called *lemmatization* which we will discuss in the next section. Let's turn to an antique python package `nltk` for stemming. "
   ]
  },
  {
   "cell_type": "code",
   "execution_count": 64,
   "metadata": {},
   "outputs": [
    {
     "name": "stdout",
     "output_type": "stream",
     "text": [
      "python\n",
      "python\n",
      "python\n",
      "python\n",
      "pythonli\n",
      "game\n",
      "game\n",
      "wolv\n"
     ]
    }
   ],
   "source": [
    "ps = PorterStemmer()\n",
    "\n",
    "words = [\"python\", \"pythoner\", \"pythoning\", \"pythoned\", \"pythonly\", \"games\", \"gaming\", \"wolves\"]\n",
    "for word in words:\n",
    "    print(ps.stem(word))"
   ]
  },
  {
   "cell_type": "markdown",
   "metadata": {},
   "source": [
    "### Two Minute Challenge\n",
    "\n",
    "Apply the Porter stemming algorithm to the tokens in the `df` dataframe. Visualize the results in the tree graph we have been using for this session."
   ]
  },
  {
   "cell_type": "code",
   "execution_count": 65,
   "metadata": {},
   "outputs": [
    {
     "name": "stderr",
     "output_type": "stream",
     "text": [
      "/Applications/anaconda3/envs/U4-S1-NLP/lib/python3.7/site-packages/tqdm/std.py:702: FutureWarning: The Panel class is removed from pandas. Accessing it from the top-level namespace will also be removed in the next version\n",
      "  from pandas import Panel\n"
     ]
    }
   ],
   "source": [
    "# Leverage tqdm for progress_apply\n",
    "from tqdm import tqdm\n",
    "tqdm.pandas()"
   ]
  },
  {
   "cell_type": "code",
   "execution_count": 66,
   "metadata": {},
   "outputs": [
    {
     "data": {
      "text/html": [
       "<div>\n",
       "<style scoped>\n",
       "    .dataframe tbody tr th:only-of-type {\n",
       "        vertical-align: middle;\n",
       "    }\n",
       "\n",
       "    .dataframe tbody tr th {\n",
       "        vertical-align: top;\n",
       "    }\n",
       "\n",
       "    .dataframe thead th {\n",
       "        text-align: right;\n",
       "    }\n",
       "</style>\n",
       "<table border=\"1\" class=\"dataframe\">\n",
       "  <thead>\n",
       "    <tr style=\"text-align: right;\">\n",
       "      <th></th>\n",
       "      <th>id</th>\n",
       "      <th>dateAdded</th>\n",
       "      <th>dateUpdated</th>\n",
       "      <th>name</th>\n",
       "      <th>asins</th>\n",
       "      <th>brand</th>\n",
       "      <th>categories</th>\n",
       "      <th>primaryCategories</th>\n",
       "      <th>imageURLs</th>\n",
       "      <th>keys</th>\n",
       "      <th>...</th>\n",
       "      <th>reviews.text</th>\n",
       "      <th>reviews.title</th>\n",
       "      <th>reviews.username</th>\n",
       "      <th>sourceURLs</th>\n",
       "      <th>base_tokens</th>\n",
       "      <th>spaCy_tokens</th>\n",
       "      <th>spaCy_tokens_v2</th>\n",
       "      <th>spaCy_tokens_v3</th>\n",
       "      <th>FireHD_8</th>\n",
       "      <th>Kindle</th>\n",
       "    </tr>\n",
       "  </thead>\n",
       "  <tbody>\n",
       "    <tr>\n",
       "      <th>0</th>\n",
       "      <td>AVpflnS7ilAPnD_xehxE</td>\n",
       "      <td>2015-01-22T12:25:23Z</td>\n",
       "      <td>2019-04-22T11:07:50Z</td>\n",
       "      <td>AmazonBasics 15.6-Inch Laptop and Tablet Bag</td>\n",
       "      <td>B00DUGZFWY</td>\n",
       "      <td>amazonbasics</td>\n",
       "      <td>Bags, Cases &amp; Sleeves,Computers &amp; Accessories,...</td>\n",
       "      <td>Electronics</td>\n",
       "      <td>http://i.ebayimg.com/images/g/V9oAAOSwFGNWTa-h...</td>\n",
       "      <td>amazonbasics156inchlaptoptabletbag/b00dugzfwy,...</td>\n",
       "      <td>...</td>\n",
       "      <td>Very well constructed and reasonably priced.</td>\n",
       "      <td>laptop computer bag</td>\n",
       "      <td>docarte-38</td>\n",
       "      <td>https://www.amazon.com/AmazonBasics-15-6-Inch-...</td>\n",
       "      <td>[very, well, constructed, and, reasonably, pri...</td>\n",
       "      <td>[Very, well, constructed, and, reasonably, pri...</td>\n",
       "      <td>[constructed, reasonably, priced.]</td>\n",
       "      <td>[constructed, reasonably, priced.]</td>\n",
       "      <td>False</td>\n",
       "      <td>False</td>\n",
       "    </tr>\n",
       "  </tbody>\n",
       "</table>\n",
       "<p>1 rows × 30 columns</p>\n",
       "</div>"
      ],
      "text/plain": [
       "                     id             dateAdded           dateUpdated  \\\n",
       "0  AVpflnS7ilAPnD_xehxE  2015-01-22T12:25:23Z  2019-04-22T11:07:50Z   \n",
       "\n",
       "                                           name       asins         brand  \\\n",
       "0  AmazonBasics 15.6-Inch Laptop and Tablet Bag  B00DUGZFWY  amazonbasics   \n",
       "\n",
       "                                          categories primaryCategories  \\\n",
       "0  Bags, Cases & Sleeves,Computers & Accessories,...       Electronics   \n",
       "\n",
       "                                           imageURLs  \\\n",
       "0  http://i.ebayimg.com/images/g/V9oAAOSwFGNWTa-h...   \n",
       "\n",
       "                                                keys  ...  \\\n",
       "0  amazonbasics156inchlaptoptabletbag/b00dugzfwy,...  ...   \n",
       "\n",
       "                                   reviews.text        reviews.title  \\\n",
       "0  Very well constructed and reasonably priced.  laptop computer bag   \n",
       "\n",
       "  reviews.username                                         sourceURLs  \\\n",
       "0       docarte-38  https://www.amazon.com/AmazonBasics-15-6-Inch-...   \n",
       "\n",
       "                                         base_tokens  \\\n",
       "0  [very, well, constructed, and, reasonably, pri...   \n",
       "\n",
       "                                        spaCy_tokens  \\\n",
       "0  [Very, well, constructed, and, reasonably, pri...   \n",
       "\n",
       "                      spaCy_tokens_v2                     spaCy_tokens_v3  \\\n",
       "0  [constructed, reasonably, priced.]  [constructed, reasonably, priced.]   \n",
       "\n",
       "   FireHD_8 Kindle  \n",
       "0     False  False  \n",
       "\n",
       "[1 rows x 30 columns]"
      ]
     },
     "execution_count": 66,
     "metadata": {},
     "output_type": "execute_result"
    }
   ],
   "source": [
    "df.head(1)"
   ]
  },
  {
   "cell_type": "code",
   "execution_count": 67,
   "metadata": {},
   "outputs": [
    {
     "name": "stderr",
     "output_type": "stream",
     "text": [
      "100%|██████████| 220/220 [00:00<00:00, 2240.22it/s]\n"
     ]
    },
    {
     "data": {
      "text/html": [
       "<div>\n",
       "<style scoped>\n",
       "    .dataframe tbody tr th:only-of-type {\n",
       "        vertical-align: middle;\n",
       "    }\n",
       "\n",
       "    .dataframe tbody tr th {\n",
       "        vertical-align: top;\n",
       "    }\n",
       "\n",
       "    .dataframe thead th {\n",
       "        text-align: right;\n",
       "    }\n",
       "</style>\n",
       "<table border=\"1\" class=\"dataframe\">\n",
       "  <thead>\n",
       "    <tr style=\"text-align: right;\">\n",
       "      <th></th>\n",
       "      <th>id</th>\n",
       "      <th>dateAdded</th>\n",
       "      <th>dateUpdated</th>\n",
       "      <th>name</th>\n",
       "      <th>asins</th>\n",
       "      <th>brand</th>\n",
       "      <th>categories</th>\n",
       "      <th>primaryCategories</th>\n",
       "      <th>imageURLs</th>\n",
       "      <th>keys</th>\n",
       "      <th>...</th>\n",
       "      <th>reviews.title</th>\n",
       "      <th>reviews.username</th>\n",
       "      <th>sourceURLs</th>\n",
       "      <th>base_tokens</th>\n",
       "      <th>spaCy_tokens</th>\n",
       "      <th>spaCy_tokens_v2</th>\n",
       "      <th>spaCy_tokens_v3</th>\n",
       "      <th>FireHD_8</th>\n",
       "      <th>Kindle</th>\n",
       "      <th>stems</th>\n",
       "    </tr>\n",
       "  </thead>\n",
       "  <tbody>\n",
       "    <tr>\n",
       "      <th>0</th>\n",
       "      <td>AVpflnS7ilAPnD_xehxE</td>\n",
       "      <td>2015-01-22T12:25:23Z</td>\n",
       "      <td>2019-04-22T11:07:50Z</td>\n",
       "      <td>AmazonBasics 15.6-Inch Laptop and Tablet Bag</td>\n",
       "      <td>B00DUGZFWY</td>\n",
       "      <td>amazonbasics</td>\n",
       "      <td>Bags, Cases &amp; Sleeves,Computers &amp; Accessories,...</td>\n",
       "      <td>Electronics</td>\n",
       "      <td>http://i.ebayimg.com/images/g/V9oAAOSwFGNWTa-h...</td>\n",
       "      <td>amazonbasics156inchlaptoptabletbag/b00dugzfwy,...</td>\n",
       "      <td>...</td>\n",
       "      <td>laptop computer bag</td>\n",
       "      <td>docarte-38</td>\n",
       "      <td>https://www.amazon.com/AmazonBasics-15-6-Inch-...</td>\n",
       "      <td>[very, well, constructed, and, reasonably, pri...</td>\n",
       "      <td>[Very, well, constructed, and, reasonably, pri...</td>\n",
       "      <td>[constructed, reasonably, priced.]</td>\n",
       "      <td>[constructed, reasonably, priced.]</td>\n",
       "      <td>False</td>\n",
       "      <td>False</td>\n",
       "      <td>[construct, reason, price]</td>\n",
       "    </tr>\n",
       "  </tbody>\n",
       "</table>\n",
       "<p>1 rows × 31 columns</p>\n",
       "</div>"
      ],
      "text/plain": [
       "                     id             dateAdded           dateUpdated  \\\n",
       "0  AVpflnS7ilAPnD_xehxE  2015-01-22T12:25:23Z  2019-04-22T11:07:50Z   \n",
       "\n",
       "                                           name       asins         brand  \\\n",
       "0  AmazonBasics 15.6-Inch Laptop and Tablet Bag  B00DUGZFWY  amazonbasics   \n",
       "\n",
       "                                          categories primaryCategories  \\\n",
       "0  Bags, Cases & Sleeves,Computers & Accessories,...       Electronics   \n",
       "\n",
       "                                           imageURLs  \\\n",
       "0  http://i.ebayimg.com/images/g/V9oAAOSwFGNWTa-h...   \n",
       "\n",
       "                                                keys  ...  \\\n",
       "0  amazonbasics156inchlaptoptabletbag/b00dugzfwy,...  ...   \n",
       "\n",
       "         reviews.title reviews.username  \\\n",
       "0  laptop computer bag       docarte-38   \n",
       "\n",
       "                                          sourceURLs  \\\n",
       "0  https://www.amazon.com/AmazonBasics-15-6-Inch-...   \n",
       "\n",
       "                                         base_tokens  \\\n",
       "0  [very, well, constructed, and, reasonably, pri...   \n",
       "\n",
       "                                        spaCy_tokens  \\\n",
       "0  [Very, well, constructed, and, reasonably, pri...   \n",
       "\n",
       "                      spaCy_tokens_v2                     spaCy_tokens_v3  \\\n",
       "0  [constructed, reasonably, priced.]  [constructed, reasonably, priced.]   \n",
       "\n",
       "   FireHD_8  Kindle                       stems  \n",
       "0     False   False  [construct, reason, price]  \n",
       "\n",
       "[1 rows x 31 columns]"
      ]
     },
     "execution_count": 67,
     "metadata": {},
     "output_type": "execute_result"
    }
   ],
   "source": [
    "# Put in a new column `stems`\n",
    "df['stems'] = df.base_tokens.progress_apply(lambda x: [ps.stem(word) for word in x if word not in STOP_WORDS])\n",
    "df.head(1)"
   ]
  },
  {
   "cell_type": "code",
   "execution_count": 68,
   "metadata": {},
   "outputs": [
    {
     "name": "stdout",
     "output_type": "stream",
     "text": [
      "(1055, 7)\n"
     ]
    },
    {
     "data": {
      "text/html": [
       "<div>\n",
       "<style scoped>\n",
       "    .dataframe tbody tr th:only-of-type {\n",
       "        vertical-align: middle;\n",
       "    }\n",
       "\n",
       "    .dataframe tbody tr th {\n",
       "        vertical-align: top;\n",
       "    }\n",
       "\n",
       "    .dataframe thead th {\n",
       "        text-align: right;\n",
       "    }\n",
       "</style>\n",
       "<table border=\"1\" class=\"dataframe\">\n",
       "  <thead>\n",
       "    <tr style=\"text-align: right;\">\n",
       "      <th></th>\n",
       "      <th>word</th>\n",
       "      <th>appears_in</th>\n",
       "      <th>count</th>\n",
       "      <th>rank</th>\n",
       "      <th>pct_total</th>\n",
       "      <th>cul_pct_total</th>\n",
       "      <th>appears_in_pct</th>\n",
       "    </tr>\n",
       "  </thead>\n",
       "  <tbody>\n",
       "    <tr>\n",
       "      <th>3</th>\n",
       "      <td>great</td>\n",
       "      <td>75</td>\n",
       "      <td>93</td>\n",
       "      <td>1.0</td>\n",
       "      <td>0.023944</td>\n",
       "      <td>0.023944</td>\n",
       "      <td>0.340909</td>\n",
       "    </tr>\n",
       "    <tr>\n",
       "      <th>616</th>\n",
       "      <td>sound</td>\n",
       "      <td>61</td>\n",
       "      <td>74</td>\n",
       "      <td>2.0</td>\n",
       "      <td>0.019053</td>\n",
       "      <td>0.042997</td>\n",
       "      <td>0.277273</td>\n",
       "    </tr>\n",
       "    <tr>\n",
       "      <th>505</th>\n",
       "      <td>echo</td>\n",
       "      <td>49</td>\n",
       "      <td>68</td>\n",
       "      <td>3.0</td>\n",
       "      <td>0.017508</td>\n",
       "      <td>0.060505</td>\n",
       "      <td>0.222727</td>\n",
       "    </tr>\n",
       "    <tr>\n",
       "      <th>552</th>\n",
       "      <td>alexa</td>\n",
       "      <td>42</td>\n",
       "      <td>60</td>\n",
       "      <td>4.0</td>\n",
       "      <td>0.015448</td>\n",
       "      <td>0.075953</td>\n",
       "      <td>0.190909</td>\n",
       "    </tr>\n",
       "    <tr>\n",
       "      <th>699</th>\n",
       "      <td>tap</td>\n",
       "      <td>39</td>\n",
       "      <td>57</td>\n",
       "      <td>5.0</td>\n",
       "      <td>0.014676</td>\n",
       "      <td>0.090628</td>\n",
       "      <td>0.177273</td>\n",
       "    </tr>\n",
       "  </tbody>\n",
       "</table>\n",
       "</div>"
      ],
      "text/plain": [
       "      word  appears_in  count  rank  pct_total  cul_pct_total  appears_in_pct\n",
       "3    great          75     93   1.0   0.023944       0.023944        0.340909\n",
       "616  sound          61     74   2.0   0.019053       0.042997        0.277273\n",
       "505   echo          49     68   3.0   0.017508       0.060505        0.222727\n",
       "552  alexa          42     60   4.0   0.015448       0.075953        0.190909\n",
       "699    tap          39     57   5.0   0.014676       0.090628        0.177273"
      ]
     },
     "execution_count": 68,
     "metadata": {},
     "output_type": "execute_result"
    }
   ],
   "source": [
    "wc = count(df['stems'])\n",
    "print(wc.shape)\n",
    "wc.head()"
   ]
  },
  {
   "cell_type": "code",
   "execution_count": 69,
   "metadata": {},
   "outputs": [
    {
     "data": {
      "image/png": "[encoded data removed]",
      "text/plain": [
       "<Figure size 576x576 with 1 Axes>"
      ]
     },
     "metadata": {
      "needs_background": "light"
     },
     "output_type": "display_data"
    }
   ],
   "source": [
    "wc_top20 = wc[wc['rank'] <= 20]\n",
    "\n",
    "plt.figure(figsize=(8,8))\n",
    "squarify.plot(sizes=wc_top20['pct_total'], label=wc_top20['word'], alpha=.8 )\n",
    "plt.axis('off')\n",
    "plt.show()"
   ]
  },
  {
   "cell_type": "markdown",
   "metadata": {
    "toc-hr-collapsed": false
   },
   "source": [
    "### Lemmatization\n",
    "\n",
    "You notice immediately that results are kinda funky - words just oddly chopped off. The Porter algorithm did exactly what it knows to do: chop off endings. Stemming works well in applications where humans don't have to worry about reading the results. Search engines and more broadly information retrieval algorithms use stemming. Why? Because it's fast. \n",
    "\n",
    "Lemmatization on the other hand is more methodical. The goal is to transform a word into its base form called a lemma. Plural nouns with funky spellings get transformed to singular tense. Verbs are all transformed to the transitive. Nice tidy data for a visualization. :) However, this tidy data can come at computational cost. Spacy does a pretty freaking good job of it though. Let's take a look:"
   ]
  },
  {
   "cell_type": "code",
   "execution_count": 73,
   "metadata": {},
   "outputs": [
    {
     "name": "stdout",
     "output_type": "stream",
     "text": [
      "This    this\n",
      "is    be\n",
      "the    the\n",
      "start    start\n",
      "of    of\n",
      "our    -PRON-\n",
      "NLP    NLP\n",
      "adventures    adventure\n",
      ".    .\n",
      "We    -PRON-\n",
      "started    start\n",
      "here    here\n",
      "with    with\n",
      "Spacy    Spacy\n",
      ".    .\n",
      "We    -PRON-\n",
      "are    be\n",
      "starting    start\n",
      "here    here\n",
      "with    with\n",
      "NLP    NLP\n",
      ".    .\n"
     ]
    }
   ],
   "source": [
    "sent = \"This is the start of our NLP adventures. We started here with Spacy. We are starting here with NLP.\"\n",
    "\n",
    "nlp = spacy.load(\"en_core_web_md\")\n",
    "doc = nlp(sent)\n",
    "\n",
    "# Lemma Attributes\n",
    "for token in doc:\n",
    "    print(token.text, \"  \", token.lemma_)"
   ]
  },
  {
   "cell_type": "code",
   "execution_count": 74,
   "metadata": {},
   "outputs": [],
   "source": [
    "# Wrap it all in a function\n",
    "def get_lemmas(text):\n",
    "\n",
    "    doc = nlp(text)\n",
    "    \n",
    "    lemmas = []\n",
    "    for token in doc: \n",
    "        if ((token.is_stop == False) and (token.is_punct == False)) and (token.pos_ != 'PRON'):\n",
    "            lemmas.append(token.lemma_)\n",
    "    \n",
    "    return lemmas"
   ]
  },
  {
   "cell_type": "code",
   "execution_count": 75,
   "metadata": {},
   "outputs": [
    {
     "name": "stderr",
     "output_type": "stream",
     "text": [
      "100%|██████████| 220/220 [00:02<00:00, 94.81it/s] \n"
     ]
    },
    {
     "data": {
      "text/plain": [
       "0                       [construct, reasonably, price]\n",
       "1                                        [great, like]\n",
       "2                             [buy, bad, price, worth]\n",
       "3            [fit, small, outside, inside, big, thank]\n",
       "4    [like, item, price, quality, usability, ideal,...\n",
       "Name: lemmas, dtype: object"
      ]
     },
     "execution_count": 75,
     "metadata": {},
     "output_type": "execute_result"
    }
   ],
   "source": [
    "df['lemmas'] = df['reviews.text'].progress_apply(get_lemmas)\n",
    "df['lemmas'].head()"
   ]
  },
  {
   "cell_type": "code",
   "execution_count": 76,
   "metadata": {},
   "outputs": [
    {
     "name": "stdout",
     "output_type": "stream",
     "text": [
      "(1097, 7)\n"
     ]
    },
    {
     "data": {
      "text/html": [
       "<div>\n",
       "<style scoped>\n",
       "    .dataframe tbody tr th:only-of-type {\n",
       "        vertical-align: middle;\n",
       "    }\n",
       "\n",
       "    .dataframe tbody tr th {\n",
       "        vertical-align: top;\n",
       "    }\n",
       "\n",
       "    .dataframe thead th {\n",
       "        text-align: right;\n",
       "    }\n",
       "</style>\n",
       "<table border=\"1\" class=\"dataframe\">\n",
       "  <thead>\n",
       "    <tr style=\"text-align: right;\">\n",
       "      <th></th>\n",
       "      <th>word</th>\n",
       "      <th>appears_in</th>\n",
       "      <th>count</th>\n",
       "      <th>rank</th>\n",
       "      <th>pct_total</th>\n",
       "      <th>cul_pct_total</th>\n",
       "      <th>appears_in_pct</th>\n",
       "    </tr>\n",
       "  </thead>\n",
       "  <tbody>\n",
       "    <tr>\n",
       "      <th>3</th>\n",
       "      <td>great</td>\n",
       "      <td>75</td>\n",
       "      <td>93</td>\n",
       "      <td>1.0</td>\n",
       "      <td>0.023755</td>\n",
       "      <td>0.023755</td>\n",
       "      <td>0.340909</td>\n",
       "    </tr>\n",
       "    <tr>\n",
       "      <th>621</th>\n",
       "      <td>sound</td>\n",
       "      <td>60</td>\n",
       "      <td>70</td>\n",
       "      <td>2.0</td>\n",
       "      <td>0.017880</td>\n",
       "      <td>0.041635</td>\n",
       "      <td>0.272727</td>\n",
       "    </tr>\n",
       "    <tr>\n",
       "      <th>157</th>\n",
       "      <td>good</td>\n",
       "      <td>47</td>\n",
       "      <td>60</td>\n",
       "      <td>3.0</td>\n",
       "      <td>0.015326</td>\n",
       "      <td>0.056960</td>\n",
       "      <td>0.213636</td>\n",
       "    </tr>\n",
       "    <tr>\n",
       "      <th>17</th>\n",
       "      <td>Amazon</td>\n",
       "      <td>38</td>\n",
       "      <td>55</td>\n",
       "      <td>4.0</td>\n",
       "      <td>0.014049</td>\n",
       "      <td>0.071009</td>\n",
       "      <td>0.172727</td>\n",
       "    </tr>\n",
       "    <tr>\n",
       "      <th>547</th>\n",
       "      <td>Alexa</td>\n",
       "      <td>37</td>\n",
       "      <td>54</td>\n",
       "      <td>5.0</td>\n",
       "      <td>0.013793</td>\n",
       "      <td>0.084802</td>\n",
       "      <td>0.168182</td>\n",
       "    </tr>\n",
       "  </tbody>\n",
       "</table>\n",
       "</div>"
      ],
      "text/plain": [
       "       word  appears_in  count  rank  pct_total  cul_pct_total  appears_in_pct\n",
       "3     great          75     93   1.0   0.023755       0.023755        0.340909\n",
       "621   sound          60     70   2.0   0.017880       0.041635        0.272727\n",
       "157    good          47     60   3.0   0.015326       0.056960        0.213636\n",
       "17   Amazon          38     55   4.0   0.014049       0.071009        0.172727\n",
       "547   Alexa          37     54   5.0   0.013793       0.084802        0.168182"
      ]
     },
     "execution_count": 76,
     "metadata": {},
     "output_type": "execute_result"
    }
   ],
   "source": [
    "wc = count(df['lemmas'])\n",
    "print(wc.shape)\n",
    "wc.head()"
   ]
  },
  {
   "cell_type": "code",
   "execution_count": 77,
   "metadata": {},
   "outputs": [
    {
     "data": {
      "image/png": "[encoded data removed]",
      "text/plain": [
       "<Figure size 432x288 with 1 Axes>"
      ]
     },
     "metadata": {
      "needs_background": "light"
     },
     "output_type": "display_data"
    }
   ],
   "source": [
    "wc_top20 = wc[wc['rank'] <= 20]\n",
    "\n",
    "squarify.plot(sizes=wc_top20['pct_total'], label=wc_top20['word'], alpha=.8 )\n",
    "plt.axis('off')\n",
    "plt.show()"
   ]
  },
  {
   "cell_type": "markdown",
   "metadata": {},
   "source": [
    "## Challenge\n",
    "\n",
    "You should know how to apply lemmatization with Spacy to a corpus of text. "
   ]
  },
  {
   "cell_type": "markdown",
   "metadata": {},
   "source": [
    "## Extra Material (if time permits)\n",
    "\n",
    "Go to terminal:\n",
    "- conda activate U4-S1-NLP\n",
    "- conda install -c conda-forge textblob\n",
    "\n",
    "Good reference article: https://planspace.org/20150607-textblob_sentiment/"
   ]
  },
  {
   "cell_type": "code",
   "execution_count": 78,
   "metadata": {},
   "outputs": [],
   "source": [
    "sns.set(rc={'figure.figsize':(30,1)})\n",
    "\n",
    "def visualise_sentiments(data):\n",
    "    sns.heatmap(pd.DataFrame(data).set_index(\"Sentence\").T,center=0, annot=True, cmap = \"PiYG\")"
   ]
  },
  {
   "cell_type": "code",
   "execution_count": 79,
   "metadata": {},
   "outputs": [
    {
     "ename": "ModuleNotFoundError",
     "evalue": "No module named 'textblob'",
     "output_type": "error",
     "traceback": [
      "\u001b[0;31m---------------------------------------------------------------------------\u001b[0m",
      "\u001b[0;31mModuleNotFoundError\u001b[0m                       Traceback (most recent call last)",
      "\u001b[0;32m<ipython-input-79-6ce06167165e>\u001b[0m in \u001b[0;36m<module>\u001b[0;34m\u001b[0m\n\u001b[0;32m----> 1\u001b[0;31m \u001b[0;32mfrom\u001b[0m \u001b[0mtextblob\u001b[0m \u001b[0;32mimport\u001b[0m \u001b[0mTextBlob\u001b[0m\u001b[0;34m\u001b[0m\u001b[0m\n\u001b[0m\u001b[1;32m      2\u001b[0m \u001b[0;34m\u001b[0m\u001b[0m\n\u001b[1;32m      3\u001b[0m \u001b[0;31m# Sentiment analysis (or opinion mining) attempts to determine if a text is objective or subjective, positive or negative.\u001b[0m\u001b[0;34m\u001b[0m\u001b[0;34m\u001b[0m\u001b[0m\n\u001b[1;32m      4\u001b[0m \u001b[0;31m# The sentiment analysis lexicon bundled in Pattern focuses on adjectives.\u001b[0m\u001b[0;34m\u001b[0m\u001b[0;34m\u001b[0m\u001b[0m\n\u001b[1;32m      5\u001b[0m \u001b[0;31m# It contains adjectives that occur frequently in customer reviews, hand-tagged with values for polarity and subjectivity.\u001b[0m\u001b[0;34m\u001b[0m\u001b[0;34m\u001b[0m\u001b[0m\n",
      "\u001b[0;31mModuleNotFoundError\u001b[0m: No module named 'textblob'"
     ]
    }
   ],
   "source": [
    "from textblob import TextBlob\n",
    "\n",
    "# Sentiment analysis (or opinion mining) attempts to determine if a text is objective or subjective, positive or negative.\n",
    "# The sentiment analysis lexicon bundled in Pattern focuses on adjectives.\n",
    "# It contains adjectives that occur frequently in customer reviews, hand-tagged with values for polarity and subjectivity.\n",
    "\n",
    "# Calculate sentiment\n",
    "TextBlob(\"Textblob makes it simple and easy to calculate sentiment\").sentiment"
   ]
  },
  {
   "cell_type": "code",
   "execution_count": null,
   "metadata": {},
   "outputs": [],
   "source": [
    "sentence = df['reviews.text'].iloc[0]\n",
    "print(sentence)\n",
    "TextBlob(sentence).sentiment"
   ]
  },
  {
   "cell_type": "code",
   "execution_count": null,
   "metadata": {},
   "outputs": [],
   "source": [
    "visualise_sentiments({\n",
    "      \"Sentence\":[\"SENTENCE\"] + sentence.split(),\n",
    "      \"Sentiment\":[TextBlob(sentence).polarity] + [TextBlob(word).polarity for word in sentence.split()],\n",
    "})"
   ]
  },
  {
   "cell_type": "code",
   "execution_count": null,
   "metadata": {},
   "outputs": [],
   "source": [
    "# Spelling correction\n",
    "TextBlob(\"Textblob also makes it simple and esy to corectt speling\").correct()"
   ]
  },
  {
   "cell_type": "markdown",
   "metadata": {},
   "source": [
    "## Scattertext Kindle vs. FireHD Comparison\n",
    "\n",
    "To run this section, go to your terminal and execute: \n",
    "\n",
    "- pip install scattertext"
   ]
  },
  {
   "cell_type": "code",
   "execution_count": null,
   "metadata": {},
   "outputs": [],
   "source": [
    "# Create a copy and add column with product tags\n",
    "subset_df = df.copy()\n",
    "subset_df.loc[subset_df['name'].str.contains('kindle', case=False), 'product'] = 'Kindle'\n",
    "subset_df.loc[subset_df['name'].str.contains('fire hd 8', case=False), 'product'] = 'Fire HD 8'\n",
    "\n",
    "# Drop Review that aren't Kindle/Fire HD 8\n",
    "subset_df.dropna(subset=['product'], inplace=True)\n",
    "\n",
    "# Confirm shape and distribution of reviews\n",
    "print(subset_df.shape)\n",
    "subset_df['product'].value_counts()"
   ]
  },
  {
   "cell_type": "code",
   "execution_count": null,
   "metadata": {},
   "outputs": [],
   "source": [
    "import scattertext as st\n",
    "\n",
    "corpus = st.CorpusFromPandas(subset_df, \n",
    "                             category_col='product', \n",
    "                             text_col='reviews.text',\n",
    "                             nlp=nlp).build()\n",
    "\n",
    "html = st.produce_scattertext_explorer(\n",
    "    corpus,\n",
    "    category='Kindle',\n",
    "    category_name='Kindle',\n",
    "    not_category_name='Fire HD 8',\n",
    "    width_in_pixels=1000,\n",
    "    metadata=subset_df['reviews.rating'])\n",
    "open('./kindle_vs_firehd8.html', 'w').write(html)"
   ]
  },
  {
   "cell_type": "markdown",
   "metadata": {},
   "source": [
    "# Review\n",
    "\n",
    "In this module project, you've seen us apply Natural Language Processing techniques (tokenization, stopword removal, and lemmatization) to a corpus of Amazon text reviews. We analyzed those reviews using these techniques and discovered that Amazon customers are generally satisfied with the battery life of Amazon products and generally appear satisfied. \n",
    "\n",
    "You will apply similar techniques to today's [module project assignment](LS_DS_411_Text_Data_Assignment.ipynb) to analyze coffee shop reviews from yelp. Remember that the techniques of processing the text are just the beginning. There are many ways to slice and dice the data. "
   ]
  },
  {
   "cell_type": "markdown",
   "metadata": {},
   "source": [
    "# Sources\n",
    "\n",
    "* Spacy 101 - https://course.spacy.io\n",
    "* NLTK Book - https://www.nltk.org/book/\n",
    "* An Introduction to Information Retrieval - https://nlp.stanford.edu/IR-book/pdf/irbookonlinereading.pdf"
   ]
  },
  {
   "cell_type": "markdown",
   "metadata": {
    "toc-hr-collapsed": true
   },
   "source": [
    "## Advanced Resources & Techniques\n",
    "- Named Entity Recognition (NER)\n",
    "- Dependcy Trees \n",
    "- Generators\n",
    "- the major libraries (NLTK, Spacy, Gensim)"
   ]
  }
 ],
 "metadata": {
  "kernelspec": {
   "display_name": "U4-S1-NLP (Python3)",
   "language": "python",
   "name": "u4-s1-nlp"
  },
  "language_info": {
   "codemirror_mode": {
    "name": "ipython",
    "version": 3
   },
   "file_extension": ".py",
   "mimetype": "text/x-python",
   "name": "python",
   "nbconvert_exporter": "python",
   "pygments_lexer": "ipython3",
   "version": "3.7.0"
  },
  "toc-autonumbering": false,
  "toc-showcode": false,
  "toc-showmarkdowntxt": false
 },
 "nbformat": 4,
 "nbformat_minor": 4
}
