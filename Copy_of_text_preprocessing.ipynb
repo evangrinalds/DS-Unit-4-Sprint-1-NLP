{
  "nbformat": 4,
  "nbformat_minor": 0,
  "metadata": {
    "kernelspec": {
      "display_name": "Python 3",
      "language": "python",
      "name": "python3"
    },
    "language_info": {
      "codemirror_mode": {
        "name": "ipython",
        "version": 3
      },
      "file_extension": ".py",
      "mimetype": "text/x-python",
      "name": "python",
      "nbconvert_exporter": "python",
      "pygments_lexer": "ipython3",
      "version": "3.6.9"
    },
    "colab": {
      "name": "Copy of text-preprocessing.ipynb",
      "provenance": []
    }
  },
  "cells": [
    {
      "cell_type": "markdown",
      "metadata": {
        "id": "5Rozj7PYQvNZ",
        "colab_type": "text"
      },
      "source": [
        "Welcome to your first warm up assignment inside your new groups! As usual one of you should start up a Zoom call and work together with your new teammates to complete the following assignment."
      ]
    },
    {
      "cell_type": "markdown",
      "metadata": {
        "id": "jOtp-zVuQvNi",
        "colab_type": "text"
      },
      "source": [
        "# Concepts"
      ]
    },
    {
      "cell_type": "markdown",
      "metadata": {
        "id": "i0ax01ArQvNz",
        "colab_type": "text"
      },
      "source": [
        "#### 1. In the term \"natural language processing\" what is meant by the word \"natural\"?"
      ]
    },
    {
      "cell_type": "markdown",
      "metadata": {
        "id": "kGf6DTatQvOC",
        "colab_type": "text"
      },
      "source": [
        ""
      ]
    },
    {
      "cell_type": "markdown",
      "metadata": {
        "id": "Q_OfG1DUQvOK",
        "colab_type": "text"
      },
      "source": [
        "#### 2. What are stop words?"
      ]
    },
    {
      "cell_type": "markdown",
      "metadata": {
        "id": "Hbyca5FDQvOr",
        "colab_type": "text"
      },
      "source": [
        ""
      ]
    },
    {
      "cell_type": "markdown",
      "metadata": {
        "id": "R5MigeZoQvOs",
        "colab_type": "text"
      },
      "source": [
        "#### 3. What is the difference between stemming and lemmatization?"
      ]
    },
    {
      "cell_type": "markdown",
      "metadata": {
        "id": "IQcfNuEKQvO6",
        "colab_type": "text"
      },
      "source": [
        ""
      ]
    },
    {
      "cell_type": "markdown",
      "metadata": {
        "id": "ydIPNAK3QvPR",
        "colab_type": "text"
      },
      "source": [
        "#### 4. Why do we need to apply these techniques to text data?"
      ]
    },
    {
      "cell_type": "markdown",
      "metadata": {
        "id": "1tz2fTO2QvPV",
        "colab_type": "text"
      },
      "source": [
        ""
      ]
    },
    {
      "cell_type": "markdown",
      "metadata": {
        "id": "9XQ70uuJQvP4",
        "colab_type": "text"
      },
      "source": [
        "#### 5. What are some use cases for NLP that you can think of?"
      ]
    },
    {
      "cell_type": "markdown",
      "metadata": {
        "id": "Y8GSr420QvP5",
        "colab_type": "text"
      },
      "source": [
        ""
      ]
    },
    {
      "cell_type": "markdown",
      "metadata": {
        "id": "CblI3xZHQvP5",
        "colab_type": "text"
      },
      "source": [
        "## Code"
      ]
    },
    {
      "cell_type": "markdown",
      "metadata": {
        "id": "--3hW39oQvP7",
        "colab_type": "text"
      },
      "source": [
        "Let's load in the data that we will be using for this assignment"
      ]
    },
    {
      "cell_type": "code",
      "metadata": {
        "id": "QDJ1THfaQvQQ",
        "colab_type": "code",
        "colab": {
          "base_uri": "https://localhost:8080/",
          "height": 204
        },
        "outputId": "73c33152-5a3e-4190-9d00-4980c05e97bd"
      },
      "source": [
        "import pandas as pd\n",
        "\n",
        "coffee_reviews = pd.read_csv('https://raw.githubusercontent.com/DS-17/DS-Unit-4-Sprint-1-NLP/main/module1-text-data/data/yelp_coffeeshop_review_data.csv')\n",
        "\n",
        "coffee_reviews = coffee_reviews[['full_review_text']]\n",
        "\n",
        "coffee_reviews.head()"
      ],
      "execution_count": 3,
      "outputs": [
        {
          "output_type": "execute_result",
          "data": {
            "text/html": [
              "<div>\n",
              "<style scoped>\n",
              "    .dataframe tbody tr th:only-of-type {\n",
              "        vertical-align: middle;\n",
              "    }\n",
              "\n",
              "    .dataframe tbody tr th {\n",
              "        vertical-align: top;\n",
              "    }\n",
              "\n",
              "    .dataframe thead th {\n",
              "        text-align: right;\n",
              "    }\n",
              "</style>\n",
              "<table border=\"1\" class=\"dataframe\">\n",
              "  <thead>\n",
              "    <tr style=\"text-align: right;\">\n",
              "      <th></th>\n",
              "      <th>full_review_text</th>\n",
              "    </tr>\n",
              "  </thead>\n",
              "  <tbody>\n",
              "    <tr>\n",
              "      <th>0</th>\n",
              "      <td>11/25/2016 1 check-in Love love loved the atm...</td>\n",
              "    </tr>\n",
              "    <tr>\n",
              "      <th>1</th>\n",
              "      <td>12/2/2016 Listed in Date Night: Austin, Ambia...</td>\n",
              "    </tr>\n",
              "    <tr>\n",
              "      <th>2</th>\n",
              "      <td>11/30/2016 1 check-in Listed in Brunch Spots ...</td>\n",
              "    </tr>\n",
              "    <tr>\n",
              "      <th>3</th>\n",
              "      <td>11/25/2016 Very cool decor! Good drinks Nice ...</td>\n",
              "    </tr>\n",
              "    <tr>\n",
              "      <th>4</th>\n",
              "      <td>12/3/2016 1 check-in They are located within ...</td>\n",
              "    </tr>\n",
              "  </tbody>\n",
              "</table>\n",
              "</div>"
            ],
            "text/plain": [
              "                                    full_review_text\n",
              "0   11/25/2016 1 check-in Love love loved the atm...\n",
              "1   12/2/2016 Listed in Date Night: Austin, Ambia...\n",
              "2   11/30/2016 1 check-in Listed in Brunch Spots ...\n",
              "3   11/25/2016 Very cool decor! Good drinks Nice ...\n",
              "4   12/3/2016 1 check-in They are located within ..."
            ]
          },
          "metadata": {
            "tags": []
          },
          "execution_count": 3
        }
      ]
    },
    {
      "cell_type": "markdown",
      "metadata": {
        "id": "rSgC9cOuQvRB",
        "colab_type": "text"
      },
      "source": [
        "### Extract the date from the reviews and place it into its own column"
      ]
    },
    {
      "cell_type": "code",
      "metadata": {
        "id": "a6n5mPziQvRD",
        "colab_type": "code",
        "colab": {
          "base_uri": "https://localhost:8080/",
          "height": 198
        },
        "outputId": "2852d68b-a7f6-496a-c4de-81f608c4126a"
      },
      "source": [
        "df.full_review_text = df.full_review_text.str.strip()\n",
        "df['data'], df['full_text_review'] = df.full_review_text.apply(lambda x: x.split()[0])\n",
        "df"
      ],
      "execution_count": 4,
      "outputs": [
        {
          "output_type": "error",
          "ename": "NameError",
          "evalue": "ignored",
          "traceback": [
            "\u001b[0;31m---------------------------------------------------------------------------\u001b[0m",
            "\u001b[0;31mNameError\u001b[0m                                 Traceback (most recent call last)",
            "\u001b[0;32m<ipython-input-4-98752c7a7363>\u001b[0m in \u001b[0;36m<module>\u001b[0;34m()\u001b[0m\n\u001b[0;32m----> 1\u001b[0;31m \u001b[0mdf\u001b[0m\u001b[0;34m.\u001b[0m\u001b[0mfull_review_text\u001b[0m \u001b[0;34m=\u001b[0m \u001b[0mdf\u001b[0m\u001b[0;34m.\u001b[0m\u001b[0mfull_review_text\u001b[0m\u001b[0;34m.\u001b[0m\u001b[0mstr\u001b[0m\u001b[0;34m.\u001b[0m\u001b[0mstrip\u001b[0m\u001b[0;34m(\u001b[0m\u001b[0;34m)\u001b[0m\u001b[0;34m\u001b[0m\u001b[0;34m\u001b[0m\u001b[0m\n\u001b[0m\u001b[1;32m      2\u001b[0m \u001b[0mdf\u001b[0m\u001b[0;34m[\u001b[0m\u001b[0;34m'data'\u001b[0m\u001b[0;34m]\u001b[0m\u001b[0;34m,\u001b[0m \u001b[0mdf\u001b[0m\u001b[0;34m[\u001b[0m\u001b[0;34m'full_text_review'\u001b[0m\u001b[0;34m]\u001b[0m \u001b[0;34m=\u001b[0m \u001b[0mdf\u001b[0m\u001b[0;34m.\u001b[0m\u001b[0mfull_review_text\u001b[0m\u001b[0;34m.\u001b[0m\u001b[0mapply\u001b[0m\u001b[0;34m(\u001b[0m\u001b[0;32mlambda\u001b[0m \u001b[0mx\u001b[0m\u001b[0;34m:\u001b[0m \u001b[0mx\u001b[0m\u001b[0;34m.\u001b[0m\u001b[0msplit\u001b[0m\u001b[0;34m(\u001b[0m\u001b[0;34m)\u001b[0m\u001b[0;34m[\u001b[0m\u001b[0;36m0\u001b[0m\u001b[0;34m]\u001b[0m\u001b[0;34m)\u001b[0m\u001b[0;34m\u001b[0m\u001b[0;34m\u001b[0m\u001b[0m\n\u001b[1;32m      3\u001b[0m \u001b[0mdf\u001b[0m\u001b[0;34m\u001b[0m\u001b[0;34m\u001b[0m\u001b[0m\n",
            "\u001b[0;31mNameError\u001b[0m: name 'df' is not defined"
          ]
        }
      ]
    },
    {
      "cell_type": "markdown",
      "metadata": {
        "id": "wDwBlbc0QvRc",
        "colab_type": "text"
      },
      "source": [
        "### Make a column that denotes how many characters are in the text review"
      ]
    },
    {
      "cell_type": "code",
      "metadata": {
        "id": "YU3AnCaZQvRc",
        "colab_type": "code",
        "colab": {}
      },
      "source": [
        ""
      ],
      "execution_count": null,
      "outputs": []
    },
    {
      "cell_type": "markdown",
      "metadata": {
        "id": "-OfnK9dTQvRo",
        "colab_type": "text"
      },
      "source": [
        "### Make a column that denotes how many 'words' are in the text review"
      ]
    },
    {
      "cell_type": "code",
      "metadata": {
        "id": "tnZBQTTSQvRs",
        "colab_type": "code",
        "colab": {}
      },
      "source": [
        ""
      ],
      "execution_count": null,
      "outputs": []
    },
    {
      "cell_type": "markdown",
      "metadata": {
        "id": "-g1T-IpfQvRy",
        "colab_type": "text"
      },
      "source": [
        "### Make a column that denotes how many unique words are in each text review (hint: `set()`)"
      ]
    },
    {
      "cell_type": "code",
      "metadata": {
        "id": "FzA5_nURQvRz",
        "colab_type": "code",
        "colab": {}
      },
      "source": [
        ""
      ],
      "execution_count": null,
      "outputs": []
    },
    {
      "cell_type": "markdown",
      "metadata": {
        "id": "t7cCNa_eQvR-",
        "colab_type": "text"
      },
      "source": [
        "### Make a column for the average word length"
      ]
    },
    {
      "cell_type": "code",
      "metadata": {
        "id": "gmCsYXK5QvR_",
        "colab_type": "code",
        "colab": {}
      },
      "source": [
        ""
      ],
      "execution_count": null,
      "outputs": []
    },
    {
      "cell_type": "markdown",
      "metadata": {
        "id": "5QOgGn3AQvSD",
        "colab_type": "text"
      },
      "source": [
        "### Remove punctuation from text reviews"
      ]
    },
    {
      "cell_type": "code",
      "metadata": {
        "id": "bgTQo2HpQvSE",
        "colab_type": "code",
        "colab": {}
      },
      "source": [
        ""
      ],
      "execution_count": null,
      "outputs": []
    },
    {
      "cell_type": "markdown",
      "metadata": {
        "id": "jXGn-1C6QvTG",
        "colab_type": "text"
      },
      "source": [
        "### Make all characters in the review lower-case"
      ]
    },
    {
      "cell_type": "code",
      "metadata": {
        "id": "4FzLrrCxQvTH",
        "colab_type": "code",
        "colab": {}
      },
      "source": [
        ""
      ],
      "execution_count": null,
      "outputs": []
    }
  ]
}