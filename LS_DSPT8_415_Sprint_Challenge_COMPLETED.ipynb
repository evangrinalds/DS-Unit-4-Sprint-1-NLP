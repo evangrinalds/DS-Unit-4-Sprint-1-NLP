{
 "cells": [
  {
   "cell_type": "markdown",
   "metadata": {
    "id": "H2L0Jsjyx-2W"
   },
   "source": [
    "<img align=\"left\" src=\"https://lever-client-logos.s3.amazonaws.com/864372b1-534c-480e-acd5-9711f850815c-1524247202159.png\" width=200>\n",
    "<br></br>\n",
    "<br></br>\n",
    "\n",
    "# Sprint Challenge\n",
    "## *Data Science Unit 4 Sprint 1*\n",
    "\n",
    "After a week of Natural Language Processing, you've learned some cool new stuff: how to process text, how turn text into vectors, and how to model topics from documents. Apply your newly acquired skills to one of the most famous NLP datasets out there: [Yelp](https://www.yelp.com/dataset/challenge). As part of the job selection process, some of my friends have been asked to create analysis of this dataset, so I want to empower you to have a head start.  \n",
    "\n",
    "The real dataset is massive (almost 8 gigs uncompressed). I've sampled the data for you to something more managable for the Sprint Challenge. You can analyze the full dataset as a stretch goal or after the sprint challenge. As you work on the challenge, I suggest adding notes about your findings and things you want to analyze in the future.\n",
    "\n",
    "## Challenge Objectives\n",
    "*Successfully complete these all these objectives to earn a 2. There are more details on each objective further down in the notebook.*\n",
    "* <a href=\"#p1\">Part 1</a>: Write a function to tokenize the yelp reviews\n",
    "* <a href=\"#p2\">Part 2</a>: Create a vector representation of those tokens\n",
    "* <a href=\"#p3\">Part 3</a>: Use your tokens in a classification model on yelp rating\n",
    "* <a href=\"#p4\">Part 4</a>: Estimate & Interpret a topic model of the Yelp reviews"
   ]
  },
  {
   "cell_type": "code",
   "execution_count": 1,
   "metadata": {
    "id": "5m_7Cf2cx-2Y"
   },
   "outputs": [],
   "source": [
    "import pandas as pd\n",
    "\n",
    "df = pd.read_json('https://raw.githubusercontent.com/evangrinalds/DS-Unit-4-Sprint-1-NLP/master/review_sample.json', lines=True)"
   ]
  },
  {
   "cell_type": "code",
   "execution_count": 2,
   "metadata": {
    "id": "eAX1zqC3x-2s",
    "outputId": "4dd96c08-9237-4eb7-c26f-a8d1530fad9f"
   },
   "outputs": [
    {
     "data": {
      "text/html": [
       "<div>\n",
       "<style scoped>\n",
       "    .dataframe tbody tr th:only-of-type {\n",
       "        vertical-align: middle;\n",
       "    }\n",
       "\n",
       "    .dataframe tbody tr th {\n",
       "        vertical-align: top;\n",
       "    }\n",
       "\n",
       "    .dataframe thead th {\n",
       "        text-align: right;\n",
       "    }\n",
       "</style>\n",
       "<table border=\"1\" class=\"dataframe\">\n",
       "  <thead>\n",
       "    <tr style=\"text-align: right;\">\n",
       "      <th></th>\n",
       "      <th>business_id</th>\n",
       "      <th>cool</th>\n",
       "      <th>date</th>\n",
       "      <th>funny</th>\n",
       "      <th>review_id</th>\n",
       "      <th>stars</th>\n",
       "      <th>text</th>\n",
       "      <th>useful</th>\n",
       "      <th>user_id</th>\n",
       "    </tr>\n",
       "  </thead>\n",
       "  <tbody>\n",
       "    <tr>\n",
       "      <th>0</th>\n",
       "      <td>nDuEqIyRc8YKS1q1fX0CZg</td>\n",
       "      <td>1</td>\n",
       "      <td>2015-03-31 16:50:30</td>\n",
       "      <td>0</td>\n",
       "      <td>eZs2tpEJtXPwawvHnHZIgQ</td>\n",
       "      <td>1</td>\n",
       "      <td>BEWARE!!! FAKE, FAKE, FAKE....We also own a sm...</td>\n",
       "      <td>10</td>\n",
       "      <td>n1LM36qNg4rqGXIcvVXv8w</td>\n",
       "    </tr>\n",
       "    <tr>\n",
       "      <th>1</th>\n",
       "      <td>eMYeEapscbKNqUDCx705hg</td>\n",
       "      <td>0</td>\n",
       "      <td>2015-12-16 05:31:03</td>\n",
       "      <td>0</td>\n",
       "      <td>DoQDWJsNbU0KL1O29l_Xug</td>\n",
       "      <td>4</td>\n",
       "      <td>Came here for lunch Togo. Service was quick. S...</td>\n",
       "      <td>0</td>\n",
       "      <td>5CgjjDAic2-FAvCtiHpytA</td>\n",
       "    </tr>\n",
       "    <tr>\n",
       "      <th>2</th>\n",
       "      <td>6Q7-wkCPc1KF75jZLOTcMw</td>\n",
       "      <td>1</td>\n",
       "      <td>2010-06-20 19:14:48</td>\n",
       "      <td>1</td>\n",
       "      <td>DDOdGU7zh56yQHmUnL1idQ</td>\n",
       "      <td>3</td>\n",
       "      <td>I've been to Vegas dozens of times and had nev...</td>\n",
       "      <td>2</td>\n",
       "      <td>BdV-cf3LScmb8kZ7iiBcMA</td>\n",
       "    </tr>\n",
       "    <tr>\n",
       "      <th>3</th>\n",
       "      <td>k3zrItO4l9hwfLRwHBDc9w</td>\n",
       "      <td>3</td>\n",
       "      <td>2010-07-13 00:33:45</td>\n",
       "      <td>4</td>\n",
       "      <td>LfTMUWnfGFMOfOIyJcwLVA</td>\n",
       "      <td>1</td>\n",
       "      <td>We went here on a night where they closed off ...</td>\n",
       "      <td>5</td>\n",
       "      <td>cZZnBqh4gAEy4CdNvJailQ</td>\n",
       "    </tr>\n",
       "    <tr>\n",
       "      <th>4</th>\n",
       "      <td>6hpfRwGlOzbNv7k5eP9rsQ</td>\n",
       "      <td>1</td>\n",
       "      <td>2018-06-30 02:30:01</td>\n",
       "      <td>0</td>\n",
       "      <td>zJSUdI7bJ8PNJAg4lnl_Gg</td>\n",
       "      <td>4</td>\n",
       "      <td>3.5 to 4 stars\\n\\nNot bad for the price, $12.9...</td>\n",
       "      <td>5</td>\n",
       "      <td>n9QO4ClYAS7h9fpQwa5bhA</td>\n",
       "    </tr>\n",
       "  </tbody>\n",
       "</table>\n",
       "</div>"
      ],
      "text/plain": [
       "              business_id  cool                date  funny  \\\n",
       "0  nDuEqIyRc8YKS1q1fX0CZg     1 2015-03-31 16:50:30      0   \n",
       "1  eMYeEapscbKNqUDCx705hg     0 2015-12-16 05:31:03      0   \n",
       "2  6Q7-wkCPc1KF75jZLOTcMw     1 2010-06-20 19:14:48      1   \n",
       "3  k3zrItO4l9hwfLRwHBDc9w     3 2010-07-13 00:33:45      4   \n",
       "4  6hpfRwGlOzbNv7k5eP9rsQ     1 2018-06-30 02:30:01      0   \n",
       "\n",
       "                review_id  stars  \\\n",
       "0  eZs2tpEJtXPwawvHnHZIgQ      1   \n",
       "1  DoQDWJsNbU0KL1O29l_Xug      4   \n",
       "2  DDOdGU7zh56yQHmUnL1idQ      3   \n",
       "3  LfTMUWnfGFMOfOIyJcwLVA      1   \n",
       "4  zJSUdI7bJ8PNJAg4lnl_Gg      4   \n",
       "\n",
       "                                                text  useful  \\\n",
       "0  BEWARE!!! FAKE, FAKE, FAKE....We also own a sm...      10   \n",
       "1  Came here for lunch Togo. Service was quick. S...       0   \n",
       "2  I've been to Vegas dozens of times and had nev...       2   \n",
       "3  We went here on a night where they closed off ...       5   \n",
       "4  3.5 to 4 stars\\n\\nNot bad for the price, $12.9...       5   \n",
       "\n",
       "                  user_id  \n",
       "0  n1LM36qNg4rqGXIcvVXv8w  \n",
       "1  5CgjjDAic2-FAvCtiHpytA  \n",
       "2  BdV-cf3LScmb8kZ7iiBcMA  \n",
       "3  cZZnBqh4gAEy4CdNvJailQ  \n",
       "4  n9QO4ClYAS7h9fpQwa5bhA  "
      ]
     },
     "execution_count": 2,
     "metadata": {},
     "output_type": "execute_result"
    }
   ],
   "source": [
    "df.head()"
   ]
  },
  {
   "cell_type": "markdown",
   "metadata": {
    "id": "oFDgkwPQx-3O"
   },
   "source": [
    "## Part 1: Tokenize Function\n",
    "<a id=\"#p1\"></a>\n",
    "\n",
    "Complete the function `tokenize`. Your function should\n",
    "- accept one document at a time\n",
    "- return a list of tokens\n",
    "\n",
    "You are free to use any method you have learned this week."
   ]
  },
  {
   "cell_type": "code",
   "execution_count": 3,
   "metadata": {
    "id": "RIlAELmyx-3Y"
   },
   "outputs": [],
   "source": [
    "import spacy\n",
    "\n",
    "from sklearn.feature_extraction.text import TfidfVectorizer\n",
    "from sklearn.neighbors import NearestNeighbors"
   ]
  },
  {
   "cell_type": "code",
   "execution_count": 4,
   "metadata": {
    "id": "n35Q85Cvx-3m"
   },
   "outputs": [],
   "source": [
    "nlp = spacy.load('en_core_web_md')"
   ]
  },
  {
   "cell_type": "code",
   "execution_count": 5,
   "metadata": {
    "id": "9QJCWLjox-4j"
   },
   "outputs": [],
   "source": [
    "# ADDING CUSTOM STOP WORDS\n",
    "STOP_WORDS = ['service', 'kitchen', 'water']\n",
    "STOP_WORDS = nlp.Defaults.stop_words.union(STOP_WORDS)"
   ]
  },
  {
   "cell_type": "code",
   "execution_count": 6,
   "metadata": {
    "id": "_7efsZ3px-4w"
   },
   "outputs": [],
   "source": [
    "def tokenize(text):\n",
    "    '''\n",
    "    Input: String\n",
    "    Output: list of tokens\n",
    "    '''\n",
    "\n",
    "    doc = nlp(text)\n",
    "    tokens = []\n",
    "    for token in doc:\n",
    "        if ((token.text.lower() not in STOP_WORDS) & \n",
    "            (token.is_punct == False) & \n",
    "            (token.pos_ != 'PRON') & \n",
    "            (token.is_alpha == True)):\n",
    "            tokens.append(token.lemma_.lower())\n",
    "    return tokens"
   ]
  },
  {
   "cell_type": "code",
   "execution_count": 7,
   "metadata": {
    "id": "wLWiuXv1x-42"
   },
   "outputs": [],
   "source": [
    "df['tokens'] = df['text'].apply(tokenize)"
   ]
  },
  {
   "cell_type": "code",
   "execution_count": 13,
   "metadata": {
    "id": "dIkcIK2Wx-5I"
   },
   "outputs": [
    {
     "data": {
      "text/plain": [
       "0    [beware, fake, fake, fake, small, business, lo...\n",
       "1    [come, lunch, togo, quick, staff, friendly, co...\n",
       "2    [vegas, dozen, time, step, foot, circus, circu...\n",
       "3    [go, night, close, street, party, good, actual...\n",
       "4    [star, bad, price, lunch, senior, pay, eat, ho...\n",
       "Name: tokens, dtype: object"
      ]
     },
     "execution_count": 13,
     "metadata": {},
     "output_type": "execute_result"
    }
   ],
   "source": [
    "df['tokens'].head()"
   ]
  },
  {
   "cell_type": "markdown",
   "metadata": {
    "id": "Je-0X8mfx-5S"
   },
   "source": [
    "## Part 2: Vector Representation\n",
    "<a id=\"#p2\"></a>\n",
    "1. Create a vector representation of the reviews\n",
    "2. Write a fake review and query for the 10 most similiar reviews, print the text of the reviews. Do you notice any patterns?\n",
    "    - Given the size of the dataset, it will probably be best to use a `NearestNeighbors` model for this. "
   ]
  },
  {
   "cell_type": "code",
   "execution_count": 9,
   "metadata": {
    "id": "OTDoIk0Qx-5T"
   },
   "outputs": [],
   "source": [
    "df['tokens_string'] = df['tokens'].apply(lambda x: ' '.join(x))"
   ]
  },
  {
   "cell_type": "code",
   "execution_count": 10,
   "metadata": {
    "id": "nuI29hjdx-5d"
   },
   "outputs": [],
   "source": [
    "tfidf = TfidfVectorizer(tokenizer=tokenize)"
   ]
  },
  {
   "cell_type": "code",
   "execution_count": 14,
   "metadata": {
    "id": "PpQhTddcx-5o"
   },
   "outputs": [],
   "source": [
    "dtm = tfidf.fit_transform(df['text'])"
   ]
  },
  {
   "cell_type": "code",
   "execution_count": 15,
   "metadata": {
    "id": "A3FlNwaKx-52"
   },
   "outputs": [],
   "source": [
    "dtm = pd.DataFrame(dtm.todense(), columns=tfidf.get_feature_names())"
   ]
  },
  {
   "cell_type": "code",
   "execution_count": 16,
   "metadata": {
    "id": "02Hp6LxPx-6N"
   },
   "outputs": [
    {
     "data": {
      "text/html": [
       "<div>\n",
       "<style scoped>\n",
       "    .dataframe tbody tr th:only-of-type {\n",
       "        vertical-align: middle;\n",
       "    }\n",
       "\n",
       "    .dataframe tbody tr th {\n",
       "        vertical-align: top;\n",
       "    }\n",
       "\n",
       "    .dataframe thead th {\n",
       "        text-align: right;\n",
       "    }\n",
       "</style>\n",
       "<table border=\"1\" class=\"dataframe\">\n",
       "  <thead>\n",
       "    <tr style=\"text-align: right;\">\n",
       "      <th></th>\n",
       "      <th>-pron-</th>\n",
       "      <th>aa</th>\n",
       "      <th>aaa</th>\n",
       "      <th>aaaahhhs</th>\n",
       "      <th>aaasssk</th>\n",
       "      <th>aabs</th>\n",
       "      <th>aamco</th>\n",
       "      <th>aand</th>\n",
       "      <th>aaron</th>\n",
       "      <th>ab</th>\n",
       "      <th>...</th>\n",
       "      <th>これだけでも充分貴重な体験です</th>\n",
       "      <th>です</th>\n",
       "      <th>まずは国際免許と日本の免許証の用意が必要です</th>\n",
       "      <th>また是非マッサージなどで伺いたいと思います</th>\n",
       "      <th>ネイルはちはるさんと言う綺麗な方が丁寧にしてくれとても気に入りました</th>\n",
       "      <th>台湾鸡排</th>\n",
       "      <th>吃了太多tim</th>\n",
       "      <th>漁膳房</th>\n",
       "      <th>美味的味道</th>\n",
       "      <th>豆腐花</th>\n",
       "    </tr>\n",
       "  </thead>\n",
       "  <tbody>\n",
       "    <tr>\n",
       "      <th>0</th>\n",
       "      <td>0.0</td>\n",
       "      <td>0.0</td>\n",
       "      <td>0.0</td>\n",
       "      <td>0.0</td>\n",
       "      <td>0.0</td>\n",
       "      <td>0.0</td>\n",
       "      <td>0.0</td>\n",
       "      <td>0.0</td>\n",
       "      <td>0.0</td>\n",
       "      <td>0.0</td>\n",
       "      <td>...</td>\n",
       "      <td>0.0</td>\n",
       "      <td>0.0</td>\n",
       "      <td>0.0</td>\n",
       "      <td>0.0</td>\n",
       "      <td>0.0</td>\n",
       "      <td>0.0</td>\n",
       "      <td>0.0</td>\n",
       "      <td>0.0</td>\n",
       "      <td>0.0</td>\n",
       "      <td>0.0</td>\n",
       "    </tr>\n",
       "    <tr>\n",
       "      <th>1</th>\n",
       "      <td>0.0</td>\n",
       "      <td>0.0</td>\n",
       "      <td>0.0</td>\n",
       "      <td>0.0</td>\n",
       "      <td>0.0</td>\n",
       "      <td>0.0</td>\n",
       "      <td>0.0</td>\n",
       "      <td>0.0</td>\n",
       "      <td>0.0</td>\n",
       "      <td>0.0</td>\n",
       "      <td>...</td>\n",
       "      <td>0.0</td>\n",
       "      <td>0.0</td>\n",
       "      <td>0.0</td>\n",
       "      <td>0.0</td>\n",
       "      <td>0.0</td>\n",
       "      <td>0.0</td>\n",
       "      <td>0.0</td>\n",
       "      <td>0.0</td>\n",
       "      <td>0.0</td>\n",
       "      <td>0.0</td>\n",
       "    </tr>\n",
       "    <tr>\n",
       "      <th>2</th>\n",
       "      <td>0.0</td>\n",
       "      <td>0.0</td>\n",
       "      <td>0.0</td>\n",
       "      <td>0.0</td>\n",
       "      <td>0.0</td>\n",
       "      <td>0.0</td>\n",
       "      <td>0.0</td>\n",
       "      <td>0.0</td>\n",
       "      <td>0.0</td>\n",
       "      <td>0.0</td>\n",
       "      <td>...</td>\n",
       "      <td>0.0</td>\n",
       "      <td>0.0</td>\n",
       "      <td>0.0</td>\n",
       "      <td>0.0</td>\n",
       "      <td>0.0</td>\n",
       "      <td>0.0</td>\n",
       "      <td>0.0</td>\n",
       "      <td>0.0</td>\n",
       "      <td>0.0</td>\n",
       "      <td>0.0</td>\n",
       "    </tr>\n",
       "    <tr>\n",
       "      <th>3</th>\n",
       "      <td>0.0</td>\n",
       "      <td>0.0</td>\n",
       "      <td>0.0</td>\n",
       "      <td>0.0</td>\n",
       "      <td>0.0</td>\n",
       "      <td>0.0</td>\n",
       "      <td>0.0</td>\n",
       "      <td>0.0</td>\n",
       "      <td>0.0</td>\n",
       "      <td>0.0</td>\n",
       "      <td>...</td>\n",
       "      <td>0.0</td>\n",
       "      <td>0.0</td>\n",
       "      <td>0.0</td>\n",
       "      <td>0.0</td>\n",
       "      <td>0.0</td>\n",
       "      <td>0.0</td>\n",
       "      <td>0.0</td>\n",
       "      <td>0.0</td>\n",
       "      <td>0.0</td>\n",
       "      <td>0.0</td>\n",
       "    </tr>\n",
       "    <tr>\n",
       "      <th>4</th>\n",
       "      <td>0.0</td>\n",
       "      <td>0.0</td>\n",
       "      <td>0.0</td>\n",
       "      <td>0.0</td>\n",
       "      <td>0.0</td>\n",
       "      <td>0.0</td>\n",
       "      <td>0.0</td>\n",
       "      <td>0.0</td>\n",
       "      <td>0.0</td>\n",
       "      <td>0.0</td>\n",
       "      <td>...</td>\n",
       "      <td>0.0</td>\n",
       "      <td>0.0</td>\n",
       "      <td>0.0</td>\n",
       "      <td>0.0</td>\n",
       "      <td>0.0</td>\n",
       "      <td>0.0</td>\n",
       "      <td>0.0</td>\n",
       "      <td>0.0</td>\n",
       "      <td>0.0</td>\n",
       "      <td>0.0</td>\n",
       "    </tr>\n",
       "  </tbody>\n",
       "</table>\n",
       "<p>5 rows × 21410 columns</p>\n",
       "</div>"
      ],
      "text/plain": [
       "   -pron-   aa  aaa  aaaahhhs  aaasssk  aabs  aamco  aand  aaron   ab  ...  \\\n",
       "0     0.0  0.0  0.0       0.0      0.0   0.0    0.0   0.0    0.0  0.0  ...   \n",
       "1     0.0  0.0  0.0       0.0      0.0   0.0    0.0   0.0    0.0  0.0  ...   \n",
       "2     0.0  0.0  0.0       0.0      0.0   0.0    0.0   0.0    0.0  0.0  ...   \n",
       "3     0.0  0.0  0.0       0.0      0.0   0.0    0.0   0.0    0.0  0.0  ...   \n",
       "4     0.0  0.0  0.0       0.0      0.0   0.0    0.0   0.0    0.0  0.0  ...   \n",
       "\n",
       "   これだけでも充分貴重な体験です   です  まずは国際免許と日本の免許証の用意が必要です  また是非マッサージなどで伺いたいと思います  \\\n",
       "0              0.0  0.0                     0.0                    0.0   \n",
       "1              0.0  0.0                     0.0                    0.0   \n",
       "2              0.0  0.0                     0.0                    0.0   \n",
       "3              0.0  0.0                     0.0                    0.0   \n",
       "4              0.0  0.0                     0.0                    0.0   \n",
       "\n",
       "   ネイルはちはるさんと言う綺麗な方が丁寧にしてくれとても気に入りました  台湾鸡排  吃了太多tim  漁膳房  美味的味道  豆腐花  \n",
       "0                                 0.0   0.0      0.0  0.0    0.0  0.0  \n",
       "1                                 0.0   0.0      0.0  0.0    0.0  0.0  \n",
       "2                                 0.0   0.0      0.0  0.0    0.0  0.0  \n",
       "3                                 0.0   0.0      0.0  0.0    0.0  0.0  \n",
       "4                                 0.0   0.0      0.0  0.0    0.0  0.0  \n",
       "\n",
       "[5 rows x 21410 columns]"
      ]
     },
     "execution_count": 16,
     "metadata": {},
     "output_type": "execute_result"
    }
   ],
   "source": [
    "dtm.head()"
   ]
  },
  {
   "cell_type": "code",
   "execution_count": 18,
   "metadata": {
    "id": "lWTePHcox-6Y"
   },
   "outputs": [
    {
     "data": {
      "text/plain": [
       "NearestNeighbors(algorithm='auto', leaf_size=30, metric='minkowski',\n",
       "                 metric_params=None, n_jobs=None, n_neighbors=10, p=2,\n",
       "                 radius=1.0)"
      ]
     },
     "execution_count": 18,
     "metadata": {},
     "output_type": "execute_result"
    }
   ],
   "source": [
    "nn = NearestNeighbors(n_neighbors=10, algorithm='auto')\n",
    "nn.fit(dtm)"
   ]
  },
  {
   "cell_type": "code",
   "execution_count": 19,
   "metadata": {},
   "outputs": [],
   "source": [
    "fake_review = ['The best burger I have ever had']"
   ]
  },
  {
   "cell_type": "code",
   "execution_count": 20,
   "metadata": {},
   "outputs": [],
   "source": [
    "vectors = tfidf.transform(fake_review)"
   ]
  },
  {
   "cell_type": "code",
   "execution_count": 21,
   "metadata": {},
   "outputs": [
    {
     "data": {
      "text/plain": [
       "(1, 21410)"
      ]
     },
     "execution_count": 21,
     "metadata": {},
     "output_type": "execute_result"
    }
   ],
   "source": [
    "vectors.todense().shape"
   ]
  },
  {
   "cell_type": "code",
   "execution_count": 22,
   "metadata": {},
   "outputs": [],
   "source": [
    "nearest = nn.kneighbors(vectors.todense())"
   ]
  },
  {
   "cell_type": "code",
   "execution_count": 23,
   "metadata": {},
   "outputs": [
    {
     "data": {
      "text/plain": [
       "(array([[0.77984354, 0.83571983, 0.91747045, 0.96363233, 0.99113286,\n",
       "         1.        , 1.00154803, 1.0090606 , 1.01662018, 1.03139285]]),\n",
       " array([[1355, 3074, 8342, 7388, 1516, 6311, 6703, 3952, 9977, 6772]]))"
      ]
     },
     "execution_count": 23,
     "metadata": {},
     "output_type": "execute_result"
    }
   ],
   "source": [
    "nearest"
   ]
  },
  {
   "cell_type": "code",
   "execution_count": 24,
   "metadata": {},
   "outputs": [
    {
     "data": {
      "text/plain": [
       "array([1355, 3074, 8342, 7388, 1516, 6311, 6703, 3952, 9977, 6772])"
      ]
     },
     "execution_count": 24,
     "metadata": {},
     "output_type": "execute_result"
    }
   ],
   "source": [
    "nearest[1][0]"
   ]
  },
  {
   "cell_type": "code",
   "execution_count": 26,
   "metadata": {},
   "outputs": [
    {
     "name": "stdout",
     "output_type": "stream",
     "text": [
      "This place has very good burgers and onion rings.    I am not a burger lover but when I have a craving this is the burger I want.\n",
      "This place has very good burgers and onion rings.    I am not a burger lover but when I have a craving this is the burger I want.\n",
      "\n",
      "\n",
      "\n",
      "Hooray for Simply Burgers!!\n",
      "\n",
      "It can be hard for us vegetarians of the world to go to a burger joint and find anything on the menu we can eat.  But not at Simply Burgers.  I was so excited to find out that they offer garden burgers AND even vegan burgers too.  Now that is awesome.\n",
      "\n",
      "Not that many places remember the non-meat eaters, so I get really psyched when someone does.  I'll never understand why so many restaurants forget to add a few meatless options on their menus...but that's beside the point.\n",
      "\n",
      "Simply Burgers has garden burgers and they're really good.  Burgers come with french fries or a garden salad and the shakes are sooooooo good. \n",
      "\n",
      "Oh and of course they have regular burgers too and even pizza!\n",
      "\n",
      "I wish they'd open up one of these closer to me, but it's probably better they don't because I'd go all the time!\n",
      "Hooray for Simply Burgers!!\n",
      "\n",
      "It can be hard for us vegetarians of the world to go to a burger joint and find anything on the menu we can eat.  But not at Simply Burgers.  I was so excited to find out that they offer garden burgers AND even vegan burgers too.  Now that is awesome.\n",
      "\n",
      "Not that many places remember the non-meat eaters, so I get really psyched when someone does.  I'll never understand why so many restaurants forget to add a few meatless options on their menus...but that's beside the point.\n",
      "\n",
      "Simply Burgers has garden burgers and they're really good.  Burgers come with french fries or a garden salad and the shakes are sooooooo good. \n",
      "\n",
      "Oh and of course they have regular burgers too and even pizza!\n",
      "\n",
      "I wish they'd open up one of these closer to me, but it's probably better they don't because I'd go all the time!\n",
      "\n",
      "\n",
      "\n",
      "Burgers are exactly what you want in a burger.. \n",
      "Always juicy and perfectly cooked!! And you can have it medium .. There is no other way to eat a burger!! Sides like poutine are huge, so best to share\n",
      "Burgers are exactly what you want in a burger.. \n",
      "Always juicy and perfectly cooked!! And you can have it medium .. There is no other way to eat a burger!! Sides like poutine are huge, so best to share\n",
      "\n",
      "\n",
      "\n",
      "I had the 4oz regular burger - it was fantastic!  I like a burger place that gives you choice of toppings and other options.  I appreciate that they offer a gluten-free burger bun.  The fries were only so-so.\n",
      "I had the 4oz regular burger - it was fantastic!  I like a burger place that gives you choice of toppings and other options.  I appreciate that they offer a gluten-free burger bun.  The fries were only so-so.\n",
      "\n",
      "\n",
      "\n",
      "I do not say this much, about anything, I Love this place. they make a delicious burger and the staff is friendly\n",
      "I do not say this much, about anything, I Love this place. they make a delicious burger and the staff is friendly\n",
      "\n",
      "\n",
      "\n",
      "天氣很熱吃不下東西，今天我點了一個韓國冷面湯、餐後點了甜點，冰沙系列不會太甜膩，覺得店家很用心製作，包含擺盤精緻、佐料衛生，夏日想開胃，這是一個不錯的選擇，服務人員也很敬業，以後會常常來\n",
      "天氣很熱吃不下東西，今天我點了一個韓國冷面湯、餐後點了甜點，冰沙系列不會太甜膩，覺得店家很用心製作，包含擺盤精緻、佐料衛生，夏日想開胃，這是一個不錯的選擇，服務人員也很敬業，以後會常常來\n",
      "\n",
      "\n",
      "\n",
      "This place is usually a great place to get a burger but maybe they were off their game or the cook was a different person. The burger I had today was terrible, and the fries over salted, not to mention the guy handing me my burger, gave me the coldest look. Sad to say, I won't be returning.\n",
      "This place is usually a great place to get a burger but maybe they were off their game or the cook was a different person. The burger I had today was terrible, and the fries over salted, not to mention the guy handing me my burger, gave me the coldest look. Sad to say, I won't be returning.\n",
      "\n",
      "\n",
      "\n",
      "I decided to go to this place based on the amazing reviews by everyone; however, this place was not nearly as good as I was expecting. \n",
      "\n",
      "Now believe me, I am by no means a burger fanatic, but I've tasted a few good burgers in my life for roughly the same price range. The bun was alright, toppings similar to other joints, patty was a bit charred. Overall the burger tasted OK but not GREAT. fries were bland and seemed a bit dried out.. The fountain pop tasted a bit watered down? maybe just my imagination.\n",
      "\n",
      "At the store I also noticed 2 things that made me think twice about going back .. first was one of the workers touched the underside of his shoe and then proceeded to use those same hands to put cheese onto the burger. Second, was the person at the register dealt with cash and without washing hands or putting on any gloves proceeded to assemble the burger.\n",
      "\n",
      "Now if the burger was amazing then maybe I would've overlooked the unsanitary conditions - but like someone said before, the burger is OK at best. + sanitation issues = would not go back.\n",
      "I decided to go to this place based on the amazing reviews by everyone; however, this place was not nearly as good as I was expecting. \n",
      "\n",
      "Now believe me, I am by no means a burger fanatic, but I've tasted a few good burgers in my life for roughly the same price range. The bun was alright, toppings similar to other joints, patty was a bit charred. Overall the burger tasted OK but not GREAT. fries were bland and seemed a bit dried out.. The fountain pop tasted a bit watered down? maybe just my imagination.\n",
      "\n",
      "At the store I also noticed 2 things that made me think twice about going back .. first was one of the workers touched the underside of his shoe and then proceeded to use those same hands to put cheese onto the burger. Second, was the person at the register dealt with cash and without washing hands or putting on any gloves proceeded to assemble the burger.\n",
      "\n",
      "Now if the burger was amazing then maybe I would've overlooked the unsanitary conditions - but like someone said before, the burger is OK at best. + sanitation issues = would not go back.\n",
      "\n",
      "\n",
      "\n",
      "I order a burger it was cold and no test at all not a very good jack Daniel burger and they didn't give m my sauce\n",
      "I order a burger it was cold and no test at all not a very good jack Daniel burger and they didn't give m my sauce\n",
      "\n",
      "\n",
      "\n",
      "HOLY CRAP!!!! THE BEST BURGERS EVER!!!!!!!!\n",
      "\n",
      "I went to Bachi Burger last weekend and it was so amazing!! If you live in Vegas, or you're there for vacation and you're sober enough to drive off the strip for a little bit, then you have to come here!  It is a pretty small restaurant so I would suggest that you get there early or you will end up waiting for over an hour.\n",
      "\n",
      "The food is the perfect mix of Asian and comforting deliciousness.  I would definitely recommend the chili cheese fries. They come with a fried egg on top of it!!! I mean come on! How could you not want that?? I also got the miyagi san burger.  I would recommend it if you like onion rings and fried eggs in your burger. \n",
      "\n",
      "I can say that there is absolutely nothing bad about this burger place and if you think there is then you're obviously a bad person.\n",
      "HOLY CRAP!!!! THE BEST BURGERS EVER!!!!!!!!\n",
      "\n",
      "I went to Bachi Burger last weekend and it was so amazing!! If you live in Vegas, or you're there for vacation and you're sober enough to drive off the strip for a little bit, then you have to come here!  It is a pretty small restaurant so I would suggest that you get there early or you will end up waiting for over an hour.\n",
      "\n",
      "The food is the perfect mix of Asian and comforting deliciousness.  I would definitely recommend the chili cheese fries. They come with a fried egg on top of it!!! I mean come on! How could you not want that?? I also got the miyagi san burger.  I would recommend it if you like onion rings and fried eggs in your burger. \n",
      "\n",
      "I can say that there is absolutely nothing bad about this burger place and if you think there is then you're obviously a bad person.\n",
      "\n",
      "\n",
      "\n"
     ]
    }
   ],
   "source": [
    "for book_idx in nearest[1][0]:\n",
    "    print(f\"{df['text'][book_idx]}\\n{df['text'][book_idx]}\\n\\n\\n\")"
   ]
  },
  {
   "cell_type": "markdown",
   "metadata": {
    "id": "qlvSockGx-6k"
   },
   "source": [
    "## Part 3: Classification\n",
    "<a id=\"#p3\"></a>\n",
    "Your goal in this section will be to predict `stars` from the review dataset. \n",
    "\n",
    "1. Create a piepline object with a sklearn `CountVectorizer` or `TfidfVector` and any sklearn classifier. Use that pipeline to estimate a model to predict `stars`. Use the Pipeline to predict a star rating for your fake review from Part 2. \n",
    "2. Tune the entire pipeline with a GridSearch"
   ]
  },
  {
   "cell_type": "code",
   "execution_count": 27,
   "metadata": {
    "id": "ZgiyaK2rx-6n"
   },
   "outputs": [],
   "source": [
    "# Import Statements\n",
    "from sklearn.pipeline import Pipeline\n",
    "from sklearn.ensemble import RandomForestClassifier\n",
    "from sklearn.model_selection import GridSearchCV\n",
    "from sklearn.feature_extraction.text import TfidfVectorizer\n",
    "\n",
    "# Create Pipeline Components\n",
    "\n",
    "vect = TfidfVectorizer(stop_words='english', ngram_range=(1,2))\n",
    "rfc = RandomForestClassifier()\n",
    "\n",
    "# Define the Pipeline\n",
    "pipe = Pipeline([\n",
    "                 #Vectorizer\n",
    "                 ('vect', vect),\n",
    "                 # Classifier\n",
    "                 ('clf', rfc)\n",
    "                ])"
   ]
  },
  {
   "cell_type": "code",
   "execution_count": 28,
   "metadata": {},
   "outputs": [
    {
     "name": "stdout",
     "output_type": "stream",
     "text": [
      "Fitting 5 folds for each of 32 candidates, totalling 160 fits\n"
     ]
    },
    {
     "name": "stderr",
     "output_type": "stream",
     "text": [
      "[Parallel(n_jobs=-1)]: Using backend LokyBackend with 8 concurrent workers.\n",
      "[Parallel(n_jobs=-1)]: Done  34 tasks      | elapsed:   16.2s\n",
      "[Parallel(n_jobs=-1)]: Done 160 out of 160 | elapsed:  1.1min finished\n"
     ]
    },
    {
     "data": {
      "text/plain": [
       "GridSearchCV(cv=5, error_score=nan,\n",
       "             estimator=Pipeline(memory=None,\n",
       "                                steps=[('vect',\n",
       "                                        TfidfVectorizer(analyzer='word',\n",
       "                                                        binary=False,\n",
       "                                                        decode_error='strict',\n",
       "                                                        dtype=<class 'numpy.float64'>,\n",
       "                                                        encoding='utf-8',\n",
       "                                                        input='content',\n",
       "                                                        lowercase=True,\n",
       "                                                        max_df=1.0,\n",
       "                                                        max_features=None,\n",
       "                                                        min_df=1,\n",
       "                                                        ngram_range=(1, 2),\n",
       "                                                        norm='l2',\n",
       "                                                        preprocessor=None,\n",
       "                                                        smooth_idf=True,\n",
       "                                                        stop_words='english',\n",
       "                                                        strip...\n",
       "                                                               n_jobs=None,\n",
       "                                                               oob_score=False,\n",
       "                                                               random_state=None,\n",
       "                                                               verbose=0,\n",
       "                                                               warm_start=False))],\n",
       "                                verbose=False),\n",
       "             iid='deprecated', n_jobs=-1,\n",
       "             param_grid={'clf__max_depth': (15, 20),\n",
       "                         'clf__n_estimators': (5, 10),\n",
       "                         'vect__max_df': (0.75, 1.0),\n",
       "                         'vect__max_features': (500, 1000),\n",
       "                         'vect__min_df': (0.02, 0.05)},\n",
       "             pre_dispatch='2*n_jobs', refit=True, return_train_score=False,\n",
       "             scoring=None, verbose=1)"
      ]
     },
     "execution_count": 28,
     "metadata": {},
     "output_type": "execute_result"
    }
   ],
   "source": [
    "parameters = {\n",
    "    'vect__max_df': (0.75, 1.0),\n",
    "    'vect__min_df': (0.02, 0.05),\n",
    "    'vect__max_features': (500, 1000),\n",
    "    'clf__n_estimators':(5, 10),\n",
    "    'clf__max_depth':(15, 20)\n",
    "}\n",
    "\n",
    "grid_search = GridSearchCV(pipe,parameters, cv=5, n_jobs=-1, verbose=1)\n",
    "grid_search.fit(df.text, df.stars)"
   ]
  },
  {
   "cell_type": "code",
   "execution_count": 29,
   "metadata": {},
   "outputs": [
    {
     "data": {
      "text/plain": [
       "0.5418000000000001"
      ]
     },
     "execution_count": 29,
     "metadata": {},
     "output_type": "execute_result"
    }
   ],
   "source": [
    "grid_search.best_score_"
   ]
  },
  {
   "cell_type": "code",
   "execution_count": 30,
   "metadata": {},
   "outputs": [
    {
     "data": {
      "text/plain": [
       "array([5])"
      ]
     },
     "execution_count": 30,
     "metadata": {},
     "output_type": "execute_result"
    }
   ],
   "source": [
    "grid_search.predict(['The best burger I have ever had'])"
   ]
  },
  {
   "cell_type": "code",
   "execution_count": 32,
   "metadata": {},
   "outputs": [
    {
     "data": {
      "text/html": [
       "<div>\n",
       "<style scoped>\n",
       "    .dataframe tbody tr th:only-of-type {\n",
       "        vertical-align: middle;\n",
       "    }\n",
       "\n",
       "    .dataframe tbody tr th {\n",
       "        vertical-align: top;\n",
       "    }\n",
       "\n",
       "    .dataframe thead th {\n",
       "        text-align: right;\n",
       "    }\n",
       "</style>\n",
       "<table border=\"1\" class=\"dataframe\">\n",
       "  <thead>\n",
       "    <tr style=\"text-align: right;\">\n",
       "      <th></th>\n",
       "      <th>business_id</th>\n",
       "      <th>cool</th>\n",
       "      <th>date</th>\n",
       "      <th>funny</th>\n",
       "      <th>review_id</th>\n",
       "      <th>stars</th>\n",
       "      <th>text</th>\n",
       "      <th>useful</th>\n",
       "      <th>user_id</th>\n",
       "      <th>tokens</th>\n",
       "      <th>tokens_string</th>\n",
       "    </tr>\n",
       "  </thead>\n",
       "  <tbody>\n",
       "    <tr>\n",
       "      <th>0</th>\n",
       "      <td>nDuEqIyRc8YKS1q1fX0CZg</td>\n",
       "      <td>1</td>\n",
       "      <td>2015-03-31 16:50:30</td>\n",
       "      <td>0</td>\n",
       "      <td>eZs2tpEJtXPwawvHnHZIgQ</td>\n",
       "      <td>1</td>\n",
       "      <td>BEWARE!!! FAKE, FAKE, FAKE....We also own a sm...</td>\n",
       "      <td>10</td>\n",
       "      <td>n1LM36qNg4rqGXIcvVXv8w</td>\n",
       "      <td>[beware, fake, fake, fake, small, business, lo...</td>\n",
       "      <td>beware fake fake fake small business los alami...</td>\n",
       "    </tr>\n",
       "  </tbody>\n",
       "</table>\n",
       "</div>"
      ],
      "text/plain": [
       "              business_id  cool                date  funny  \\\n",
       "0  nDuEqIyRc8YKS1q1fX0CZg     1 2015-03-31 16:50:30      0   \n",
       "\n",
       "                review_id  stars  \\\n",
       "0  eZs2tpEJtXPwawvHnHZIgQ      1   \n",
       "\n",
       "                                                text  useful  \\\n",
       "0  BEWARE!!! FAKE, FAKE, FAKE....We also own a sm...      10   \n",
       "\n",
       "                  user_id                                             tokens  \\\n",
       "0  n1LM36qNg4rqGXIcvVXv8w  [beware, fake, fake, fake, small, business, lo...   \n",
       "\n",
       "                                       tokens_string  \n",
       "0  beware fake fake fake small business los alami...  "
      ]
     },
     "execution_count": 32,
     "metadata": {},
     "output_type": "execute_result"
    }
   ],
   "source": [
    "df.head(1)"
   ]
  },
  {
   "cell_type": "markdown",
   "metadata": {
    "id": "_bqthwTqx-6z"
   },
   "source": [
    "## Part 4: Topic Modeling\n",
    "\n",
    "Let's find out what those yelp reviews are saying! :D\n",
    "\n",
    "1. Estimate a LDA topic model of the review text\n",
    "    - Keep the `iterations` parameter at or below 5 to reduce run time\n",
    "    - The `workers` parameter should match the number of physical cores on your machine.\n",
    "2. Create 1-2 visualizations of the results\n",
    "    - You can use the most important 3 words of a topic in relevant visualizations. Refer to yesterday's notebook to extract. \n",
    "3. In markdown, write 1-2 paragraphs of analysis on the results of your topic model\n",
    "\n",
    "__*Note*__: You can pass the DataFrame column of text reviews to gensim. You do not have to use a generator."
   ]
  },
  {
   "cell_type": "code",
   "execution_count": 33,
   "metadata": {
    "id": "e1qzqVRAx-62",
    "inputHidden": false,
    "jupyter": {
     "outputs_hidden": false
    },
    "outputHidden": false
   },
   "outputs": [],
   "source": [
    "from gensim.models import LdaMulticore\n",
    "from gensim.corpora import Dictionary\n",
    "import gensim\n",
    "from gensim import corpora\n",
    "from gensim.models.ldamulticore import LdaMulticore"
   ]
  },
  {
   "cell_type": "code",
   "execution_count": 36,
   "metadata": {},
   "outputs": [
    {
     "data": {
      "text/plain": [
       "['go',\n",
       " 'night',\n",
       " 'close',\n",
       " 'street',\n",
       " 'party',\n",
       " 'good',\n",
       " 'actually',\n",
       " 'group',\n",
       " 'guy',\n",
       " 'pay',\n",
       " 'table',\n",
       " 'group',\n",
       " 'people',\n",
       " 'convinced',\n",
       " 'picture',\n",
       " 'facebook',\n",
       " 'place',\n",
       " 'lame']"
      ]
     },
     "execution_count": 36,
     "metadata": {},
     "output_type": "execute_result"
    }
   ],
   "source": [
    "df['tokens'][3]"
   ]
  },
  {
   "cell_type": "code",
   "execution_count": 37,
   "metadata": {},
   "outputs": [],
   "source": [
    "def remove_stops(_list_):\n",
    "\n",
    "    keywords = []\n",
    "\n",
    "    for keyword in _list_:\n",
    "\n",
    "        phrase = []\n",
    "\n",
    "        words = keyword.split()\n",
    "\n",
    "        for word in words:\n",
    "            if word in STOP_WORDS:\n",
    "                pass\n",
    "            else:\n",
    "                phrase.append(word)\n",
    "\n",
    "        phrase = ' '.join(phrase)\n",
    "\n",
    "        if len(phrase) > 0:\n",
    "            keywords.append(phrase)\n",
    "    \n",
    "    return keywords"
   ]
  },
  {
   "cell_type": "code",
   "execution_count": 38,
   "metadata": {},
   "outputs": [
    {
     "name": "stderr",
     "output_type": "stream",
     "text": [
      "/Applications/anaconda3/envs/U4-S1-NLP/lib/python3.7/site-packages/tqdm/std.py:702: FutureWarning: The Panel class is removed from pandas. Accessing it from the top-level namespace will also be removed in the next version\n",
      "  from pandas import Panel\n",
      "100%|██████████| 10000/10000 [00:00<00:00, 31159.35it/s]\n"
     ]
    }
   ],
   "source": [
    "from tqdm import tqdm\n",
    "\n",
    "tqdm.pandas()\n",
    "\n",
    "df['clean_keywords'] = df['tokens'].progress_apply(remove_stops)"
   ]
  },
  {
   "cell_type": "markdown",
   "metadata": {
    "id": "P0jtwULFx-66"
   },
   "source": [
    "Learn the vocubalary of the yelp data:"
   ]
  },
  {
   "cell_type": "code",
   "execution_count": 39,
   "metadata": {
    "id": "RWLzvhGnx-67"
   },
   "outputs": [],
   "source": [
    "# Dictionary representation of all our keywords\n",
    "id2word = corpora.Dictionary(df['clean_keywords'])"
   ]
  },
  {
   "cell_type": "code",
   "execution_count": 40,
   "metadata": {},
   "outputs": [
    {
     "data": {
      "text/plain": [
       "21752"
      ]
     },
     "execution_count": 40,
     "metadata": {},
     "output_type": "execute_result"
    }
   ],
   "source": [
    "len(id2word.keys())"
   ]
  },
  {
   "cell_type": "code",
   "execution_count": 41,
   "metadata": {},
   "outputs": [],
   "source": [
    "id2word.filter_extremes(no_below=15, no_above=0.85)"
   ]
  },
  {
   "cell_type": "code",
   "execution_count": 42,
   "metadata": {},
   "outputs": [
    {
     "data": {
      "text/plain": [
       "2955"
      ]
     },
     "execution_count": 42,
     "metadata": {},
     "output_type": "execute_result"
    }
   ],
   "source": [
    "len(id2word.keys())"
   ]
  },
  {
   "cell_type": "markdown",
   "metadata": {
    "id": "OnCXkoJax-7M"
   },
   "source": [
    "Create a bag of words representation of the entire corpus"
   ]
  },
  {
   "cell_type": "code",
   "execution_count": 43,
   "metadata": {
    "id": "yv1kIQGcx-7M",
    "inputHidden": false,
    "jupyter": {
     "outputs_hidden": false
    },
    "outputHidden": false
   },
   "outputs": [],
   "source": [
    "corpus = [id2word.doc2bow(text) for text in df['clean_keywords']]"
   ]
  },
  {
   "cell_type": "code",
   "execution_count": 44,
   "metadata": {},
   "outputs": [
    {
     "data": {
      "text/plain": [
       "[(24, 2),\n",
       " (25, 2),\n",
       " (26, 2),\n",
       " (31, 1),\n",
       " (32, 1),\n",
       " (41, 1),\n",
       " (65, 1),\n",
       " (68, 1),\n",
       " (71, 2),\n",
       " (78, 4),\n",
       " (110, 1),\n",
       " (111, 1),\n",
       " (120, 1),\n",
       " (138, 1),\n",
       " (144, 2),\n",
       " (159, 1),\n",
       " (171, 1),\n",
       " (190, 1),\n",
       " (231, 1),\n",
       " (233, 1),\n",
       " (251, 1),\n",
       " (263, 1),\n",
       " (278, 1),\n",
       " (288, 1),\n",
       " (302, 1),\n",
       " (341, 1),\n",
       " (398, 1),\n",
       " (401, 1),\n",
       " (405, 1),\n",
       " (413, 2),\n",
       " (445, 3),\n",
       " (459, 1),\n",
       " (487, 2),\n",
       " (544, 1),\n",
       " (658, 1),\n",
       " (701, 1),\n",
       " (702, 2),\n",
       " (843, 1),\n",
       " (863, 1),\n",
       " (898, 1),\n",
       " (1281, 1),\n",
       " (1552, 1),\n",
       " (1574, 1),\n",
       " (1721, 1),\n",
       " (1852, 1),\n",
       " (1951, 1),\n",
       " (2093, 1),\n",
       " (2457, 1),\n",
       " (2458, 1)]"
      ]
     },
     "execution_count": 44,
     "metadata": {},
     "output_type": "execute_result"
    }
   ],
   "source": [
    "corpus[500]"
   ]
  },
  {
   "cell_type": "markdown",
   "metadata": {
    "id": "K_jufj9qx-7Q"
   },
   "source": [
    "Your LDA model should be ready for estimation: "
   ]
  },
  {
   "cell_type": "code",
   "execution_count": 45,
   "metadata": {
    "id": "iXWQsIsfx-7T",
    "inputHidden": false,
    "jupyter": {
     "outputs_hidden": false
    },
    "outputHidden": false
   },
   "outputs": [],
   "source": [
    "lda = LdaMulticore(corpus=corpus,\n",
    "                   id2word=id2word,\n",
    "                   iterations=5,\n",
    "                   workers=4,\n",
    "                   num_topics = 10 # You can change this parameter\n",
    "                  )"
   ]
  },
  {
   "cell_type": "code",
   "execution_count": 46,
   "metadata": {},
   "outputs": [
    {
     "data": {
      "text/plain": [
       "[(0,\n",
       "  '0.017*\"good\" + 0.016*\"place\" + 0.016*\"great\" + 0.013*\"come\" + 0.013*\"time\" + 0.013*\"like\" + 0.012*\"food\" + 0.008*\"order\" + 0.007*\"love\" + 0.006*\"restaurant\"'),\n",
       " (1,\n",
       "  '0.015*\"good\" + 0.014*\"food\" + 0.014*\"place\" + 0.013*\"great\" + 0.012*\"like\" + 0.010*\"time\" + 0.009*\"order\" + 0.008*\"come\" + 0.006*\"try\" + 0.006*\"nice\"'),\n",
       " (2,\n",
       "  '0.017*\"good\" + 0.017*\"place\" + 0.010*\"food\" + 0.010*\"great\" + 0.009*\"like\" + 0.009*\"come\" + 0.008*\"time\" + 0.008*\"order\" + 0.007*\"look\" + 0.006*\"love\"'),\n",
       " (3,\n",
       "  '0.015*\"come\" + 0.015*\"food\" + 0.014*\"good\" + 0.013*\"place\" + 0.012*\"time\" + 0.011*\"great\" + 0.009*\"like\" + 0.009*\"order\" + 0.005*\"try\" + 0.005*\"tell\"'),\n",
       " (4,\n",
       "  '0.013*\"good\" + 0.012*\"place\" + 0.011*\"come\" + 0.010*\"time\" + 0.009*\"food\" + 0.009*\"order\" + 0.008*\"like\" + 0.008*\"try\" + 0.007*\"love\" + 0.007*\"great\"'),\n",
       " (5,\n",
       "  '0.020*\"good\" + 0.015*\"food\" + 0.013*\"time\" + 0.012*\"place\" + 0.009*\"order\" + 0.009*\"come\" + 0.009*\"like\" + 0.008*\"great\" + 0.007*\"try\" + 0.006*\"love\"'),\n",
       " (6,\n",
       "  '0.018*\"good\" + 0.013*\"time\" + 0.011*\"food\" + 0.011*\"place\" + 0.010*\"come\" + 0.009*\"order\" + 0.009*\"great\" + 0.007*\"try\" + 0.007*\"like\" + 0.006*\"love\"'),\n",
       " (7,\n",
       "  '0.016*\"good\" + 0.015*\"great\" + 0.010*\"food\" + 0.009*\"place\" + 0.009*\"order\" + 0.009*\"time\" + 0.009*\"come\" + 0.008*\"like\" + 0.006*\"try\" + 0.005*\"work\"'),\n",
       " (8,\n",
       "  '0.019*\"food\" + 0.014*\"good\" + 0.011*\"place\" + 0.011*\"great\" + 0.011*\"order\" + 0.009*\"time\" + 0.009*\"try\" + 0.007*\"come\" + 0.006*\"like\" + 0.006*\"price\"'),\n",
       " (9,\n",
       "  '0.018*\"place\" + 0.016*\"good\" + 0.014*\"like\" + 0.011*\"time\" + 0.011*\"food\" + 0.010*\"great\" + 0.008*\"come\" + 0.007*\"order\" + 0.007*\"look\" + 0.006*\"find\"')]"
      ]
     },
     "execution_count": 46,
     "metadata": {},
     "output_type": "execute_result"
    }
   ],
   "source": [
    "lda.print_topics()"
   ]
  },
  {
   "cell_type": "code",
   "execution_count": 47,
   "metadata": {},
   "outputs": [],
   "source": [
    "import re\n",
    "\n",
    "words = [re.findall(r'\"[^\"]*\"', t[1]) for t in lda.print_topics(20)]"
   ]
  },
  {
   "cell_type": "code",
   "execution_count": 48,
   "metadata": {},
   "outputs": [],
   "source": [
    "topic_labels = [', '.join(t[0:5]) for t in words]"
   ]
  },
  {
   "cell_type": "code",
   "execution_count": 49,
   "metadata": {},
   "outputs": [],
   "source": [
    "distro = [lda[doc] for doc in corpus]"
   ]
  },
  {
   "cell_type": "code",
   "execution_count": 50,
   "metadata": {},
   "outputs": [],
   "source": [
    "def update(doc):\n",
    "    d_dist = {k:0 for k in range(0,10)}\n",
    "    for t in doc:\n",
    "        d_dist[t[0]] = t[1]\n",
    "    return d_dist\n",
    "\n",
    "new_distro = [update(doc) for doc in distro]"
   ]
  },
  {
   "cell_type": "code",
   "execution_count": 51,
   "metadata": {},
   "outputs": [],
   "source": [
    "topics = pd.DataFrame.from_records(new_distro)\n",
    "topics.columns = topic_labels"
   ]
  },
  {
   "cell_type": "code",
   "execution_count": 52,
   "metadata": {},
   "outputs": [
    {
     "name": "stdout",
     "output_type": "stream",
     "text": [
      "------ Topic 0 ------\n",
      "\"good\", \"place\", \"great\", \"come\", \"time\"\n",
      "\n",
      "------ Topic 1 ------\n",
      "\"good\", \"food\", \"place\", \"great\", \"like\"\n",
      "\n",
      "------ Topic 2 ------\n",
      "\"good\", \"place\", \"food\", \"great\", \"like\"\n",
      "\n",
      "------ Topic 3 ------\n",
      "\"come\", \"food\", \"good\", \"place\", \"time\"\n",
      "\n",
      "------ Topic 4 ------\n",
      "\"good\", \"place\", \"come\", \"time\", \"food\"\n",
      "\n",
      "------ Topic 5 ------\n",
      "\"good\", \"food\", \"time\", \"place\", \"order\"\n",
      "\n",
      "------ Topic 6 ------\n",
      "\"good\", \"time\", \"food\", \"place\", \"come\"\n",
      "\n",
      "------ Topic 7 ------\n",
      "\"good\", \"great\", \"food\", \"place\", \"order\"\n",
      "\n",
      "------ Topic 8 ------\n",
      "\"food\", \"good\", \"place\", \"great\", \"order\"\n",
      "\n",
      "------ Topic 9 ------\n",
      "\"place\", \"good\", \"like\", \"time\", \"food\"\n",
      "\n"
     ]
    }
   ],
   "source": [
    "for id, t in enumerate(topics):\n",
    "    print(f\"------ Topic {id} ------\")\n",
    "    print(t, end=\"\\n\\n\")"
   ]
  },
  {
   "cell_type": "markdown",
   "metadata": {
    "id": "8ZcOPyxAx-7d"
   },
   "source": [
    "Create 1-2 visualizations of the results"
   ]
  },
  {
   "cell_type": "code",
   "execution_count": 53,
   "metadata": {
    "id": "m3fGHfJix-7d",
    "inputHidden": false,
    "jupyter": {
     "outputs_hidden": false
    },
    "outputHidden": false
   },
   "outputs": [],
   "source": [
    "import pyLDAvis.gensim\n",
    "\n",
    "pyLDAvis.enable_notebook()"
   ]
  },
  {
   "cell_type": "code",
   "execution_count": 54,
   "metadata": {},
   "outputs": [
    {
     "name": "stderr",
     "output_type": "stream",
     "text": [
      "/Applications/anaconda3/envs/U4-S1-NLP/lib/python3.7/site-packages/ipykernel/ipkernel.py:283: DeprecationWarning: `should_run_async` will not call `transform_cell` automatically in the future. Please pass the result to `transformed_cell` argument and any exception that happen during thetransform in `preprocessing_exc_tuple` in IPython 7.17 and above.\n",
      "  and should_run_async(code)\n"
     ]
    },
    {
     "data": {
      "text/html": [
       "\n",
       "<link rel=\"stylesheet\" type=\"text/css\" href=\"https://cdn.rawgit.com/bmabey/pyLDAvis/files/ldavis.v1.0.0.css\">\n",
       "\n",
       "\n",
       "<div id=\"ldavis_el592741407064770664247848027500\"></div>\n",
       "<script type=\"text/javascript\">\n",
       "\n",
       "var ldavis_el592741407064770664247848027500_data = {\"mdsDat\": {\"x\": [-0.0001750925309229757, 0.001220636812329891, 0.0010701139340033318, 0.001954558647427748, -0.003919342601616205, 0.005382628928263974, 0.0006843979838676784, -0.005591764326174522, 0.0009966458119023331, -0.0016227826590812595], \"y\": [-0.006120027574309345, 0.00072241739899905, 0.0031105446947421508, 0.002648400076575592, -0.00027151232382844877, -0.0032394742489866937, 0.0015961789175366109, -0.0013202380303349837, 0.0008027682759044039, 0.002070942813701661], \"topics\": [1, 2, 3, 4, 5, 6, 7, 8, 9, 10], \"cluster\": [1, 1, 1, 1, 1, 1, 1, 1, 1, 1], \"Freq\": [10.387084247944033, 10.119631821606546, 10.101553714023828, 10.051452100856672, 10.035891654040851, 9.926855352832034, 9.889719201015186, 9.886578466430047, 9.806994750762339, 9.794238690488468]}, \"tinfo\": {\"Term\": [\"great\", \"food\", \"like\", \"place\", \"come\", \"find\", \"time\", \"look\", \"good\", \"tell\", \"try\", \"walk\", \"way\", \"feel\", \"pizza\", \"think\", \"price\", \"pretty\", \"restaurant\", \"amazing\", \"want\", \"free\", \"thing\", \"little\", \"leave\", \"eat\", \"need\", \"bring\", \"nice\", \"sure\", \"pace\", \"latin\", \"frosting\", \"poke\", \"la\", \"las\", \"middle\", \"dim\", \"bob\", \"aged\", \"cut\", \"quick\", \"cap\", \"friday\", \"chicago\", \"break\", \"reduce\", \"whiskey\", \"engage\", \"hangover\", \"road\", \"trim\", \"america\", \"reviewer\", \"suggest\", \"checkout\", \"lamb\", \"beach\", \"dance\", \"office\", \"super\", \"reasonable\", \"great\", \"night\", \"fast\", \"totally\", \"like\", \"restaurant\", \"come\", \"especially\", \"delicious\", \"return\", \"love\", \"place\", \"time\", \"lunch\", \"big\", \"want\", \"bad\", \"perfect\", \"good\", \"location\", \"tell\", \"day\", \"home\", \"food\", \"need\", \"drink\", \"friendly\", \"friend\", \"price\", \"find\", \"order\", \"nice\", \"experience\", \"recommend\", \"chicken\", \"try\", \"customer\", \"people\", \"menu\", \"wait\", \"know\", \"ask\", \"look\", \"tr\\u00e8s\", \"gun\", \"tan\", \"les\", \"est\", \"profit\", \"free\", \"santa\", \"boba\", \"available\", \"la\", \"que\", \"thanksgiving\", \"terrible\", \"airline\", \"killer\", \"feel\", \"olive\", \"shawarma\", \"un\", \"\\u00e0\", \"subway\", \"waitstaff\", \"du\", \"lovely\", \"feast\", \"walking\", \"kim\", \"duck\", \"au\", \"amazing\", \"le\", \"de\", \"personable\", \"list\", \"area\", \"need\", \"vegas\", \"decide\", \"good\", \"possible\", \"time\", \"food\", \"house\", \"grill\", \"experience\", \"cream\", \"pretty\", \"order\", \"know\", \"check\", \"bring\", \"try\", \"work\", \"wait\", \"place\", \"drink\", \"love\", \"definitely\", \"delicious\", \"like\", \"come\", \"price\", \"staff\", \"nice\", \"great\", \"friendly\", \"tell\", \"people\", \"day\", \"look\", \"eat\", \"chicken\", \"restaurant\", \"battery\", \"towel\", \"clear\", \"private\", \"tasty\", \"entertaining\", \"idiot\", \"chip\", \"die\", \"blt\", \"husband\", \"pig\", \"peel\", \"scare\", \"groupon\", \"pleasure\", \"napkin\", \"shoulder\", \"giant\", \"veggie\", \"lamb\", \"explore\", \"entertainment\", \"land\", \"exceptionally\", \"ricotta\", \"food\", \"crust\", \"read\", \"clinic\", \"half\", \"close\", \"fill\", \"city\", \"think\", \"old\", \"definitely\", \"yes\", \"stick\", \"try\", \"new\", \"bar\", \"wrong\", \"job\", \"find\", \"book\", \"room\", \"order\", \"price\", \"home\", \"perfect\", \"people\", \"amazing\", \"recommend\", \"stop\", \"long\", \"great\", \"look\", \"good\", \"nice\", \"eat\", \"ask\", \"bad\", \"place\", \"time\", \"staff\", \"table\", \"love\", \"come\", \"know\", \"like\", \"drink\", \"want\", \"restaurant\", \"wait\", \"iphone\", \"rob\", \"spray\", \"egg\", \"dr\", \"coke\", \"potato\", \"steal\", \"buffalo\", \"tacos\", \"learn\", \"expectation\", \"diet\", \"canadian\", \"puff\", \"ordinary\", \"pancake\", \"solution\", \"sized\", \"henderson\", \"clinic\", \"company\", \"sooo\", \"app\", \"lobster\", \"breakfast\", \"organize\", \"ppl\", \"wing\", \"superb\", \"guy\", \"comfortable\", \"car\", \"eat\", \"way\", \"excellent\", \"cheese\", \"standard\", \"restaurant\", \"location\", \"leave\", \"class\", \"time\", \"good\", \"taco\", \"server\", \"spot\", \"try\", \"pizza\", \"fry\", \"staff\", \"order\", \"come\", \"love\", \"chicken\", \"store\", \"know\", \"food\", \"salad\", \"friendly\", \"look\", \"place\", \"nice\", \"great\", \"tell\", \"day\", \"like\", \"menu\", \"price\", \"think\", \"definitely\", \"want\", \"ask\", \"find\", \"work\", \"bon\", \"jack\", \"rent\", \"poutine\", \"dragon\", \"result\", \"roof\", \"grace\", \"regularly\", \"update\", \"challenge\", \"collection\", \"sweet\", \"cocktail\", \"summer\", \"fancy\", \"heavily\", \"cookie\", \"chat\", \"jazz\", \"toast\", \"caramel\", \"spa\", \"horrible\", \"squeeze\", \"unbelievable\", \"talented\", \"expert\", \"fianc\\u00e9\", \"almond\", \"thing\", \"test\", \"immediately\", \"pizza\", \"hair\", \"review\", \"gel\", \"look\", \"option\", \"wrong\", \"place\", \"find\", \"able\", \"price\", \"check\", \"portion\", \"want\", \"good\", \"slice\", \"nice\", \"room\", \"bring\", \"pay\", \"need\", \"friendly\", \"use\", \"wait\", \"recommend\", \"minute\", \"love\", \"like\", \"come\", \"great\", \"day\", \"delicious\", \"food\", \"order\", \"staff\", \"ask\", \"time\", \"amazing\", \"experience\", \"try\", \"tell\", \"eat\", \"people\", \"know\", \"work\", \"mcdonalds\", \"guacamole\", \"sundae\", \"tall\", \"alright\", \"slow\", \"consistently\", \"tire\", \"pork\", \"vegan\", \"kobe\", \"favourite\", \"locally\", \"promptly\", \"year\", \"mcdonald\", \"mountain\", \"meeting\", \"phenomenal\", \"build\", \"cooked\", \"come\", \"attitude\", \"leak\", \"corporate\", \"self\", \"mold\", \"young\", \"membership\", \"specifically\", \"wonderful\", \"worker\", \"typically\", \"fix\", \"breakfast\", \"treat\", \"tell\", \"small\", \"roll\", \"portion\", \"friendly\", \"customer\", \"bring\", \"friend\", \"chef\", \"food\", \"people\", \"delicious\", \"time\", \"taste\", \"excellent\", \"table\", \"fast\", \"enjoy\", \"overall\", \"restaurant\", \"meal\", \"great\", \"place\", \"want\", \"work\", \"order\", \"good\", \"like\", \"definitely\", \"bar\", \"little\", \"fry\", \"love\", \"look\", \"price\", \"try\", \"think\", \"recommend\", \"experience\", \"staff\", \"ask\", \"computer\", \"vietnamese\", \"candy\", \"tom\", \"expertise\", \"arrangement\", \"lead\", \"english\", \"pedicure\", \"pressure\", \"flour\", \"prime\", \"walk\", \"shave\", \"entire\", \"killer\", \"def\", \"firm\", \"tend\", \"remodel\", \"step\", \"explain\", \"grain\", \"accessory\", \"bright\", \"dress\", \"milk\", \"arrange\", \"performance\", \"organize\", \"pizza\", \"hope\", \"discount\", \"choice\", \"great\", \"large\", \"steak\", \"guy\", \"mix\", \"people\", \"lot\", \"work\", \"bowl\", \"pretty\", \"salad\", \"area\", \"recommend\", \"lunch\", \"day\", \"type\", \"decide\", \"way\", \"good\", \"chicken\", \"need\", \"bar\", \"fresh\", \"order\", \"little\", \"leave\", \"try\", \"want\", \"find\", \"come\", \"nice\", \"like\", \"food\", \"time\", \"know\", \"tell\", \"drink\", \"place\", \"restaurant\", \"think\", \"price\", \"love\", \"wait\", \"look\", \"accessory\", \"tomorrow\", \"extension\", \"hike\", \"central\", \"major\", \"dog\", \"sell\", \"future\", \"sloppy\", \"replacement\", \"fusion\", \"cat\", \"straight\", \"bear\", \"disgusting\", \"meet\", \"upper\", \"faster\", \"bank\", \"t\", \"yo\", \"nigiri\", \"joint\", \"tamale\", \"ish\", \"p.m.\", \"ppl\", \"wrap\", \"function\", \"like\", \"wish\", \"help\", \"find\", \"look\", \"place\", \"date\", \"expensive\", \"rice\", \"meat\", \"pretty\", \"atmosphere\", \"cut\", \"choice\", \"room\", \"sauce\", \"fun\", \"bit\", \"owner\", \"stuff\", \"bean\", \"drink\", \"good\", \"ask\", \"night\", \"time\", \"hour\", \"week\", \"want\", \"dinner\", \"great\", \"location\", \"food\", \"staff\", \"definitely\", \"order\", \"leave\", \"day\", \"chicken\", \"wait\", \"amazing\", \"try\", \"come\", \"eat\", \"experience\", \"know\", \"bad\", \"little\", \"love\", \"restaurant\", \"need\", \"work\", \"nice\", \"eyebrow\", \"fav\", \"bomb\", \"group\", \"dirt\", \"serve\", \"plate\", \"minimal\", \"sticker\", \"board\", \"en\", \"confused\", \"hint\", \"wallet\", \"stomach\", \"organized\", \"cat\", \"wax\", \"oh\", \"taro\", \"numerous\", \"matt\", \"stool\", \"crave\", \"earn\", \"mesa\", \"charge\", \"trade\", \"bread\", \"appeal\", \"outstanding\", \"way\", \"think\", \"family\", \"stay\", \"son\", \"choose\", \"beer\", \"flavor\", \"ask\", \"know\", \"sure\", \"nice\", \"like\", \"fantastic\", \"visit\", \"great\", \"add\", \"little\", \"food\", \"tell\", \"tea\", \"super\", \"bad\", \"wait\", \"eat\", \"place\", \"work\", \"price\", \"good\", \"order\", \"time\", \"try\", \"staff\", \"come\", \"love\", \"vegas\", \"thing\", \"menu\", \"restaurant\", \"chicken\", \"look\", \"want\", \"friendly\", \"day\", \"un\", \"pan\", \"une\", \"cupcake\", \"pas\", \"answer\", \"exception\", \"rating\", \"slider\", \"purchase\", \"des\", \"freeze\", \"metro\", \"asada\", \"appear\", \"tequila\", \"pretentious\", \"extremely\", \"ingredient\", \"timing\", \"de\", \"polish\", \"pickup\", \"cornbread\", \"accurate\", \"oyster\", \"salt\", \"opposite\", \"waste\", \"laptop\", \"idea\", \"sure\", \"huge\", \"coffee\", \"buffet\", \"taco\", \"wait\", \"little\", \"taste\", \"money\", \"bring\", \"free\", \"chicken\", \"worth\", \"week\", \"try\", \"menu\", \"love\", \"fry\", \"friend\", \"walk\", \"come\", \"review\", \"day\", \"end\", \"right\", \"feel\", \"lot\", \"time\", \"order\", \"place\", \"good\", \"want\", \"know\", \"recommend\", \"like\", \"eat\", \"food\", \"nice\", \"look\", \"staff\", \"drink\", \"great\", \"definitely\", \"experience\", \"tell\"], \"Freq\": [4336.0, 5033.0, 3789.0, 5323.0, 3919.0, 1606.0, 4312.0, 1981.0, 6382.0, 1535.0, 2579.0, 897.0, 1174.0, 1166.0, 856.0, 1491.0, 1778.0, 1069.0, 1725.0, 1360.0, 1829.0, 593.0, 1196.0, 1445.0, 1054.0, 1564.0, 1380.0, 728.0, 1819.0, 965.0, 3.6677473700272305, 4.16504143823991, 4.030129688338306, 9.606287233862114, 35.25275051412171, 49.10136605334965, 26.083525383450237, 10.235790842786038, 3.5054001035034803, 3.086903457889472, 76.48816076870816, 75.05477952070154, 2.6158855655432625, 31.056638804027738, 9.085517043830015, 40.1811959456777, 2.6208288447382775, 2.955251995249728, 2.9767029701278696, 3.334850176493751, 18.26090760843425, 9.463726673681853, 5.164801158525898, 7.4598531369871, 27.522815977616542, 5.75005352504015, 23.812198366814364, 3.8311377110417606, 14.813818811654786, 49.59088507933893, 104.03466244941123, 40.933002001582544, 649.577208466845, 158.23936014002177, 70.10510537912705, 28.32317965758668, 530.1750183299165, 246.91569473436707, 540.1789470613733, 58.11676215784521, 175.3330160549222, 78.8310111676244, 300.4046029400248, 659.4855053265171, 538.1270751866459, 109.83165855440066, 109.04171957953236, 235.31743117360716, 165.47678715454438, 79.23094295964236, 695.7098069491386, 128.91106738012883, 188.53518149763948, 191.70160534290207, 108.14769300452328, 481.91930725353444, 163.7908405483093, 168.23517137225673, 166.53411075556576, 134.07594222428753, 195.15189040500013, 178.1673375451168, 314.84801132327505, 188.03667040852412, 160.61294590355112, 155.69369305667936, 152.43181128604397, 215.60033480186763, 133.227731201434, 148.0755746560324, 140.54897139542192, 155.17042359493743, 153.66042378433534, 146.94955188600156, 149.6798824129509, 5.781406996869132, 4.006812028342178, 9.585349606170771, 10.225041917757178, 6.089613145025962, 3.762735811295231, 110.21203023246143, 5.153477968787955, 12.251580692851698, 40.00045507107038, 34.266793789117855, 5.543403366775012, 3.6155826717613753, 36.72819216350552, 4.420582039197063, 4.113420940887929, 196.52798830695943, 12.587284126697062, 6.429741564712922, 10.06273202485792, 10.099573562563016, 2.8137714124759223, 5.682688034144796, 3.6885899365014754, 20.96387882718871, 2.771489848958919, 2.6878561454803376, 3.769581593912402, 14.268689305300285, 5.289280901952324, 215.97824894528108, 13.279939164433006, 25.86969586965485, 9.905512042534435, 39.484421695600616, 123.48641345057578, 198.03129722030192, 132.04776307853342, 90.93555855935259, 803.0873286998184, 17.042890634945117, 519.4851657018353, 595.1457202103165, 73.53990828848703, 40.65263208007715, 187.80240580023414, 80.1655290303116, 136.4054232312925, 383.3773086460948, 202.27700523126865, 119.55895607025472, 94.60099087380671, 284.9245182349948, 175.8988549512557, 192.71660677864057, 498.29388967670593, 162.99290358620343, 237.2252233028335, 164.11268862030494, 142.00882987682274, 349.80251203112635, 358.5169849989302, 188.24209875507287, 174.17209366777612, 186.66203987453744, 338.0123537980547, 148.03939829388284, 153.03435997133016, 145.80064731880364, 150.21495670519866, 159.00874048306548, 145.23700768608276, 141.96349730910512, 144.45045233044388, 6.401280591610588, 9.948517241026396, 25.368131880530512, 10.448203039069671, 84.13429154331514, 4.136279347407627, 3.858928078706146, 56.925529169781974, 19.176841193239, 4.387493186157717, 69.2944316907248, 7.3097813215317595, 2.6275032006012937, 4.00853349186242, 11.270867905118653, 6.60951423638036, 4.697030113766836, 4.996235947368289, 8.497132601926854, 34.05717607359636, 23.068552587739543, 5.655337835866243, 5.897841449580676, 5.356888251150986, 2.897499618484515, 3.0710133629334497, 765.2124590144083, 20.898788482397528, 39.84939525155306, 4.361027999407492, 64.0273775839651, 89.82926210721807, 42.35385191250353, 28.96222835413505, 210.5576589780311, 86.77121364023847, 204.41671361464924, 38.03949166475211, 29.482215102861606, 351.21194937577195, 166.68713656141603, 154.57670375688633, 48.744930926905994, 71.42034921986738, 209.79643617683004, 36.63286286264879, 154.4163543231461, 426.96879593700083, 228.1176982029817, 107.37198073631922, 75.78192054371738, 178.853920040234, 167.35937867813385, 173.62695329190933, 87.66850132842178, 102.08657694784706, 434.06680055101987, 214.9251369727934, 569.6566351843909, 199.91247527761828, 176.12709625047518, 172.10866162513688, 144.0944163602491, 434.4948626778515, 352.0713441488902, 169.91382353730637, 132.89281204243943, 208.31823656751487, 292.78949499318594, 166.43066392944021, 261.58674700684963, 148.0989230837703, 165.8649392480765, 156.9688255929923, 150.83227851439474, 4.127103747035866, 3.6718839247144563, 9.416653036605412, 75.63496227534857, 18.02680584250117, 5.72977321388891, 62.33335907146036, 9.45515931149848, 10.318202976147926, 5.245511058149562, 21.28931826288196, 21.387417123030286, 6.222004543135338, 3.6172110694185577, 2.5529806954694254, 2.5627269332998117, 23.221857157729293, 4.816808682590381, 13.150996052733209, 5.472989318680823, 4.5496020318889485, 61.73221628874833, 5.893049802089238, 12.633566120877008, 25.37868313691803, 75.40957873559834, 4.932271983141738, 2.577122001792121, 32.73810586807684, 10.55266558749764, 100.55212418589925, 39.738428932485505, 104.09672839896008, 225.06678804355394, 169.9996085742003, 97.86950692566528, 124.13925061767907, 27.101403950675977, 239.92157527370134, 135.45566168851636, 144.74789918176822, 33.433938913951984, 511.0079948645914, 725.9740393020073, 70.35907601248053, 114.3413811930414, 71.404715739498, 296.48763967906837, 109.61833756630489, 132.30202214694393, 190.90561397487545, 364.25694412450457, 406.9866670623165, 249.48186221546888, 165.7365525389736, 103.90694108533931, 190.48629576138666, 458.19892439719064, 96.11172759312122, 159.4593102555996, 207.25756547753747, 433.22555102853823, 186.2761875344734, 345.609328268744, 164.09406701227482, 166.79625681980656, 295.33703947862983, 145.60667859339915, 170.03922124039875, 151.69565784657786, 147.6416250207156, 159.9072064454582, 141.4036494005539, 142.60209152740202, 138.56795854895958, 3.8655674780914877, 7.122759957112556, 18.313858925863546, 11.41221499343989, 5.268208378160134, 26.393327089790535, 7.309819437351883, 5.030668649101991, 7.187448134096448, 28.231087321758856, 3.8414203610116555, 6.055908940684578, 106.21306719922808, 35.06605138792161, 22.641215581544127, 17.763747694972263, 2.899294435913776, 25.315326581617295, 13.127250284970865, 3.273177346491301, 23.676476176840623, 9.652748049444108, 17.09405691045966, 39.2758791187882, 5.930806578004469, 3.702802171977937, 3.909582760705975, 3.011201930078646, 5.002788500582064, 7.92497364952838, 179.6638786922936, 14.343465742420891, 27.781188464961957, 127.55639464109146, 61.30735417154957, 135.40537539500886, 17.25838032098857, 275.3468117389976, 86.86744670206598, 49.33530467539491, 683.0847029093635, 218.15551425625645, 58.48935835609488, 231.56631386819564, 127.46252089252503, 69.48047666559349, 225.04112663643338, 701.0135991682891, 33.23268652765984, 211.95142491719355, 140.89305882796427, 93.3154359874241, 107.89992822814723, 162.22726406450147, 165.1484612468653, 69.03494983811488, 190.58581949998907, 160.97971611931007, 124.64629909857697, 232.3910284557603, 354.0208187322911, 353.25959544075306, 381.74212696868796, 169.69798608538494, 139.5001064779166, 413.90229844941217, 304.9860799848952, 169.22624575590712, 158.9197596936368, 320.61341676285565, 145.6590796489794, 151.5284017927866, 189.15457629626417, 149.60700578373616, 149.43461757806855, 145.62095686049753, 149.976553137477, 143.79969036006318, 5.07268095817444, 16.58797244601689, 3.7209407289146172, 6.115678575583418, 9.452735407000306, 44.36232802607698, 10.318707871696075, 22.89343214899058, 62.04364779578507, 18.10580124931187, 3.051368079497011, 14.676693485740815, 3.8117243755624974, 11.008877734670353, 162.40113397406898, 5.8689027905338405, 7.993119771819553, 7.921589571632631, 11.718632656732948, 15.598942546984606, 8.632348855699755, 603.4421556525094, 23.133169896154396, 7.323967049619357, 7.481271496651685, 11.417890884965308, 2.1995357619420166, 24.578800079031854, 7.53975307185333, 7.59040524117599, 59.83839669453969, 20.4109932966424, 11.386380470122067, 54.39349398251092, 71.19051803035555, 49.434019052735465, 208.00849684749818, 122.66075059565689, 83.10889173769034, 69.51114163916888, 187.61423137320708, 152.30874118628768, 98.90977338729591, 142.33484002625912, 39.27750410037997, 586.9892006297566, 183.0245879311591, 156.271708915073, 487.29734555724207, 145.03898890500935, 89.39568993284425, 144.43736913766196, 63.30284068408388, 115.14237831288963, 72.93572053820687, 199.23389165824773, 114.09839595894059, 430.3830183872719, 511.5196940975493, 205.9832043286827, 175.3178111896112, 340.8098865492045, 549.3714058962998, 351.5110750976897, 163.8010160448597, 130.05365843859403, 157.0085550591589, 124.1422561275605, 206.8524507826254, 188.9933335404558, 174.62056692391997, 215.82345838464192, 153.98165271859463, 148.78972455228592, 148.6793509401836, 152.81396067222568, 146.34587859857152, 10.032714919923423, 6.571755499042343, 11.853569362596025, 7.921011716484568, 4.180986517863348, 3.7795496596445393, 9.493487892700852, 11.759871357601254, 26.34400355898497, 10.467329299992334, 3.929651291977051, 15.645727791680805, 149.0729508865037, 5.863184175845493, 40.485225562186805, 3.9734380990320717, 6.893549973111879, 2.3725747960048884, 10.092138188250432, 3.969825283470258, 17.490743962748976, 42.33528616112735, 3.798384030560658, 4.04782989623552, 12.307602374720856, 20.120421694450126, 19.91712412044701, 3.164617110244232, 7.217709669689293, 4.9262386295084015, 128.7647513421065, 45.768712850855465, 21.143582562759256, 58.85599676507674, 598.1339467164388, 82.44689282609609, 69.75740333893269, 95.36347127690419, 26.57924917617982, 189.60234567076319, 147.25637719178843, 197.27147700431368, 42.575905140615816, 140.21767742952795, 101.19594321387827, 109.51336518757473, 177.1925470517523, 101.74846103191096, 187.68698123812592, 41.199947153976346, 82.64452950771711, 143.81709408921807, 624.2132661776494, 165.11092837501602, 161.6038709802287, 133.6404611590451, 117.32210273016788, 347.3592388853569, 163.3621381734806, 123.80477910755687, 253.20389083208244, 189.7123707843025, 170.2896166970337, 336.3367062363054, 187.44207000947657, 316.67918038142756, 390.2745537433832, 344.5409103623601, 175.1716107715862, 161.50194271398112, 152.60197097956987, 363.36773648895706, 165.73324469708862, 151.90315785251602, 167.1604060418855, 182.96773379413733, 161.5525848134058, 168.25504458995127, 5.143485794192796, 7.942150107321713, 5.046720105159133, 3.7140536238922475, 7.836564646887926, 7.481566835961507, 66.61987365326418, 40.30472034680889, 29.1375307437195, 3.1895830604424464, 4.520397573676122, 4.299801535346351, 11.846643130368786, 11.599049117572582, 5.594371456131238, 10.066445110239592, 37.517012624940236, 4.302512945319541, 3.309843707580487, 9.453587123196447, 10.709166261467471, 3.3589681441391748, 6.131708928946023, 20.42669863966673, 5.7519344704134285, 3.822902664187754, 22.853017636865307, 2.5453304354165, 18.118880301981275, 2.8239514520011144, 565.2038987021907, 51.1302211291742, 94.39703715344325, 231.69978904526138, 282.32757179315956, 729.312215843356, 31.665768632326316, 33.90290232574937, 77.86677807720005, 94.14412782280286, 145.3357964637367, 66.35946791934796, 62.48209359505321, 55.60015163976935, 153.01065092968358, 124.00825320280664, 64.35392709694356, 113.02192927556273, 75.54360590986042, 52.57662684663121, 32.59355201566825, 168.75860743536026, 630.4313637366859, 177.85315190917564, 127.53996055371867, 436.53235837349735, 123.01844283113282, 84.43208207595823, 201.32248657131345, 91.39996592572997, 392.4203205803695, 115.61747842695782, 425.23193974801706, 171.76377293900327, 154.69743364715114, 294.2849696829081, 119.77226106364161, 161.78606937692896, 147.74193955837637, 171.32548629349066, 144.10713136780956, 228.20556371072846, 308.39689826041297, 158.99076637284557, 151.47173591658662, 164.8380161162294, 133.2973546362418, 142.78107741558256, 169.13466013662233, 149.11698227605984, 136.53247116061544, 138.35389479974123, 139.9705516539268, 15.139880250017711, 4.851762638960884, 14.924849248571842, 59.705674306023056, 3.1524661817617403, 117.36733547411167, 70.61712931458354, 5.7354488035022495, 5.142111686985399, 11.443259871668218, 6.3590188629961055, 4.776329116762101, 7.2965246500213325, 5.445524591709845, 10.277485300254513, 4.460185096198713, 11.832245628289519, 8.588180192884671, 47.596302015902275, 3.2651264777680473, 6.086231803482122, 2.96114931069236, 3.628465526844234, 16.41414716036322, 5.900017244072903, 4.068912637173695, 75.43139858787312, 6.375472855803292, 72.60532638486818, 5.555886210062941, 19.44033490644206, 170.10947290934254, 207.57794374768895, 78.55392322439559, 92.77056534178732, 26.043987017387597, 53.78985999711531, 87.98339434735672, 103.92165307625778, 199.1300325033981, 219.34706384413644, 128.54621491141194, 233.0372603076948, 459.95881316089856, 56.912808899619904, 119.6484448660629, 506.7186177680225, 56.23069868834095, 180.1416207029273, 561.2919236781499, 187.70851854431424, 51.90371486253365, 87.51142809522942, 152.54035399311076, 202.01560686989762, 184.0983708723237, 539.1811514731497, 177.9998530331089, 199.7721431003613, 570.5288784092172, 340.95934013950995, 402.50703135597274, 246.9477101219791, 170.4235209761192, 302.25569872917185, 207.59938514678615, 111.36417255488183, 128.3969645256963, 134.78435731674767, 154.48705055114283, 137.07058527248338, 149.73748868312867, 145.22540627711516, 132.72802677933188, 134.37149633413168, 11.624870656350327, 8.524625519441502, 5.835419541963295, 10.653353373764288, 5.184606020842827, 37.617509475428136, 3.1618901332159215, 14.625852214523093, 12.132677239875214, 46.612928667985074, 5.52617713394651, 10.279463237213886, 3.960900805331002, 8.644561677995574, 13.92347086075265, 4.834323140101573, 2.2683526248230135, 60.273873312624076, 24.572686187602212, 2.5010891459870623, 25.369589963961573, 13.15347862704516, 4.5786395655624395, 3.68412549290487, 3.7666745741319385, 14.329819550270015, 21.151073812121336, 3.789356948549741, 27.34810261482039, 4.502153469121248, 21.779031828317247, 139.43684075219517, 74.80172340917578, 94.46804138553678, 43.65311230484263, 71.46155299089195, 223.57107756271054, 187.73834770108311, 148.67046474171627, 66.9593351673389, 96.12977532576078, 79.44360287888797, 174.53208021570876, 85.68102120638642, 86.56898935126559, 298.36564339225185, 161.9755259615238, 261.9557693181609, 132.65263072370684, 135.5030331626465, 113.804787218027, 417.68164847113025, 116.28940134472248, 183.7220844296597, 94.73799740622647, 134.26293579129285, 138.94199731536352, 130.44228265610604, 400.6359841951799, 332.6633799567314, 471.8685083059657, 512.0485269679308, 188.23082198361183, 175.25388863476343, 152.9405191117777, 305.39660084139285, 159.9092953725981, 355.1289403072861, 176.27450208421223, 186.2169679290453, 158.4814789712631, 147.799745862589, 259.56527440221623, 141.94349712604006, 140.8579597365584, 134.37766664447938], \"Total\": [4336.0, 5033.0, 3789.0, 5323.0, 3919.0, 1606.0, 4312.0, 1981.0, 6382.0, 1535.0, 2579.0, 897.0, 1174.0, 1166.0, 856.0, 1491.0, 1778.0, 1069.0, 1725.0, 1360.0, 1829.0, 593.0, 1196.0, 1445.0, 1054.0, 1564.0, 1380.0, 728.0, 1819.0, 965.0, 16.20060816180968, 18.434960430826365, 19.903207685781293, 49.135882004219, 192.62386303281127, 269.3009217326688, 145.1919830521263, 58.023798221877726, 20.0898271431502, 17.929664894082297, 447.0708755196998, 448.38839669239525, 15.698858388537374, 186.95192528999794, 54.777782177312375, 242.76778780209273, 15.853871865592158, 17.890036789012434, 18.063504023132086, 20.244195903040175, 111.906253296763, 58.177792237295606, 31.88281105991963, 46.31353990542066, 171.8754312232541, 35.956286112752046, 150.31382602546788, 24.331303548973747, 94.10454243879589, 316.245099339131, 669.5792079550895, 262.6235722858317, 4336.228995907671, 1053.5374799135268, 461.6572774663168, 181.79112795099599, 3789.6717037624126, 1725.674307101469, 3919.8447969060885, 387.285831427555, 1234.329481247978, 542.7131242183435, 2256.3309526599346, 5323.833817827954, 4312.818626509071, 781.9765575670611, 782.7470811840825, 1829.165646113102, 1250.82079697855, 553.7374429163383, 6382.034850491428, 976.6244173531097, 1535.6150842358202, 1575.2478163707835, 810.846869563197, 5033.295267431455, 1380.5412832032723, 1429.850942258951, 1422.5997317067659, 1090.2703156366242, 1778.6913437943617, 1606.284783437952, 3450.513955229481, 1819.6578355093066, 1480.7272202606498, 1433.0655156312005, 1404.3091321296167, 2579.925284829651, 1146.638568663014, 1452.0513997118787, 1315.5363726687322, 1717.442099719037, 1703.132109602124, 1524.1223736331706, 1981.7485436210854, 27.914836229235203, 19.501685478326163, 47.92123591419959, 51.783297015608596, 31.365868380531428, 19.686835937245434, 593.7873570893398, 28.185362384358633, 67.8010113235724, 224.33723312925628, 192.62386303281127, 31.19067194342118, 20.77030368123065, 212.47691586226014, 25.787343802649122, 24.000546206397058, 1166.9041219627175, 74.88915718368813, 38.432730303248846, 61.104492245010135, 61.61690243946543, 17.174547577934327, 34.716510386240806, 22.59777914402367, 128.61415814611058, 17.142812948463753, 16.633718888659576, 23.386507802037116, 88.69136562784615, 32.90314446093787, 1360.2919819017973, 82.97743462704713, 163.04539745164382, 62.287508493161695, 257.8095929878342, 837.0649686582973, 1380.5412832032723, 917.0465677000792, 628.8310398993121, 6382.034850491428, 109.00252865217045, 4312.818626509071, 5033.295267431455, 531.3790734238939, 279.25331556256594, 1480.7272202606498, 585.0818463703351, 1069.6402544971725, 3450.513955229481, 1703.132109602124, 945.4551926186634, 728.5967475071357, 2579.925284829651, 1521.486135798541, 1717.442099719037, 5323.833817827954, 1429.850942258951, 2256.3309526599346, 1459.1278760926239, 1234.329481247978, 3789.6717037624126, 3919.8447969060885, 1778.6913437943617, 1611.3995734614628, 1819.6578355093066, 4336.228995907671, 1422.5997317067659, 1535.6150842358202, 1452.0513997118787, 1575.2478163707835, 1981.7485436210854, 1564.1049274874863, 1404.3091321296167, 1725.674307101469, 34.94804445102933, 56.03494455211629, 144.95468069531225, 60.257634962651466, 501.2909538736544, 24.78287711934597, 23.181311998778398, 344.551452200631, 118.19020535204166, 27.652289489006897, 439.0032090183438, 46.327451042518845, 16.66259411889601, 25.709260002754263, 72.38859957998467, 42.49821581790031, 30.434187049715707, 32.38836589142498, 55.27408026243135, 221.76752026131197, 150.31382602546788, 36.85607774116703, 38.45111689956839, 35.00625623554591, 18.991281845284313, 20.13213154173582, 5033.295267431455, 138.26252163454768, 263.75339063934007, 28.922782135223816, 426.9092179502799, 606.6105537386137, 285.043307060577, 194.31611296839313, 1491.2365781606948, 598.0797567373291, 1459.1278760926239, 258.81162794847756, 199.2893843715136, 2579.925284829651, 1199.6346623435372, 1110.5282603282863, 337.4425032424076, 505.66187771000796, 1606.284783437952, 251.2362048837589, 1163.3768367495177, 3450.513955229481, 1778.6913437943617, 810.846869563197, 553.7374429163383, 1452.0513997118787, 1360.2919819017973, 1433.0655156312005, 670.7463974127243, 800.6578177925501, 4336.228995907671, 1981.7485436210854, 6382.034850491428, 1819.6578355093066, 1564.1049274874863, 1524.1223736331706, 1250.82079697855, 5323.833817827954, 4312.818626509071, 1611.3995734614628, 1158.5834078657151, 2256.3309526599346, 3919.8447969060885, 1703.132109602124, 3789.6717037624126, 1429.850942258951, 1829.165646113102, 1725.674307101469, 1717.442099719037, 21.78068337325674, 19.476996081766682, 50.76526978713303, 415.96378352537687, 101.28413824660372, 33.230323236786745, 364.69173666023386, 55.336578764713906, 61.00416873068514, 31.43447236259373, 128.29882123349356, 129.4967992555675, 38.02294089937289, 22.31878099307182, 15.78705133173775, 15.936244586219376, 145.28076807597589, 30.25048535870437, 82.68998485110062, 34.70267805550826, 28.922782135223816, 393.99376430837884, 37.7082417888773, 81.09500218459962, 163.4917847512237, 486.72923239634383, 31.874806002607666, 16.721814364372655, 212.72072800011662, 69.08488583280365, 664.4073012019423, 260.99963738702746, 698.1112042815436, 1564.1049274874863, 1174.1542878802036, 673.3579666063549, 860.7413156494742, 179.3038666640347, 1725.674307101469, 976.6244173531097, 1054.589325525674, 226.74324650677286, 4312.818626509071, 6382.034850491428, 511.9880648610748, 876.1578341370307, 522.7866876229816, 2579.925284829651, 856.6641639064119, 1059.5934724998015, 1611.3995734614628, 3450.513955229481, 3919.8447969060885, 2256.3309526599346, 1404.3091321296167, 827.8507676787033, 1703.132109602124, 5033.295267431455, 761.5133990971581, 1422.5997317067659, 1981.7485436210854, 5323.833817827954, 1819.6578355093066, 4336.228995907671, 1535.6150842358202, 1575.2478163707835, 3789.6717037624126, 1315.5363726687322, 1778.6913437943617, 1491.2365781606948, 1459.1278760926239, 1829.165646113102, 1524.1223736331706, 1606.284783437952, 1521.486135798541, 19.917852211440323, 37.876874618985426, 99.0789337515943, 62.26894400364469, 29.06792300315554, 146.23206713771688, 41.139385643432036, 29.09309221356988, 42.418300104544834, 172.0747801718482, 23.427784100355527, 37.12805035002547, 659.5341734002368, 219.4331907531951, 142.23767070668748, 111.67818507087831, 18.264551517559386, 159.7139619836485, 83.21219695997314, 20.907372482275775, 151.332786477725, 61.81279658790082, 109.6005431497636, 251.88034194108172, 38.03873733738015, 23.761995736602625, 25.13499464629545, 19.41628543155818, 32.3184682059127, 51.54690839197478, 1196.4674182688289, 93.44042878016982, 182.35695754043255, 856.6641639064119, 405.94224879614046, 920.3380690623673, 113.100068439855, 1981.7485436210854, 606.7214572194417, 337.4425032424076, 5323.833817827954, 1606.284783437952, 406.20114238313266, 1778.6913437943617, 945.4551926186634, 496.8692531001859, 1829.165646113102, 6382.034850491428, 225.7233905049983, 1819.6578355093066, 1163.3768367495177, 728.5967475071357, 861.1933091379616, 1380.5412832032723, 1422.5997317067659, 519.7083548568852, 1717.442099719037, 1433.0655156312005, 1058.9796072634663, 2256.3309526599346, 3789.6717037624126, 3919.8447969060885, 4336.228995907671, 1575.2478163707835, 1234.329481247978, 5033.295267431455, 3450.513955229481, 1611.3995734614628, 1524.1223736331706, 4312.818626509071, 1360.2919819017973, 1480.7272202606498, 2579.925284829651, 1535.6150842358202, 1564.1049274874863, 1452.0513997118787, 1703.132109602124, 1521.486135798541, 25.93457569008033, 93.41051774560057, 20.96583438989396, 34.925278006611634, 55.33247201941879, 260.3227324186458, 60.554847466363846, 134.63821110865996, 374.8206974472415, 110.37058682282779, 18.66792600901223, 90.02138198430812, 23.412088077314987, 67.84955730814791, 1012.5757538830186, 36.97531011826919, 50.71147522501346, 50.64299823117434, 75.16809678677458, 100.17913575370517, 55.769470254267475, 3919.8447969060885, 150.83399918618147, 47.76225412016065, 48.879339759292634, 74.64724337980454, 14.468522477418016, 162.27604407905935, 49.81691351832759, 50.160004722400025, 399.3339690722993, 135.47537214723195, 75.44000703078936, 367.239078952466, 486.72923239634383, 339.8759425352723, 1535.6150842358202, 890.2370219709857, 592.3913510097303, 496.8692531001859, 1422.5997317067659, 1146.638568663014, 728.5967475071357, 1090.2703156366242, 273.5897905150678, 5033.295267431455, 1452.0513997118787, 1234.329481247978, 4312.818626509071, 1146.7753797179184, 673.3579666063549, 1158.5834078657151, 461.6572774663168, 908.8263113558608, 544.6359480331657, 1725.674307101469, 912.660454923427, 4336.228995907671, 5323.833817827954, 1829.165646113102, 1521.486135798541, 3450.513955229481, 6382.034850491428, 3789.6717037624126, 1459.1278760926239, 1110.5282603282863, 1445.64210138097, 1059.5934724998015, 2256.3309526599346, 1981.7485436210854, 1778.6913437943617, 2579.925284829651, 1491.2365781606948, 1433.0655156312005, 1480.7272202606498, 1611.3995734614628, 1524.1223736331706, 46.37992765138659, 35.00947085795211, 65.62890210118526, 44.6172299054807, 23.57331487742524, 21.88767709999908, 55.33451346143227, 69.15164519210144, 155.08419376618681, 62.0962645816316, 23.33616691921022, 93.0123189934196, 897.3458278915664, 35.31896491129463, 243.9015526758957, 24.000546206397058, 41.671245355199694, 14.558812841369566, 62.10636401343261, 24.447118057833606, 108.25466476506426, 263.33820926382043, 23.983953006109765, 25.70056874635217, 78.22010204462231, 128.74958735792598, 127.47693074192273, 20.29609090379695, 46.5013128372234, 31.874806002607666, 856.6641639064119, 302.74444814572854, 138.84831171203578, 396.1622033648963, 4336.228995907671, 564.5293981301736, 475.905861462336, 664.4073012019423, 177.58596651791407, 1452.0513997118787, 1109.0301797154234, 1521.486135798541, 293.17789872611957, 1069.6402544971725, 761.5133990971581, 837.0649686582973, 1433.0655156312005, 781.9765575670611, 1575.2478163707835, 287.6051559017894, 628.8310398993121, 1174.1542878802036, 6382.034850491428, 1404.3091321296167, 1380.5412832032723, 1110.5282603282863, 967.7284027039709, 3450.513955229481, 1445.64210138097, 1054.589325525674, 2579.925284829651, 1829.165646113102, 1606.284783437952, 3919.8447969060885, 1819.6578355093066, 3789.6717037624126, 5033.295267431455, 4312.818626509071, 1703.132109602124, 1535.6150842358202, 1429.850942258951, 5323.833817827954, 1725.674307101469, 1491.2365781606948, 1778.6913437943617, 2256.3309526599346, 1717.442099719037, 1981.7485436210854, 25.70056874635217, 41.557650645986705, 27.691949063589437, 21.058489741875565, 46.69833132764601, 44.7849575651394, 401.9413682936146, 246.17963490017513, 178.54756709092834, 19.71299785422934, 28.003788131215384, 26.916090780956203, 74.22141002430676, 73.18769133132336, 35.352379014027235, 63.976584476825536, 238.88888948997442, 27.505615808293335, 21.268889036834207, 60.88928923088115, 69.02645319790953, 21.669577895550034, 39.62843683425885, 132.3517632789439, 37.35798429026059, 24.956672093499186, 149.4424164497319, 16.721814364372655, 119.15810558263021, 18.60189902104246, 3789.6717037624126, 341.3154027001047, 641.2286333394511, 1606.284783437952, 1981.7485436210854, 5323.833817827954, 215.30033998223905, 231.31864859596703, 552.5035105894158, 676.2489613921601, 1069.6402544971725, 472.36017063850454, 447.0708755196998, 396.1622033648963, 1163.3768367495177, 938.8873370297815, 465.90692858238316, 865.561360085961, 572.316424000778, 383.44108853984244, 225.96952049460077, 1429.850942258951, 6382.034850491428, 1524.1223736331706, 1053.5374799135268, 4312.818626509071, 1015.0551445632923, 660.2687091236028, 1829.165646113102, 729.4722051143256, 4336.228995907671, 976.6244173531097, 5033.295267431455, 1611.3995734614628, 1459.1278760926239, 3450.513955229481, 1054.589325525674, 1575.2478163707835, 1404.3091321296167, 1717.442099719037, 1360.2919819017973, 2579.925284829651, 3919.8447969060885, 1564.1049274874863, 1480.7272202606498, 1703.132109602124, 1250.82079697855, 1445.64210138097, 2256.3309526599346, 1725.674307101469, 1380.5412832032723, 1521.486135798541, 1819.6578355093066, 62.9038184097174, 27.378558993324923, 86.18694240757253, 350.7999707830778, 18.693737656037577, 699.8676513094771, 421.9343977130867, 34.27327106196862, 31.18326280154855, 69.45312484726371, 38.744377581160855, 29.156929309740132, 45.015858244895746, 33.811336391569824, 63.90561729965626, 27.75239018609486, 74.22141002430676, 54.27319047490418, 301.7745559717981, 20.777376193427045, 38.78322540320519, 18.884131982267427, 23.346435272726815, 105.94531784646234, 38.17003926323535, 26.38340246434018, 491.726148510126, 42.079694268551044, 481.31986950491915, 37.17003605193368, 130.0709981979934, 1174.1542878802036, 1491.2365781606948, 548.9937677959814, 659.8192816728603, 178.3722853666644, 379.79967279110423, 634.552233026655, 757.3344845028307, 1524.1223736331706, 1703.132109602124, 965.3097306141985, 1819.6578355093066, 3789.6717037624126, 408.9705302996659, 915.7771855477533, 4336.228995907671, 407.0894252950632, 1445.64210138097, 5033.295267431455, 1535.6150842358202, 374.6887109598984, 669.5792079550895, 1250.82079697855, 1717.442099719037, 1564.1049274874863, 5323.833817827954, 1521.486135798541, 1778.6913437943617, 6382.034850491428, 3450.513955229481, 4312.818626509071, 2579.925284829651, 1611.3995734614628, 3919.8447969060885, 2256.3309526599346, 917.0465677000792, 1196.4674182688289, 1315.5363726687322, 1725.674307101469, 1404.3091321296167, 1981.7485436210854, 1829.165646113102, 1422.5997317067659, 1575.2478163707835, 61.104492245010135, 46.066524658527655, 31.55024173774234, 60.810758699955265, 29.82073952136691, 218.54135963054603, 18.500925569877822, 87.22444319920976, 73.29204016098436, 285.16376577992935, 33.90957063402101, 63.95142654698137, 24.648997134236886, 53.886205309881746, 87.43875588389994, 30.715933044487514, 14.521614644833335, 386.1834900749039, 157.51853811826473, 16.040807490375474, 163.04539745164382, 85.51618279914472, 29.794590501121426, 24.000677681399928, 24.550054984862108, 93.55787665777547, 138.31576626074153, 24.812871527195266, 179.5494760968691, 29.735024292906196, 144.30402611058358, 965.3097306141985, 511.75272410392904, 656.8554516352136, 301.14555769056506, 511.9880648610748, 1717.442099719037, 1445.64210138097, 1146.7753797179184, 491.48554116426436, 728.5967475071357, 593.7873570893398, 1404.3091321296167, 650.2099130522219, 660.2687091236028, 2579.925284829651, 1315.5363726687322, 2256.3309526599346, 1059.5934724998015, 1090.2703156366242, 897.3458278915664, 3919.8447969060885, 920.3380690623673, 1575.2478163707835, 738.5830650161073, 1106.2580969499309, 1166.9041219627175, 1109.0301797154234, 4312.818626509071, 3450.513955229481, 5323.833817827954, 6382.034850491428, 1829.165646113102, 1703.132109602124, 1433.0655156312005, 3789.6717037624126, 1564.1049274874863, 5033.295267431455, 1819.6578355093066, 1981.7485436210854, 1611.3995734614628, 1429.850942258951, 4336.228995907671, 1459.1278760926239, 1480.7272202606498, 1535.6150842358202], \"Category\": [\"Default\", \"Default\", \"Default\", \"Default\", \"Default\", \"Default\", \"Default\", \"Default\", \"Default\", \"Default\", \"Default\", \"Default\", \"Default\", \"Default\", \"Default\", \"Default\", \"Default\", \"Default\", \"Default\", \"Default\", \"Default\", \"Default\", \"Default\", \"Default\", \"Default\", \"Default\", \"Default\", \"Default\", \"Default\", \"Default\", \"Topic1\", \"Topic1\", \"Topic1\", \"Topic1\", \"Topic1\", \"Topic1\", \"Topic1\", \"Topic1\", \"Topic1\", \"Topic1\", \"Topic1\", \"Topic1\", \"Topic1\", \"Topic1\", \"Topic1\", \"Topic1\", \"Topic1\", \"Topic1\", \"Topic1\", \"Topic1\", \"Topic1\", \"Topic1\", \"Topic1\", \"Topic1\", \"Topic1\", \"Topic1\", \"Topic1\", \"Topic1\", \"Topic1\", \"Topic1\", \"Topic1\", \"Topic1\", \"Topic1\", \"Topic1\", \"Topic1\", \"Topic1\", \"Topic1\", \"Topic1\", \"Topic1\", \"Topic1\", \"Topic1\", \"Topic1\", \"Topic1\", \"Topic1\", \"Topic1\", \"Topic1\", \"Topic1\", \"Topic1\", \"Topic1\", \"Topic1\", \"Topic1\", \"Topic1\", \"Topic1\", \"Topic1\", \"Topic1\", \"Topic1\", \"Topic1\", \"Topic1\", \"Topic1\", \"Topic1\", \"Topic1\", \"Topic1\", \"Topic1\", \"Topic1\", \"Topic1\", \"Topic1\", \"Topic1\", \"Topic1\", \"Topic1\", \"Topic1\", \"Topic1\", \"Topic1\", \"Topic1\", \"Topic1\", \"Topic1\", \"Topic2\", \"Topic2\", \"Topic2\", \"Topic2\", \"Topic2\", \"Topic2\", \"Topic2\", \"Topic2\", \"Topic2\", \"Topic2\", \"Topic2\", \"Topic2\", \"Topic2\", \"Topic2\", \"Topic2\", \"Topic2\", \"Topic2\", \"Topic2\", \"Topic2\", \"Topic2\", \"Topic2\", \"Topic2\", \"Topic2\", \"Topic2\", \"Topic2\", \"Topic2\", \"Topic2\", \"Topic2\", \"Topic2\", \"Topic2\", \"Topic2\", \"Topic2\", \"Topic2\", \"Topic2\", \"Topic2\", \"Topic2\", \"Topic2\", \"Topic2\", \"Topic2\", \"Topic2\", \"Topic2\", \"Topic2\", \"Topic2\", \"Topic2\", \"Topic2\", \"Topic2\", \"Topic2\", \"Topic2\", \"Topic2\", \"Topic2\", \"Topic2\", \"Topic2\", \"Topic2\", \"Topic2\", \"Topic2\", \"Topic2\", \"Topic2\", \"Topic2\", \"Topic2\", \"Topic2\", \"Topic2\", \"Topic2\", \"Topic2\", \"Topic2\", \"Topic2\", \"Topic2\", \"Topic2\", \"Topic2\", \"Topic2\", \"Topic2\", \"Topic2\", \"Topic2\", \"Topic2\", \"Topic2\", \"Topic3\", \"Topic3\", \"Topic3\", \"Topic3\", \"Topic3\", \"Topic3\", \"Topic3\", \"Topic3\", \"Topic3\", \"Topic3\", \"Topic3\", \"Topic3\", \"Topic3\", \"Topic3\", \"Topic3\", \"Topic3\", \"Topic3\", \"Topic3\", \"Topic3\", \"Topic3\", \"Topic3\", \"Topic3\", \"Topic3\", \"Topic3\", \"Topic3\", \"Topic3\", \"Topic3\", \"Topic3\", \"Topic3\", \"Topic3\", \"Topic3\", \"Topic3\", \"Topic3\", \"Topic3\", \"Topic3\", \"Topic3\", \"Topic3\", \"Topic3\", \"Topic3\", \"Topic3\", \"Topic3\", \"Topic3\", \"Topic3\", \"Topic3\", \"Topic3\", \"Topic3\", \"Topic3\", \"Topic3\", \"Topic3\", \"Topic3\", \"Topic3\", \"Topic3\", \"Topic3\", \"Topic3\", \"Topic3\", \"Topic3\", \"Topic3\", \"Topic3\", \"Topic3\", \"Topic3\", \"Topic3\", \"Topic3\", \"Topic3\", \"Topic3\", \"Topic3\", \"Topic3\", \"Topic3\", \"Topic3\", \"Topic3\", \"Topic3\", \"Topic3\", \"Topic3\", \"Topic3\", \"Topic3\", \"Topic3\", \"Topic4\", \"Topic4\", \"Topic4\", \"Topic4\", \"Topic4\", \"Topic4\", \"Topic4\", \"Topic4\", \"Topic4\", \"Topic4\", \"Topic4\", \"Topic4\", \"Topic4\", \"Topic4\", \"Topic4\", \"Topic4\", \"Topic4\", \"Topic4\", \"Topic4\", \"Topic4\", \"Topic4\", \"Topic4\", \"Topic4\", \"Topic4\", \"Topic4\", \"Topic4\", \"Topic4\", \"Topic4\", \"Topic4\", \"Topic4\", \"Topic4\", \"Topic4\", \"Topic4\", \"Topic4\", \"Topic4\", \"Topic4\", \"Topic4\", \"Topic4\", \"Topic4\", \"Topic4\", \"Topic4\", \"Topic4\", \"Topic4\", \"Topic4\", \"Topic4\", \"Topic4\", \"Topic4\", \"Topic4\", \"Topic4\", \"Topic4\", \"Topic4\", \"Topic4\", \"Topic4\", \"Topic4\", \"Topic4\", \"Topic4\", \"Topic4\", \"Topic4\", \"Topic4\", \"Topic4\", \"Topic4\", \"Topic4\", \"Topic4\", \"Topic4\", \"Topic4\", \"Topic4\", \"Topic4\", \"Topic4\", \"Topic4\", \"Topic4\", \"Topic4\", \"Topic4\", \"Topic4\", \"Topic4\", \"Topic4\", \"Topic5\", \"Topic5\", \"Topic5\", \"Topic5\", \"Topic5\", \"Topic5\", \"Topic5\", \"Topic5\", \"Topic5\", \"Topic5\", \"Topic5\", \"Topic5\", \"Topic5\", \"Topic5\", \"Topic5\", \"Topic5\", \"Topic5\", \"Topic5\", \"Topic5\", \"Topic5\", \"Topic5\", \"Topic5\", \"Topic5\", \"Topic5\", \"Topic5\", \"Topic5\", \"Topic5\", \"Topic5\", \"Topic5\", \"Topic5\", \"Topic5\", \"Topic5\", \"Topic5\", \"Topic5\", \"Topic5\", \"Topic5\", \"Topic5\", \"Topic5\", \"Topic5\", \"Topic5\", \"Topic5\", \"Topic5\", \"Topic5\", \"Topic5\", \"Topic5\", \"Topic5\", \"Topic5\", \"Topic5\", \"Topic5\", \"Topic5\", \"Topic5\", \"Topic5\", \"Topic5\", \"Topic5\", \"Topic5\", \"Topic5\", \"Topic5\", \"Topic5\", \"Topic5\", \"Topic5\", \"Topic5\", \"Topic5\", \"Topic5\", \"Topic5\", \"Topic5\", \"Topic5\", \"Topic5\", \"Topic5\", \"Topic5\", \"Topic5\", \"Topic5\", \"Topic5\", \"Topic5\", \"Topic5\", \"Topic5\", \"Topic5\", \"Topic5\", \"Topic5\", \"Topic6\", \"Topic6\", \"Topic6\", \"Topic6\", \"Topic6\", \"Topic6\", \"Topic6\", \"Topic6\", \"Topic6\", \"Topic6\", \"Topic6\", \"Topic6\", \"Topic6\", \"Topic6\", \"Topic6\", \"Topic6\", \"Topic6\", \"Topic6\", \"Topic6\", \"Topic6\", \"Topic6\", \"Topic6\", \"Topic6\", \"Topic6\", \"Topic6\", \"Topic6\", \"Topic6\", \"Topic6\", \"Topic6\", \"Topic6\", \"Topic6\", \"Topic6\", \"Topic6\", \"Topic6\", \"Topic6\", \"Topic6\", \"Topic6\", \"Topic6\", \"Topic6\", \"Topic6\", \"Topic6\", \"Topic6\", \"Topic6\", \"Topic6\", \"Topic6\", \"Topic6\", \"Topic6\", \"Topic6\", \"Topic6\", \"Topic6\", \"Topic6\", \"Topic6\", \"Topic6\", \"Topic6\", \"Topic6\", \"Topic6\", \"Topic6\", \"Topic6\", \"Topic6\", \"Topic6\", \"Topic6\", \"Topic6\", \"Topic6\", \"Topic6\", \"Topic6\", \"Topic6\", \"Topic6\", \"Topic6\", \"Topic6\", \"Topic6\", \"Topic6\", \"Topic6\", \"Topic6\", \"Topic6\", \"Topic6\", \"Topic6\", \"Topic6\", \"Topic7\", \"Topic7\", \"Topic7\", \"Topic7\", \"Topic7\", \"Topic7\", \"Topic7\", \"Topic7\", \"Topic7\", \"Topic7\", \"Topic7\", \"Topic7\", \"Topic7\", \"Topic7\", \"Topic7\", \"Topic7\", \"Topic7\", \"Topic7\", \"Topic7\", \"Topic7\", \"Topic7\", \"Topic7\", \"Topic7\", \"Topic7\", \"Topic7\", \"Topic7\", \"Topic7\", \"Topic7\", \"Topic7\", \"Topic7\", \"Topic7\", \"Topic7\", \"Topic7\", \"Topic7\", \"Topic7\", \"Topic7\", \"Topic7\", \"Topic7\", \"Topic7\", \"Topic7\", \"Topic7\", \"Topic7\", \"Topic7\", \"Topic7\", \"Topic7\", \"Topic7\", \"Topic7\", \"Topic7\", \"Topic7\", \"Topic7\", \"Topic7\", \"Topic7\", \"Topic7\", \"Topic7\", \"Topic7\", \"Topic7\", \"Topic7\", \"Topic7\", \"Topic7\", \"Topic7\", \"Topic7\", \"Topic7\", \"Topic7\", \"Topic7\", \"Topic7\", \"Topic7\", \"Topic7\", \"Topic7\", \"Topic7\", \"Topic7\", \"Topic7\", \"Topic7\", \"Topic7\", \"Topic7\", \"Topic7\", \"Topic7\", \"Topic7\", \"Topic7\", \"Topic8\", \"Topic8\", \"Topic8\", \"Topic8\", \"Topic8\", \"Topic8\", \"Topic8\", \"Topic8\", \"Topic8\", \"Topic8\", \"Topic8\", \"Topic8\", \"Topic8\", \"Topic8\", \"Topic8\", \"Topic8\", \"Topic8\", \"Topic8\", \"Topic8\", \"Topic8\", \"Topic8\", \"Topic8\", \"Topic8\", \"Topic8\", \"Topic8\", \"Topic8\", \"Topic8\", \"Topic8\", \"Topic8\", \"Topic8\", \"Topic8\", \"Topic8\", \"Topic8\", \"Topic8\", \"Topic8\", \"Topic8\", \"Topic8\", \"Topic8\", \"Topic8\", \"Topic8\", \"Topic8\", \"Topic8\", \"Topic8\", \"Topic8\", \"Topic8\", \"Topic8\", \"Topic8\", \"Topic8\", \"Topic8\", \"Topic8\", \"Topic8\", \"Topic8\", \"Topic8\", \"Topic8\", \"Topic8\", \"Topic8\", \"Topic8\", \"Topic8\", \"Topic8\", \"Topic8\", \"Topic8\", \"Topic8\", \"Topic8\", \"Topic8\", \"Topic8\", \"Topic8\", \"Topic8\", \"Topic8\", \"Topic8\", \"Topic8\", \"Topic8\", \"Topic8\", \"Topic8\", \"Topic8\", \"Topic8\", \"Topic8\", \"Topic8\", \"Topic8\", \"Topic8\", \"Topic8\", \"Topic8\", \"Topic8\", \"Topic8\", \"Topic9\", \"Topic9\", \"Topic9\", \"Topic9\", \"Topic9\", \"Topic9\", \"Topic9\", \"Topic9\", \"Topic9\", \"Topic9\", \"Topic9\", \"Topic9\", \"Topic9\", \"Topic9\", \"Topic9\", \"Topic9\", \"Topic9\", \"Topic9\", \"Topic9\", \"Topic9\", \"Topic9\", \"Topic9\", \"Topic9\", \"Topic9\", \"Topic9\", \"Topic9\", \"Topic9\", \"Topic9\", \"Topic9\", \"Topic9\", \"Topic9\", \"Topic9\", \"Topic9\", \"Topic9\", \"Topic9\", \"Topic9\", \"Topic9\", \"Topic9\", \"Topic9\", \"Topic9\", \"Topic9\", \"Topic9\", \"Topic9\", \"Topic9\", \"Topic9\", \"Topic9\", \"Topic9\", \"Topic9\", \"Topic9\", \"Topic9\", \"Topic9\", \"Topic9\", \"Topic9\", \"Topic9\", \"Topic9\", \"Topic9\", \"Topic9\", \"Topic9\", \"Topic9\", \"Topic9\", \"Topic9\", \"Topic9\", \"Topic9\", \"Topic9\", \"Topic9\", \"Topic9\", \"Topic9\", \"Topic9\", \"Topic9\", \"Topic9\", \"Topic9\", \"Topic9\", \"Topic9\", \"Topic9\", \"Topic9\", \"Topic10\", \"Topic10\", \"Topic10\", \"Topic10\", \"Topic10\", \"Topic10\", \"Topic10\", \"Topic10\", \"Topic10\", \"Topic10\", \"Topic10\", \"Topic10\", \"Topic10\", \"Topic10\", \"Topic10\", \"Topic10\", \"Topic10\", \"Topic10\", \"Topic10\", \"Topic10\", \"Topic10\", \"Topic10\", \"Topic10\", \"Topic10\", \"Topic10\", \"Topic10\", \"Topic10\", \"Topic10\", \"Topic10\", \"Topic10\", \"Topic10\", \"Topic10\", \"Topic10\", \"Topic10\", \"Topic10\", \"Topic10\", \"Topic10\", \"Topic10\", \"Topic10\", \"Topic10\", \"Topic10\", \"Topic10\", \"Topic10\", \"Topic10\", \"Topic10\", \"Topic10\", \"Topic10\", \"Topic10\", \"Topic10\", \"Topic10\", \"Topic10\", \"Topic10\", \"Topic10\", \"Topic10\", \"Topic10\", \"Topic10\", \"Topic10\", \"Topic10\", \"Topic10\", \"Topic10\", \"Topic10\", \"Topic10\", \"Topic10\", \"Topic10\", \"Topic10\", \"Topic10\", \"Topic10\", \"Topic10\", \"Topic10\", \"Topic10\", \"Topic10\", \"Topic10\", \"Topic10\", \"Topic10\", \"Topic10\", \"Topic10\"], \"logprob\": [30.0, 29.0, 28.0, 27.0, 26.0, 25.0, 24.0, 23.0, 22.0, 21.0, 20.0, 19.0, 18.0, 17.0, 16.0, 15.0, 14.0, 13.0, 12.0, 11.0, 10.0, 9.0, 8.0, 7.0, 6.0, 5.0, 4.0, 3.0, 2.0, 1.0, -9.333999633789062, -9.20680046081543, -9.239800453186035, -8.371199607849121, -7.071000099182129, -6.739699840545654, -7.372300148010254, -8.307700157165527, -9.379300117492676, -9.506400108337402, -6.29640007019043, -6.315400123596191, -9.67199993133545, -7.197800159454346, -8.426899909973145, -6.940199851989746, -9.670100212097168, -9.550000190734863, -9.542799949645996, -9.429100036621094, -7.728799819946289, -8.386099815368652, -8.991700172424316, -8.62399959564209, -7.318600177764893, -8.884400367736816, -7.463399887084961, -9.290399551391602, -7.938000202178955, -6.729800224304199, -5.988900184631348, -6.921599864959717, -4.157299995422363, -5.569499969482422, -6.383600234985352, -7.289899826049805, -4.360400199890137, -5.124499797821045, -4.341700077056885, -6.571100234985352, -5.466899871826172, -6.266300201416016, -4.928400039672852, -4.142099857330322, -4.3454999923706055, -5.934599876403809, -5.941800117492676, -5.172599792480469, -5.524700164794922, -6.261199951171875, -4.088600158691406, -5.774499893188477, -5.3942999839782715, -5.377600193023682, -5.950099945068359, -4.4558000564575195, -5.534999847412109, -5.508200168609619, -5.518400192260742, -5.735199928283691, -5.359799861907959, -5.450900077819824, -4.881499767303467, -5.396900177001953, -5.554599761962891, -5.585700035095215, -5.606900215148926, -5.2600998878479, -5.741499900817871, -5.635900020599365, -5.688000202178955, -5.589099884033203, -5.598800182342529, -5.643499851226807, -5.625100135803223, -8.852800369262695, -9.219499588012695, -8.347299575805664, -8.282600402832031, -8.80090045928955, -9.282299995422363, -5.905099868774414, -8.96780014038086, -8.101799964904785, -6.918600082397461, -7.073299884796143, -8.89490032196045, -9.322199821472168, -7.003900051116943, -9.121199607849121, -9.19320011138916, -5.326700210571289, -8.074799537658691, -8.746600151062012, -8.298600196838379, -8.295000076293945, -9.572999954223633, -8.870100021362305, -9.302200317382812, -7.564700126647949, -9.58810043334961, -9.61870002746582, -9.280500411987305, -7.949399948120117, -8.941800117492676, -5.2322998046875, -8.021200180053711, -7.354400157928467, -8.314399719238281, -6.931600093841553, -5.791399955749512, -5.3190999031066895, -5.724299907684326, -6.097300052642822, -3.9189999103546143, -7.7718000411987305, -4.354700088500977, -4.218699932098389, -6.309700012207031, -6.902400016784668, -5.372099876403809, -6.223400115966797, -5.69189977645874, -4.6585001945495605, -5.297900199890137, -5.823699951171875, -6.057799816131592, -4.9552998542785645, -5.437600135803223, -5.34630012512207, -4.396299839019775, -5.513800144195557, -5.138500213623047, -5.506899833679199, -5.651599884033203, -4.750100135803223, -4.725500106811523, -5.369800090789795, -5.447400093078613, -5.378200054168701, -4.78439998626709, -5.610000133514404, -5.5767998695373535, -5.625199794769287, -5.595399856567383, -5.53849983215332, -5.6290998458862305, -5.651899814605713, -5.6346001625061035, -8.749199867248535, -8.308300018310547, -7.372200012207031, -8.259300231933594, -6.173299789428711, -9.18589973449707, -9.25529956817627, -6.564000129699707, -7.6519999504089355, -9.126899719238281, -6.367300033569336, -8.616499900817871, -9.639699935913086, -9.217300415039062, -8.183500289916992, -8.71720027923584, -9.058799743652344, -8.996999740600586, -8.465999603271484, -7.077700138092041, -7.467199802398682, -8.873100280761719, -8.831100463867188, -8.927300453186035, -9.541899681091309, -9.483699798583984, -3.9655001163482666, -7.565999984741211, -6.920599937438965, -9.133000373840332, -6.446400165557861, -6.107800006866455, -6.859600067138672, -7.239699840545654, -5.255899906158447, -6.142399787902832, -5.2855000495910645, -6.967100143432617, -7.22189998626709, -4.74429988861084, -5.48960018157959, -5.565000057220459, -6.719099998474121, -6.337100028991699, -5.2596001625061035, -7.004799842834473, -5.565999984741211, -4.548999786376953, -5.17579984664917, -5.9293999671936035, -6.2778000831604, -5.419099807739258, -5.485599994659424, -5.448800086975098, -6.1321001052856445, -5.979899883270264, -4.53249979019165, -5.235400199890137, -4.260700225830078, -5.307799816131592, -5.434500217437744, -5.457600116729736, -5.635200023651123, -4.531499862670898, -4.7418999671936035, -5.470399856567383, -5.71619987487793, -5.266600131988525, -4.926199913024902, -5.491099834442139, -5.038899898529053, -5.607800006866455, -5.494500160217285, -5.549699783325195, -5.5894999504089355, -9.183199882507324, -9.300000190734863, -8.358200073242188, -6.274799823760986, -7.708899974822998, -8.85509967803955, -6.468200206756592, -8.35420036315918, -8.266799926757812, -8.943400382995605, -7.542500019073486, -7.537899971008301, -8.772600173950195, -9.3149995803833, -9.66349983215332, -9.659700393676758, -7.455599784851074, -9.028599739074707, -8.024200439453125, -8.900899887084961, -9.085700035095215, -6.47790002822876, -8.82699966430664, -8.064399719238281, -7.366799831390381, -6.2778000831604, -9.004899978637695, -9.65410041809082, -7.112199783325195, -8.244400024414062, -5.990099906921387, -6.918399810791016, -5.955399990081787, -5.184299945831299, -5.464900016784668, -6.017099857330322, -5.779300212860107, -7.30109977722168, -5.1203999519348145, -5.6921000480651855, -5.625699996948242, -7.09119987487793, -4.364299774169922, -4.013199806213379, -6.347099781036377, -5.861499786376953, -6.332399845123291, -4.908699989318848, -5.90369987487793, -5.71560001373291, -5.348899841308594, -4.702899932861328, -4.591899871826172, -5.081299781799316, -5.490300178527832, -5.957200050354004, -5.351099967956543, -4.473400115966797, -6.035200119018555, -5.528900146484375, -5.2667999267578125, -4.5295000076293945, -5.373499870300293, -4.75540018081665, -5.50029993057251, -5.484000205993652, -4.912600040435791, -5.619800090789795, -5.464700222015381, -5.57889986038208, -5.605899810791016, -5.526100158691406, -5.649099826812744, -5.640699863433838, -5.669400215148926, -9.247099876403809, -8.635899543762207, -7.691500186920166, -8.16450023651123, -8.9375, -7.326099872589111, -8.609999656677246, -8.983599662780762, -8.626799583435059, -7.258800029754639, -9.253299713134766, -8.798100471496582, -5.933700084686279, -7.041900157928467, -7.479400157928467, -7.7220001220703125, -9.534700393676758, -7.367800235748291, -8.024499893188477, -9.413399696350098, -7.434700012207031, -8.331899642944336, -7.76039981842041, -6.928599834442139, -8.819000244140625, -9.29010009765625, -9.235699653625488, -9.496800422668457, -8.9891996383667, -8.529199600219727, -5.408100128173828, -7.9359002113342285, -7.274799823760986, -5.7505998611450195, -6.48330020904541, -5.690899848937988, -7.750899791717529, -4.981100082397461, -6.134799957275391, -6.700500011444092, -4.0725998878479, -5.214000225067139, -6.530300140380859, -5.154300212860107, -5.751399993896484, -6.358099937438965, -5.1828999519348145, -4.0467000007629395, -7.095600128173828, -5.242800235748291, -5.651199817657471, -6.063199996948242, -5.918000221252441, -5.510200023651123, -5.492300033569336, -6.36460018157959, -5.349100112915039, -5.517899990081787, -5.77370023727417, -5.1508002281188965, -4.729800224304199, -4.73199987411499, -4.654399871826172, -5.465199947357178, -5.661099910736084, -4.573500156402588, -4.878900051116943, -5.467899799346924, -5.530799865722656, -4.82889986038208, -5.6178998947143555, -5.578400135040283, -5.356599807739258, -5.59119987487793, -5.592299938201904, -5.618199825286865, -5.588699817657471, -5.630799770355225, -8.964400291442871, -7.779600143432617, -9.274299621582031, -8.777400016784668, -8.342000007629395, -6.795899868011475, -8.254300117492676, -7.457399845123291, -6.460400104522705, -7.691999912261963, -9.472700119018555, -7.9019999504089355, -9.250200271606445, -8.189599990844727, -5.498199939727783, -8.818599700927734, -8.509699821472168, -8.518699645996094, -8.127099990844727, -7.841100215911865, -8.432700157165527, -4.1855998039245605, -7.447000026702881, -8.597100257873535, -8.575900077819824, -8.15310001373291, -9.800000190734863, -7.38640022277832, -8.568099975585938, -8.561400413513184, -6.496600151062012, -7.572199821472168, -8.155799865722656, -6.5920000076293945, -6.32289981842041, -6.687600135803223, -5.250699996948242, -5.778800010681152, -6.168099880218506, -6.346799850463867, -5.353899955749512, -5.562300205230713, -5.99399995803833, -5.630099773406982, -6.917600154876709, -4.213200092315674, -5.378600120544434, -5.5366997718811035, -4.399400234222412, -5.611299991607666, -6.095200061798096, -5.6153998374938965, -6.440299987792969, -5.842100143432617, -6.298699855804443, -5.293799877166748, -5.851200103759766, -4.523600101470947, -4.350900173187256, -5.260499954223633, -5.4217000007629395, -4.756899833679199, -4.2795000076293945, -4.72599983215332, -5.48960018157959, -5.720300197601318, -5.5320000648498535, -5.7667999267578125, -5.256199836730957, -5.346499919891357, -5.425600051879883, -5.213799953460693, -5.551400184631348, -5.585700035095215, -5.58650016784668, -5.559000015258789, -5.60230016708374, -8.27869987487793, -8.701700210571289, -8.111900329589844, -8.515000343322754, -9.154000282287598, -9.254899978637695, -8.333900451660156, -8.119799613952637, -7.313300132751465, -8.236200332641602, -9.215999603271484, -7.8343000411987305, -5.580100059509277, -8.815799713134766, -6.883600234985352, -9.204899787902832, -8.653900146484375, -9.720499992370605, -8.27280044555664, -9.20580005645752, -7.722799777984619, -6.838900089263916, -9.249899864196777, -9.186300277709961, -8.074299812316895, -7.582799911499023, -7.592899799346924, -9.432499885559082, -8.607999801635742, -8.989899635314941, -5.726500034332275, -6.760900020599365, -7.533199787139893, -6.509399890899658, -4.190700054168701, -6.172399997711182, -6.3394999504089355, -6.026800155639648, -7.3043999671936035, -5.339600086212158, -5.592299938201904, -5.299900054931641, -6.833199977874756, -5.641300201416016, -5.967400074005127, -5.888500213623047, -5.407299995422363, -5.961999893188477, -5.349699974060059, -6.866099834442139, -6.170000076293945, -5.616000175476074, -4.1479997634887695, -5.47790002822876, -5.4994001388549805, -5.6894001960754395, -5.8196001052856445, -4.734099864959717, -5.488500118255615, -5.7657999992370605, -5.050300121307373, -5.339000225067139, -5.447000026702881, -4.76639986038208, -5.35099983215332, -4.826600074768066, -4.617700099945068, -4.742300033569336, -5.418700218200684, -5.5, -5.556700229644775, -4.6890997886657715, -5.474100112915039, -5.561299800872803, -5.46560001373291, -5.375199794769287, -5.49970006942749, -5.459000110626221, -8.946499824523926, -8.51200008392334, -8.965499877929688, -9.272100448608398, -8.525400161743164, -8.571700096130371, -6.385200023651123, -6.887700080871582, -7.212200164794922, -9.424300193786621, -9.075599670410156, -9.12559986114502, -8.112099647521973, -8.133299827575684, -8.86240005493164, -8.274999618530273, -6.959400177001953, -9.125, -9.387299537658691, -8.337800025939941, -8.21310043334961, -9.372599601745605, -8.770700454711914, -7.567299842834473, -8.834699630737305, -9.243200302124023, -7.455100059509277, -9.649900436401367, -7.68720006942749, -9.546099662780762, -4.247000217437744, -6.649799823760986, -6.0366997718811035, -5.138700008392334, -4.941100120544434, -3.9921000003814697, -7.129000186920166, -7.060699939727783, -6.2291998863220215, -6.039400100708008, -5.605100154876709, -6.389100074768066, -6.4492998123168945, -6.565999984741211, -5.553699970245361, -5.763800144195557, -6.4197998046875, -5.856599807739258, -6.259500026702881, -6.6219000816345215, -7.100100040435791, -5.455699920654297, -4.137800216674805, -5.403200149536133, -5.735799789428711, -4.505300045013428, -5.771900177001953, -6.148200035095215, -5.279300212860107, -6.068900108337402, -4.6118998527526855, -5.833899974822998, -4.531599998474121, -5.4380998611450195, -5.542699813842773, -4.899600028991699, -5.798600196838379, -5.497900009155273, -5.588699817657471, -5.4405999183654785, -5.61359977722168, -5.153900146484375, -4.852799892425537, -5.5152997970581055, -5.563799858093262, -5.4791998863220215, -5.6915998458862305, -5.622900009155273, -5.453499794006348, -5.579500198364258, -5.667600154876709, -5.654399871826172, -5.6427998542785645, -7.858799934387207, -8.996800422668457, -7.8730998039245605, -6.486700057983398, -9.427900314331055, -5.810800075531006, -6.31879997253418, -8.829400062561035, -8.938599586486816, -8.138699531555176, -8.726200103759766, -9.012399673461914, -8.588700294494629, -8.88129997253418, -8.246199607849121, -9.080900192260742, -8.105299949645996, -8.425700187683105, -6.713399887084961, -9.392800331115723, -8.770099639892578, -9.490500450134277, -9.287300109863281, -7.7779998779296875, -8.801199913024902, -9.172699928283691, -6.252900123596191, -8.723600387573242, -6.291100025177002, -8.861200332641602, -7.608799934387207, -5.439700126647949, -5.240600109100342, -6.212299823760986, -6.046000003814697, -7.316299915313721, -6.591000080108643, -6.098999977111816, -5.932499885559082, -5.282100200653076, -5.185500144958496, -5.719799995422363, -5.124899864196777, -4.445000171661377, -6.534599781036377, -5.791500091552734, -4.348199844360352, -6.546599864959717, -5.382400035858154, -4.2459001541137695, -5.34119987487793, -6.626699924468994, -6.104300022125244, -5.548699855804443, -5.2677998542785645, -5.360599994659424, -4.286099910736084, -5.3942999839782715, -5.278900146484375, -4.229499816894531, -4.74429988861084, -4.578400135040283, -5.06689977645874, -5.43779993057251, -4.864799976348877, -5.240499973297119, -5.86329984664917, -5.7210001945495605, -5.672399997711182, -5.535999774932861, -5.655600070953369, -5.567200183868408, -5.597799777984619, -5.68779993057251, -5.67549991607666, -8.121700286865234, -8.43179988861084, -8.81089973449707, -8.208900451660156, -8.929100036621094, -6.947299957275391, -9.423600196838379, -7.892000198364258, -8.078900337219238, -6.732900142669678, -8.865300178527832, -8.24470043182373, -9.1983003616333, -8.417900085449219, -7.941199779510498, -8.999099731445312, -9.755800247192383, -6.475900173187256, -7.373199939727783, -9.658100128173828, -7.341300010681152, -7.9980998039245605, -9.053400039672852, -9.27079963684082, -9.248600006103516, -7.912499904632568, -7.523099899291992, -9.242600440979004, -7.266200065612793, -9.070300102233887, -7.493899822235107, -5.637199878692627, -6.260000228881836, -6.026500225067139, -6.798500061035156, -6.305600166320801, -5.16510009765625, -5.339799880981445, -5.5731000900268555, -6.370699882507324, -6.009099960327148, -6.19980001449585, -5.412700176239014, -6.124199867248535, -6.113900184631348, -4.876500129699707, -5.487400054931641, -5.0065999031066895, -5.687099933624268, -5.665800094604492, -5.8403000831604, -4.54010009765625, -5.818699836730957, -5.361400127410889, -6.02370023727417, -5.675000190734863, -5.640699863433838, -5.70389986038208, -4.5817999839782715, -4.7677001953125, -4.418099880218506, -4.336400032043457, -5.337100028991699, -5.408599853515625, -5.5447998046875, -4.8531999588012695, -5.500199794769287, -4.702300071716309, -5.4028000831604, -5.347899913787842, -5.509200096130371, -5.57889986038208, -5.0157999992370605, -5.6194000244140625, -5.627099990844727, -5.674200057983398], \"loglift\": [30.0, 29.0, 28.0, 27.0, 26.0, 25.0, 24.0, 23.0, 22.0, 21.0, 20.0, 19.0, 18.0, 17.0, 16.0, 15.0, 14.0, 13.0, 12.0, 11.0, 10.0, 9.0, 8.0, 7.0, 6.0, 5.0, 4.0, 3.0, 2.0, 1.0, 0.7791, 0.7771, 0.6675, 0.6324, 0.5664, 0.5627, 0.5479, 0.5296, 0.5187, 0.5053, 0.499, 0.4772, 0.4726, 0.4696, 0.468, 0.4659, 0.4647, 0.4639, 0.4615, 0.4612, 0.4517, 0.4486, 0.4444, 0.4387, 0.4329, 0.4315, 0.4221, 0.416, 0.4158, 0.4119, 0.4027, 0.4058, 0.3662, 0.3688, 0.3798, 0.4054, 0.2978, 0.3203, 0.2827, 0.3679, 0.313, 0.3353, 0.2482, 0.1761, 0.1834, 0.3017, 0.2935, 0.2139, 0.2419, 0.3203, 0.0483, 0.2396, 0.1672, 0.1584, 0.25, -0.0814, 0.133, 0.1246, 0.1196, 0.1688, 0.0548, 0.0657, -0.1296, -0.0052, 0.0433, 0.0449, 0.044, -0.2175, 0.1121, -0.0184, 0.0282, -0.1395, -0.1409, -0.0745, -0.3186, 0.7162, 0.7082, 0.6814, 0.6685, 0.6516, 0.6359, 0.6066, 0.5916, 0.5798, 0.5664, 0.5641, 0.5632, 0.5424, 0.5354, 0.5271, 0.5269, 0.5094, 0.5074, 0.5027, 0.4869, 0.4822, 0.4818, 0.4809, 0.4781, 0.4767, 0.4685, 0.468, 0.4655, 0.4636, 0.4628, 0.4504, 0.4584, 0.4497, 0.452, 0.4144, 0.3769, 0.3489, 0.3527, 0.357, 0.2179, 0.4351, 0.1742, 0.1557, 0.313, 0.3636, 0.2258, 0.303, 0.2312, 0.0934, 0.1601, 0.2228, 0.2492, 0.0874, 0.1332, 0.1033, -0.0781, 0.1191, 0.0382, 0.1057, 0.1283, -0.092, -0.1011, 0.0448, 0.0659, 0.0136, -0.261, 0.0279, -0.0153, -0.0078, -0.0594, -0.2321, -0.086, -0.001, -0.1897, 0.5951, 0.5639, 0.5496, 0.5403, 0.5077, 0.5021, 0.4995, 0.492, 0.4739, 0.4515, 0.4463, 0.446, 0.4453, 0.4341, 0.4327, 0.4315, 0.4238, 0.4234, 0.4199, 0.4189, 0.4182, 0.4181, 0.4177, 0.4153, 0.4123, 0.4122, 0.4088, 0.403, 0.4026, 0.4006, 0.3952, 0.3825, 0.3859, 0.389, 0.3349, 0.362, 0.327, 0.375, 0.3815, 0.2984, 0.3188, 0.3206, 0.3577, 0.3352, 0.2569, 0.367, 0.2731, 0.2029, 0.2387, 0.2707, 0.3037, 0.1983, 0.1972, 0.1818, 0.2577, 0.2329, -0.0091, 0.071, -0.1237, 0.084, 0.1086, 0.1114, 0.1314, -0.2133, -0.213, 0.0429, 0.1271, -0.0899, -0.3019, -0.0332, -0.3808, 0.025, -0.108, -0.1048, -0.1399, 0.634, 0.6289, 0.6127, 0.5928, 0.5714, 0.5397, 0.5309, 0.5306, 0.5204, 0.5069, 0.5013, 0.4966, 0.4874, 0.4777, 0.4755, 0.4699, 0.4639, 0.4601, 0.4589, 0.4505, 0.4479, 0.4439, 0.4413, 0.4382, 0.4346, 0.4327, 0.4314, 0.4274, 0.426, 0.4185, 0.4092, 0.4153, 0.3944, 0.3588, 0.3649, 0.3688, 0.3611, 0.408, 0.3244, 0.322, 0.3115, 0.3832, 0.1645, 0.1237, 0.3128, 0.2611, 0.3066, 0.1339, 0.2414, 0.2169, 0.1644, 0.049, 0.0324, 0.0953, 0.1606, 0.2221, 0.1068, -0.0991, 0.2277, 0.109, 0.0397, -0.2112, 0.0183, -0.232, 0.0612, 0.0521, -0.2545, 0.0964, -0.0502, 0.012, 0.0066, -0.1396, -0.0801, -0.1242, -0.0986, 0.6595, 0.628, 0.6107, 0.6022, 0.5911, 0.5869, 0.5713, 0.5441, 0.5238, 0.4915, 0.4909, 0.4857, 0.4729, 0.4652, 0.4613, 0.4605, 0.4585, 0.457, 0.4523, 0.4447, 0.444, 0.4421, 0.4409, 0.4407, 0.4406, 0.44, 0.4382, 0.4352, 0.4334, 0.4265, 0.403, 0.425, 0.4174, 0.3945, 0.4087, 0.3825, 0.419, 0.3253, 0.3553, 0.3762, 0.2457, 0.3025, 0.361, 0.2602, 0.2952, 0.3317, 0.2037, 0.0903, 0.3832, 0.149, 0.1879, 0.2439, 0.2219, 0.1578, 0.1456, 0.2803, 0.1005, 0.1127, 0.1594, 0.0259, -0.0717, -0.1076, -0.131, 0.0709, 0.1188, -0.1992, -0.127, 0.0454, 0.0382, -0.3001, 0.0648, 0.0195, -0.3139, -0.0297, -0.0492, -0.0007, -0.1307, -0.06, 0.6782, 0.5816, 0.581, 0.5676, 0.5429, 0.5404, 0.5403, 0.5382, 0.5113, 0.5023, 0.4987, 0.4961, 0.4948, 0.4913, 0.4797, 0.4693, 0.4624, 0.4547, 0.4514, 0.4502, 0.4442, 0.4388, 0.435, 0.4348, 0.433, 0.4323, 0.4262, 0.4225, 0.4218, 0.4216, 0.4118, 0.4172, 0.419, 0.4002, 0.3876, 0.382, 0.3108, 0.3279, 0.3459, 0.3431, 0.2841, 0.2912, 0.313, 0.2739, 0.3689, 0.1611, 0.2388, 0.2432, 0.1295, 0.2422, 0.2907, 0.2278, 0.323, 0.2439, 0.2994, 0.151, 0.2306, -0.0002, -0.0326, 0.1261, 0.1491, -0.005, -0.1425, -0.0679, 0.123, 0.1653, 0.0899, 0.1657, -0.0796, -0.0401, -0.0111, -0.1711, 0.0394, 0.0449, 0.0114, -0.0457, -0.0333, 0.7827, 0.6408, 0.6023, 0.5851, 0.5841, 0.5574, 0.5509, 0.5421, 0.5409, 0.5332, 0.5322, 0.5311, 0.5187, 0.5179, 0.5178, 0.5152, 0.5144, 0.4995, 0.4966, 0.4959, 0.4909, 0.4859, 0.4709, 0.4653, 0.4644, 0.4575, 0.4573, 0.4553, 0.4507, 0.4464, 0.4186, 0.4244, 0.4316, 0.4069, 0.3327, 0.3898, 0.3935, 0.3725, 0.4144, 0.2779, 0.2946, 0.2708, 0.3842, 0.2818, 0.2954, 0.2798, 0.2233, 0.2744, 0.1863, 0.3705, 0.2844, 0.2139, -0.0111, 0.173, 0.1686, 0.1962, 0.2036, 0.0178, 0.1333, 0.1715, -0.0076, 0.0476, 0.0695, -0.142, 0.0407, -0.1685, -0.2433, -0.2135, 0.0392, 0.0615, 0.0762, -0.3709, -0.0293, 0.0296, -0.051, -0.1985, -0.0501, -0.1526, 0.7052, 0.6591, 0.6116, 0.5788, 0.5291, 0.5246, 0.5167, 0.5044, 0.5012, 0.4926, 0.4903, 0.4798, 0.479, 0.4719, 0.4704, 0.4647, 0.4628, 0.4588, 0.4536, 0.4513, 0.4506, 0.4497, 0.4479, 0.4454, 0.443, 0.4379, 0.4362, 0.4315, 0.4305, 0.4289, 0.4111, 0.4156, 0.3981, 0.3778, 0.3653, 0.3261, 0.3972, 0.3937, 0.3545, 0.3423, 0.318, 0.3513, 0.3462, 0.3504, 0.2854, 0.2896, 0.3344, 0.2782, 0.289, 0.3271, 0.3777, 0.1771, -0.0008, 0.1658, 0.2025, 0.0235, 0.2036, 0.2573, 0.1073, 0.2369, -0.0884, 0.1802, -0.1572, 0.0753, 0.0699, -0.1477, 0.1387, 0.0381, 0.0622, 0.009, 0.0691, -0.1113, -0.2284, 0.0278, 0.0341, -0.0213, 0.075, -0.001, -0.2768, -0.1346, 0.0003, -0.0836, -0.251, 0.8978, 0.5917, 0.5686, 0.5513, 0.5421, 0.5365, 0.5345, 0.5344, 0.5197, 0.5188, 0.515, 0.5131, 0.5025, 0.4961, 0.4946, 0.4939, 0.4859, 0.4784, 0.4751, 0.4715, 0.4701, 0.4693, 0.4604, 0.4573, 0.455, 0.4527, 0.4474, 0.435, 0.4306, 0.4214, 0.4213, 0.3902, 0.3502, 0.3778, 0.3602, 0.398, 0.3675, 0.3463, 0.3359, 0.2869, 0.2725, 0.3059, 0.2669, 0.2132, 0.35, 0.2869, 0.1753, 0.3425, 0.2395, 0.1285, 0.2203, 0.3454, 0.2872, 0.2179, 0.1818, 0.1825, 0.0322, 0.1764, 0.1356, -0.0926, 0.0076, -0.0496, -0.0243, 0.0755, -0.2405, -0.0638, 0.2137, 0.0901, 0.0438, -0.0912, -0.0047, -0.2608, -0.2113, -0.0499, -0.1395, 0.6639, 0.6362, 0.6357, 0.5815, 0.5739, 0.5639, 0.5567, 0.5377, 0.5248, 0.5122, 0.5092, 0.4954, 0.4951, 0.4934, 0.486, 0.4743, 0.4668, 0.466, 0.4655, 0.465, 0.4629, 0.4514, 0.4505, 0.4493, 0.4489, 0.4471, 0.4455, 0.4442, 0.4416, 0.4356, 0.4324, 0.3885, 0.4004, 0.3842, 0.3921, 0.3542, 0.2845, 0.2821, 0.2804, 0.33, 0.298, 0.3119, 0.2382, 0.2967, 0.2917, 0.1662, 0.2288, 0.1701, 0.2455, 0.2382, 0.2584, 0.0843, 0.2547, 0.1746, 0.2698, 0.2144, 0.1953, 0.1831, -0.0529, -0.0158, -0.0999, -0.1994, 0.0494, 0.0494, 0.0859, -0.195, 0.0429, -0.328, -0.011, -0.0414, 0.0042, 0.0539, -0.4924, -0.0068, -0.0292, -0.1127]}, \"token.table\": {\"Topic\": [1, 2, 3, 4, 5, 6, 7, 8, 9, 10, 1, 2, 3, 4, 5, 6, 7, 8, 9, 10, 1, 2, 3, 4, 5, 6, 7, 8, 9, 10, 1, 2, 3, 4, 5, 6, 7, 8, 9, 10, 1, 2, 3, 4, 5, 6, 7, 8, 9, 10, 1, 2, 3, 4, 5, 6, 7, 8, 9, 10, 1, 2, 3, 4, 5, 6, 7, 8, 9, 10, 1, 2, 3, 4, 5, 6, 7, 8, 9, 10, 1, 2, 3, 4, 5, 6, 7, 8, 9, 10, 1, 2, 3, 4, 5, 6, 7, 8, 9, 10, 1, 2, 3, 4, 5, 6, 7, 8, 9, 10, 1, 2, 3, 4, 5, 6, 7, 8, 9, 10, 1, 2, 3, 4, 5, 6, 7, 8, 9, 10, 1, 2, 3, 4, 5, 6, 7, 8, 9, 10, 1, 2, 3, 4, 5, 6, 7, 8, 9, 10, 1, 2, 3, 4, 5, 6, 7, 8, 9, 10, 1, 2, 3, 4, 5, 6, 7, 8, 9, 10, 1, 2, 3, 4, 5, 6, 7, 8, 9, 10, 1, 2, 3, 4, 5, 6, 7, 8, 9, 10, 1, 2, 3, 4, 5, 6, 7, 8, 9, 10, 1, 2, 3, 4, 5, 6, 7, 8, 9, 10, 1, 2, 3, 4, 5, 6, 7, 8, 9, 10, 1, 2, 3, 4, 5, 6, 7, 8, 9, 10, 1, 2, 3, 4, 5, 6, 7, 8, 9, 10, 1, 2, 3, 4, 5, 6, 7, 8, 9, 10, 1, 2, 3, 4, 5, 6, 7, 8, 9, 10, 1, 2, 3, 4, 5, 6, 7, 8, 9, 10, 1, 2, 3, 4, 5, 6, 7, 8, 9, 10, 1, 2, 3, 4, 5, 6, 7, 8, 9, 10, 1, 2, 3, 4, 5, 6, 7, 8, 9, 10, 1, 2, 3, 4, 5, 6, 7, 8, 9, 10, 1, 2, 3, 4, 5, 6, 7, 8, 9, 10, 1, 2, 3, 4, 5, 6, 7, 8, 9, 10, 1, 2, 3, 4, 5, 6, 7, 8, 9, 10, 1, 2, 3, 4, 5, 6, 7, 8, 9, 10, 1, 2, 3, 4, 5, 6, 7, 8, 9, 10, 1, 2, 3, 4, 5, 6, 7, 8, 9, 10, 1, 2, 3, 4, 5, 6, 7, 8, 9, 10, 1, 2, 3, 4, 5, 6, 7, 8, 9, 10, 1, 2, 3, 4, 5, 6, 7, 8, 9, 10, 1, 2, 3, 4, 5, 6, 7, 8, 9, 10, 1, 2, 3, 4, 5, 6, 7, 8, 9, 10, 1, 2, 3, 4, 5, 6, 7, 8, 9, 10, 1, 2, 3, 4, 5, 6, 7, 8, 9, 10, 1, 2, 3, 4, 5, 6, 7, 8, 9, 10, 1, 2, 3, 4, 5, 6, 7, 8, 9, 10, 1, 2, 3, 4, 5, 6, 7, 8, 9, 10, 1, 2, 3, 4, 5, 6, 7, 8, 9, 10, 1, 2, 3, 4, 5, 6, 7, 8, 9, 10, 1, 2, 3, 4, 5, 6, 7, 8, 9, 10, 1, 2, 3, 4, 5, 6, 7, 8, 9, 10, 1, 2, 3, 4, 5, 6, 7, 8, 9, 10, 1, 2, 3, 4, 5, 6, 7, 8, 9, 10, 1, 2, 3, 4, 5, 6, 7, 8, 9, 10, 1, 2, 3, 4, 5, 6, 7, 8, 9, 10, 1, 2, 3, 4, 5, 6, 7, 8, 9, 10, 1, 2, 3, 4, 5, 6, 7, 8, 9, 10, 1, 2, 3, 4, 5, 6, 7, 8, 9, 10, 1, 2, 3, 4, 5, 6, 7, 8, 9, 10, 1, 2, 3, 4, 5, 6, 7, 8, 9, 10, 1, 2, 3, 4, 5, 6, 7, 8, 9, 10, 1, 2, 3, 4, 5, 6, 7, 8, 9, 10, 1, 2, 3, 4, 5, 6, 7, 8, 9, 10, 1, 2, 3, 4, 5, 6, 7, 8, 9, 10, 1, 2, 3, 4, 5, 6, 7, 8, 9, 10, 1, 2, 3, 4, 5, 6, 7, 8, 9, 10, 1, 2, 3, 4, 5, 6, 7, 8, 9, 10, 1, 2, 3, 4, 5, 6, 7, 8, 9, 10, 1, 2, 3, 4, 5, 6, 7, 8, 9, 10, 1, 2, 3, 4, 5, 6, 7, 8, 9, 10, 1, 2, 3, 4, 5, 6, 7, 8, 9, 10, 1, 2, 3, 4, 5, 6, 7, 8, 9, 10, 1, 2, 3, 4, 5, 6, 7, 8, 9, 10, 1, 2, 3, 4, 5, 6, 7, 8, 9, 10, 1, 2, 3, 4, 5, 6, 7, 8, 9, 10, 1, 2, 3, 4, 5, 6, 7, 8, 9, 10, 1, 2, 3, 4, 5, 6, 7, 8, 9, 10, 1, 2, 3, 4, 5, 6, 7, 8, 9, 10, 1, 2, 3, 4, 5, 6, 7, 8, 9, 10, 1, 2, 3, 4, 5, 6, 7, 8, 9, 10, 1, 2, 3, 4, 5, 6, 7, 8, 9, 10, 1, 2, 3, 4, 5, 6, 7, 8, 9, 10, 1, 2, 3, 4, 5, 6, 7, 8, 9, 10, 1, 2, 3, 4, 5, 6, 7, 8, 9, 10, 1, 2, 3, 4, 5, 6, 7, 8, 9, 10, 1, 2, 3, 4, 5, 6, 7, 8, 9, 10, 1, 2, 3, 4, 5, 6, 7, 8, 9, 10, 1, 2, 3, 4, 5, 6, 7, 8, 9, 10, 1, 2, 3, 4, 5, 6, 7, 8, 9, 10, 1, 2, 3, 4, 5, 6, 7, 8, 9, 10, 1, 2, 3, 4, 5, 6, 7, 8, 9, 10, 1, 2, 3, 4, 5, 6, 7, 8, 9, 10, 1, 2, 3, 4, 5, 6, 7, 8, 9, 10, 1, 2, 3, 4, 5, 6, 7, 8, 9, 10, 1, 2, 3, 4, 5, 6, 7, 8, 9, 10, 1, 2, 3, 4, 5, 6, 7, 8, 9, 10, 1, 2, 3, 4, 5, 6, 7, 8, 9, 10, 1, 2, 3, 4, 5, 6, 7, 8, 9, 10, 1, 2, 3, 4, 5, 6, 7, 8, 9, 10, 1, 2, 3, 4, 5, 6, 7, 8, 9, 10, 1, 2, 3, 4, 5, 6, 7, 8, 9, 10, 1, 2, 3, 4, 5, 6, 7, 8, 9, 10, 1, 2, 3, 4, 5, 6, 7, 8, 9, 10, 1, 2, 3, 4, 5, 6, 7, 8, 9, 10, 1, 2, 3, 4, 5, 6, 7, 8, 9, 10, 1, 2, 3, 4, 5, 6, 7, 8, 9, 10, 1, 2, 3, 4, 5, 6, 7, 8, 9, 10, 1, 2, 3, 4, 5, 6, 7, 8, 9, 10, 1, 2, 3, 4, 5, 6, 7, 8, 9, 10, 1, 2, 3, 4, 5, 6, 7, 8, 9, 10, 1, 2, 3, 4, 5, 6, 7, 8, 9, 10, 1, 2, 3, 4, 5, 6, 7, 8, 9, 10, 1, 2, 3, 4, 5, 6, 7, 8, 9, 10, 1, 2, 3, 4, 5, 6, 7, 8, 9, 10, 1, 2, 3, 4, 5, 6, 7, 8, 9, 10, 1, 2, 3, 4, 5, 6, 7, 8, 9, 10, 1, 2, 3, 4, 5, 6, 7, 8, 9, 10, 1, 2, 3, 4, 5, 6, 7, 8, 9, 10, 1, 2, 3, 4, 5, 6, 7, 8, 9, 10, 1, 2, 3, 4, 5, 6, 7, 8, 9, 10, 1, 2, 3, 4, 5, 6, 7, 8, 9, 10, 1, 2, 3, 4, 5, 6, 7, 8, 9, 10, 1, 2, 3, 4, 5, 6, 7, 8, 9, 10, 1, 2, 3, 4, 5, 6, 7, 8, 9, 10, 1, 2, 3, 4, 5, 6, 7, 8, 9, 10, 1, 2, 3, 4, 5, 6, 7, 8, 9, 10, 1, 2, 3, 4, 5, 6, 7, 8, 9, 10, 1, 2, 3, 4, 5, 6, 7, 8, 9, 10, 1, 2, 3, 4, 5, 6, 7, 8, 9, 10, 1, 2, 3, 4, 5, 6, 7, 8, 9, 10, 1, 2, 3, 4, 5, 6, 7, 8, 9, 10, 1, 2, 3, 4, 5, 6, 7, 8, 9, 10, 1, 2, 3, 4, 5, 6, 7, 8, 9, 10, 1, 2, 3, 4, 5, 6, 7, 8, 9, 10, 1, 2, 3, 4, 5, 6, 7, 8, 9, 10, 1, 2, 3, 4, 5, 6, 7, 8, 9, 10, 1, 2, 3, 4, 5, 6, 7, 8, 9, 10, 1, 2, 3, 4, 5, 6, 7, 8, 9, 10, 1, 2, 3, 4, 5, 6, 7, 8, 9, 10, 1, 2, 3, 4, 5, 6, 7, 8, 9, 10, 1, 2, 3, 4, 5, 6, 7, 8, 9, 10, 1, 2, 3, 4, 5, 6, 7, 8, 9, 10, 1, 2, 3, 4, 5, 6, 7, 8, 9, 10, 1, 2, 3, 4, 5, 6, 7, 8, 9, 10, 1, 2, 3, 4, 5, 6, 7, 8, 9, 10, 1, 2, 3, 4, 5, 6, 7, 8, 9, 10, 1, 2, 3, 4, 5, 6, 7, 8, 9, 10, 1, 2, 3, 4, 5, 6, 7, 8, 9, 10, 1, 2, 3, 4, 5, 6, 7, 8, 9, 10, 1, 2, 3, 4, 5, 6, 7, 8, 9, 10, 1, 2, 3, 4, 5, 6, 7, 8, 9, 10, 1, 2, 3, 4, 5, 6, 7, 8, 9, 10, 1, 2, 3, 4, 5, 6, 7, 8, 9, 10, 1, 2, 3, 4, 5, 6, 7, 8, 9, 10, 1, 2, 3, 4, 5, 6, 7, 8, 9, 10, 1, 2, 3, 4, 5, 6, 7, 8, 9, 10, 1, 2, 3, 4, 5, 6, 7, 8, 9, 10, 1, 2, 3, 4, 5, 6, 7, 8, 9, 10, 1, 2, 3, 4, 5, 6, 7, 8, 9, 10, 1, 2, 3, 4, 5, 6, 7, 8, 9, 10, 1, 2, 3, 4, 5, 6, 7, 8, 9, 10, 1, 2, 3, 4, 5, 6, 7, 8, 9, 10, 1, 2, 3, 4, 5, 6, 7, 8, 9, 10, 1, 2, 3, 4, 5, 6, 7, 8, 9, 10, 1, 2, 3, 4, 5, 6, 7, 8, 9, 10, 1, 2, 3, 4, 5, 6, 7, 8, 9, 10, 1, 2, 3, 4, 5, 6, 7, 8, 9, 10, 1, 2, 3, 4, 5, 6, 7, 8, 9, 10, 1, 2, 3, 4, 5, 6, 7, 8, 9, 10, 1, 2, 3, 4, 5, 6, 7, 8, 9, 10, 1, 2, 3, 4, 5, 6, 7, 8, 9, 10, 1, 2, 3, 4, 5, 6, 7, 8, 9, 10, 1, 2, 3, 4, 5, 6, 7, 8, 9, 10, 1, 2, 3, 4, 5, 6, 7, 8, 9, 10, 1, 2, 3, 4, 5, 6, 7, 8, 9, 10, 1, 2, 3, 4, 5, 6, 7, 8, 9, 10, 1, 2, 3, 4, 5, 6, 7, 8, 9, 10, 1, 2, 3, 4, 5, 6, 7, 8, 9, 10, 1, 2, 3, 4, 5, 6, 7, 8, 9, 10, 1, 2, 3, 4, 5, 6, 7, 8, 9, 10, 1, 2, 3, 4, 5, 6, 7, 8, 9, 10, 1, 2, 3, 4, 5, 6, 7, 8, 9, 10, 1, 2, 3, 4, 5, 6, 7, 8, 9, 10, 1, 2, 3, 4, 5, 6, 7, 8, 9, 10, 1, 2, 3, 4, 5, 6, 7, 8, 9, 10, 1, 2, 3, 4, 5, 6, 7, 8, 9, 10, 1, 2, 3, 4, 5, 6, 7, 8, 9, 10, 1, 2, 3, 4, 5, 6, 7, 8, 9, 10, 1, 2, 3, 4, 5, 6, 7, 8, 9, 10, 1, 2, 3, 4, 5, 6, 7, 8, 9, 10, 1, 2, 3, 4, 5, 6, 7, 8, 9, 10, 1, 2, 3, 4, 5, 6, 7, 8, 9, 10, 1, 2, 3, 4, 5, 6, 7, 8, 9, 10, 1, 2, 3, 4, 5, 6, 7, 8, 9, 10, 1, 2, 3, 4, 5, 6, 7, 8, 9, 10, 1, 2, 3, 4, 5, 6, 7, 8, 9, 10, 1, 2, 3, 4, 5, 6, 7, 8, 9, 10, 1, 2, 3, 4, 5, 6, 7, 8, 9, 10, 1, 2, 3, 4, 5, 6, 7, 8, 9, 10, 1, 2, 3, 4, 5, 6, 7, 8, 9, 10, 1, 2, 3, 4, 5, 6, 7, 8, 9, 10, 1, 2, 3, 4, 5, 6, 7, 8, 9, 10, 1, 2, 3, 4, 5, 6, 7, 8, 9, 10, 1, 2, 3, 4, 5, 6, 7, 8, 9, 10, 1, 2, 3, 4, 5, 6, 7, 8, 9, 10, 1, 2, 3, 4, 5, 6, 7, 8, 9, 10, 1, 2, 3, 4, 5, 6, 7, 8, 9, 10, 1, 2, 3, 4, 5, 6, 7, 8, 9, 10, 1, 2, 3, 4, 5, 6, 7, 8, 9, 10, 1, 2, 3, 4, 5, 6, 7, 8, 9, 10, 1, 2, 3, 4, 5, 6, 7, 8, 9, 10, 1, 2, 3, 4, 5, 6, 7, 8, 9, 10, 1, 2, 3, 4, 5, 6, 7, 8, 9, 10, 1, 2, 3, 4, 5, 6, 7, 8, 9, 10, 1, 2, 3, 4, 5, 6, 7, 8, 9, 10, 1, 2, 3, 4, 5, 6, 7, 8, 9, 10, 1, 2, 3, 4, 5, 6, 7, 8, 9, 10, 1, 2, 3, 4, 5, 6, 7, 8, 9, 10, 1, 2, 3, 4, 5, 6, 7, 8, 9, 10, 1, 2, 3, 4, 5, 6, 7, 8, 9, 10, 1, 2, 3, 4, 5, 6, 7, 8, 9, 10, 1, 2, 3, 4, 5, 6, 7, 8, 9, 10, 1, 2, 3, 4, 5, 6, 7, 8, 9, 10, 1, 2, 3, 4, 5, 6, 7, 8, 9, 10, 1, 2, 3, 4, 5, 6, 7, 8, 9, 10, 1, 2, 3, 4, 5, 6, 7, 8, 9, 10, 1, 2, 3, 4, 5, 6, 7, 8, 9, 10, 1, 2, 3, 4, 5, 6, 7, 8, 9, 10, 1, 2, 3, 4, 5, 6, 7, 8, 9, 10, 1, 2, 3, 4, 5, 6, 7, 8, 9, 10, 1, 2, 3, 4, 5, 6, 7, 8, 9, 10, 1, 2, 3, 4, 5, 6, 7, 8, 9, 10, 1, 2, 3, 4, 5, 6, 7, 8, 9, 10, 1, 2, 3, 4, 5, 6, 7, 8, 9, 10, 1, 2, 3, 4, 5, 6, 7, 8, 9, 10, 1, 2, 3, 4, 5, 6, 7, 8, 9, 10, 1, 2, 3, 4, 5, 6, 7, 8, 9, 10, 1, 2, 3, 4, 5, 6, 7, 8, 9, 10, 1, 2, 3, 4, 5, 6, 7, 8, 9, 10, 1, 2, 3, 4, 5, 6, 7, 8, 9, 10, 1, 2, 3, 4, 5, 6, 7, 8, 9, 10, 1, 2, 3, 4, 5, 6, 7, 8, 9, 10, 1, 2, 3, 4, 5, 6, 7, 8, 9, 10, 1, 2, 3, 4, 5, 6, 7, 8, 9, 10, 1, 2, 3, 4, 5, 6, 7, 8, 9, 10, 1, 2, 3, 4, 5, 6, 7, 8, 9, 10, 1, 2, 3, 4, 5, 6, 7, 8, 9, 10, 1, 2, 3, 4, 5, 6, 7, 8, 9, 10, 1, 2, 3, 4, 5, 6, 7, 8, 9, 10, 1, 2, 3, 4, 5, 6, 7, 8, 9, 10, 1, 2, 3, 4, 5, 6, 7, 8, 9, 10, 1, 2, 3, 4, 5, 6, 7, 8, 9, 10, 1, 2, 3, 4, 5, 6, 7, 8, 9, 10, 1, 2, 3, 4, 5, 6, 7, 8, 9, 10, 1, 2, 3, 4, 5, 6, 7, 8, 9, 10, 1, 2, 3, 4, 5, 6, 7, 8, 9, 10, 1, 2, 3, 4, 5, 6, 7, 8, 9, 10, 1, 2, 3, 4, 5, 6, 7, 8, 9, 10, 1, 2, 3, 4, 5, 6, 7, 8, 9, 10, 1, 2, 3, 4, 5, 6, 7, 8, 9, 10, 1, 2, 3, 4, 5, 6, 7, 8, 9, 10, 1, 2, 3, 4, 5, 6, 7, 8, 9, 10, 1, 2, 3, 4, 5, 6, 7, 8, 9, 10, 1, 2, 3, 4, 5, 6, 7, 8, 9, 10, 1, 2, 3, 4, 5, 6, 7, 8, 9, 10, 1, 2, 3, 4, 5, 6, 7, 8, 9, 10, 1, 2, 3, 4, 5, 6, 7, 8, 9, 10, 1, 2, 3, 4, 5, 6, 7, 8, 9, 10, 1, 2, 3, 4, 5, 6, 7, 8, 9, 10, 1, 2, 3, 4, 5, 6, 7, 8, 9, 10, 1, 2, 3, 4, 5, 6, 7, 8, 9, 10, 1, 2, 3, 4, 5, 6, 7, 8, 9, 10, 1, 2, 3, 4, 5, 6, 7, 8, 9, 10, 1, 2, 3, 4, 5, 6, 7, 8, 9, 10, 1, 2, 3, 4, 5, 6, 7, 8, 9, 10, 1, 2, 3, 4, 5, 6, 7, 8, 9, 10, 1, 2, 3, 4, 5, 6, 7, 8, 9, 10, 1, 2, 3, 4, 5, 6, 7, 8, 9, 10, 1, 2, 3, 4, 5, 6, 7, 8, 9, 10, 1, 2, 3, 4, 5, 6, 7, 8, 9, 10, 1, 2, 3, 4, 5, 6, 7, 8, 9, 10, 1, 2, 3, 4, 5, 6, 7, 8, 9, 10, 1, 2, 3, 4, 5, 6, 7, 8, 9, 10, 1, 2, 3, 4, 5, 6, 7, 8, 9, 10, 1, 2, 3, 4, 5, 6, 7, 8, 9, 10, 1, 2, 3, 4, 5, 6, 7, 8, 9, 10, 1, 2, 3, 4, 5, 6, 7, 8, 9, 10, 1, 2, 3, 4, 5, 6, 7, 8, 9, 10, 1, 2, 3, 4, 5, 6, 7, 8, 9, 10, 1, 2, 3, 4, 5, 6, 7, 8, 9, 10, 1, 2, 3, 4, 5, 6, 7, 8, 9, 10, 1, 2, 3, 4, 5, 6, 7, 8, 9, 10, 1, 2, 3, 4, 5, 6, 7, 8, 9, 10, 1, 2, 3, 4, 5, 6, 7, 8, 9, 10, 1, 2, 3, 4, 5, 6, 7, 8, 9, 10, 1, 2, 3, 4, 5, 6, 7, 8, 9, 10, 1, 2, 3, 4, 5, 6, 7, 8, 9, 10, 1, 2, 3, 4, 5, 6, 7, 8, 9, 10, 1, 2, 3, 4, 5, 6, 7, 8, 9, 10, 1, 2, 3, 4, 5, 6, 7, 8, 9, 10, 1, 2, 3, 4, 5, 6, 7, 8, 9, 10, 1, 2, 3, 4, 5, 6, 7, 8, 9, 10, 1, 2, 3, 4, 5, 6, 7, 8, 9, 10, 1, 2, 3, 4, 5, 6, 7, 8, 9, 10, 1, 2, 3, 4, 5, 6, 7, 8, 9, 10, 1, 2, 3, 4, 5, 6, 7, 8, 9, 10, 1, 2, 3, 4, 5, 6, 7, 8, 9, 10, 1, 2, 3, 4, 5, 6, 7, 8, 9, 10, 1, 2, 3, 4, 5, 6, 7, 8, 9, 10, 1, 2, 3, 4, 5, 6, 7, 8, 9, 10, 1, 2, 3, 4, 5, 6, 7, 8, 9, 10, 1, 2, 3, 4, 5, 6, 7, 8, 9, 10, 1, 2, 3, 4, 5, 6, 7, 8, 9, 10, 1, 2, 3, 4, 5, 6, 7, 8, 9, 10, 1, 2, 3, 4, 5, 6, 7, 8, 9, 10, 1, 2, 3, 4, 5, 6, 7, 8, 9, 10, 1, 2, 3, 4, 5, 6, 7, 8, 9, 10, 1, 2, 3, 4, 5, 6, 7, 8, 9, 10, 1, 2, 3, 4, 5, 6, 7, 8, 9, 10, 1, 2, 3, 4, 5, 6, 7, 8, 9, 10, 1, 2, 3, 4, 5, 6, 7, 8, 9, 10, 1, 2, 3, 4, 5, 6, 7, 8, 9, 10, 1, 2, 3, 4, 5, 6, 7, 8, 9, 10, 1, 2, 3, 4, 5, 6, 7, 8, 9, 10, 1, 2, 3, 4, 5, 6, 7, 8, 9, 10, 1, 2, 3, 4, 5, 6, 7, 8, 9, 10, 1, 2, 3, 4, 5, 6, 7, 8, 9, 10, 1, 2, 3, 4, 5, 6, 7, 8, 9, 10, 1, 2, 3, 4, 5, 6, 7, 8, 9, 10, 1, 2, 3, 4, 5, 6, 7, 8, 9, 10, 1, 2, 3, 4, 5, 6, 7, 8, 9, 10, 1, 2, 3, 4, 5, 6, 7, 8, 9, 10, 1, 2, 3, 4, 5, 6, 7, 8, 9, 10, 1, 2, 3, 4, 5, 6, 7, 8, 9, 10, 1, 2, 3, 4, 5, 6, 7, 8, 9, 10, 1, 2, 3, 4, 5, 6, 7, 8, 9, 10, 1, 2, 3, 4, 5, 6, 7, 8, 9, 10, 1, 2, 3, 4, 5, 6, 7, 8, 9, 10, 1, 2, 3, 4, 5, 6, 7, 8, 9, 10, 1, 2, 3, 4, 5, 6, 7, 8, 9, 10, 1, 2, 3, 4, 5, 6, 7, 8, 9, 10, 1, 2, 3, 4, 5, 6, 7, 8, 9, 10, 1, 2, 3, 4, 5, 6, 7, 8, 9, 10, 1, 2, 3, 4, 5, 6, 7, 8, 9, 10, 1, 2, 3, 4, 5, 6, 7, 8, 9, 10, 1, 2, 3, 4, 5, 6, 7, 8, 9, 10, 1, 2, 3, 4, 5, 6, 7, 8, 9, 10, 1, 2, 3, 4, 5, 6, 7, 8, 9, 10, 1, 2, 3, 4, 5, 6, 7, 8, 9, 10, 1, 2, 3, 4, 5, 6, 7, 8, 9, 10, 1, 2, 3, 4, 5, 6, 7, 8, 9, 10, 1, 2, 3, 4, 5, 6, 7, 8, 9, 10, 1, 2, 3, 4, 5, 6, 7, 8, 9, 10, 1, 2, 3, 4, 5, 6, 7, 8, 9, 10, 1, 2, 3, 4, 5, 6, 7, 8, 9, 10, 1, 2, 3, 4, 5, 6, 7, 8, 9, 10, 1, 2, 3, 4, 5, 6, 7, 8, 9, 10, 1, 2, 3, 4, 5, 6, 7, 8, 9, 10, 1, 2, 3, 4, 5, 6, 7, 8, 9, 10, 1, 2, 3, 4, 5, 6, 7, 8, 9, 10, 1, 2, 3, 4, 5, 6, 7, 8, 9, 10, 1, 2, 3, 4, 5, 6, 7, 8, 9, 10, 1, 2, 3, 4, 5, 6, 7, 8, 9, 10, 1, 2, 3, 4, 5, 6, 7, 8, 9, 10, 1, 2, 3, 4, 5, 6, 7, 8, 9, 10, 1, 2, 3, 4, 5, 6, 7, 8, 9, 10, 1, 2, 3, 4, 5, 6, 7, 8, 9, 10, 1, 2, 3, 4, 5, 6, 7, 8, 9, 10, 1, 2, 3, 4, 5, 6, 7, 8, 9, 10, 1, 2, 3, 4, 5, 6, 7, 8, 9, 10, 1, 2, 3, 4, 5, 6, 7, 8, 9, 10, 1, 2, 3, 4, 5, 6, 7, 8, 9, 10, 1, 2, 3, 4, 5, 6, 7, 8, 9, 10, 1, 2, 3, 4, 5, 6, 7, 8, 9, 10, 1, 2, 3, 4, 5, 6, 7, 8, 9, 10, 1, 2, 3, 4, 5, 6, 7, 8, 9, 10, 1, 2, 3, 4, 5, 6, 7, 8, 9, 10, 1, 2, 3, 4, 5, 6, 7, 8, 9, 10, 1, 2, 3, 4, 5, 6, 7, 8, 9, 10, 1, 2, 3, 4, 5, 6, 7, 8, 9, 10, 1, 2, 3, 4, 5, 6, 7, 8, 9, 10, 1, 2, 3, 4, 5, 6, 7, 8, 9, 10, 1, 2, 3, 4, 5, 6, 7, 8, 9, 10, 1, 2, 3, 4, 5, 6, 7, 8, 9, 10, 1, 2, 3, 4, 5, 6, 7, 8, 9, 10, 1, 2, 3, 4, 5, 6, 7, 8, 9, 10, 1, 2, 3, 4, 5, 6, 7, 8, 9, 10, 1, 2, 3, 4, 5, 6, 7, 8, 9, 10, 1, 2, 3, 4, 5, 6, 7, 8, 9, 10, 1, 2, 3, 4, 5, 6, 7, 8, 9, 10, 1, 2, 3, 4, 5, 6, 7, 8, 9, 10, 1, 2, 3, 4, 5, 6, 7, 8, 9, 10, 1, 2, 3, 4, 5, 6, 7, 8, 9, 10, 1, 2, 3, 4, 5, 6, 7, 8, 9, 10, 1, 2, 3, 4, 5, 6, 7, 8, 9, 10, 1, 2, 3, 4, 5, 6, 7, 8, 9, 10, 1, 2, 3, 4, 5, 6, 7, 8, 9, 10, 1, 2, 3, 4, 5, 6, 7, 8, 9, 10, 1, 2, 3, 4, 5, 6, 7, 8, 9, 10, 1, 2, 3, 4, 5, 6, 7, 8, 9, 10, 1, 2, 3, 4, 5, 6, 7, 8, 9, 10, 1, 2, 3, 4, 5, 6, 7, 8, 9, 10, 1, 2, 3, 4, 5, 6, 7, 8, 9, 10, 1, 2, 3, 4, 5, 6, 7, 8, 9, 10, 1, 2, 3, 4, 5, 6, 7, 8, 9, 10, 1, 2, 3, 4, 5, 6, 7, 8, 9, 10, 1, 2, 3, 4, 5, 6, 7, 8, 9, 10, 1, 2, 3, 4, 5, 6, 7, 8, 9, 10, 1, 2, 3, 4, 5, 6, 7, 8, 9, 10, 1, 2, 3, 4, 5, 6, 7, 8, 9, 10, 1, 2, 3, 4, 5, 6, 7, 8, 9, 10, 1, 2, 3, 4, 5, 6, 7, 8, 9, 10, 1, 2, 3, 4, 5, 6, 7, 8, 9, 10, 1, 2, 3, 4, 5, 6, 7, 8, 9, 10, 1, 2, 3, 4, 5, 6, 7, 8, 9, 10, 1, 2, 3, 4, 5, 6, 7, 8, 9, 10, 1, 2, 3, 4, 5, 6, 7, 8, 9, 10, 1, 2, 3, 4, 5, 6, 7, 8, 9, 10, 1, 2, 3, 4, 5, 6, 7, 8, 9, 10, 1, 2, 3, 4, 5, 6, 7, 8, 9, 10, 1, 2, 3, 4, 5, 6, 7, 8, 9, 10, 1, 2, 3, 4, 5, 6, 7, 8, 9, 10, 1, 2, 3, 4, 5, 6, 7, 8, 9, 10, 1, 2, 3, 4, 5, 6, 7, 8, 9, 10, 1, 2, 3, 4, 5, 6, 7, 8, 9, 10, 1, 2, 3, 4, 5, 6, 7, 8, 9, 10, 1, 2, 3, 4, 5, 6, 7, 8, 9, 10, 1, 2, 3, 4, 5, 6, 7, 8, 9, 10, 1, 2, 3, 4, 5, 6, 7, 8, 9, 10, 1, 2, 3, 4, 5, 6, 7, 8, 9, 10, 1, 2, 3, 4, 5, 6, 7, 8, 9, 10, 1, 2, 3, 4, 5, 6, 7, 8, 9, 10, 1, 2, 3, 4, 5, 6, 7, 8, 9, 10, 1, 2, 3, 4, 5, 6, 7, 8, 9, 10, 1, 2, 3, 4, 5, 6, 7, 8, 9, 10, 1, 2, 3, 4, 5, 6, 7, 8, 9, 10, 1, 2, 3, 4, 5, 6, 7, 8, 9, 10, 1, 2, 3, 4, 5, 6, 7, 8, 9, 10, 1, 2, 3, 4, 5, 6, 7, 8, 9, 10, 1, 2, 3, 4, 5, 6, 7, 8, 9, 10, 1, 2, 3, 4, 5, 6, 7, 8, 9, 10, 1, 2, 3, 4, 5, 6, 7, 8, 9, 10, 1, 2, 3, 4, 5, 6, 7, 8, 9, 10, 1, 2, 3, 4, 5, 6, 7, 8, 9, 10, 1, 2, 3, 4, 5, 6, 7, 8, 9, 10, 1, 2, 3, 4, 5, 6, 7, 8, 9, 10, 1, 2, 3, 4, 5, 6, 7, 8, 9, 10, 1, 2, 3, 4, 5, 6, 7, 8, 9, 10, 1, 2, 3, 4, 5, 6, 7, 8, 9, 10, 1, 2, 3, 4, 5, 6, 7, 8, 9, 10, 1, 2, 3, 4, 5, 6, 7, 8, 9, 10, 1, 2, 3, 4, 5, 6, 7, 8, 9, 10, 1, 2, 3, 4, 5, 6, 7, 8, 9, 10, 1, 2, 3, 4, 5, 6, 7, 8, 9, 10, 1, 2, 3, 4, 5, 6, 7, 8, 9, 10, 1, 2, 3, 4, 5, 6, 7, 8, 9, 10, 1, 2, 3, 4, 5, 6, 7, 8, 9, 10], \"Freq\": [0.07877870508256056, 0.059084028811920423, 0.0984733813532007, 0.0837023741502206, 0.142786402962141, 0.09354971228554067, 0.10585888495469076, 0.13047723029299094, 0.09354971228554067, 0.1107825540223508, 0.038909644758034226, 0.07781928951606845, 0.07781928951606845, 0.07781928951606845, 0.07781928951606845, 0.11672893427410268, 0.1556385790321369, 0.19454822379017112, 0.11672893427410268, 0.038909644758034226, 0.08146621265138619, 0.08146621265138619, 0.08146621265138619, 0.08146621265138619, 0.08146621265138619, 0.08146621265138619, 0.08146621265138619, 0.08146621265138619, 0.12219931897707928, 0.16293242530277238, 0.09088912091779826, 0.11054082273786274, 0.07615034455274988, 0.07369388182524182, 0.09088912091779826, 0.1129972854653708, 0.09334558364530632, 0.1007149718278305, 0.1375619127404514, 0.1129972854653708, 0.1673204723971251, 0.0557734907990417, 0.1115469815980834, 0.1115469815980834, 0.0557734907990417, 0.1115469815980834, 0.1673204723971251, 0.0557734907990417, 0.0557734907990417, 0.0557734907990417, 0.07755742566221732, 0.15511485132443464, 0.07755742566221732, 0.116336138493326, 0.07755742566221732, 0.116336138493326, 0.07755742566221732, 0.116336138493326, 0.116336138493326, 0.07755742566221732, 0.13579863891681646, 0.09699902779772605, 0.09699902779772605, 0.07759922223818085, 0.1551984444763617, 0.07759922223818085, 0.13579863891681646, 0.09699902779772605, 0.07759922223818085, 0.09699902779772605, 0.07229028189082552, 0.12650799330894466, 0.0903628523635319, 0.10843542283623829, 0.0903628523635319, 0.16265313425435743, 0.0903628523635319, 0.07229028189082552, 0.07229028189082552, 0.0903628523635319, 0.08527580956393105, 0.15878943849835436, 0.12276776032048693, 0.07204335635573485, 0.10732989824425804, 0.09850826277212724, 0.08454067327458681, 0.10585962566556957, 0.08307040069589834, 0.08160012811720987, 0.15682431485113232, 0.12545945188090588, 0.0940945889106794, 0.06272972594045294, 0.0940945889106794, 0.0940945889106794, 0.0940945889106794, 0.0940945889106794, 0.12545945188090588, 0.0940945889106794, 0.06863689337962467, 0.09609165073147455, 0.08236427205554961, 0.08236427205554961, 0.08694006494752458, 0.06863689337962467, 0.1052432365154245, 0.11439482229937446, 0.11897061519134944, 0.17388012989504917, 0.09864972913853923, 0.11098094528085664, 0.09864972913853923, 0.16030580985012624, 0.11098094528085664, 0.11098094528085664, 0.07398729685390443, 0.07398729685390443, 0.07398729685390443, 0.08631851299622183, 0.08071017191934987, 0.08071017191934987, 0.10761356255913317, 0.08071017191934987, 0.10761356255913317, 0.10761356255913317, 0.10761356255913317, 0.10761356255913317, 0.16142034383869974, 0.05380678127956658, 0.09149261010326241, 0.10292918636617021, 0.11436576262907802, 0.06861945757744681, 0.09149261010326241, 0.09149261010326241, 0.10292918636617021, 0.08005603384035462, 0.11436576262907802, 0.16011206768070924, 0.11707573924289394, 0.14694199925383628, 0.07287367442669929, 0.06092717042232235, 0.10273993443764162, 0.08004157682932544, 0.13141154404814626, 0.10154528403720392, 0.07884692642888776, 0.10751853603939239, 0.0985411431925467, 0.0985411431925467, 0.0985411431925467, 0.0985411431925467, 0.0985411431925467, 0.0985411431925467, 0.14781171478882005, 0.04927057159627335, 0.0985411431925467, 0.04927057159627335, 0.09137561701328661, 0.09137561701328661, 0.09137561701328661, 0.09137561701328661, 0.13706342551992992, 0.04568780850664331, 0.18275123402657323, 0.09137561701328661, 0.09137561701328661, 0.09137561701328661, 0.03711525034094833, 0.09278812585237081, 0.11134575102284498, 0.12990337619331915, 0.09278812585237081, 0.09278812585237081, 0.09278812585237081, 0.07423050068189666, 0.09278812585237081, 0.16701862653426747, 0.09644894828857116, 0.08660721887137002, 0.11285183065057305, 0.0925122565216907, 0.10432233182233207, 0.09579283299409108, 0.08267052710448956, 0.11678852241745351, 0.13056694360153512, 0.08070218122104934, 0.12490468855629337, 0.06774491582714216, 0.09103223064272228, 0.08256411616432952, 0.12067063131709697, 0.08044708754473132, 0.0846811447839277, 0.13972388889348072, 0.0867981734035259, 0.12067063131709697, 0.08618746482981925, 0.10607687979054677, 0.09281726981672841, 0.07955765984291006, 0.08618746482981925, 0.15248551469891097, 0.09281726981672841, 0.09281726981672841, 0.10607687979054677, 0.1193364897643651, 0.0607844640008304, 0.15196116000207602, 0.1215689280016608, 0.0911766960012456, 0.1215689280016608, 0.0607844640008304, 0.1215689280016608, 0.0911766960012456, 0.1215689280016608, 0.0911766960012456, 0.1069817955103865, 0.17830299251731085, 0.07132119700692434, 0.0936090710715882, 0.1069817955103865, 0.0936090710715882, 0.08915149625865543, 0.09806664588452096, 0.0936090710715882, 0.06686362219399157, 0.13191338071654202, 0.07914802842992522, 0.11512440498898213, 0.08874172884567373, 0.08554382870709089, 0.07355170318740525, 0.10553070457323362, 0.10633017960787933, 0.12231968030079352, 0.09193962898425656, 0.13138599745622667, 0.06569299872811334, 0.08211624841014166, 0.06569299872811334, 0.08211624841014166, 0.08211624841014166, 0.09853949809217, 0.147809247138255, 0.09853949809217, 0.11496274777419833, 0.11255904461454085, 0.10535526575921023, 0.13957321532203065, 0.0639335373410592, 0.09545006983313063, 0.11706140639912248, 0.12066329582678778, 0.08914676333471634, 0.07924156740863675, 0.0774406226948041, 0.08584171295202872, 0.14306952158671454, 0.17168342590405744, 0.11445561726937162, 0.08584171295202872, 0.05722780863468581, 0.08584171295202872, 0.08584171295202872, 0.05722780863468581, 0.08584171295202872, 0.1643972749733219, 0.08219863748666095, 0.08219863748666095, 0.08219863748666095, 0.08219863748666095, 0.08219863748666095, 0.12329795622999143, 0.12329795622999143, 0.08219863748666095, 0.12329795622999143, 0.07965676061356286, 0.07523138502392047, 0.09735826297213239, 0.1150597653307019, 0.11063438974105953, 0.10178363856177476, 0.06638063384463572, 0.14603739445819858, 0.10178363856177476, 0.10620901415141715, 0.11314655792790823, 0.11314655792790823, 0.11314655792790823, 0.08485991844593117, 0.08485991844593117, 0.08485991844593117, 0.08485991844593117, 0.16971983689186235, 0.08485991844593117, 0.11314655792790823, 0.07406797668305694, 0.126073151800948, 0.1103140078258295, 0.08037163427310434, 0.09455486385071099, 0.09455486385071099, 0.07406797668305694, 0.1103140078258295, 0.13868046698104278, 0.09613077824822285, 0.13925315420545903, 0.07920821615356385, 0.09198373488800964, 0.07537556053323012, 0.11625722048345662, 0.11370211673656747, 0.09070618301456505, 0.10475925362245542, 0.08687352739423132, 0.10220414987556627, 0.09127024800662811, 0.08664896962654567, 0.11437663990704029, 0.11322132031201967, 0.05892129934605106, 0.11091068112197847, 0.10628940274189602, 0.13055111423732882, 0.07162981489127776, 0.1155319595020609, 0.07232674172585583, 0.10849011258878376, 0.14465348345171167, 0.10849011258878376, 0.07232674172585583, 0.10849011258878376, 0.10849011258878376, 0.07232674172585583, 0.10849011258878376, 0.10849011258878376, 0.10078740179644752, 0.10078740179644752, 0.10078740179644752, 0.08638920153981215, 0.08638920153981215, 0.10078740179644752, 0.0719910012831768, 0.08638920153981215, 0.15838020282298895, 0.10078740179644752, 0.1991057449871506, 0.0995528724935753, 0.0995528724935753, 0.14932930874036296, 0.0995528724935753, 0.0995528724935753, 0.0995528724935753, 0.0995528724935753, 0.04977643624678765, 0.0995528724935753, 0.07374521268035494, 0.17698851043285185, 0.1179923402885679, 0.10324329775249692, 0.07374521268035494, 0.07374521268035494, 0.07374521268035494, 0.07374521268035494, 0.1474904253607099, 0.08849425521642593, 0.058013428256397825, 0.11602685651279565, 0.06961611390767738, 0.10442417086151608, 0.08121879955895694, 0.06961611390767738, 0.10442417086151608, 0.11602685651279565, 0.17404028476919348, 0.09282148521023652, 0.05020621648280053, 0.15061864944840156, 0.10041243296560105, 0.05020621648280053, 0.2008248659312021, 0.10041243296560105, 0.05020621648280053, 0.05020621648280053, 0.05020621648280053, 0.10041243296560105, 0.07562604286587936, 0.08358667895702455, 0.14727176768618613, 0.08756699700259715, 0.09552763309374235, 0.10348826918488756, 0.12737017745832313, 0.07562604286587936, 0.07164572482030676, 0.13533081354946833, 0.10573784768462212, 0.0784506611853648, 0.09891605105980779, 0.11255964430943645, 0.0886833561225863, 0.10232694937221495, 0.14666862743350811, 0.07503976287295763, 0.10914874599702928, 0.08527245781017913, 0.0831048176779895, 0.12050198563308476, 0.0893376790038387, 0.10388102209748687, 0.08102719723603975, 0.09141529944578844, 0.09557054032968791, 0.10803626298138634, 0.15166629226233083, 0.07687195635214028, 0.1647665053182776, 0.10297906582392351, 0.10709822845688044, 0.09062157792505268, 0.07826409002618186, 0.11533655372279432, 0.06590660212731105, 0.08650241529209574, 0.09474074055800963, 0.09062157792505268, 0.07396309406517253, 0.07601762445587176, 0.10683558031636033, 0.15408977930244278, 0.12121729305125498, 0.14587165773964583, 0.07396309406517253, 0.08423574601866872, 0.08218121562796948, 0.08012668523727025, 0.08949106197799003, 0.08949106197799003, 0.07670662455256289, 0.07670662455256289, 0.11505993682884433, 0.08949106197799003, 0.15341324910512577, 0.08949106197799003, 0.07670662455256289, 0.14062881167969862, 0.05352755160304644, 0.1303876256997285, 0.074115071450372, 0.09058508732823244, 0.12764262305341842, 0.13587763099234865, 0.09744759394400762, 0.08646758335876732, 0.07137006880406192, 0.13176012702288353, 0.11474625661900045, 0.08196161187071462, 0.08196161187071462, 0.16392322374142923, 0.09835393424485753, 0.11474625661900045, 0.08196161187071462, 0.08196161187071462, 0.09835393424485753, 0.08196161187071462, 0.07969568000289291, 0.09961960000361614, 0.09961960000361614, 0.10294025333707002, 0.09961960000361614, 0.08633698666980066, 0.08965764000325453, 0.10294025333707002, 0.0929782933367084, 0.14610874667197035, 0.08983906611179894, 0.10980330302553204, 0.0598927107411993, 0.1197854214823986, 0.0798569476549324, 0.1597138953098648, 0.0798569476549324, 0.0798569476549324, 0.0998211845686655, 0.1197854214823986, 0.08961062885203447, 0.1344159432780517, 0.08961062885203447, 0.17922125770406894, 0.08961062885203447, 0.08961062885203447, 0.044805314426017234, 0.08961062885203447, 0.08961062885203447, 0.08961062885203447, 0.09142313535505023, 0.06094875690336681, 0.09142313535505023, 0.12189751380673362, 0.07618594612920852, 0.10666032458089192, 0.18284627071010046, 0.10666032458089192, 0.06094875690336681, 0.10666032458089192, 0.19109669797330422, 0.06369889932443475, 0.06369889932443475, 0.1273977986488695, 0.06369889932443475, 0.1273977986488695, 0.06369889932443475, 0.1273977986488695, 0.06369889932443475, 0.06369889932443475, 0.12032466960109606, 0.11745979651535567, 0.09883812145804319, 0.14897340045849988, 0.10170299454378356, 0.10170299454378356, 0.08594619257221146, 0.05586502517193745, 0.09024350220082204, 0.07735157331499032, 0.0808893995418854, 0.09706727945026249, 0.06471151963350832, 0.0808893995418854, 0.1617787990837708, 0.11324515935863956, 0.12942303926701665, 0.09706727945026249, 0.09706727945026249, 0.11324515935863956, 0.06736600663289138, 0.1077856106126262, 0.08083920795946965, 0.06736600663289138, 0.08083920795946965, 0.09431240928604794, 0.1077856106126262, 0.1616784159189393, 0.1616784159189393, 0.06736600663289138, 0.0856561655690671, 0.10707020696133389, 0.0856561655690671, 0.0856561655690671, 0.12848424835360067, 0.0856561655690671, 0.06424212417680034, 0.1713123311381342, 0.10707020696133389, 0.0856561655690671, 0.08536872251480451, 0.08536872251480451, 0.08536872251480451, 0.08536872251480451, 0.17073744502960903, 0.12805308377220675, 0.08536872251480451, 0.08536872251480451, 0.08536872251480451, 0.08536872251480451, 0.10371626596332972, 0.08541339549921272, 0.08948070004679427, 0.08337974322542194, 0.09558165686816661, 0.13218739779640062, 0.09151435232058505, 0.08948070004679427, 0.1525239205343084, 0.07524513413025882, 0.10815722128246648, 0.072104814188311, 0.09613975225108132, 0.10815722128246648, 0.15622709740800714, 0.10815722128246648, 0.09613975225108132, 0.08412228321969616, 0.08412228321969616, 0.072104814188311, 0.11951914895831242, 0.12692299004422558, 0.11423069103980303, 0.09096147619836167, 0.13432683113013874, 0.07192302769172783, 0.08355763511244851, 0.10682684995388987, 0.0729807192754297, 0.07826917719393911, 0.16686929181687857, 0.13905774318073216, 0.08343464590843928, 0.08343464590843928, 0.08343464590843928, 0.11124619454458572, 0.08343464590843928, 0.08343464590843928, 0.08343464590843928, 0.11124619454458572, 0.09642850702173181, 0.08597240385070065, 0.09294313929805476, 0.14406186591198486, 0.06854556523231538, 0.10107566398663455, 0.10107566398663455, 0.10339924246908591, 0.08829598233315201, 0.11734071336379412, 0.0913776787976419, 0.0767572501900192, 0.09503278594954757, 0.11696342886098163, 0.0913776787976419, 0.14254917892432137, 0.08041235734192487, 0.11330832170907595, 0.09868789310145325, 0.09503278594954757, 0.16430018964381476, 0.07302230650836213, 0.10953345976254318, 0.10953345976254318, 0.10953345976254318, 0.09127788313545265, 0.09127788313545265, 0.09127788313545265, 0.09127788313545265, 0.05476672988127159, 0.10823827640392394, 0.10111733716682368, 0.08901174046375324, 0.1182075913358643, 0.060527983515352206, 0.07833033160810285, 0.11749549741215427, 0.10538990070908384, 0.09755686754827356, 0.12461643664925454, 0.06385113125916964, 0.0667534554073137, 0.16543247644421222, 0.09867902103689852, 0.1131906417776189, 0.12479993837019518, 0.12770226251833927, 0.06965577955545778, 0.0899720485924663, 0.08126507614803408, 0.07320233922792664, 0.08582343219825882, 0.10096874376265744, 0.11106561813892318, 0.08582343219825882, 0.08077499501012594, 0.1489288970499197, 0.14135624126772042, 0.08329921360419239, 0.08834765079232526, 0.1237494483726181, 0.07372307562624057, 0.10005274549275506, 0.07898900959954347, 0.08952087754614926, 0.12111648138596665, 0.10005274549275506, 0.08162197658619491, 0.14218021727917823, 0.09478681151945216, 0.08748631155855391, 0.06690129707418829, 0.14924135501165078, 0.09263256517964533, 0.08748631155855391, 0.0823400579374625, 0.08748631155855391, 0.13380259414837659, 0.09263256517964533, 0.11836383328510236, 0.11466714180271462, 0.09702604306383544, 0.08379521900967607, 0.14553906459575316, 0.11025686711799483, 0.07938494432495627, 0.1234876911721542, 0.09702604306383544, 0.07056439495551668, 0.07497466964023648, 0.09658191051744873, 0.09658191051744873, 0.17246769735258702, 0.08968320262334524, 0.07588578683513829, 0.07588578683513829, 0.08278449472924176, 0.08968320262334524, 0.11727803419975917, 0.1034806184115522, 0.10372446142884811, 0.06914964095256541, 0.13829928190513083, 0.1728741023814135, 0.06914964095256541, 0.06914964095256541, 0.06914964095256541, 0.06914964095256541, 0.10372446142884811, 0.13829928190513083, 0.06758866911779242, 0.11704379286251858, 0.14836537123417848, 0.06923717324261662, 0.11539528873769438, 0.11539528873769438, 0.0906677268653313, 0.11209828048804597, 0.06758866911779242, 0.09396473511497971, 0.08658671887686319, 0.07291513168577952, 0.12304428471975296, 0.07747232741614075, 0.1595018505626427, 0.1093726975286693, 0.08658671887686319, 0.09570111033758563, 0.10025830606794685, 0.08202952314650197, 0.08982189285804361, 0.09134429782173925, 0.10961315738608711, 0.06546341343891314, 0.1065683474586958, 0.12940442191413062, 0.06850822336630444, 0.09743391767652188, 0.09743391767652188, 0.1431060665873915, 0.0902789894224962, 0.12037198589666159, 0.0902789894224962, 0.1805579788449924, 0.060185992948330796, 0.060185992948330796, 0.060185992948330796, 0.12037198589666159, 0.0902789894224962, 0.060185992948330796, 0.08080144181333082, 0.05386762787555388, 0.10773525575110776, 0.05386762787555388, 0.16160288362666164, 0.10773525575110776, 0.10773525575110776, 0.10773525575110776, 0.08080144181333082, 0.1346690696888847, 0.13776055634300086, 0.09158525875395798, 0.07474785742314677, 0.1038306415400025, 0.09005458590570242, 0.1538326212496843, 0.08571767950231166, 0.07857453954378568, 0.07704386669553011, 0.10663687509513771, 0.11111126548040712, 0.0842913048472054, 0.11494268842800737, 0.15325691790400983, 0.09961699663760638, 0.09961699663760638, 0.08812272779480565, 0.10344841958520663, 0.08812272779480565, 0.061302767161603926, 0.11675311684373717, 0.08375767077920275, 0.07106711460053568, 0.15736289661547184, 0.13198178425813767, 0.08375767077920275, 0.12690556178667084, 0.09644822695786984, 0.06599089212906883, 0.06852900336480225, 0.06468315393998487, 0.08624420525331317, 0.08624420525331317, 0.10780525656664147, 0.12936630787996975, 0.08624420525331317, 0.21561051313328294, 0.06468315393998487, 0.08624420525331317, 0.06468315393998487, 0.10289149341243638, 0.10289149341243638, 0.06859432894162425, 0.10289149341243638, 0.06859432894162425, 0.10289149341243638, 0.10289149341243638, 0.10289149341243638, 0.17148582235406062, 0.10289149341243638, 0.08256977284563931, 0.08256977284563931, 0.04954186370738359, 0.08256977284563931, 0.11559768198389504, 0.16513954569127862, 0.11559768198389504, 0.11559768198389504, 0.09908372741476718, 0.08256977284563931, 0.1255167023836731, 0.08965478741690935, 0.08965478741690935, 0.08965478741690935, 0.10758574490029123, 0.16137861735043682, 0.08965478741690935, 0.07172382993352748, 0.08965478741690935, 0.08965478741690935, 0.08139551382070742, 0.1314850607872966, 0.08765670719153107, 0.09391790056235472, 0.1565298342705912, 0.07513432044988377, 0.10644028730400201, 0.05008954696658918, 0.11270148067482566, 0.09391790056235472, 0.08333098033935776, 0.12499647050903664, 0.08333098033935776, 0.08333098033935776, 0.12499647050903664, 0.12499647050903664, 0.04166549016967888, 0.08333098033935776, 0.08333098033935776, 0.16666196067871553, 0.10229270740199455, 0.06137562444119673, 0.08183416592159563, 0.12275124888239346, 0.08183416592159563, 0.14320979036279236, 0.12275124888239346, 0.10229270740199455, 0.10229270740199455, 0.06137562444119673, 0.10382714615044505, 0.07551065174577822, 0.10382714615044505, 0.10382714615044505, 0.08494948321400049, 0.10382714615044505, 0.09438831468222277, 0.09438831468222277, 0.15102130349155643, 0.08494948321400049, 0.10084059241628766, 0.13673300666615276, 0.10425891758294148, 0.07862147883303784, 0.08545812916634547, 0.09742226724963385, 0.11280473049957603, 0.0905856169163262, 0.08033064141636474, 0.10938640533292221, 0.07955879778523747, 0.07232617980476133, 0.1518849775899988, 0.10125665172666587, 0.13741974162904655, 0.07232617980476133, 0.07955879778523747, 0.10848926970714201, 0.11572188768761814, 0.07232617980476133, 0.1315556682900897, 0.09866675121756727, 0.08222229268130606, 0.08222229268130606, 0.04933337560878363, 0.06577783414504484, 0.06577783414504484, 0.1315556682900897, 0.11511120975382846, 0.1808890438988733, 0.11599121435020159, 0.09244412572271705, 0.10727007041409621, 0.10552584162687513, 0.10116526965882244, 0.1325613878288018, 0.09942104087160136, 0.07849029542494844, 0.07325760906328521, 0.09418835450993814, 0.16999541719565922, 0.07828736318221148, 0.08947127220824169, 0.0581563269353571, 0.10960230845509607, 0.08723449040303564, 0.09618161762385982, 0.13868047192277463, 0.07605058137700543, 0.09170805401344774, 0.1593971939213855, 0.10626479594759033, 0.10626479594759033, 0.07438535716331324, 0.07438535716331324, 0.07438535716331324, 0.10626479594759033, 0.0956383163528313, 0.08501183675807227, 0.10626479594759033, 0.10218283910659344, 0.07895946658236766, 0.08824881559205797, 0.11611686262112891, 0.13005088613566437, 0.0743147920775225, 0.09289349009690313, 0.148629584155045, 0.08824881559205797, 0.08824881559205797, 0.12188558397265338, 0.09522311247863545, 0.08062223523191135, 0.10601506522621414, 0.10791952747578684, 0.06475171648547211, 0.1193463009732231, 0.10284096147692628, 0.08506598048091434, 0.11680701797379282, 0.05519935024641974, 0.15946478960076815, 0.12266522276982164, 0.07973239480038408, 0.07359913366189298, 0.0674658725234019, 0.0674658725234019, 0.09199891707736624, 0.12266522276982164, 0.15333152846227704, 0.12244942618024894, 0.14471295821302146, 0.09859564185942123, 0.08587362355497978, 0.08905412813109014, 0.05724908236998652, 0.13199093990858002, 0.09541513728331086, 0.08269311897886941, 0.0922346327072005, 0.11998681482592422, 0.09598945186073937, 0.09598945186073937, 0.07199208889555453, 0.09598945186073937, 0.14398417779110906, 0.1679815407562939, 0.07199208889555453, 0.07199208889555453, 0.07199208889555453, 0.09115033862293047, 0.11239590627188419, 0.1398095419479535, 0.10143045200145646, 0.089779656839127, 0.11239590627188419, 0.07744352078489582, 0.1062278382447686, 0.07264613454158368, 0.09731840665004607, 0.14177738007445545, 0.11504221697470099, 0.09478830553549307, 0.0672429859781703, 0.11342190405956436, 0.12638440738065743, 0.0672429859781703, 0.09073752324765148, 0.07696486346899009, 0.10694065239901782, 0.08847059823842597, 0.14745099706404327, 0.08847059823842597, 0.08847059823842597, 0.14745099706404327, 0.08847059823842597, 0.058980398825617314, 0.11796079765123463, 0.058980398825617314, 0.17694119647685194, 0.14383594604446076, 0.07614844202353804, 0.1607578220496914, 0.08460938002615338, 0.07614844202353804, 0.0676875040209227, 0.08460938002615338, 0.08460938002615338, 0.1099921940339994, 0.1099921940339994, 0.1051996480384286, 0.1051996480384286, 0.1051996480384286, 0.15779947205764291, 0.07889973602882146, 0.1051996480384286, 0.0525998240192143, 0.1051996480384286, 0.1051996480384286, 0.1051996480384286, 0.17234307829626921, 0.08617153914813461, 0.0689372313185077, 0.08617153914813461, 0.08617153914813461, 0.0689372313185077, 0.12064015480738846, 0.12064015480738846, 0.10340584697776153, 0.0689372313185077, 0.07950954072459832, 0.09733064468011172, 0.10555576958265638, 0.09047637392799118, 0.09458893637926351, 0.09870149883053583, 0.09870149883053583, 0.1247477276885939, 0.11789345693647335, 0.0932180822288394, 0.10698770020205421, 0.10698770020205421, 0.053493850101027106, 0.10698770020205421, 0.10698770020205421, 0.053493850101027106, 0.10698770020205421, 0.053493850101027106, 0.16048155030308134, 0.10698770020205421, 0.07202104135583214, 0.10082945789816498, 0.14404208271166427, 0.09362735376258177, 0.07922314549141535, 0.10082945789816498, 0.15124418684724747, 0.07202104135583214, 0.10082945789816498, 0.07922314549141535, 0.09378431263665539, 0.10941503140943129, 0.12504575018220718, 0.10941503140943129, 0.07815359386387949, 0.07815359386387949, 0.07815359386387949, 0.15630718772775898, 0.09378431263665539, 0.07815359386387949, 0.10200492717149201, 0.08458945180074946, 0.10449285222445523, 0.0895653019066759, 0.10449285222445523, 0.10698077727741845, 0.09702907706556556, 0.1666909785485357, 0.06468605137704371, 0.07463775158889659, 0.06911249995489521, 0.06911249995489521, 0.1283517856305197, 0.1777178570268734, 0.13822499990979042, 0.06911249995489521, 0.06911249995489521, 0.05923928567562447, 0.11847857135124894, 0.09873214279270745, 0.10320654832043995, 0.10320654832043995, 0.10320654832043995, 0.10320654832043995, 0.17201091386739992, 0.10320654832043995, 0.10320654832043995, 0.06880436554695997, 0.06880436554695997, 0.10320654832043995, 0.07767015184444696, 0.10097119739778106, 0.10097119739778106, 0.10873821258222575, 0.10873821258222575, 0.09320418221333636, 0.15534030368889393, 0.10097119739778106, 0.062136121475557575, 0.10097119739778106, 0.11749476468825841, 0.11399789669158406, 0.10350729270156098, 0.08322545832084971, 0.09651355670821227, 0.07623172232750099, 0.10700416069823533, 0.11819413828759329, 0.0811273375228451, 0.10350729270156098, 0.08850427235584922, 0.17700854471169844, 0.08850427235584922, 0.13275640853377382, 0.08850427235584922, 0.13275640853377382, 0.08850427235584922, 0.08850427235584922, 0.04425213617792461, 0.08850427235584922, 0.09020043770177628, 0.15785076597810851, 0.10147549241449833, 0.07892538298905426, 0.07892538298905426, 0.11275054712722037, 0.07892538298905426, 0.07892538298905426, 0.09020043770177628, 0.11275054712722037, 0.07859567498243425, 0.07859567498243425, 0.10479423330991233, 0.07859567498243425, 0.10479423330991233, 0.10479423330991233, 0.10479423330991233, 0.07859567498243425, 0.1571913499648685, 0.13099279163739042, 0.07672119554841059, 0.09270477795432946, 0.11252442013766886, 0.14385224165326985, 0.09526215113927648, 0.0779998821408841, 0.0779998821408841, 0.10165558410164403, 0.1176391665075629, 0.10229492739788079, 0.09135410702812237, 0.06490949709892904, 0.07452571889136297, 0.18270821405624474, 0.10337438426866478, 0.13703116054218353, 0.10818249516488175, 0.07933382978757994, 0.08173788523568842, 0.08173788523568842, 0.05162039307020599, 0.10324078614041197, 0.10324078614041197, 0.07743058960530898, 0.12905098267551496, 0.07743058960530898, 0.07743058960530898, 0.07743058960530898, 0.15486117921061796, 0.12905098267551496, 0.0839445188181344, 0.08800635037385057, 0.12050100281958002, 0.09071423807766137, 0.07988268726241822, 0.09748395733718833, 0.09342212578147215, 0.11102339585624227, 0.10696156430052609, 0.12862466593101238, 0.16608073362500467, 0.11072048908333644, 0.05536024454166822, 0.11072048908333644, 0.11072048908333644, 0.11072048908333644, 0.11072048908333644, 0.11072048908333644, 0.11072048908333644, 0.11072048908333644, 0.08676583157685054, 0.07230485964737544, 0.07230485964737544, 0.11568777543580072, 0.08676583157685054, 0.11568777543580072, 0.17353166315370108, 0.10122680350632562, 0.08676583157685054, 0.10122680350632562, 0.08692530026132429, 0.09682818256957643, 0.10012914333899381, 0.09462754205663151, 0.10343010410841119, 0.12653682949433284, 0.09682818256957643, 0.10343010410841119, 0.10453042436488365, 0.08692530026132429, 0.08070088030411784, 0.12105132045617678, 0.1614017606082357, 0.08070088030411784, 0.04035044015205892, 0.12105132045617678, 0.08070088030411784, 0.08070088030411784, 0.12105132045617678, 0.08070088030411784, 0.07802114065596037, 0.10402818754128049, 0.15604228131192074, 0.07802114065596037, 0.10402818754128049, 0.10402818754128049, 0.10402818754128049, 0.07802114065596037, 0.07802114065596037, 0.10402818754128049, 0.06970025329272976, 0.08610031289101912, 0.07380026819230211, 0.08610031289101912, 0.11480041718802549, 0.07790028309187444, 0.16400059598289357, 0.10250037248930847, 0.11070040228845315, 0.11480041718802549, 0.14976019077746555, 0.09553667342700388, 0.1368498295035461, 0.07488009538873278, 0.08262631215308444, 0.061969734114813324, 0.07229802313394888, 0.10586496244613944, 0.11877532372005888, 0.10070081793657165, 0.1275271563175586, 0.1912907344763379, 0.09564536723816895, 0.0637635781587793, 0.15940894539694825, 0.0637635781587793, 0.0637635781587793, 0.09564536723816895, 0.09564536723816895, 0.09564536723816895, 0.08613546267568971, 0.12474791146134372, 0.08910565104381694, 0.14553923003823432, 0.09801621614819864, 0.1321733823816618, 0.09059074522788055, 0.0950460277800714, 0.06237395573067186, 0.07722489757130802, 0.10810269964310806, 0.05405134982155403, 0.10810269964310806, 0.10810269964310806, 0.10810269964310806, 0.10810269964310806, 0.10810269964310806, 0.10810269964310806, 0.10810269964310806, 0.16215404946466208, 0.10531148009351543, 0.10531148009351543, 0.15796722014027315, 0.10531148009351543, 0.052655740046757715, 0.052655740046757715, 0.10531148009351543, 0.10531148009351543, 0.10531148009351543, 0.10531148009351543, 0.11583297877808435, 0.08494418443726186, 0.08494418443726186, 0.1621661702893181, 0.09266638302246748, 0.0694997872668506, 0.11583297877808435, 0.0694997872668506, 0.0694997872668506, 0.1312773759484956, 0.08213777884024548, 0.06916865586546987, 0.08213777884024548, 0.09078386082342921, 0.09078386082342921, 0.12536818875616415, 0.11672210677298041, 0.14698339371412347, 0.12104514776457229, 0.07349169685706174, 0.10873035748722135, 0.12696464104097896, 0.09927554379268036, 0.08036591640359839, 0.10265226296930215, 0.10062623146332908, 0.09589882461605859, 0.10197691913397779, 0.08914538626281501, 0.09522348078073423, 0.1030063143153689, 0.1030063143153689, 0.05150315715768445, 0.1030063143153689, 0.15450947147305336, 0.1030063143153689, 0.05150315715768445, 0.1030063143153689, 0.1030063143153689, 0.1030063143153689, 0.08484169538308255, 0.08484169538308255, 0.08484169538308255, 0.08484169538308255, 0.08484169538308255, 0.1272625430746238, 0.1696833907661651, 0.08484169538308255, 0.08484169538308255, 0.04242084769154127, 0.09113755298592485, 0.11771933927348627, 0.06835316473944364, 0.09873234906808526, 0.08734015494484465, 0.08734015494484465, 0.1594907177253685, 0.09113755298592485, 0.07974535886268425, 0.11771933927348627, 0.08139770110830591, 0.08139770110830591, 0.16279540221661182, 0.10853026814440787, 0.10853026814440787, 0.08139770110830591, 0.10853026814440787, 0.08139770110830591, 0.08139770110830591, 0.08139770110830591, 0.07222315754688736, 0.10833473632033105, 0.07222315754688736, 0.10833473632033105, 0.10833473632033105, 0.07222315754688736, 0.10833473632033105, 0.1805578938672184, 0.10833473632033105, 0.07222315754688736, 0.10357770600768465, 0.08804105010653196, 0.08286216480614772, 0.10098826335749254, 0.11652491925864523, 0.08804105010653196, 0.06473606625480291, 0.09321993540691619, 0.10357770600768465, 0.155366559011527, 0.09538371678678759, 0.11128100291791886, 0.06358914452452506, 0.06358914452452506, 0.09538371678678759, 0.06358914452452506, 0.06358914452452506, 0.11128100291791886, 0.23845929196696897, 0.06358914452452506, 0.1129338867523185, 0.07468208640072675, 0.11111237244986175, 0.08196814361055375, 0.09471874372775099, 0.12204145826460225, 0.08378965791301049, 0.10382631524003474, 0.14389962989408325, 0.07286057209827, 0.09849730270077972, 0.08058870220972886, 0.08954300245525429, 0.08954300245525429, 0.16117740441945771, 0.07163440196420344, 0.09849730270077972, 0.13431450368288145, 0.08058870220972886, 0.10745160294630515, 0.11981303387336031, 0.09291623035076922, 0.08069041056777328, 0.11736786991676113, 0.08558073848097165, 0.10269688617716599, 0.08313557452437247, 0.08558073848097165, 0.13937434552615383, 0.09047106639417003, 0.15162763248134284, 0.10180712466604447, 0.11696988791417876, 0.07797992527611917, 0.09097657948880569, 0.13646486923320855, 0.06281716202798489, 0.08231214334701469, 0.11047156080783549, 0.0671493800988804, 0.14105109085878886, 0.0940340605725259, 0.0940340605725259, 0.0940340605725259, 0.0940340605725259, 0.14105109085878886, 0.0940340605725259, 0.14105109085878886, 0.0940340605725259, 0.0940340605725259, 0.10957479539852409, 0.07304986359901605, 0.10957479539852409, 0.07304986359901605, 0.07304986359901605, 0.07304986359901605, 0.10957479539852409, 0.07304986359901605, 0.18262465899754016, 0.07304986359901605, 0.11108471986958751, 0.08886777589567, 0.08886777589567, 0.07775930390871126, 0.09997624788262877, 0.16662707980438127, 0.11108471986958751, 0.09997624788262877, 0.09997624788262877, 0.06665083192175252, 0.1166669674348415, 0.17500045115226226, 0.1166669674348415, 0.1166669674348415, 0.05833348371742075, 0.1166669674348415, 0.05833348371742075, 0.1166669674348415, 0.05833348371742075, 0.05833348371742075, 0.06941444329098698, 0.16882278183116586, 0.07627019077651655, 0.0959804647974141, 0.10026530697587008, 0.08398290669773732, 0.10969195976847325, 0.10369318071863487, 0.07198534859806056, 0.11911861256107642, 0.09282618163973336, 0.09282618163973336, 0.12376824218631115, 0.09282618163973336, 0.15471030273288894, 0.09282618163973336, 0.09282618163973336, 0.12376824218631115, 0.061884121093155574, 0.061884121093155574, 0.12980483696162287, 0.08770597092001545, 0.14734603114562597, 0.09472244859361668, 0.10524716510401855, 0.08770597092001545, 0.08770597092001545, 0.09472244859361668, 0.09121420975681607, 0.06665653789921175, 0.11081472092328754, 0.07221633498371546, 0.13073646850500215, 0.08902530950578717, 0.1357169054004308, 0.058520133521286676, 0.10583428402785888, 0.14443266996743093, 0.07408399881950122, 0.07906443571492987, 0.06868691911186961, 0.06868691911186961, 0.13737383822373922, 0.06868691911186961, 0.06868691911186961, 0.06868691911186961, 0.13737383822373922, 0.13737383822373922, 0.13737383822373922, 0.06868691911186961, 0.08441367429747998, 0.11981295706739094, 0.10075180480666965, 0.12798202232198577, 0.08441367429747998, 0.14704317458270705, 0.07896763079441675, 0.0898597178005432, 0.08169065254594837, 0.07896763079441675, 0.09110901644112589, 0.12411952964443236, 0.10299280119431621, 0.09242943696925815, 0.07394354957540651, 0.06205976482221618, 0.10299280119431621, 0.11355616541937429, 0.13732373492575495, 0.09903153960991944, 0.08570387788722961, 0.08570387788722961, 0.08570387788722961, 0.1285558168308444, 0.08570387788722961, 0.08570387788722961, 0.17140775577445921, 0.08570387788722961, 0.08570387788722961, 0.08570387788722961, 0.0957623136315565, 0.11821281454517867, 0.15198790441522972, 0.09099406564990223, 0.08225227768353607, 0.1166233985512939, 0.07748402970188181, 0.08443772467512761, 0.11145779657116846, 0.07053033472863601, 0.08588933292550158, 0.18525150238833674, 0.08925754205983498, 0.05220724158216763, 0.11451911056733545, 0.07915291465683479, 0.08252112379116819, 0.08925754205983498, 0.09094164662700167, 0.13304426080616913, 0.09382120656201706, 0.09382120656201706, 0.10945807432235323, 0.09382120656201706, 0.09382120656201706, 0.09382120656201706, 0.09382120656201706, 0.0625474710413447, 0.09382120656201706, 0.15636867760336176, 0.10850151727139046, 0.11470160397261277, 0.09403464830187173, 0.09920138721955699, 0.0775010837652789, 0.10436812613724225, 0.12090169067383508, 0.10230143057016815, 0.10023473500309404, 0.0775010837652789, 0.1658180302337786, 0.1069793743443733, 0.08023453075827998, 0.11232834306159196, 0.10163040562715464, 0.10163040562715464, 0.07488556204106131, 0.06418762460662399, 0.10163040562715464, 0.09628143690993597, 0.12290529979416664, 0.10547842892782959, 0.0926375767105286, 0.07062468719515547, 0.06787307600573382, 0.13024292963262435, 0.07704511330380596, 0.11006444757686566, 0.09997520654898631, 0.12473970725378108, 0.11739071523628192, 0.10403488535910013, 0.0632644573129663, 0.1117672079195738, 0.11598483840710488, 0.1321524219426407, 0.09419374755486094, 0.08294673292144471, 0.09349080914027243, 0.08505554816521024, 0.20097263029906334, 0.10048631514953167, 0.050243157574765836, 0.050243157574765836, 0.10048631514953167, 0.10048631514953167, 0.050243157574765836, 0.050243157574765836, 0.10048631514953167, 0.15072947272429751, 0.09531957549881842, 0.08588199376626214, 0.09531957549881842, 0.12457607886974288, 0.10758843175114158, 0.11702601348369786, 0.07172562116742771, 0.0981508500185853, 0.07927568655347274, 0.12551983704299852, 0.11375662551587998, 0.07941500271863319, 0.10517121981656828, 0.10731757124139621, 0.09014675984277282, 0.08370770556828905, 0.08156135414346112, 0.13736649118898714, 0.10302486839174035, 0.09658581411725659, 0.10751590457176446, 0.10751590457176446, 0.10751590457176446, 0.05375795228588223, 0.10751590457176446, 0.10751590457176446, 0.10751590457176446, 0.1612738568576467, 0.10751590457176446, 0.05375795228588223, 0.07430499533814358, 0.11145749300721537, 0.11145749300721537, 0.11145749300721537, 0.07430499533814358, 0.07430499533814358, 0.07430499533814358, 0.14860999067628716, 0.11145749300721537, 0.07430499533814358, 0.08401122594048564, 0.12321646471271228, 0.11201496792064752, 0.07280972914842089, 0.08961197433651802, 0.1176157163166799, 0.08961197433651802, 0.16242170348493892, 0.08401122594048564, 0.06720898075238851, 0.07957554866366921, 0.07957554866366921, 0.12378418681015212, 0.0884172762929658, 0.15030936969804184, 0.10610073155155895, 0.10610073155155895, 0.07957554866366921, 0.0884172762929658, 0.09725900392226237, 0.0904583120381362, 0.0904583120381362, 0.1447332992610179, 0.10854997444576343, 0.10854997444576343, 0.0904583120381362, 0.10854997444576343, 0.10854997444576343, 0.07236664963050896, 0.0904583120381362, 0.10905612650272613, 0.12582193905415098, 0.08931320704964639, 0.11375682161060226, 0.10983957568737214, 0.0860227204741331, 0.09777445824382343, 0.09871459726539865, 0.0894698968865756, 0.08022519650775255, 0.06874484105430158, 0.06874484105430158, 0.10311726158145236, 0.10311726158145236, 0.17186210263575394, 0.06874484105430158, 0.06874484105430158, 0.10311726158145236, 0.06874484105430158, 0.10311726158145236, 0.08338908934196596, 0.08338908934196596, 0.12508363401294892, 0.12508363401294892, 0.08338908934196596, 0.08338908934196596, 0.1667781786839319, 0.04169454467098298, 0.12508363401294892, 0.08338908934196596, 0.14989983246120983, 0.07794791287982912, 0.10008696505871549, 0.07979283389473632, 0.08809497846181871, 0.0991645045512619, 0.13790784586431307, 0.09040112973045271, 0.11692186931974367, 0.05995993298448394, 0.08594347376557061, 0.14682010101618315, 0.10026738605983239, 0.10384836413339783, 0.08952445183913606, 0.08952445183913606, 0.09668640798626695, 0.08594347376557061, 0.07161956147130885, 0.12891521064835593, 0.06841505700934264, 0.0969213307632354, 0.09122007601245685, 0.09122007601245685, 0.0855188212616783, 0.11402509501557107, 0.09122007601245685, 0.09977195813862468, 0.1710376425233566, 0.08836944863706757, 0.0690716498041287, 0.11051463968660594, 0.15195762956908318, 0.0967003097257802, 0.12432896964743169, 0.0967003097257802, 0.08288597976495446, 0.08288597976495446, 0.08288597976495446, 0.0967003097257802, 0.08564346064099171, 0.08564346064099171, 0.07493802806086775, 0.10705432580123964, 0.08564346064099171, 0.18199235386210738, 0.1177597583813636, 0.09634889322111567, 0.07493802806086775, 0.10705432580123964, 0.051277619112018946, 0.20511047644807578, 0.10255523822403789, 0.10255523822403789, 0.051277619112018946, 0.10255523822403789, 0.10255523822403789, 0.10255523822403789, 0.10255523822403789, 0.051277619112018946, 0.10535706015476785, 0.12341827046701377, 0.07374994210833749, 0.15201518679473647, 0.06471933695221453, 0.08729584984252194, 0.1429845816386135, 0.07525504296769132, 0.08880095070187576, 0.08729584984252194, 0.07636554236947099, 0.09114596992485248, 0.1009995882951068, 0.09360937451741606, 0.1502676801463784, 0.11824342044305186, 0.10592639748023396, 0.08129235155459816, 0.09360937451741606, 0.0886825653322889, 0.07729980663908585, 0.11009366400112229, 0.1499147765121665, 0.11712091915013009, 0.10072399046911187, 0.08198464340509107, 0.10306640885211447, 0.07261496987308065, 0.08901189855409887, 0.10072399046911187, 0.14819062285153417, 0.09879374856768945, 0.09879374856768945, 0.09879374856768945, 0.09879374856768945, 0.09879374856768945, 0.049396874283844726, 0.09879374856768945, 0.09879374856768945, 0.09879374856768945, 0.054750865305321535, 0.10950173061064307, 0.10950173061064307, 0.10950173061064307, 0.1642525959159646, 0.10950173061064307, 0.054750865305321535, 0.10950173061064307, 0.054750865305321535, 0.054750865305321535, 0.07173728309735149, 0.09512987541170523, 0.10136790002886623, 0.10760592464602722, 0.11228444310889799, 0.07173728309735149, 0.08577283848596373, 0.14659357850328347, 0.10136790002886623, 0.10448691233744672, 0.08644865953000473, 0.08644865953000473, 0.14408109921667456, 0.14408109921667456, 0.08644865953000473, 0.05763243968666982, 0.08644865953000473, 0.08644865953000473, 0.11526487937333964, 0.11526487937333964, 0.09497357239360465, 0.14246035859040698, 0.04748678619680233, 0.09497357239360465, 0.04748678619680233, 0.14246035859040698, 0.04748678619680233, 0.1899471447872093, 0.09497357239360465, 0.09497357239360465, 0.08885757499588606, 0.06664318124691455, 0.11107196874485759, 0.08885757499588606, 0.08885757499588606, 0.06664318124691455, 0.11107196874485759, 0.08885757499588606, 0.15550075624280063, 0.11107196874485759, 0.1331940765315892, 0.10112883588509552, 0.13196079804518562, 0.07892982312983066, 0.0924958864802703, 0.08879605102105949, 0.07892982312983066, 0.09126260799386669, 0.10359539285790273, 0.0974290004258847, 0.06936543387871304, 0.10569970876756273, 0.0660623179797267, 0.09579036107060371, 0.08918412927263104, 0.08918412927263104, 0.1519433313533714, 0.12221528826249439, 0.11560905646452173, 0.09909347696959005, 0.0754326433479448, 0.08734306071867293, 0.1032236172129771, 0.12704445195443334, 0.15483542581946563, 0.07940278247152084, 0.10719375633655313, 0.09528333896582501, 0.0754326433479448, 0.09925347808940105, 0.11427950552371885, 0.09359097435132148, 0.10738332846625306, 0.08866513359598877, 0.0916206380491884, 0.07782828393425681, 0.11427950552371885, 0.12117568258118465, 0.11033883291945269, 0.08078378838745644, 0.09597668133858946, 0.13926028272658078, 0.0846853070634613, 0.09785857705111083, 0.12420511702640989, 0.07339393278833312, 0.10162236847615355, 0.08656720277598265, 0.09597668133858946, 0.09974047276363218, 0.08988716196976826, 0.07230054332350926, 0.10356564313908083, 0.09184123070824149, 0.10942784935450049, 0.0840249557543486, 0.0937952994467147, 0.11724412430839339, 0.0937952994467147, 0.14655515538549174, 0.08428184405015124, 0.08883761940421347, 0.1571742497151469, 0.09567128243530681, 0.0933933947582757, 0.11161649617452461, 0.08883761940421347, 0.0774481810190579, 0.07289240566499566, 0.1275617099137424, 0.07622794939602337, 0.0900875765589367, 0.09701739014039337, 0.11087701730330672, 0.0900875765589367, 0.0900875765589367, 0.10394720372185005, 0.11087701730330672, 0.07622794939602337, 0.15245589879204674, 0.08627639367889943, 0.08627639367889943, 0.17255278735779886, 0.12941459051834914, 0.12941459051834914, 0.08627639367889943, 0.08627639367889943, 0.12941459051834914, 0.08627639367889943, 0.08627639367889943, 0.08774000299085077, 0.09322375317777895, 0.12064250411241982, 0.08774000299085077, 0.15354500523398887, 0.09870750336470713, 0.08225625280392261, 0.09870750336470713, 0.09870750336470713, 0.07677250261699443, 0.10792380505230706, 0.09522688681085917, 0.06348459120723944, 0.08887842769013522, 0.10792380505230706, 0.10792380505230706, 0.09522688681085917, 0.09522688681085917, 0.08887842769013522, 0.1587114780180986, 0.1377367251793178, 0.09182448345287854, 0.09182448345287854, 0.18364896690575708, 0.1377367251793178, 0.09182448345287854, 0.09182448345287854, 0.09182448345287854, 0.09182448345287854, 0.04591224172643927, 0.08013889001334308, 0.08013889001334308, 0.08013889001334308, 0.08013889001334308, 0.12020833502001463, 0.08013889001334308, 0.12020833502001463, 0.16027778002668616, 0.08013889001334308, 0.12020833502001463, 0.10560533413163498, 0.07920400059872623, 0.10560533413163498, 0.10560533413163498, 0.1848093347303612, 0.05280266706581749, 0.07920400059872623, 0.10560533413163498, 0.07920400059872623, 0.07920400059872623, 0.14349005369006793, 0.047830017896689316, 0.09566003579337863, 0.09566003579337863, 0.14349005369006793, 0.09566003579337863, 0.09566003579337863, 0.09566003579337863, 0.09566003579337863, 0.09566003579337863, 0.11074594006098962, 0.0909698793358129, 0.1404100311487547, 0.09492509148084824, 0.10085790969840125, 0.08899227326329523, 0.11272354613350728, 0.10679072791595427, 0.08701466719077755, 0.06526100039308316, 0.0831118507791729, 0.07555622798106626, 0.11333434197159939, 0.09066747357727951, 0.0831118507791729, 0.12088996476970602, 0.10577871917349277, 0.15111245596213252, 0.0831118507791729, 0.09066747357727951, 0.12499715523975809, 0.16666287365301077, 0.08333143682650539, 0.12499715523975809, 0.04166571841325269, 0.08333143682650539, 0.16666287365301077, 0.04166571841325269, 0.08333143682650539, 0.08333143682650539, 0.12827909260307263, 0.1710387901374302, 0.0855193950687151, 0.0855193950687151, 0.0855193950687151, 0.0855193950687151, 0.0855193950687151, 0.0855193950687151, 0.0855193950687151, 0.12827909260307263, 0.09042164088843149, 0.11860500947703351, 0.09746748303558199, 0.11155916732988301, 0.08807302683938133, 0.062238272299829464, 0.10275186464594488, 0.09688032952331946, 0.12858661918549671, 0.10275186464594488, 0.053567814631214766, 0.10713562926242953, 0.10713562926242953, 0.10713562926242953, 0.10713562926242953, 0.1607034438936443, 0.10713562926242953, 0.053567814631214766, 0.053567814631214766, 0.10713562926242953, 0.18170126716874196, 0.1765098023924922, 0.08306343641999633, 0.07787197164374655, 0.07268050686749679, 0.09344636597249587, 0.08306343641999633, 0.07268050686749679, 0.06748904209124701, 0.0882549011962461, 0.1596659511277003, 0.09979121945481269, 0.15301320316404612, 0.06652747963654179, 0.09979121945481269, 0.09313847149115852, 0.11974946334577523, 0.07318022760019598, 0.06652747963654179, 0.06652747963654179, 0.0856989670593153, 0.0856989670593153, 0.1428316117655255, 0.0571326447062102, 0.0856989670593153, 0.1428316117655255, 0.0856989670593153, 0.0856989670593153, 0.1142652894124204, 0.0856989670593153, 0.0672607488159051, 0.10089112322385765, 0.0672607488159051, 0.0672607488159051, 0.1345214976318102, 0.0672607488159051, 0.10089112322385765, 0.10089112322385765, 0.10089112322385765, 0.16815187203976276, 0.09034073366049933, 0.09034073366049933, 0.09211212059501891, 0.09211212059501891, 0.11514015074377365, 0.08502657285694054, 0.14525372863060676, 0.11336876380925405, 0.07794102511886217, 0.09565489446405812, 0.1819525892623628, 0.07797968111244119, 0.09283295370528714, 0.11511286259455605, 0.08169299926065268, 0.10768622629813308, 0.08911963555707565, 0.06312640851959525, 0.08169299926065268, 0.11139954444634456, 0.21697903909309862, 0.054244759773274656, 0.10848951954654931, 0.054244759773274656, 0.10848951954654931, 0.10848951954654931, 0.054244759773274656, 0.054244759773274656, 0.16273427931982395, 0.054244759773274656, 0.08436028459378637, 0.15666909995988898, 0.1446176307322052, 0.08436028459378637, 0.10846322304915391, 0.060257346138418835, 0.08436028459378637, 0.08436028459378637, 0.08436028459378637, 0.09641175382147014, 0.07228761490399602, 0.09035951862999503, 0.09035951862999503, 0.10843142235599403, 0.07228761490399602, 0.10843142235599403, 0.16264713353399105, 0.10843142235599403, 0.09035951862999503, 0.09035951862999503, 0.06281110586725193, 0.10468517644541987, 0.10468517644541987, 0.10468517644541987, 0.10468517644541987, 0.14655924702358783, 0.06281110586725193, 0.12562221173450386, 0.10468517644541987, 0.06281110586725193, 0.09353164654693875, 0.09353164654693875, 0.0857373426680272, 0.1636803814571428, 0.0857373426680272, 0.09353164654693875, 0.13250316594149658, 0.07014873491020407, 0.09353164654693875, 0.0857373426680272, 0.0824965679949716, 0.07775538592629506, 0.0986165870284718, 0.13749427999161934, 0.1005130598559424, 0.05120476634170651, 0.1175813153031779, 0.11378836964823669, 0.10715071475208955, 0.11284013323450139, 0.0772449849764165, 0.19311246244104127, 0.09655623122052064, 0.05793373873231238, 0.11586747746462477, 0.09655623122052064, 0.0772449849764165, 0.09655623122052064, 0.0772449849764165, 0.11586747746462477, 0.13985380302832362, 0.09235628501870427, 0.06913527621400148, 0.07784315451576503, 0.09341178541891804, 0.09288403521881115, 0.08364840671694072, 0.14908943153019405, 0.12138254602458276, 0.08048190551629944, 0.08145546392058022, 0.15127443299536325, 0.08145546392058022, 0.10860728522744029, 0.07369780069004876, 0.10472845361217456, 0.10472845361217456, 0.12024378007323747, 0.08145546392058022, 0.09697079038164312, 0.09269237515426164, 0.0691734142942251, 0.09476757758308839, 0.07401555329482086, 0.09476757758308839, 0.10860226044193341, 0.11275266529958691, 0.09891798244074189, 0.12451214572960519, 0.13004601887314318, 0.11009727508565396, 0.06116515282536331, 0.0795146986729723, 0.15291288206340828, 0.07339818339043597, 0.12233030565072663, 0.0795146986729723, 0.11009727508565396, 0.12844682093326296, 0.0795146986729723, 0.0427129778726975, 0.085425955745395, 0.085425955745395, 0.085425955745395, 0.1281389336180925, 0.17085191149079, 0.085425955745395, 0.1281389336180925, 0.085425955745395, 0.085425955745395, 0.13208762519948195, 0.08805841679965463, 0.0911302220368519, 0.13823123567387646, 0.0931780921949834, 0.07884300108806287, 0.0931780921949834, 0.11877646917162718, 0.08191480632526013, 0.08498661156245739, 0.10116681333771357, 0.1149055163835759, 0.12739524642526895, 0.09991784033354427, 0.08118324527100472, 0.09117502930435915, 0.1074116783585601, 0.0711914612376503, 0.09492194831686705, 0.1086606513627294, 0.07569073305633287, 0.08023217703971283, 0.10849005071407711, 0.10445321161773935, 0.13876634393661025, 0.0953703236509794, 0.08477362102309281, 0.14229857814590577, 0.07569073305633287, 0.09385650898985275, 0.11631784450906588, 0.0712334086528388, 0.11000602348919408, 0.10279251375219775, 0.07303678608708787, 0.07393847480421241, 0.13254824141730762, 0.10820264605494499, 0.09467731529807687, 0.11721953322619041, 0.13295921843661151, 0.10503778256492309, 0.09218505811605066, 0.11035615130238756, 0.10282179559097956, 0.09174186072126195, 0.08110512324633302, 0.07490035971929115, 0.09218505811605066, 0.11611771743464072, 0.09330232513256856, 0.16327906898199496, 0.08552713137152117, 0.13217829393780545, 0.09330232513256856, 0.07775193761047379, 0.11662790641571069, 0.06997674384942641, 0.08552713137152117, 0.06997674384942641, 0.14066917855215444, 0.09591080355828711, 0.09335318213006613, 0.10869891069939207, 0.06266172499141424, 0.0780074535607402, 0.13043869283927048, 0.10742009998528157, 0.09591080355828711, 0.08695912855951365, 0.08931570369765403, 0.11164462962206753, 0.08931570369765403, 0.11164462962206753, 0.08931570369765403, 0.06698677777324052, 0.11164462962206753, 0.15630248147089457, 0.11164462962206753, 0.06698677777324052, 0.10590902467097982, 0.10590902467097982, 0.10590902467097982, 0.15886353700646974, 0.05295451233548991, 0.05295451233548991, 0.10590902467097982, 0.05295451233548991, 0.15886353700646974, 0.10590902467097982, 0.0540901480907882, 0.1081802961815764, 0.1081802961815764, 0.08113522213618231, 0.1081802961815764, 0.16227044427236462, 0.1081802961815764, 0.08113522213618231, 0.1081802961815764, 0.1352253702269705, 0.1542342565307499, 0.11567569239806244, 0.07711712826537495, 0.038558564132687476, 0.07711712826537495, 0.1927928206634374, 0.07711712826537495, 0.11567569239806244, 0.07711712826537495, 0.07711712826537495, 0.09423000584287995, 0.1172396584324204, 0.09203861035816181, 0.10847407649354786, 0.07450744648041671, 0.12490954262893389, 0.09861279681231623, 0.07779453970749392, 0.10409128552411158, 0.10737837875118879, 0.09168221104896587, 0.08428848435146863, 0.12273586317845431, 0.1256933538574532, 0.07541601231447193, 0.07393726697497248, 0.08872472036996697, 0.13900206191294825, 0.09759719240696367, 0.09759719240696367, 0.11720930203066264, 0.07534883701971169, 0.10883720902847245, 0.07953488352080679, 0.10046511602628226, 0.12976744153394792, 0.06279069751642641, 0.15906976704161357, 0.10046511602628226, 0.0711627905186166, 0.07898426514443052, 0.07898426514443052, 0.11847639771664578, 0.11847639771664578, 0.09873033143053815, 0.15796853028886104, 0.09873033143053815, 0.07898426514443052, 0.07898426514443052, 0.07898426514443052, 0.0802940149740189, 0.10036751871752363, 0.0802940149740189, 0.10036751871752363, 0.12044102246102835, 0.1605880299480378, 0.10036751871752363, 0.0802940149740189, 0.0802940149740189, 0.10036751871752363, 0.10718061691746587, 0.09881900850546499, 0.09577842362837376, 0.1109813480138299, 0.09501827740910095, 0.1003393009440106, 0.09501827740910095, 0.07297403705018952, 0.10261973960182902, 0.12314368752219483, 0.11370785114068595, 0.07580523409379064, 0.07580523409379064, 0.07580523409379064, 0.11370785114068595, 0.07580523409379064, 0.11370785114068595, 0.07580523409379064, 0.15161046818758128, 0.11370785114068595, 0.0811392037212762, 0.1217088055819143, 0.0811392037212762, 0.1217088055819143, 0.0811392037212762, 0.0811392037212762, 0.0811392037212762, 0.0811392037212762, 0.0811392037212762, 0.1622784074425524, 0.17907324807779212, 0.07576175880214282, 0.06198689356538958, 0.06198689356538958, 0.09642405665727267, 0.07576175880214282, 0.14463608498590902, 0.08264919142051944, 0.09642405665727267, 0.13086121974915577, 0.10197923596323889, 0.10197923596323889, 0.07060100951301154, 0.09413467935068205, 0.10197923596323889, 0.10982379257579573, 0.15689113225113677, 0.0627564529004547, 0.10197923596323889, 0.09413467935068205, 0.08753176767329203, 0.08753176767329203, 0.08753176767329203, 0.11670902356438936, 0.08753176767329203, 0.08753176767329203, 0.11670902356438936, 0.11670902356438936, 0.17506353534658406, 0.08753176767329203, 0.11237232443739938, 0.10670649295316074, 0.10009635622154901, 0.09159760899519108, 0.118038155921638, 0.0925419142425642, 0.10104066146892213, 0.08593177751095246, 0.08876469325307178, 0.10292927196366833, 0.10699043608315394, 0.13514581399977338, 0.07883505816653448, 0.08446613374985837, 0.08446613374985837, 0.0619418314165628, 0.15203904074974506, 0.11262151166647782, 0.09009720933318226, 0.10135936049983005, 0.13823111538317287, 0.06911555769158644, 0.06911555769158644, 0.06911555769158644, 0.06911555769158644, 0.13823111538317287, 0.13823111538317287, 0.06911555769158644, 0.06911555769158644, 0.06911555769158644, 0.11190563179073847, 0.09766309683555358, 0.07935126617888727, 0.10783633608925706, 0.10987098393999777, 0.06103943552222098, 0.06714337907444308, 0.11394027964147917, 0.11597492749221987, 0.13632140599962686, 0.0985970133547554, 0.07887761068380433, 0.0985970133547554, 0.11831641602570649, 0.11831641602570649, 0.15775522136760867, 0.05915820801285324, 0.11831641602570649, 0.07887761068380433, 0.07887761068380433, 0.09857335749101351, 0.09857335749101351, 0.1642889291516892, 0.09857335749101351, 0.06571557166067567, 0.06571557166067567, 0.09857335749101351, 0.09857335749101351, 0.09857335749101351, 0.13143114332135133, 0.11879398464598648, 0.14342200585308124, 0.06374311371248055, 0.09054419561431896, 0.11734527751615738, 0.08909548848448985, 0.11734527751615738, 0.09923643839329357, 0.07460841718619883, 0.08619807422483165, 0.09169458290335687, 0.09002740866875038, 0.13920904858964178, 0.10003045407638932, 0.1016976283109958, 0.09336175713796335, 0.09836327984178282, 0.08585947308223416, 0.1016976283109958, 0.09836327984178282, 0.10331612698349985, 0.10276657311656634, 0.10991077338670197, 0.10221701924963283, 0.11650541978990409, 0.060450925362686085, 0.10276657311656634, 0.07693754137069138, 0.12804605099550778, 0.09672148058029774, 0.1499709341265851, 0.1101052427764802, 0.10915605964909675, 0.07308710080852565, 0.10725769339432985, 0.08257893208236015, 0.07688383331805945, 0.1214954403050816, 0.07118873455375875, 0.09776586212049534, 0.07570321313826073, 0.10093761751768097, 0.10093761751768097, 0.10093761751768097, 0.10093761751768097, 0.10093761751768097, 0.07570321313826073, 0.15140642627652146, 0.10093761751768097, 0.10093761751768097, 0.10313737339827916, 0.10313737339827916, 0.10313737339827916, 0.10313737339827916, 0.07735303004870937, 0.07735303004870937, 0.10313737339827916, 0.10313737339827916, 0.15470606009741875, 0.10313737339827916, 0.15810521682229017, 0.1043494431027115, 0.0917010257569283, 0.0948631300933741, 0.12648417345783214, 0.08853892142048249, 0.0917010257569283, 0.06956629540180767, 0.08853892142048249, 0.08853892142048249, 0.10935315568183278, 0.09941195971075707, 0.07952956776860566, 0.09278449573003994, 0.08947076373968137, 0.08947076373968137, 0.09278449573003994, 0.08284329975896422, 0.15905913553721132, 0.10935315568183278, 0.10199308589337627, 0.12038528171021462, 0.145465548733176, 0.096977032488784, 0.096977032488784, 0.1053371214964378, 0.10032106809184552, 0.09028896128266096, 0.07022474766429186, 0.07189676546582262, 0.12017761099814223, 0.1735898825528721, 0.08011840733209481, 0.09347147522077728, 0.06676533944341234, 0.06676533944341234, 0.09347147522077728, 0.09347147522077728, 0.13353067888682468, 0.10682454310945975, 0.0806033271001291, 0.12090499065019365, 0.0806033271001291, 0.0806033271001291, 0.12090499065019365, 0.12090499065019365, 0.0806033271001291, 0.0806033271001291, 0.0806033271001291, 0.1612066542002582, 0.10713318150620559, 0.1203188038454309, 0.07252092286573916, 0.10713318150620559, 0.14339364293907517, 0.1021885731289961, 0.12691161501504356, 0.06427990890372336, 0.06757631448852967, 0.0890029507897708, 0.091290748012364, 0.11099795710709655, 0.12374968063898233, 0.10549153103650952, 0.08839262902784452, 0.09882585737211469, 0.10056472876282638, 0.08520469814487307, 0.09882585737211469, 0.0965073621844991, 0.06275004092650126, 0.12550008185300252, 0.06275004092650126, 0.1882501227795038, 0.12550008185300252, 0.12550008185300252, 0.06275004092650126, 0.12550008185300252, 0.12550008185300252, 0.06275004092650126, 0.06274547992029758, 0.06274547992029758, 0.09411821988044637, 0.15686369980074394, 0.09411821988044637, 0.09411821988044637, 0.15686369980074394, 0.09411821988044637, 0.09411821988044637, 0.09411821988044637, 0.10809879725253822, 0.07206586483502549, 0.14413172967005097, 0.10809879725253822, 0.07206586483502549, 0.07206586483502549, 0.10809879725253822, 0.07206586483502549, 0.14413172967005097, 0.07206586483502549, 0.09225730690352404, 0.08456919799489705, 0.07688108908627005, 0.11532163362940506, 0.09994541581215105, 0.09994541581215105, 0.11532163362940506, 0.10763352472077806, 0.1460740692639131, 0.061504871269016034, 0.11016533193719025, 0.08996835441537203, 0.11200142080281009, 0.10465706534033073, 0.08629617668413236, 0.13403448719024813, 0.07711573235603317, 0.08996835441537203, 0.09364053214661171, 0.10282097647471089, 0.12405724704469337, 0.0838696881428913, 0.07163869195538632, 0.06464955127681203, 0.11532082119647552, 0.08736425848217842, 0.11357353602683196, 0.13279367289291122, 0.1048371101786141, 0.10134253983932698, 0.06413142553402904, 0.09619713830104354, 0.08550856737870537, 0.0748199964563672, 0.09619713830104354, 0.11757428014571988, 0.08550856737870537, 0.09619713830104354, 0.13895142199039623, 0.1496399929127344, 0.12044773115706864, 0.0869900280578829, 0.09368156867772005, 0.053532324958697176, 0.1271392717769058, 0.10706464991739435, 0.08029848743804577, 0.1539054342562544, 0.10706464991739435, 0.07360694681820862, 0.24690431124859588, 0.12345215562429794, 0.06172607781214897, 0.06172607781214897, 0.12345215562429794, 0.06172607781214897, 0.06172607781214897, 0.06172607781214897, 0.12345215562429794, 0.06172607781214897, 0.10853868480557105, 0.08683094784445684, 0.06512321088334264, 0.08683094784445684, 0.08683094784445684, 0.06512321088334264, 0.10853868480557105, 0.10853868480557105, 0.08683094784445684, 0.1953696326500279, 0.082598682254519, 0.11701479986056859, 0.10324835281814876, 0.1583141409878281, 0.11013157633935867, 0.07571545873330908, 0.082598682254519, 0.07571545873330908, 0.13078124690298842, 0.06883223521209916, 0.06706741791453483, 0.13413483582906965, 0.13413483582906965, 0.033533708957267414, 0.13413483582906965, 0.10060112687180225, 0.06706741791453483, 0.06706741791453483, 0.10060112687180225, 0.16766854478633708, 0.11727912761084862, 0.11727912761084862, 0.094055537984938, 0.10450615331659778, 0.12540738397991733, 0.06618723043384526, 0.10682851227918884, 0.07779902524680057, 0.10102261487271119, 0.09057199954105141, 0.05803299344334781, 0.0515848830607536, 0.0902735453563188, 0.1031697661215072, 0.12896220765188401, 0.0838254349737246, 0.1676508699474492, 0.10961787650410142, 0.0902735453563188, 0.11606598688669562, 0.12002932951069874, 0.12002932951069874, 0.1800439942660481, 0.12002932951069874, 0.06001466475534937, 0.06001466475534937, 0.06001466475534937, 0.12002932951069874, 0.12002932951069874, 0.12002932951069874, 0.1019247665952918, 0.10054740488454461, 0.1232738731118732, 0.06886808553735932, 0.10054740488454461, 0.12602859653336757, 0.13084936252098273, 0.07575489409109526, 0.08952851119856713, 0.08333038350020479, 0.14266689206338493, 0.0993250514365338, 0.1372491619850285, 0.11196642161936537, 0.06681867096639546, 0.08126595117534584, 0.09210141133205861, 0.10654869154100899, 0.08668368125370222, 0.07584822109698945, 0.10752384599338874, 0.08601907679471099, 0.08601907679471099, 0.06451430759603324, 0.08601907679471099, 0.08601907679471099, 0.15053338439074423, 0.10752384599338874, 0.10752384599338874, 0.10752384599338874, 0.09632750041139816, 0.16054583401899694, 0.08027291700949847, 0.09632750041139816, 0.09632750041139816, 0.12843666721519756, 0.09632750041139816, 0.09632750041139816, 0.08027291700949847, 0.09632750041139816, 0.06651758144393677, 0.09312461402151148, 0.13303516288787354, 0.07982109773272413, 0.10642813031029882, 0.15964219546544825, 0.07982109773272413, 0.09312461402151148, 0.06651758144393677, 0.13303516288787354, 0.1342525583578484, 0.1006894187683863, 0.0671262791789242, 0.1006894187683863, 0.0335631395894621, 0.1006894187683863, 0.1006894187683863, 0.1006894187683863, 0.0671262791789242, 0.1678156979473105, 0.08634189686647863, 0.10792737108309829, 0.1510983195163376, 0.08634189686647863, 0.08634189686647863, 0.10792737108309829, 0.10792737108309829, 0.06475642264985897, 0.08634189686647863, 0.10792737108309829, 0.12023381429931328, 0.08054498239468559, 0.08287961956554604, 0.12840504439732486, 0.14941677893506894, 0.0677044779549531, 0.15058409752049914, 0.0898835310781274, 0.05486397351522062, 0.07704302663839492, 0.12378297718332282, 0.09354161249968856, 0.08152020045153581, 0.08133236588828344, 0.1282910067013801, 0.09617129638522198, 0.06818394646061636, 0.13693139661098988, 0.10124282959303642, 0.08865791385512652, 0.0687310637795401, 0.10902168737444291, 0.07347113714364631, 0.09006139391801807, 0.08532132055391185, 0.08295128387185874, 0.08058124718980564, 0.132722054194974, 0.16827260442577058, 0.10902168737444291, 0.07059119876595844, 0.1411823975319169, 0.16471279712056972, 0.11765199794326407, 0.07059119876595844, 0.07059119876595844, 0.09412159835461126, 0.07059119876595844, 0.09412159835461126, 0.09412159835461126, 0.20351725851062083, 0.08140690340424833, 0.1424620809574346, 0.08140690340424833, 0.1221103551063725, 0.10175862925531041, 0.06105517755318625, 0.06105517755318625, 0.06105517755318625, 0.08140690340424833, 0.09354954510528049, 0.08185585196712043, 0.08185585196712043, 0.10524323824344055, 0.09354954510528049, 0.07016215882896036, 0.14032431765792072, 0.08185585196712043, 0.09354954510528049, 0.1520180107960808, 0.08804209646038814, 0.09871386572831399, 0.08804209646038814, 0.08804209646038814, 0.07737032719246231, 0.16541242365285047, 0.1173894619471842, 0.06936650024151794, 0.11205357731322128, 0.09604592341133253, 0.1247813174454944, 0.09660489092554404, 0.10868050229123706, 0.08452927955985104, 0.13886953070546956, 0.14088213259975174, 0.09056708524269755, 0.04427724167420769, 0.10868050229123706, 0.06037805682846503, 0.09174099099948614, 0.15595968469912644, 0.09174099099948614, 0.08256689189953753, 0.10091509009943475, 0.11008918919938337, 0.11926328829933198, 0.05504459459969169, 0.10091509009943475, 0.08256689189953753, 0.06855104595718144, 0.11242371536977755, 0.095971464340054, 0.17000659397380996, 0.12064984088463933, 0.0712930877954687, 0.10145554801662852, 0.0712930877954687, 0.1288759663995011, 0.057582878604032404, 0.06423747927644115, 0.08029684909555143, 0.09635621891466171, 0.1284749585528823, 0.17665306801021316, 0.09635621891466171, 0.04817810945733086, 0.09635621891466171, 0.08029684909555143, 0.11241558873377201, 0.05980212303579873, 0.05980212303579873, 0.11960424607159746, 0.17940636910739619, 0.05980212303579873, 0.05980212303579873, 0.11960424607159746, 0.17940636910739619, 0.05980212303579873, 0.11960424607159746, 0.11272819785798575, 0.09662416959255922, 0.08052014132713269, 0.11272819785798575, 0.08052014132713269, 0.11272819785798575, 0.16104028265426537, 0.08052014132713269, 0.08052014132713269, 0.06441611306170614, 0.06886286576650011, 0.06886286576650011, 0.06886286576650011, 0.13772573153300022, 0.06886286576650011, 0.06886286576650011, 0.06886286576650011, 0.13772573153300022, 0.06886286576650011, 0.13772573153300022, 0.10190341990376928, 0.12714555143956532, 0.09816384486142912, 0.05328894435334724, 0.10751278246727951, 0.06637745700153778, 0.1308851264819055, 0.1355595952848307, 0.08320554469206849, 0.095359163579674, 0.10963116264119199, 0.10569568500791843, 0.12818412862662448, 0.09557588537950071, 0.13043297298849507, 0.09838694083183896, 0.09388925210809775, 0.060156586680038676, 0.11244221809353024, 0.06577869758471519, 0.10751264034936572, 0.09676137631442916, 0.06450758420961944, 0.075258848244556, 0.10751264034936572, 0.09676137631442916, 0.17202022455898516, 0.1182639043843023, 0.08601011227949258, 0.09676137631442916, 0.11616785166458489, 0.08297703690327493, 0.16595407380654986, 0.0995724442839299, 0.06638162952261994, 0.0995724442839299, 0.06638162952261994, 0.0995724442839299, 0.0995724442839299, 0.0995724442839299, 0.10159072826000491, 0.20318145652000982, 0.15238609239000736, 0.10159072826000491, 0.10159072826000491, 0.10159072826000491, 0.10159072826000491, 0.10159072826000491, 0.10159072826000491, 0.050795364130002456, 0.08843093806419682, 0.07369244838683067, 0.10316942774156294, 0.08843093806419682, 0.10316942774156294, 0.1621233864510275, 0.08843093806419682, 0.07369244838683067, 0.11790791741892909, 0.10316942774156294, 0.12668610229823402, 0.06334305114911701, 0.06334305114911701, 0.190029153447351, 0.06334305114911701, 0.06334305114911701, 0.06334305114911701, 0.06334305114911701, 0.12668610229823402, 0.06334305114911701, 0.1262432479860798, 0.08416216532405321, 0.07364189465854655, 0.11922973420907537, 0.09117567910105764, 0.08065540843555098, 0.07714865154704877, 0.09818919287806208, 0.08766892221255543, 0.1648175737596042, 0.09618260246018098, 0.19236520492036197, 0.09618260246018098, 0.09618260246018098, 0.064121734973454, 0.064121734973454, 0.09618260246018098, 0.128243469946908, 0.064121734973454, 0.09618260246018098, 0.1672657021306725, 0.111510468087115, 0.0758271182992382, 0.0958990025549189, 0.111510468087115, 0.0713666995757536, 0.1092802587253727, 0.0847479557462074, 0.089208374469692, 0.0802875370227228, 0.08025273356016584, 0.09171740978304667, 0.09171740978304667, 0.11464676222880835, 0.09171740978304667, 0.068788057337285, 0.068788057337285, 0.13757611467457, 0.09171740978304667, 0.1719701433432125, 0.10236835224962156, 0.0909940908885525, 0.1516568181475875, 0.12890829542544935, 0.07582840907379375, 0.08341124998117312, 0.06824556816641437, 0.08720267043486281, 0.1175340340643803, 0.0909940908885525, 0.15611698387598208, 0.06853916365287017, 0.10280874547930527, 0.09900101416525693, 0.10280874547930527, 0.1066164767933536, 0.11803967073549865, 0.10280874547930527, 0.0533082383966768, 0.09138555153716024, 0.10885754928747209, 0.07047828511560693, 0.12141803574371886, 0.09350584361872602, 0.11234657330309619, 0.10397291566559834, 0.12351145015309332, 0.09001681960310191, 0.0697804803124821, 0.10676413487809762, 0.18922822294981043, 0.06307607431660348, 0.06307607431660348, 0.12615214863320695, 0.12615214863320695, 0.06307607431660348, 0.12615214863320695, 0.06307607431660348, 0.06307607431660348, 0.12615214863320695, 0.11787365329767856, 0.09429892263814285, 0.07072419197860713, 0.09429892263814285, 0.16502311461674998, 0.09429892263814285, 0.09429892263814285, 0.11787365329767856, 0.07072419197860713, 0.09429892263814285, 0.08180923392559716, 0.08180923392559716, 0.08180923392559716, 0.08180923392559716, 0.12271385088839575, 0.12271385088839575, 0.16361846785119433, 0.08180923392559716, 0.08180923392559716, 0.12271385088839575, 0.12111555449401376, 0.08074370299600918, 0.08074370299600918, 0.09083666587051033, 0.18167333174102065, 0.08074370299600918, 0.09083666587051033, 0.09083666587051033, 0.11102259161951263, 0.08074370299600918, 0.07141890913574765, 0.10712836370362147, 0.07141890913574765, 0.10712836370362147, 0.10712836370362147, 0.10712836370362147, 0.10712836370362147, 0.17854727283936914, 0.07141890913574765, 0.10712836370362147, 0.1431324549386575, 0.08344564174561409, 0.09097892884764869, 0.13907606957602348, 0.07880977275974664, 0.1153172410234528, 0.09619428145674958, 0.08634305986178124, 0.0892404779779484, 0.07707132189004634, 0.09573823494415372, 0.1094151256504614, 0.08889978959099988, 0.07522289888469222, 0.17779957918199976, 0.0547075628252307, 0.08889978959099988, 0.1094151256504614, 0.08206134423784606, 0.11625357100361523, 0.14556493380141078, 0.11424083412262619, 0.11792602232013025, 0.11424083412262619, 0.08475932854259362, 0.0995000813326099, 0.09581489313510583, 0.07370376395008141, 0.0792315462463375, 0.07738895214758548, 0.10865572484889076, 0.11082883934586858, 0.0869245798791126, 0.09018425162457933, 0.14668522854600252, 0.08149179363666807, 0.07497245014573463, 0.08909769437609043, 0.0847514653821348, 0.12604064082471328, 0.15114370471993874, 0.06477587345140232, 0.10795978908567053, 0.08636783126853642, 0.08636783126853642, 0.10795978908567053, 0.08636783126853642, 0.10795978908567053, 0.10795978908567053, 0.06477587345140232, 0.07782755978170565, 0.10135682204129108, 0.0977369355398164, 0.10497670854276576, 0.12307614105013917, 0.09411704903834173, 0.08144744628318033, 0.1411755735575126, 0.09954687879055374, 0.07782755978170565, 0.09934367833102074, 0.09934367833102074, 0.1490155174965311, 0.09934367833102074, 0.09934367833102074, 0.09934367833102074, 0.09934367833102074, 0.09934367833102074, 0.09934367833102074, 0.09934367833102074, 0.11118562687958972, 0.07683559581109858, 0.10576193776351217, 0.09581850771737, 0.10576193776351217, 0.1030500932054734, 0.10124219683344755, 0.09672245590338292, 0.08316323311318906, 0.12112905692573189, 0.16084892014270188, 0.1161686645475069, 0.10723261342846792, 0.08936051119038993, 0.08042446007135094, 0.08936051119038993, 0.06255235783327295, 0.1161686645475069, 0.08936051119038993, 0.08936051119038993, 0.10268523912023028, 0.10268523912023028, 0.05134261956011514, 0.20537047824046056, 0.05134261956011514, 0.05134261956011514, 0.10268523912023028, 0.10268523912023028, 0.05134261956011514, 0.10268523912023028, 0.09959632243015461, 0.09284402938404243, 0.07933944329181808, 0.10803668873779483, 0.07933944329181808, 0.14011008070682768, 0.10803668873779483, 0.1181651283069631, 0.0877798095994583, 0.0877798095994583, 0.09723042620687763, 0.12153803275859705, 0.07292281965515823, 0.12153803275859705, 0.17015324586203587, 0.09723042620687763, 0.07292281965515823, 0.09723042620687763, 0.04861521310343882, 0.09723042620687763, 0.09111407125498963, 0.08595667099527324, 0.13237327333272078, 0.08337797086541504, 0.12119890610333527, 0.11174367229385522, 0.06876533679621859, 0.13151370662276807, 0.073922737055935, 0.09970973835451696, 0.11030666052572348, 0.08535634445442888, 0.10111443881524652, 0.12606475488654112, 0.0892958680446333, 0.08404316992436076, 0.13263062753688182, 0.06697190103347497, 0.09323539163483771, 0.10899348599565535, 0.10121767299910228, 0.08675800542780196, 0.07229833785650162, 0.07229833785650162, 0.1373668419273531, 0.10121767299910228, 0.09398783921345212, 0.08675800542780196, 0.09398783921345212, 0.15182650949865342, 0.0709588180107946, 0.1773970450269865, 0.0709588180107946, 0.1064382270161919, 0.0709588180107946, 0.0709588180107946, 0.1064382270161919, 0.1064382270161919, 0.1064382270161919, 0.1064382270161919, 0.10544396126716503, 0.10118359919576442, 0.10544396126716503, 0.1128995948921161, 0.07668651728521093, 0.08414215091016199, 0.0862723319458623, 0.13207122421341883, 0.09585814660651366, 0.10011850867791428, 0.07779298197558925, 0.07779298197558925, 0.1555859639511785, 0.07779298197558925, 0.07779298197558925, 0.07779298197558925, 0.07779298197558925, 0.11668947296338388, 0.11668947296338388, 0.07779298197558925, 0.0937743938431063, 0.0937743938431063, 0.08037805186551969, 0.0937743938431063, 0.12056707779827953, 0.14735976175345275, 0.08037805186551969, 0.08037805186551969, 0.10717073582069292, 0.10717073582069292, 0.08936563744974646, 0.06499319087254288, 0.12592430731555182, 0.10155186073834824, 0.08936563744974646, 0.07717941416114467, 0.11780015845648396, 0.16248297718135718, 0.07717941416114467, 0.09342771187928038, 0.08144397000397288, 0.10859196000529717, 0.09001701947807529, 0.09001701947807529, 0.1071631184262801, 0.11287848474234838, 0.09859006895217769, 0.0757286036879046, 0.16717446474499695, 0.06858439579281926, 0.1152760336834512, 0.11413468681529822, 0.07418754642994384, 0.13011354296943997, 0.10956929934268629, 0.10956929934268629, 0.08788370884777963, 0.08217697450701472, 0.09016640258408559, 0.08560101511147367, 0.08494020160371778, 0.08494020160371778, 0.08494020160371778, 0.11325360213829037, 0.11325360213829037, 0.11325360213829037, 0.16988040320743555, 0.08494020160371778, 0.08494020160371778, 0.08494020160371778, 0.07805846673730593, 0.15611693347461186, 0.10407795564974125, 0.07805846673730593, 0.07805846673730593, 0.07805846673730593, 0.13009744456217656, 0.10407795564974125, 0.10407795564974125, 0.10407795564974125, 0.09262585244519139, 0.12350113659358852, 0.15437642074198565, 0.09262585244519139, 0.12350113659358852, 0.09262585244519139, 0.06175056829679426, 0.12350113659358852, 0.06175056829679426, 0.06175056829679426, 0.07256017776281089, 0.10884026664421632, 0.10884026664421632, 0.15721371848609025, 0.09674690368374785, 0.08465354072327937, 0.10884026664421632, 0.09674690368374785, 0.07256017776281089, 0.08465354072327937, 0.08860402085603589, 0.08417381981323409, 0.07974361877043229, 0.13290603128405382, 0.1461966344124592, 0.08417381981323409, 0.10189462398444127, 0.09746442294163947, 0.08860402085603589, 0.09303422189883767, 0.09550832511449611, 0.13644046444928015, 0.06822023222464008, 0.0818642786695681, 0.0818642786695681, 0.09550832511449611, 0.0818642786695681, 0.12279641800435215, 0.0818642786695681, 0.1637285573391362, 0.10145590309446052, 0.05072795154723026, 0.10145590309446052, 0.10145590309446052, 0.10145590309446052, 0.10145590309446052, 0.10145590309446052, 0.1521838546416908, 0.10145590309446052, 0.10145590309446052, 0.09603464041624879, 0.09219325479959883, 0.08066909794964898, 0.09603464041624879, 0.08066909794964898, 0.16902096713259787, 0.1114001828828486, 0.07682771233299904, 0.08835186918294889, 0.1114001828828486, 0.0966034863497318, 0.09098700458521251, 0.11345293164328966, 0.08986370823230865, 0.0966034863497318, 0.13816545140717454, 0.10558985717296267, 0.08537052282069321, 0.09548018999682793, 0.08761711552650094, 0.13222928335095382, 0.09917196251321536, 0.06611464167547691, 0.16528660418869226, 0.09917196251321536, 0.09917196251321536, 0.06611464167547691, 0.09917196251321536, 0.09917196251321536, 0.09917196251321536, 0.061668773135850424, 0.08409378154888694, 0.08409378154888694, 0.12894379837495998, 0.0953062857554052, 0.08970003365214607, 0.10651878996192346, 0.0953062857554052, 0.14576255468473737, 0.11212504206518259, 0.07955820419303936, 0.13259700698839894, 0.10607760559071915, 0.1591164083860787, 0.05303880279535957, 0.07955820419303936, 0.10607760559071915, 0.10607760559071915, 0.10607760559071915, 0.07955820419303936, 0.08211638137323786, 0.10036446612284627, 0.08211638137323786, 0.09124042374804207, 0.15510872037167153, 0.10036446612284627, 0.10036446612284627, 0.11861255087245469, 0.09124042374804207, 0.08211638137323786, 0.09968101134901096, 0.11961721361881314, 0.07974480907920876, 0.05980860680940657, 0.09968101134901096, 0.15948961815841753, 0.05980860680940657, 0.09968101134901096, 0.11961721361881314, 0.09968101134901096, 0.07460021634698864, 0.10520543330985578, 0.08990282482842221, 0.13581065027272293, 0.08225152058770543, 0.10137978118949739, 0.12242086785146855, 0.06694891210627187, 0.11859521573111015, 0.09946695512931819, 0.09849253280768146, 0.13788954593075403, 0.07879402624614516, 0.17728655905382662, 0.11819103936921775, 0.059095519684608876, 0.07879402624614516, 0.09849253280768146, 0.09849253280768146, 0.03939701312307258, 0.13144495190923616, 0.0788669711455417, 0.0788669711455417, 0.0788669711455417, 0.1577339422910834, 0.0788669711455417, 0.10515596152738894, 0.10515596152738894, 0.0788669711455417, 0.10515596152738894, 0.07012537539479648, 0.10798066653712024, 0.1054983523638531, 0.11853050177350555, 0.10487777382053633, 0.0949485171274678, 0.0875015746076664, 0.10673950945048667, 0.1054983523638531, 0.09805140984405171, 0.08923399309608601, 0.06692549482206452, 0.11154249137010752, 0.15058236334964514, 0.10596536680160214, 0.10596536680160214, 0.12827386507562366, 0.07807974395907527, 0.07250261939056989, 0.07807974395907527, 0.09699625606232486, 0.10457408856719398, 0.11518305407401076, 0.09699625606232486, 0.07880945805063894, 0.09548068956135103, 0.09548068956135103, 0.11063635457108928, 0.1409476845905658, 0.06516935954187451, 0.0840502360636835, 0.0693414447525389, 0.09245525967005186, 0.12397409819393317, 0.10506279507960438, 0.1008602832764202, 0.14708791311144612, 0.09245525967005186, 0.07564521245731515, 0.10926530688278856, 0.10842737541674656, 0.0722849169444977, 0.09035614618062213, 0.16264106312511983, 0.10842737541674656, 0.09035614618062213, 0.0722849169444977, 0.1445698338889954, 0.05421368770837328, 0.0722849169444977, 0.11084972667037085, 0.08313729500277814, 0.08313729500277814, 0.08313729500277814, 0.06466234055771633, 0.07389981778024723, 0.15703711278302537, 0.11084972667037085, 0.12932468111543266, 0.08313729500277814, 0.08530308853937119, 0.10035657475220139, 0.14551703339069202, 0.09032091727698126, 0.11039223222742153, 0.08530308853937119, 0.08530308853937119, 0.10035657475220139, 0.09032091727698126, 0.10537440348981146, 0.12827394058973718, 0.12827394058973718, 0.12827394058973718, 0.09620545544230288, 0.06413697029486859, 0.09620545544230288, 0.06413697029486859, 0.09620545544230288, 0.16034242573717147, 0.06413697029486859, 0.10953653678324851, 0.07824038341660608, 0.07824038341660608, 0.10953653678324851, 0.0938884600999273, 0.12518461346656973, 0.07824038341660608, 0.10953653678324851, 0.15648076683321216, 0.07824038341660608, 0.08566618315115497, 0.08566618315115497, 0.08566618315115497, 0.08566618315115497, 0.08566618315115497, 0.12849927472673245, 0.08566618315115497, 0.12849927472673245, 0.17133236630230994, 0.08566618315115497, 0.13268800301172015, 0.061125933971691304, 0.13119712657338622, 0.11181573287504508, 0.07901645123169852, 0.07901645123169852, 0.0954160920533718, 0.11777923862838081, 0.09094346273836999, 0.10287047424504146, 0.11596292924772464, 0.09542782719344008, 0.11233908770873324, 0.12562650668503503, 0.0773086194984831, 0.09542782719344008, 0.10750729899007806, 0.08214040821713829, 0.11596292924772464, 0.0724768307798279, 0.09564449803875823, 0.10930799775858083, 0.10930799775858083, 0.10930799775858083, 0.08198099831893563, 0.09564449803875823, 0.06831749859911301, 0.16396199663787125, 0.09564449803875823, 0.09564449803875823, 0.06519906381238616, 0.09388665188983608, 0.11475035230979964, 0.09910257699482697, 0.10431850209981786, 0.1121423897573042, 0.10692646465231331, 0.13822201528225866, 0.06259110125989072, 0.09910257699482697, 0.11645139360582507, 0.1746770904087376, 0.058225696802912535, 0.11645139360582507, 0.058225696802912535, 0.11645139360582507, 0.058225696802912535, 0.11645139360582507, 0.11645139360582507, 0.11645139360582507, 0.16290868218174806, 0.08145434109087403, 0.09890884275320418, 0.08145434109087403, 0.08727250831165075, 0.06399983942854388, 0.12218151163631104, 0.10472700997398089, 0.09309067553242746, 0.10472700997398089, 0.0984268086677953, 0.11951826766803714, 0.07733534966755344, 0.08436583600096739, 0.16170118566852085, 0.11248778133462319, 0.0984268086677953, 0.10545729500120925, 0.07030486333413949, 0.08436583600096739, 0.09539329381348392, 0.09539329381348392, 0.09539329381348392, 0.09539329381348392, 0.09539329381348392, 0.19078658762696785, 0.09539329381348392, 0.09539329381348392, 0.09539329381348392, 0.09539329381348392, 0.15532142988373016, 0.08662156666592644, 0.10753022068873626, 0.09408894310264422, 0.08512809137858288, 0.08662156666592644, 0.0806476655165522, 0.07616723965452152, 0.1314258252862332, 0.09707589367733134, 0.11579956894422994, 0.05789978447211497, 0.08684967670817245, 0.15922440729831616, 0.08684967670817245, 0.08684967670817245, 0.1013246228262012, 0.08684967670817245, 0.1013246228262012, 0.1013246228262012, 0.09944994539619734, 0.09116244994651422, 0.10462963005224928, 0.11395306243314278, 0.09012651301530383, 0.074587459047148, 0.05697653121657139, 0.09012651301530383, 0.13363586412614017, 0.14399523343824405, 0.0909732996709924, 0.10461929462164125, 0.08187596970389314, 0.09703818631572522, 0.16071949608541988, 0.06368130976969467, 0.1167490679111069, 0.08187596970389314, 0.10916795960519086, 0.0924895213321756, 0.08692319715163505, 0.1448719952527251, 0.13038479572745257, 0.057948798101090035, 0.10141039667690756, 0.07243599762636255, 0.10141039667690756, 0.1593591947779976, 0.057948798101090035, 0.10141039667690756, 0.09839602330401498, 0.10271163836120863, 0.11479536052135081, 0.09149103921250516, 0.10702725341840226, 0.12428971364717682, 0.10271163836120863, 0.0958066542696988, 0.08113356307524043, 0.0802704400638017, 0.10156486756016456, 0.09961169703016139, 0.09570535597015506, 0.1367219371002215, 0.12109657286019619, 0.060548286430098096, 0.06445462749010443, 0.09179901491014873, 0.0878926738501424, 0.13867510763022467, 0.06362441770710146, 0.09543662656065219, 0.06362441770710146, 0.15906104426775364, 0.06362441770710146, 0.09543662656065219, 0.12724883541420293, 0.09543662656065219, 0.12724883541420293, 0.09543662656065219, 0.07957033721886121, 0.11935550582829181, 0.07957033721886121, 0.11935550582829181, 0.15914067443772242, 0.11935550582829181, 0.11935550582829181, 0.07957033721886121, 0.07957033721886121, 0.07957033721886121, 0.1145302264807389, 0.08589766986055418, 0.08589766986055418, 0.08589766986055418, 0.08589766986055418, 0.17179533972110836, 0.1145302264807389, 0.08589766986055418, 0.05726511324036945, 0.08589766986055418, 0.080304118570501, 0.080304118570501, 0.080304118570501, 0.05353607904700067, 0.10707215809400134, 0.13384019761750166, 0.10707215809400134, 0.160608237141002, 0.13384019761750166, 0.05353607904700067, 0.08347030129109746, 0.20867575322774365, 0.06260272596832309, 0.12520545193664617, 0.14607302725942056, 0.06260272596832309, 0.04173515064554873, 0.10433787661387182, 0.06260272596832309, 0.10433787661387182, 0.0962585449375799, 0.0962585449375799, 0.0962585449375799, 0.0962585449375799, 0.0962585449375799, 0.14438781740636986, 0.0962585449375799, 0.14438781740636986, 0.14438781740636986, 0.0962585449375799, 0.10900129372392635, 0.10638526267455212, 0.08545701427955826, 0.10115320057580365, 0.061912734835190164, 0.12644150071975457, 0.1133613454728834, 0.08284098323018403, 0.08371299357997544, 0.12992954211892022, 0.1137064205119614, 0.08777337723730355, 0.16756735654394314, 0.0957527751679675, 0.10772187206396344, 0.08777337723730355, 0.08777337723730355, 0.0977476246506335, 0.06782488241064365, 0.08378367827197157, 0.10942416678357861, 0.1361129879503051, 0.07472869926683418, 0.09074199196687006, 0.08006646350017947, 0.10141752043356066, 0.06672205291681622, 0.06405317080014357, 0.13878187006697776, 0.13344410583363245, 0.12307771780846599, 0.0996343429878058, 0.06056205162003882, 0.10679759640522975, 0.09768072841941745, 0.13545061007492554, 0.10549518669297084, 0.06186446133229772, 0.12242651295233653, 0.08726145072134625, 0.08050704753732774, 0.08050704753732774, 0.1288112760597244, 0.08050704753732774, 0.09660845704479329, 0.11270986655225884, 0.16101409507465547, 0.08050704753732774, 0.08050704753732774, 0.09660845704479329, 0.0976691802151978, 0.06511278681013186, 0.0976691802151978, 0.0976691802151978, 0.0976691802151978, 0.0976691802151978, 0.0976691802151978, 0.06511278681013186, 0.0976691802151978, 0.16278196702532965, 0.11765984035746475, 0.17413656372904784, 0.05647672337158308, 0.06588951060018026, 0.08000869144307604, 0.13648541481465912, 0.07059590421447885, 0.11765984035746475, 0.11295344674316617, 0.07059590421447885, 0.08561604547878296, 0.09631805116363083, 0.06421203410908723, 0.08561604547878296, 0.14982807958787017, 0.08561604547878296, 0.09631805116363083, 0.08561604547878296, 0.12842406821817445, 0.1070200568484787, 0.09629132200928413, 0.19258264401856826, 0.048145661004642064, 0.09629132200928413, 0.048145661004642064, 0.09629132200928413, 0.09629132200928413, 0.09629132200928413, 0.09629132200928413, 0.09629132200928413, 0.08441516957155182, 0.06519191313446576, 0.10698160104117457, 0.10865318855744294, 0.15044287646415175, 0.06853508816700246, 0.10113104473423534, 0.10196683849236952, 0.10698160104117457, 0.10531001352490622, 0.09790532376833043, 0.08851714203712066, 0.14149331037751864, 0.10192883022456319, 0.06705844093721262, 0.10326999904330743, 0.10192883022456319, 0.07376428503093388, 0.13948155714940225, 0.08583480439963215, 0.12474440652179104, 0.12033893491600288, 0.08161715817039117, 0.11848399950303945, 0.07442928344515785, 0.11291919326414913, 0.07999408968404816, 0.10132584693312767, 0.09344237142803306, 0.0929786375747922, 0.062341001261937874, 0.062341001261937874, 0.12468200252387575, 0.062341001261937874, 0.12468200252387575, 0.062341001261937874, 0.062341001261937874, 0.12468200252387575, 0.12468200252387575, 0.18702300378581363, 0.08912774390856533, 0.08170043191618488, 0.12626430387046755, 0.09655505590094576, 0.08170043191618488, 0.1708281758247502, 0.11140967988570666, 0.07427311992380443, 0.05941849593904355, 0.10398236789332621, 0.10572725430093811, 0.10572725430093811, 0.09911930090712949, 0.09251134751332085, 0.15859088145140718, 0.07929544072570359, 0.07929544072570359, 0.07268748733189495, 0.09911930090712949, 0.09911930090712949, 0.0896514644336682, 0.11206433054208526, 0.0448257322168341, 0.11206433054208526, 0.0896514644336682, 0.06723859832525116, 0.1793029288673364, 0.06723859832525116, 0.0896514644336682, 0.1344771966505023, 0.09625183180046505, 0.07218887385034879, 0.09625183180046505, 0.09625183180046505, 0.09625183180046505, 0.09625183180046505, 0.09625183180046505, 0.1925036636009301, 0.07218887385034879, 0.09625183180046505, 0.1540229180356246, 0.10451555152417384, 0.0825122775190846, 0.09351391452162923, 0.08801309602035692, 0.11001637002544615, 0.11551718852671845, 0.09901473302290154, 0.055008185012723074, 0.09901473302290154, 0.08923003386484413, 0.12492204741078178, 0.17846006772968825, 0.08923003386484413, 0.08923003386484413, 0.10707604063781295, 0.0713840270918753, 0.10707604063781295, 0.08923003386484413, 0.0713840270918753, 0.07129329364548401, 0.14258658729096801, 0.07129329364548401, 0.11882215607580668, 0.11882215607580668, 0.07129329364548401, 0.09505772486064534, 0.11882215607580668, 0.14258658729096801, 0.07129329364548401, 0.10297875083161469, 0.10886325087913552, 0.08238300066529175, 0.091209750736573, 0.08532525068905217, 0.14417025116426058, 0.08532525068905217, 0.0735562505940105, 0.12357450099793763, 0.10297875083161469, 0.1546982044848109, 0.12032082571040847, 0.08594344693600606, 0.08594344693600606, 0.06875475754880485, 0.12032082571040847, 0.08594344693600606, 0.10313213632320727, 0.06875475754880485, 0.08594344693600606, 0.08372335480802971, 0.11046831537170587, 0.1360504515630483, 0.11473200473692961, 0.073257935457026, 0.08372335480802971, 0.09806485540014592, 0.0883746522973647, 0.09573920665547843, 0.1155072209851521, 0.07164648875515882, 0.21493946626547647, 0.07164648875515882, 0.07164648875515882, 0.10746973313273823, 0.10746973313273823, 0.10746973313273823, 0.07164648875515882, 0.07164648875515882, 0.10746973313273823, 0.11474064119792328, 0.08692472818024491, 0.07301677167140572, 0.11474064119792328, 0.06953978254419592, 0.07649376079861551, 0.14255655421560165, 0.12169461945234286, 0.11126365207071348, 0.09040171730745471, 0.0795333966174104, 0.10604452882321388, 0.09278896272031215, 0.09278896272031215, 0.0795333966174104, 0.14581122713191907, 0.09278896272031215, 0.09278896272031215, 0.09278896272031215, 0.11930009492611561, 0.08182704440045986, 0.16365408880091972, 0.06546163552036789, 0.06546163552036789, 0.09819245328055184, 0.08182704440045986, 0.06546163552036789, 0.13092327104073578, 0.08182704440045986, 0.1963849065611037, 0.08416801442814964, 0.08416801442814964, 0.12625202164222446, 0.08416801442814964, 0.16833602885629928, 0.08416801442814964, 0.12625202164222446, 0.08416801442814964, 0.12625202164222446, 0.08416801442814964, 0.06339095645050088, 0.12678191290100177, 0.09508643467575133, 0.09508643467575133, 0.06339095645050088, 0.09508643467575133, 0.06339095645050088, 0.09508643467575133, 0.09508643467575133, 0.19017286935150265, 0.11041711040412208, 0.11041711040412208, 0.09879425667737239, 0.075548549223873, 0.1627199521744957, 0.075548549223873, 0.06973712236049816, 0.10460568354074723, 0.08135997608724785, 0.10460568354074723, 0.07271242403513, 0.07271242403513, 0.07271242403513, 0.109068636052695, 0.109068636052695, 0.109068636052695, 0.07271242403513, 0.14542484807026, 0.109068636052695, 0.109068636052695, 0.09428364878508329, 0.10967689756632137, 0.0788904000038452, 0.08851118049211901, 0.13276677073817852, 0.09235949268742853, 0.09813196098039281, 0.08081455610149997, 0.09235949268742853, 0.13276677073817852, 0.08154346424240035, 0.11778500390568938, 0.10872461898986711, 0.10872461898986711, 0.07248307932657808, 0.1630869284848007, 0.12684538882151164, 0.0906038491582226, 0.06342269441075582, 0.06342269441075582, 0.11122663078693205, 0.143940345724265, 0.11231708795150983, 0.11667891660982088, 0.07415108719128803, 0.09159840182453229, 0.08287474450791016, 0.06760834420382145, 0.12104074526813194, 0.07742245868502133, 0.07665685209434027, 0.09920298506326387, 0.15331370418868054, 0.09469375846947915, 0.09920298506326387, 0.06763839890677083, 0.13076757121975693, 0.09018453187569443, 0.09469375846947915, 0.09469375846947915, 0.11425479740124188, 0.0856910980509314, 0.0856910980509314, 0.0856910980509314, 0.05712739870062094, 0.0856910980509314, 0.19994589545217328, 0.0856910980509314, 0.11425479740124188, 0.0856910980509314, 0.06879402653203011, 0.10264505546048937, 0.1081048988360473, 0.11028883618627049, 0.09718521208493142, 0.0895414313591503, 0.08189765063336918, 0.11028883618627049, 0.13103624101339068, 0.10046111811026619, 0.09025049521340897, 0.1123764230721802, 0.08792145017564358, 0.0762762249868166, 0.11121190055329751, 0.0809343150623474, 0.0943263240294984, 0.09956667536447054, 0.11761677440715233, 0.130426522114862, 0.057609476809416305, 0.1728284304282489, 0.11521895361883261, 0.08641421521412446, 0.08641421521412446, 0.11521895361883261, 0.08641421521412446, 0.14402369202354076, 0.08641421521412446, 0.08641421521412446, 0.05906307061629803, 0.10921096076221144, 0.10586776808581722, 0.10141017785062491, 0.08469421446865377, 0.10809656320341336, 0.1660452362609133, 0.07132144376307686, 0.06797825108668264, 0.12704132170298066, 0.12023769389078388, 0.18035654083617583, 0.06011884694539194, 0.12023769389078388, 0.06011884694539194, 0.12023769389078388, 0.06011884694539194, 0.12023769389078388, 0.12023769389078388, 0.06011884694539194, 0.059151758358142265, 0.0887276375372134, 0.11830351671628453, 0.11830351671628453, 0.059151758358142265, 0.059151758358142265, 0.0887276375372134, 0.0887276375372134, 0.14787939589535565, 0.11830351671628453, 0.12847387578012132, 0.06177679984320727, 0.09075175906170271, 0.08747157499923153, 0.12300690234266934, 0.1126196528115106, 0.10387249531158745, 0.1098861660927846, 0.07927111484305358, 0.10277910062409705, 0.09468142358058619, 0.09468142358058619, 0.09468142358058619, 0.09468142358058619, 0.11138991009480728, 0.06683394605688436, 0.0779729370663651, 0.09468142358058619, 0.11695940559954765, 0.15037637862798983, 0.09212651690915408, 0.11055182029098488, 0.05527591014549244, 0.07370121352732326, 0.07370121352732326, 0.1289771236728157, 0.09212651690915408, 0.11055182029098488, 0.16582773043647733, 0.09212651690915408, 0.10220121941269386, 0.08431600601547244, 0.09027774381454624, 0.14478506083464965, 0.06983749993200747, 0.06898582310356836, 0.12264146329523264, 0.09283277429986359, 0.14478506083464965, 0.07920594504483774, 0.08632848901117554, 0.09693023327570587, 0.08329941922130973, 0.10753197754023619, 0.09238662859090715, 0.0757267447466452, 0.10450290775037038, 0.12722093117436395, 0.09541569838077296, 0.13176453585916267, 0.16769110289602743, 0.11179406859735161, 0.11179406859735161, 0.055897034298675805, 0.055897034298675805, 0.055897034298675805, 0.11179406859735161, 0.11179406859735161, 0.11179406859735161, 0.055897034298675805, 0.10342198528009898, 0.07521598929461744, 0.11752498327283975, 0.15513297792014846, 0.10812298461101257, 0.12222598260375334, 0.0940199866182718, 0.07521598929461744, 0.07051498996370385, 0.07991698862553102, 0.1171936563177778, 0.0849654008303889, 0.12012349772572224, 0.06152666956683334, 0.10547429068600002, 0.09961460787011113, 0.09375492505422224, 0.1494219118051667, 0.10254444927805557, 0.06738635238272224, 0.09015010689832452, 0.07762925871800168, 0.09515844617045366, 0.08263759799013082, 0.10517512471471195, 0.1502501781638742, 0.10767929435077651, 0.12771265143929308, 0.07762925871800168, 0.08764593726225996, 0.09004354149313135, 0.11567637447292786, 0.0933298021315668, 0.09135804574850552, 0.09464430638694098, 0.11501912234524077, 0.12947866915435674, 0.09070079362081844, 0.11699087872830204, 0.06243895213027356, 0.10333981577688583, 0.08857698495161642, 0.07381415412634702, 0.10333981577688583, 0.08857698495161642, 0.14762830825269405, 0.09595840036425113, 0.10333981577688583, 0.07381415412634702, 0.11810264660215523, 0.13380294310125745, 0.061518594529313776, 0.07382231343517653, 0.09996771611013489, 0.0968917863836692, 0.10458161069983342, 0.11380939987923049, 0.08458806747780644, 0.09842975124690204, 0.1322649782380246, 0.07552990168813105, 0.10070653558417474, 0.06713769038944982, 0.09231432428549351, 0.13427538077889964, 0.1174909581815372, 0.06713769038944982, 0.1510598033762621, 0.13427538077889964, 0.0587454790907686, 0.08297709900488061, 0.097794438112895, 0.14520992325854104, 0.08001363118327773, 0.14520992325854104, 0.10372137375610076, 0.09483097029129212, 0.097794438112895, 0.07408669554007197, 0.07705016336167485, 0.07604369322958893, 0.11060900833394752, 0.10863384747084132, 0.09382014099754478, 0.11060900833394752, 0.15998802991160266, 0.1046835257446289, 0.07406853236648271, 0.08493191711356685, 0.07604369322958893, 0.1004591648609231, 0.06954865259602368, 0.14682493325827223, 0.09659535082781068, 0.10818679292714796, 0.11205060696026038, 0.0850039087284734, 0.06568483856291125, 0.10818679292714796, 0.10818679292714796, 0.1384429366580355, 0.09229529110535702, 0.09229529110535702, 0.09229529110535702, 0.09229529110535702, 0.09229529110535702, 0.04614764555267851, 0.1384429366580355, 0.09229529110535702, 0.09229529110535702, 0.08011040738500208, 0.12324678059231091, 0.08627274641461763, 0.09243508544423318, 0.067785729325771, 0.15405847574038864, 0.08011040738500208, 0.09243508544423318, 0.11708444156269536, 0.09859742447384873, 0.06491725227391523, 0.16229313068478807, 0.11360519147935165, 0.048687939205436424, 0.12983450454783046, 0.09737587841087285, 0.06491725227391523, 0.08114656534239403, 0.11360519147935165, 0.12983450454783046], \"Term\": [\"able\", \"able\", \"able\", \"able\", \"able\", \"able\", \"able\", \"able\", \"able\", \"able\", \"accessory\", \"accessory\", \"accessory\", \"accessory\", \"accessory\", \"accessory\", \"accessory\", \"accessory\", \"accessory\", \"accessory\", \"accurate\", \"accurate\", \"accurate\", \"accurate\", \"accurate\", \"accurate\", \"accurate\", \"accurate\", \"accurate\", \"accurate\", \"add\", \"add\", \"add\", \"add\", \"add\", \"add\", \"add\", \"add\", \"add\", \"add\", \"aged\", \"aged\", \"aged\", \"aged\", \"aged\", \"aged\", \"aged\", \"aged\", \"aged\", \"aged\", \"airline\", \"airline\", \"airline\", \"airline\", \"airline\", \"airline\", \"airline\", \"airline\", \"airline\", \"airline\", \"almond\", \"almond\", \"almond\", \"almond\", \"almond\", \"almond\", \"almond\", \"almond\", \"almond\", \"almond\", \"alright\", \"alright\", \"alright\", \"alright\", \"alright\", \"alright\", \"alright\", \"alright\", \"alright\", \"alright\", \"amazing\", \"amazing\", \"amazing\", \"amazing\", \"amazing\", \"amazing\", \"amazing\", \"amazing\", \"amazing\", \"amazing\", \"america\", \"america\", \"america\", \"america\", \"america\", \"america\", \"america\", \"america\", \"america\", \"america\", \"answer\", \"answer\", \"answer\", \"answer\", \"answer\", \"answer\", \"answer\", \"answer\", \"answer\", \"answer\", \"app\", \"app\", \"app\", \"app\", \"app\", \"app\", \"app\", \"app\", \"app\", \"app\", \"appeal\", \"appeal\", \"appeal\", \"appeal\", \"appeal\", \"appeal\", \"appeal\", \"appeal\", \"appeal\", \"appeal\", \"appear\", \"appear\", \"appear\", \"appear\", \"appear\", \"appear\", \"appear\", \"appear\", \"appear\", \"appear\", \"area\", \"area\", \"area\", \"area\", \"area\", \"area\", \"area\", \"area\", \"area\", \"area\", \"arrange\", \"arrange\", \"arrange\", \"arrange\", \"arrange\", \"arrange\", \"arrange\", \"arrange\", \"arrange\", \"arrange\", \"arrangement\", \"arrangement\", \"arrangement\", \"arrangement\", \"arrangement\", \"arrangement\", \"arrangement\", \"arrangement\", \"arrangement\", \"arrangement\", \"asada\", \"asada\", \"asada\", \"asada\", \"asada\", \"asada\", \"asada\", \"asada\", \"asada\", \"asada\", \"ask\", \"ask\", \"ask\", \"ask\", \"ask\", \"ask\", \"ask\", \"ask\", \"ask\", \"ask\", \"atmosphere\", \"atmosphere\", \"atmosphere\", \"atmosphere\", \"atmosphere\", \"atmosphere\", \"atmosphere\", \"atmosphere\", \"atmosphere\", \"atmosphere\", \"attitude\", \"attitude\", \"attitude\", \"attitude\", \"attitude\", \"attitude\", \"attitude\", \"attitude\", \"attitude\", \"attitude\", \"au\", \"au\", \"au\", \"au\", \"au\", \"au\", \"au\", \"au\", \"au\", \"au\", \"available\", \"available\", \"available\", \"available\", \"available\", \"available\", \"available\", \"available\", \"available\", \"available\", \"bad\", \"bad\", \"bad\", \"bad\", \"bad\", \"bad\", \"bad\", \"bad\", \"bad\", \"bad\", \"bank\", \"bank\", \"bank\", \"bank\", \"bank\", \"bank\", \"bank\", \"bank\", \"bank\", \"bank\", \"bar\", \"bar\", \"bar\", \"bar\", \"bar\", \"bar\", \"bar\", \"bar\", \"bar\", \"bar\", \"battery\", \"battery\", \"battery\", \"battery\", \"battery\", \"battery\", \"battery\", \"battery\", \"battery\", \"battery\", \"beach\", \"beach\", \"beach\", \"beach\", \"beach\", \"beach\", \"beach\", \"beach\", \"beach\", \"beach\", \"bean\", \"bean\", \"bean\", \"bean\", \"bean\", \"bean\", \"bean\", \"bean\", \"bean\", \"bean\", \"bear\", \"bear\", \"bear\", \"bear\", \"bear\", \"bear\", \"bear\", \"bear\", \"bear\", \"bear\", \"beer\", \"beer\", \"beer\", \"beer\", \"beer\", \"beer\", \"beer\", \"beer\", \"beer\", \"beer\", \"big\", \"big\", \"big\", \"big\", \"big\", \"big\", \"big\", \"big\", \"big\", \"big\", \"bit\", \"bit\", \"bit\", \"bit\", \"bit\", \"bit\", \"bit\", \"bit\", \"bit\", \"bit\", \"blt\", \"blt\", \"blt\", \"blt\", \"blt\", \"blt\", \"blt\", \"blt\", \"blt\", \"blt\", \"board\", \"board\", \"board\", \"board\", \"board\", \"board\", \"board\", \"board\", \"board\", \"board\", \"bob\", \"bob\", \"bob\", \"bob\", \"bob\", \"bob\", \"bob\", \"bob\", \"bob\", \"bob\", \"boba\", \"boba\", \"boba\", \"boba\", \"boba\", \"boba\", \"boba\", \"boba\", \"boba\", \"boba\", \"bomb\", \"bomb\", \"bomb\", \"bomb\", \"bomb\", \"bomb\", \"bomb\", \"bomb\", \"bomb\", \"bomb\", \"bon\", \"bon\", \"bon\", \"bon\", \"bon\", \"bon\", \"bon\", \"bon\", \"bon\", \"bon\", \"book\", \"book\", \"book\", \"book\", \"book\", \"book\", \"book\", \"book\", \"book\", \"book\", \"bowl\", \"bowl\", \"bowl\", \"bowl\", \"bowl\", \"bowl\", \"bowl\", \"bowl\", \"bowl\", \"bowl\", \"bread\", \"bread\", \"bread\", \"bread\", \"bread\", \"bread\", \"bread\", \"bread\", \"bread\", \"bread\", \"break\", \"break\", \"break\", \"break\", \"break\", \"break\", \"break\", \"break\", \"break\", \"break\", \"breakfast\", \"breakfast\", \"breakfast\", \"breakfast\", \"breakfast\", \"breakfast\", \"breakfast\", \"breakfast\", \"breakfast\", \"breakfast\", \"bright\", \"bright\", \"bright\", \"bright\", \"bright\", \"bright\", \"bright\", \"bright\", \"bright\", \"bright\", \"bring\", \"bring\", \"bring\", \"bring\", \"bring\", \"bring\", \"bring\", \"bring\", \"bring\", \"bring\", \"buffalo\", \"buffalo\", \"buffalo\", \"buffalo\", \"buffalo\", \"buffalo\", \"buffalo\", \"buffalo\", \"buffalo\", \"buffalo\", \"buffet\", \"buffet\", \"buffet\", \"buffet\", \"buffet\", \"buffet\", \"buffet\", \"buffet\", \"buffet\", \"buffet\", \"build\", \"build\", \"build\", \"build\", \"build\", \"build\", \"build\", \"build\", \"build\", \"build\", \"canadian\", \"canadian\", \"canadian\", \"canadian\", \"canadian\", \"canadian\", \"canadian\", \"canadian\", \"canadian\", \"canadian\", \"candy\", \"candy\", \"candy\", \"candy\", \"candy\", \"candy\", \"candy\", \"candy\", \"candy\", \"candy\", \"cap\", \"cap\", \"cap\", \"cap\", \"cap\", \"cap\", \"cap\", \"cap\", \"cap\", \"cap\", \"car\", \"car\", \"car\", \"car\", \"car\", \"car\", \"car\", \"car\", \"car\", \"car\", \"caramel\", \"caramel\", \"caramel\", \"caramel\", \"caramel\", \"caramel\", \"caramel\", \"caramel\", \"caramel\", \"caramel\", \"cat\", \"cat\", \"cat\", \"cat\", \"cat\", \"cat\", \"cat\", \"cat\", \"cat\", \"cat\", \"central\", \"central\", \"central\", \"central\", \"central\", \"central\", \"central\", \"central\", \"central\", \"central\", \"challenge\", \"challenge\", \"challenge\", \"challenge\", \"challenge\", \"challenge\", \"challenge\", \"challenge\", \"challenge\", \"challenge\", \"charge\", \"charge\", \"charge\", \"charge\", \"charge\", \"charge\", \"charge\", \"charge\", \"charge\", \"charge\", \"chat\", \"chat\", \"chat\", \"chat\", \"chat\", \"chat\", \"chat\", \"chat\", \"chat\", \"chat\", \"check\", \"check\", \"check\", \"check\", \"check\", \"check\", \"check\", \"check\", \"check\", \"check\", \"checkout\", \"checkout\", \"checkout\", \"checkout\", \"checkout\", \"checkout\", \"checkout\", \"checkout\", \"checkout\", \"checkout\", \"cheese\", \"cheese\", \"cheese\", \"cheese\", \"cheese\", \"cheese\", \"cheese\", \"cheese\", \"cheese\", \"cheese\", \"chef\", \"chef\", \"chef\", \"chef\", \"chef\", \"chef\", \"chef\", \"chef\", \"chef\", \"chef\", \"chicago\", \"chicago\", \"chicago\", \"chicago\", \"chicago\", \"chicago\", \"chicago\", \"chicago\", \"chicago\", \"chicago\", \"chicken\", \"chicken\", \"chicken\", \"chicken\", \"chicken\", \"chicken\", \"chicken\", \"chicken\", \"chicken\", \"chicken\", \"chip\", \"chip\", \"chip\", \"chip\", \"chip\", \"chip\", \"chip\", \"chip\", \"chip\", \"chip\", \"choice\", \"choice\", \"choice\", \"choice\", \"choice\", \"choice\", \"choice\", \"choice\", \"choice\", \"choice\", \"choose\", \"choose\", \"choose\", \"choose\", \"choose\", \"choose\", \"choose\", \"choose\", \"choose\", \"choose\", \"city\", \"city\", \"city\", \"city\", \"city\", \"city\", \"city\", \"city\", \"city\", \"city\", \"class\", \"class\", \"class\", \"class\", \"class\", \"class\", \"class\", \"class\", \"class\", \"class\", \"clear\", \"clear\", \"clear\", \"clear\", \"clear\", \"clear\", \"clear\", \"clear\", \"clear\", \"clear\", \"clinic\", \"clinic\", \"clinic\", \"clinic\", \"clinic\", \"clinic\", \"clinic\", \"clinic\", \"clinic\", \"clinic\", \"close\", \"close\", \"close\", \"close\", \"close\", \"close\", \"close\", \"close\", \"close\", \"close\", \"cocktail\", \"cocktail\", \"cocktail\", \"cocktail\", \"cocktail\", \"cocktail\", \"cocktail\", \"cocktail\", \"cocktail\", \"cocktail\", \"coffee\", \"coffee\", \"coffee\", \"coffee\", \"coffee\", \"coffee\", \"coffee\", \"coffee\", \"coffee\", \"coffee\", \"coke\", \"coke\", \"coke\", \"coke\", \"coke\", \"coke\", \"coke\", \"coke\", \"coke\", \"coke\", \"collection\", \"collection\", \"collection\", \"collection\", \"collection\", \"collection\", \"collection\", \"collection\", \"collection\", \"collection\", \"come\", \"come\", \"come\", \"come\", \"come\", \"come\", \"come\", \"come\", \"come\", \"come\", \"comfortable\", \"comfortable\", \"comfortable\", \"comfortable\", \"comfortable\", \"comfortable\", \"comfortable\", \"comfortable\", \"comfortable\", \"comfortable\", \"company\", \"company\", \"company\", \"company\", \"company\", \"company\", \"company\", \"company\", \"company\", \"company\", \"computer\", \"computer\", \"computer\", \"computer\", \"computer\", \"computer\", \"computer\", \"computer\", \"computer\", \"computer\", \"confused\", \"confused\", \"confused\", \"confused\", \"confused\", \"confused\", \"confused\", \"confused\", \"confused\", \"confused\", \"consistently\", \"consistently\", \"consistently\", \"consistently\", \"consistently\", \"consistently\", \"consistently\", \"consistently\", \"consistently\", \"consistently\", \"cooked\", \"cooked\", \"cooked\", \"cooked\", \"cooked\", \"cooked\", \"cooked\", \"cooked\", \"cooked\", \"cooked\", \"cookie\", \"cookie\", \"cookie\", \"cookie\", \"cookie\", \"cookie\", \"cookie\", \"cookie\", \"cookie\", \"cookie\", \"cornbread\", \"cornbread\", \"cornbread\", \"cornbread\", \"cornbread\", \"cornbread\", \"cornbread\", \"cornbread\", \"cornbread\", \"cornbread\", \"corporate\", \"corporate\", \"corporate\", \"corporate\", \"corporate\", \"corporate\", \"corporate\", \"corporate\", \"corporate\", \"corporate\", \"crave\", \"crave\", \"crave\", \"crave\", \"crave\", \"crave\", \"crave\", \"crave\", \"crave\", \"crave\", \"cream\", \"cream\", \"cream\", \"cream\", \"cream\", \"cream\", \"cream\", \"cream\", \"cream\", \"cream\", \"crust\", \"crust\", \"crust\", \"crust\", \"crust\", \"crust\", \"crust\", \"crust\", \"crust\", \"crust\", \"cupcake\", \"cupcake\", \"cupcake\", \"cupcake\", \"cupcake\", \"cupcake\", \"cupcake\", \"cupcake\", \"cupcake\", \"cupcake\", \"customer\", \"customer\", \"customer\", \"customer\", \"customer\", \"customer\", \"customer\", \"customer\", \"customer\", \"customer\", \"cut\", \"cut\", \"cut\", \"cut\", \"cut\", \"cut\", \"cut\", \"cut\", \"cut\", \"cut\", \"dance\", \"dance\", \"dance\", \"dance\", \"dance\", \"dance\", \"dance\", \"dance\", \"dance\", \"dance\", \"date\", \"date\", \"date\", \"date\", \"date\", \"date\", \"date\", \"date\", \"date\", \"date\", \"day\", \"day\", \"day\", \"day\", \"day\", \"day\", \"day\", \"day\", \"day\", \"day\", \"de\", \"de\", \"de\", \"de\", \"de\", \"de\", \"de\", \"de\", \"de\", \"de\", \"decide\", \"decide\", \"decide\", \"decide\", \"decide\", \"decide\", \"decide\", \"decide\", \"decide\", \"decide\", \"def\", \"def\", \"def\", \"def\", \"def\", \"def\", \"def\", \"def\", \"def\", \"def\", \"definitely\", \"definitely\", \"definitely\", \"definitely\", \"definitely\", \"definitely\", \"definitely\", \"definitely\", \"definitely\", \"definitely\", \"delicious\", \"delicious\", \"delicious\", \"delicious\", \"delicious\", \"delicious\", \"delicious\", \"delicious\", \"delicious\", \"delicious\", \"des\", \"des\", \"des\", \"des\", \"des\", \"des\", \"des\", \"des\", \"des\", \"des\", \"die\", \"die\", \"die\", \"die\", \"die\", \"die\", \"die\", \"die\", \"die\", \"die\", \"diet\", \"diet\", \"diet\", \"diet\", \"diet\", \"diet\", \"diet\", \"diet\", \"diet\", \"diet\", \"dim\", \"dim\", \"dim\", \"dim\", \"dim\", \"dim\", \"dim\", \"dim\", \"dim\", \"dim\", \"dinner\", \"dinner\", \"dinner\", \"dinner\", \"dinner\", \"dinner\", \"dinner\", \"dinner\", \"dinner\", \"dinner\", \"dirt\", \"dirt\", \"dirt\", \"dirt\", \"dirt\", \"dirt\", \"dirt\", \"dirt\", \"dirt\", \"dirt\", \"discount\", \"discount\", \"discount\", \"discount\", \"discount\", \"discount\", \"discount\", \"discount\", \"discount\", \"discount\", \"disgusting\", \"disgusting\", \"disgusting\", \"disgusting\", \"disgusting\", \"disgusting\", \"disgusting\", \"disgusting\", \"disgusting\", \"disgusting\", \"dog\", \"dog\", \"dog\", \"dog\", \"dog\", \"dog\", \"dog\", \"dog\", \"dog\", \"dog\", \"dr\", \"dr\", \"dr\", \"dr\", \"dr\", \"dr\", \"dr\", \"dr\", \"dr\", \"dr\", \"dragon\", \"dragon\", \"dragon\", \"dragon\", \"dragon\", \"dragon\", \"dragon\", \"dragon\", \"dragon\", \"dragon\", \"dress\", \"dress\", \"dress\", \"dress\", \"dress\", \"dress\", \"dress\", \"dress\", \"dress\", \"dress\", \"drink\", \"drink\", \"drink\", \"drink\", \"drink\", \"drink\", \"drink\", \"drink\", \"drink\", \"drink\", \"du\", \"du\", \"du\", \"du\", \"du\", \"du\", \"du\", \"du\", \"du\", \"du\", \"duck\", \"duck\", \"duck\", \"duck\", \"duck\", \"duck\", \"duck\", \"duck\", \"duck\", \"duck\", \"earn\", \"earn\", \"earn\", \"earn\", \"earn\", \"earn\", \"earn\", \"earn\", \"earn\", \"earn\", \"eat\", \"eat\", \"eat\", \"eat\", \"eat\", \"eat\", \"eat\", \"eat\", \"eat\", \"eat\", \"egg\", \"egg\", \"egg\", \"egg\", \"egg\", \"egg\", \"egg\", \"egg\", \"egg\", \"egg\", \"en\", \"en\", \"en\", \"en\", \"en\", \"en\", \"en\", \"en\", \"en\", \"en\", \"end\", \"end\", \"end\", \"end\", \"end\", \"end\", \"end\", \"end\", \"end\", \"end\", \"engage\", \"engage\", \"engage\", \"engage\", \"engage\", \"engage\", \"engage\", \"engage\", \"engage\", \"engage\", \"english\", \"english\", \"english\", \"english\", \"english\", \"english\", \"english\", \"english\", \"english\", \"english\", \"enjoy\", \"enjoy\", \"enjoy\", \"enjoy\", \"enjoy\", \"enjoy\", \"enjoy\", \"enjoy\", \"enjoy\", \"enjoy\", \"entertaining\", \"entertaining\", \"entertaining\", \"entertaining\", \"entertaining\", \"entertaining\", \"entertaining\", \"entertaining\", \"entertaining\", \"entertaining\", \"entertainment\", \"entertainment\", \"entertainment\", \"entertainment\", \"entertainment\", \"entertainment\", \"entertainment\", \"entertainment\", \"entertainment\", \"entertainment\", \"entire\", \"entire\", \"entire\", \"entire\", \"entire\", \"entire\", \"entire\", \"entire\", \"entire\", \"entire\", \"especially\", \"especially\", \"especially\", \"especially\", \"especially\", \"especially\", \"especially\", \"especially\", \"especially\", \"especially\", \"est\", \"est\", \"est\", \"est\", \"est\", \"est\", \"est\", \"est\", \"est\", \"est\", \"excellent\", \"excellent\", \"excellent\", \"excellent\", \"excellent\", \"excellent\", \"excellent\", \"excellent\", \"excellent\", \"excellent\", \"exception\", \"exception\", \"exception\", \"exception\", \"exception\", \"exception\", \"exception\", \"exception\", \"exception\", \"exception\", \"exceptionally\", \"exceptionally\", \"exceptionally\", \"exceptionally\", \"exceptionally\", \"exceptionally\", \"exceptionally\", \"exceptionally\", \"exceptionally\", \"exceptionally\", \"expectation\", \"expectation\", \"expectation\", \"expectation\", \"expectation\", \"expectation\", \"expectation\", \"expectation\", \"expectation\", \"expectation\", \"expensive\", \"expensive\", \"expensive\", \"expensive\", \"expensive\", \"expensive\", \"expensive\", \"expensive\", \"expensive\", \"expensive\", \"experience\", \"experience\", \"experience\", \"experience\", \"experience\", \"experience\", \"experience\", \"experience\", \"experience\", \"experience\", \"expert\", \"expert\", \"expert\", \"expert\", \"expert\", \"expert\", \"expert\", \"expert\", \"expert\", \"expert\", \"expertise\", \"expertise\", \"expertise\", \"expertise\", \"expertise\", \"expertise\", \"expertise\", \"expertise\", \"expertise\", \"expertise\", \"explain\", \"explain\", \"explain\", \"explain\", \"explain\", \"explain\", \"explain\", \"explain\", \"explain\", \"explain\", \"explore\", \"explore\", \"explore\", \"explore\", \"explore\", \"explore\", \"explore\", \"explore\", \"explore\", \"explore\", \"extension\", \"extension\", \"extension\", \"extension\", \"extension\", \"extension\", \"extension\", \"extension\", \"extension\", \"extension\", \"extremely\", \"extremely\", \"extremely\", \"extremely\", \"extremely\", \"extremely\", \"extremely\", \"extremely\", \"extremely\", \"extremely\", \"eyebrow\", \"eyebrow\", \"eyebrow\", \"eyebrow\", \"eyebrow\", \"eyebrow\", \"eyebrow\", \"eyebrow\", \"eyebrow\", \"eyebrow\", \"family\", \"family\", \"family\", \"family\", \"family\", \"family\", \"family\", \"family\", \"family\", \"family\", \"fancy\", \"fancy\", \"fancy\", \"fancy\", \"fancy\", \"fancy\", \"fancy\", \"fancy\", \"fancy\", \"fancy\", \"fantastic\", \"fantastic\", \"fantastic\", \"fantastic\", \"fantastic\", \"fantastic\", \"fantastic\", \"fantastic\", \"fantastic\", \"fantastic\", \"fast\", \"fast\", \"fast\", \"fast\", \"fast\", \"fast\", \"fast\", \"fast\", \"fast\", \"fast\", \"faster\", \"faster\", \"faster\", \"faster\", \"faster\", \"faster\", \"faster\", \"faster\", \"faster\", \"faster\", \"fav\", \"fav\", \"fav\", \"fav\", \"fav\", \"fav\", \"fav\", \"fav\", \"fav\", \"fav\", \"favourite\", \"favourite\", \"favourite\", \"favourite\", \"favourite\", \"favourite\", \"favourite\", \"favourite\", \"favourite\", \"favourite\", \"feast\", \"feast\", \"feast\", \"feast\", \"feast\", \"feast\", \"feast\", \"feast\", \"feast\", \"feast\", \"feel\", \"feel\", \"feel\", \"feel\", \"feel\", \"feel\", \"feel\", \"feel\", \"feel\", \"feel\", \"fianc\\u00e9\", \"fianc\\u00e9\", \"fianc\\u00e9\", \"fianc\\u00e9\", \"fianc\\u00e9\", \"fianc\\u00e9\", \"fianc\\u00e9\", \"fianc\\u00e9\", \"fianc\\u00e9\", \"fianc\\u00e9\", \"fill\", \"fill\", \"fill\", \"fill\", \"fill\", \"fill\", \"fill\", \"fill\", \"fill\", \"fill\", \"find\", \"find\", \"find\", \"find\", \"find\", \"find\", \"find\", \"find\", \"find\", \"find\", \"firm\", \"firm\", \"firm\", \"firm\", \"firm\", \"firm\", \"firm\", \"firm\", \"firm\", \"firm\", \"fix\", \"fix\", \"fix\", \"fix\", \"fix\", \"fix\", \"fix\", \"fix\", \"fix\", \"fix\", \"flavor\", \"flavor\", \"flavor\", \"flavor\", \"flavor\", \"flavor\", \"flavor\", \"flavor\", \"flavor\", \"flavor\", \"flour\", \"flour\", \"flour\", \"flour\", \"flour\", \"flour\", \"flour\", \"flour\", \"flour\", \"flour\", \"food\", \"food\", \"food\", \"food\", \"food\", \"food\", \"food\", \"food\", \"food\", \"food\", \"free\", \"free\", \"free\", \"free\", \"free\", \"free\", \"free\", \"free\", \"free\", \"free\", \"freeze\", \"freeze\", \"freeze\", \"freeze\", \"freeze\", \"freeze\", \"freeze\", \"freeze\", \"freeze\", \"freeze\", \"fresh\", \"fresh\", \"fresh\", \"fresh\", \"fresh\", \"fresh\", \"fresh\", \"fresh\", \"fresh\", \"fresh\", \"friday\", \"friday\", \"friday\", \"friday\", \"friday\", \"friday\", \"friday\", \"friday\", \"friday\", \"friday\", \"friend\", \"friend\", \"friend\", \"friend\", \"friend\", \"friend\", \"friend\", \"friend\", \"friend\", \"friend\", \"friendly\", \"friendly\", \"friendly\", \"friendly\", \"friendly\", \"friendly\", \"friendly\", \"friendly\", \"friendly\", \"friendly\", \"frosting\", \"frosting\", \"frosting\", \"frosting\", \"frosting\", \"frosting\", \"frosting\", \"frosting\", \"frosting\", \"frosting\", \"fry\", \"fry\", \"fry\", \"fry\", \"fry\", \"fry\", \"fry\", \"fry\", \"fry\", \"fry\", \"fun\", \"fun\", \"fun\", \"fun\", \"fun\", \"fun\", \"fun\", \"fun\", \"fun\", \"fun\", \"function\", \"function\", \"function\", \"function\", \"function\", \"function\", \"function\", \"function\", \"function\", \"function\", \"fusion\", \"fusion\", \"fusion\", \"fusion\", \"fusion\", \"fusion\", \"fusion\", \"fusion\", \"fusion\", \"fusion\", \"future\", \"future\", \"future\", \"future\", \"future\", \"future\", \"future\", \"future\", \"future\", \"future\", \"gel\", \"gel\", \"gel\", \"gel\", \"gel\", \"gel\", \"gel\", \"gel\", \"gel\", \"gel\", \"giant\", \"giant\", \"giant\", \"giant\", \"giant\", \"giant\", \"giant\", \"giant\", \"giant\", \"giant\", \"good\", \"good\", \"good\", \"good\", \"good\", \"good\", \"good\", \"good\", \"good\", \"good\", \"grace\", \"grace\", \"grace\", \"grace\", \"grace\", \"grace\", \"grace\", \"grace\", \"grace\", \"grace\", \"grain\", \"grain\", \"grain\", \"grain\", \"grain\", \"grain\", \"grain\", \"grain\", \"grain\", \"grain\", \"great\", \"great\", \"great\", \"great\", \"great\", \"great\", \"great\", \"great\", \"great\", \"great\", \"grill\", \"grill\", \"grill\", \"grill\", \"grill\", \"grill\", \"grill\", \"grill\", \"grill\", \"grill\", \"group\", \"group\", \"group\", \"group\", \"group\", \"group\", \"group\", \"group\", \"group\", \"group\", \"groupon\", \"groupon\", \"groupon\", \"groupon\", \"groupon\", \"groupon\", \"groupon\", \"groupon\", \"groupon\", \"groupon\", \"guacamole\", \"guacamole\", \"guacamole\", \"guacamole\", \"guacamole\", \"guacamole\", \"guacamole\", \"guacamole\", \"guacamole\", \"guacamole\", \"gun\", \"gun\", \"gun\", \"gun\", \"gun\", \"gun\", \"gun\", \"gun\", \"gun\", \"gun\", \"guy\", \"guy\", \"guy\", \"guy\", \"guy\", \"guy\", \"guy\", \"guy\", \"guy\", \"guy\", \"hair\", \"hair\", \"hair\", \"hair\", \"hair\", \"hair\", \"hair\", \"hair\", \"hair\", \"hair\", \"half\", \"half\", \"half\", \"half\", \"half\", \"half\", \"half\", \"half\", \"half\", \"half\", \"hangover\", \"hangover\", \"hangover\", \"hangover\", \"hangover\", \"hangover\", \"hangover\", \"hangover\", \"hangover\", \"hangover\", \"heavily\", \"heavily\", \"heavily\", \"heavily\", \"heavily\", \"heavily\", \"heavily\", \"heavily\", \"heavily\", \"heavily\", \"help\", \"help\", \"help\", \"help\", \"help\", \"help\", \"help\", \"help\", \"help\", \"help\", \"henderson\", \"henderson\", \"henderson\", \"henderson\", \"henderson\", \"henderson\", \"henderson\", \"henderson\", \"henderson\", \"henderson\", \"hike\", \"hike\", \"hike\", \"hike\", \"hike\", \"hike\", \"hike\", \"hike\", \"hike\", \"hike\", \"hint\", \"hint\", \"hint\", \"hint\", \"hint\", \"hint\", \"hint\", \"hint\", \"hint\", \"hint\", \"home\", \"home\", \"home\", \"home\", \"home\", \"home\", \"home\", \"home\", \"home\", \"home\", \"hope\", \"hope\", \"hope\", \"hope\", \"hope\", \"hope\", \"hope\", \"hope\", \"hope\", \"hope\", \"horrible\", \"horrible\", \"horrible\", \"horrible\", \"horrible\", \"horrible\", \"horrible\", \"horrible\", \"horrible\", \"horrible\", \"hour\", \"hour\", \"hour\", \"hour\", \"hour\", \"hour\", \"hour\", \"hour\", \"hour\", \"hour\", \"house\", \"house\", \"house\", \"house\", \"house\", \"house\", \"house\", \"house\", \"house\", \"house\", \"huge\", \"huge\", \"huge\", \"huge\", \"huge\", \"huge\", \"huge\", \"huge\", \"huge\", \"huge\", \"husband\", \"husband\", \"husband\", \"husband\", \"husband\", \"husband\", \"husband\", \"husband\", \"husband\", \"husband\", \"idea\", \"idea\", \"idea\", \"idea\", \"idea\", \"idea\", \"idea\", \"idea\", \"idea\", \"idea\", \"idiot\", \"idiot\", \"idiot\", \"idiot\", \"idiot\", \"idiot\", \"idiot\", \"idiot\", \"idiot\", \"idiot\", \"immediately\", \"immediately\", \"immediately\", \"immediately\", \"immediately\", \"immediately\", \"immediately\", \"immediately\", \"immediately\", \"immediately\", \"ingredient\", \"ingredient\", \"ingredient\", \"ingredient\", \"ingredient\", \"ingredient\", \"ingredient\", \"ingredient\", \"ingredient\", \"ingredient\", \"iphone\", \"iphone\", \"iphone\", \"iphone\", \"iphone\", \"iphone\", \"iphone\", \"iphone\", \"iphone\", \"iphone\", \"ish\", \"ish\", \"ish\", \"ish\", \"ish\", \"ish\", \"ish\", \"ish\", \"ish\", \"ish\", \"jack\", \"jack\", \"jack\", \"jack\", \"jack\", \"jack\", \"jack\", \"jack\", \"jack\", \"jack\", \"jazz\", \"jazz\", \"jazz\", \"jazz\", \"jazz\", \"jazz\", \"jazz\", \"jazz\", \"jazz\", \"jazz\", \"job\", \"job\", \"job\", \"job\", \"job\", \"job\", \"job\", \"job\", \"job\", \"job\", \"joint\", \"joint\", \"joint\", \"joint\", \"joint\", \"joint\", \"joint\", \"joint\", \"joint\", \"joint\", \"killer\", \"killer\", \"killer\", \"killer\", \"killer\", \"killer\", \"killer\", \"killer\", \"killer\", \"killer\", \"kim\", \"kim\", \"kim\", \"kim\", \"kim\", \"kim\", \"kim\", \"kim\", \"kim\", \"kim\", \"know\", \"know\", \"know\", \"know\", \"know\", \"know\", \"know\", \"know\", \"know\", \"know\", \"kobe\", \"kobe\", \"kobe\", \"kobe\", \"kobe\", \"kobe\", \"kobe\", \"kobe\", \"kobe\", \"kobe\", \"la\", \"la\", \"la\", \"la\", \"la\", \"la\", \"la\", \"la\", \"la\", \"la\", \"lamb\", \"lamb\", \"lamb\", \"lamb\", \"lamb\", \"lamb\", \"lamb\", \"lamb\", \"lamb\", \"lamb\", \"land\", \"land\", \"land\", \"land\", \"land\", \"land\", \"land\", \"land\", \"land\", \"land\", \"laptop\", \"laptop\", \"laptop\", \"laptop\", \"laptop\", \"laptop\", \"laptop\", \"laptop\", \"laptop\", \"laptop\", \"large\", \"large\", \"large\", \"large\", \"large\", \"large\", \"large\", \"large\", \"large\", \"large\", \"las\", \"las\", \"las\", \"las\", \"las\", \"las\", \"las\", \"las\", \"las\", \"las\", \"latin\", \"latin\", \"latin\", \"latin\", \"latin\", \"latin\", \"latin\", \"latin\", \"latin\", \"latin\", \"le\", \"le\", \"le\", \"le\", \"le\", \"le\", \"le\", \"le\", \"le\", \"le\", \"lead\", \"lead\", \"lead\", \"lead\", \"lead\", \"lead\", \"lead\", \"lead\", \"lead\", \"lead\", \"leak\", \"leak\", \"leak\", \"leak\", \"leak\", \"leak\", \"leak\", \"leak\", \"leak\", \"leak\", \"learn\", \"learn\", \"learn\", \"learn\", \"learn\", \"learn\", \"learn\", \"learn\", \"learn\", \"learn\", \"leave\", \"leave\", \"leave\", \"leave\", \"leave\", \"leave\", \"leave\", \"leave\", \"leave\", \"leave\", \"les\", \"les\", \"les\", \"les\", \"les\", \"les\", \"les\", \"les\", \"les\", \"les\", \"like\", \"like\", \"like\", \"like\", \"like\", \"like\", \"like\", \"like\", \"like\", \"like\", \"list\", \"list\", \"list\", \"list\", \"list\", \"list\", \"list\", \"list\", \"list\", \"list\", \"little\", \"little\", \"little\", \"little\", \"little\", \"little\", \"little\", \"little\", \"little\", \"little\", \"lobster\", \"lobster\", \"lobster\", \"lobster\", \"lobster\", \"lobster\", \"lobster\", \"lobster\", \"lobster\", \"lobster\", \"locally\", \"locally\", \"locally\", \"locally\", \"locally\", \"locally\", \"locally\", \"locally\", \"locally\", \"locally\", \"location\", \"location\", \"location\", \"location\", \"location\", \"location\", \"location\", \"location\", \"location\", \"location\", \"long\", \"long\", \"long\", \"long\", \"long\", \"long\", \"long\", \"long\", \"long\", \"long\", \"look\", \"look\", \"look\", \"look\", \"look\", \"look\", \"look\", \"look\", \"look\", \"look\", \"lot\", \"lot\", \"lot\", \"lot\", \"lot\", \"lot\", \"lot\", \"lot\", \"lot\", \"lot\", \"love\", \"love\", \"love\", \"love\", \"love\", \"love\", \"love\", \"love\", \"love\", \"love\", \"lovely\", \"lovely\", \"lovely\", \"lovely\", \"lovely\", \"lovely\", \"lovely\", \"lovely\", \"lovely\", \"lovely\", \"lunch\", \"lunch\", \"lunch\", \"lunch\", \"lunch\", \"lunch\", \"lunch\", \"lunch\", \"lunch\", \"lunch\", \"major\", \"major\", \"major\", \"major\", \"major\", \"major\", \"major\", \"major\", \"major\", \"major\", \"matt\", \"matt\", \"matt\", \"matt\", \"matt\", \"matt\", \"matt\", \"matt\", \"matt\", \"matt\", \"mcdonald\", \"mcdonald\", \"mcdonald\", \"mcdonald\", \"mcdonald\", \"mcdonald\", \"mcdonald\", \"mcdonald\", \"mcdonald\", \"mcdonald\", \"mcdonalds\", \"mcdonalds\", \"mcdonalds\", \"mcdonalds\", \"mcdonalds\", \"mcdonalds\", \"mcdonalds\", \"mcdonalds\", \"mcdonalds\", \"mcdonalds\", \"meal\", \"meal\", \"meal\", \"meal\", \"meal\", \"meal\", \"meal\", \"meal\", \"meal\", \"meal\", \"meat\", \"meat\", \"meat\", \"meat\", \"meat\", \"meat\", \"meat\", \"meat\", \"meat\", \"meat\", \"meet\", \"meet\", \"meet\", \"meet\", \"meet\", \"meet\", \"meet\", \"meet\", \"meet\", \"meet\", \"meeting\", \"meeting\", \"meeting\", \"meeting\", \"meeting\", \"meeting\", \"meeting\", \"meeting\", \"meeting\", \"meeting\", \"membership\", \"membership\", \"membership\", \"membership\", \"membership\", \"membership\", \"membership\", \"membership\", \"membership\", \"membership\", \"menu\", \"menu\", \"menu\", \"menu\", \"menu\", \"menu\", \"menu\", \"menu\", \"menu\", \"menu\", \"mesa\", \"mesa\", \"mesa\", \"mesa\", \"mesa\", \"mesa\", \"mesa\", \"mesa\", \"mesa\", \"mesa\", \"metro\", \"metro\", \"metro\", \"metro\", \"metro\", \"metro\", \"metro\", \"metro\", \"metro\", \"metro\", \"middle\", \"middle\", \"middle\", \"middle\", \"middle\", \"middle\", \"middle\", \"middle\", \"middle\", \"middle\", \"milk\", \"milk\", \"milk\", \"milk\", \"milk\", \"milk\", \"milk\", \"milk\", \"milk\", \"milk\", \"minimal\", \"minimal\", \"minimal\", \"minimal\", \"minimal\", \"minimal\", \"minimal\", \"minimal\", \"minimal\", \"minimal\", \"minute\", \"minute\", \"minute\", \"minute\", \"minute\", \"minute\", \"minute\", \"minute\", \"minute\", \"minute\", \"mix\", \"mix\", \"mix\", \"mix\", \"mix\", \"mix\", \"mix\", \"mix\", \"mix\", \"mix\", \"mold\", \"mold\", \"mold\", \"mold\", \"mold\", \"mold\", \"mold\", \"mold\", \"mold\", \"mold\", \"money\", \"money\", \"money\", \"money\", \"money\", \"money\", \"money\", \"money\", \"money\", \"money\", \"mountain\", \"mountain\", \"mountain\", \"mountain\", \"mountain\", \"mountain\", \"mountain\", \"mountain\", \"mountain\", \"mountain\", \"napkin\", \"napkin\", \"napkin\", \"napkin\", \"napkin\", \"napkin\", \"napkin\", \"napkin\", \"napkin\", \"napkin\", \"need\", \"need\", \"need\", \"need\", \"need\", \"need\", \"need\", \"need\", \"need\", \"need\", \"new\", \"new\", \"new\", \"new\", \"new\", \"new\", \"new\", \"new\", \"new\", \"new\", \"nice\", \"nice\", \"nice\", \"nice\", \"nice\", \"nice\", \"nice\", \"nice\", \"nice\", \"nice\", \"night\", \"night\", \"night\", \"night\", \"night\", \"night\", \"night\", \"night\", \"night\", \"night\", \"nigiri\", \"nigiri\", \"nigiri\", \"nigiri\", \"nigiri\", \"nigiri\", \"nigiri\", \"nigiri\", \"nigiri\", \"nigiri\", \"numerous\", \"numerous\", \"numerous\", \"numerous\", \"numerous\", \"numerous\", \"numerous\", \"numerous\", \"numerous\", \"numerous\", \"office\", \"office\", \"office\", \"office\", \"office\", \"office\", \"office\", \"office\", \"office\", \"office\", \"oh\", \"oh\", \"oh\", \"oh\", \"oh\", \"oh\", \"oh\", \"oh\", \"oh\", \"oh\", \"old\", \"old\", \"old\", \"old\", \"old\", \"old\", \"old\", \"old\", \"old\", \"old\", \"olive\", \"olive\", \"olive\", \"olive\", \"olive\", \"olive\", \"olive\", \"olive\", \"olive\", \"olive\", \"opposite\", \"opposite\", \"opposite\", \"opposite\", \"opposite\", \"opposite\", \"opposite\", \"opposite\", \"opposite\", \"opposite\", \"option\", \"option\", \"option\", \"option\", \"option\", \"option\", \"option\", \"option\", \"option\", \"option\", \"order\", \"order\", \"order\", \"order\", \"order\", \"order\", \"order\", \"order\", \"order\", \"order\", \"ordinary\", \"ordinary\", \"ordinary\", \"ordinary\", \"ordinary\", \"ordinary\", \"ordinary\", \"ordinary\", \"ordinary\", \"ordinary\", \"organize\", \"organize\", \"organize\", \"organize\", \"organize\", \"organize\", \"organize\", \"organize\", \"organize\", \"organize\", \"organized\", \"organized\", \"organized\", \"organized\", \"organized\", \"organized\", \"organized\", \"organized\", \"organized\", \"organized\", \"outstanding\", \"outstanding\", \"outstanding\", \"outstanding\", \"outstanding\", \"outstanding\", \"outstanding\", \"outstanding\", \"outstanding\", \"outstanding\", \"overall\", \"overall\", \"overall\", \"overall\", \"overall\", \"overall\", \"overall\", \"overall\", \"overall\", \"overall\", \"owner\", \"owner\", \"owner\", \"owner\", \"owner\", \"owner\", \"owner\", \"owner\", \"owner\", \"owner\", \"oyster\", \"oyster\", \"oyster\", \"oyster\", \"oyster\", \"oyster\", \"oyster\", \"oyster\", \"oyster\", \"oyster\", \"p.m.\", \"p.m.\", \"p.m.\", \"p.m.\", \"p.m.\", \"p.m.\", \"p.m.\", \"p.m.\", \"p.m.\", \"p.m.\", \"pace\", \"pace\", \"pace\", \"pace\", \"pace\", \"pace\", \"pace\", \"pace\", \"pace\", \"pace\", \"pan\", \"pan\", \"pan\", \"pan\", \"pan\", \"pan\", \"pan\", \"pan\", \"pan\", \"pan\", \"pancake\", \"pancake\", \"pancake\", \"pancake\", \"pancake\", \"pancake\", \"pancake\", \"pancake\", \"pancake\", \"pancake\", \"pas\", \"pas\", \"pas\", \"pas\", \"pas\", \"pas\", \"pas\", \"pas\", \"pas\", \"pas\", \"pay\", \"pay\", \"pay\", \"pay\", \"pay\", \"pay\", \"pay\", \"pay\", \"pay\", \"pay\", \"pedicure\", \"pedicure\", \"pedicure\", \"pedicure\", \"pedicure\", \"pedicure\", \"pedicure\", \"pedicure\", \"pedicure\", \"pedicure\", \"peel\", \"peel\", \"peel\", \"peel\", \"peel\", \"peel\", \"peel\", \"peel\", \"peel\", \"peel\", \"people\", \"people\", \"people\", \"people\", \"people\", \"people\", \"people\", \"people\", \"people\", \"people\", \"perfect\", \"perfect\", \"perfect\", \"perfect\", \"perfect\", \"perfect\", \"perfect\", \"perfect\", \"perfect\", \"perfect\", \"performance\", \"performance\", \"performance\", \"performance\", \"performance\", \"performance\", \"performance\", \"performance\", \"performance\", \"performance\", \"personable\", \"personable\", \"personable\", \"personable\", \"personable\", \"personable\", \"personable\", \"personable\", \"personable\", \"personable\", \"phenomenal\", \"phenomenal\", \"phenomenal\", \"phenomenal\", \"phenomenal\", \"phenomenal\", \"phenomenal\", \"phenomenal\", \"phenomenal\", \"phenomenal\", \"pickup\", \"pickup\", \"pickup\", \"pickup\", \"pickup\", \"pickup\", \"pickup\", \"pickup\", \"pickup\", \"pickup\", \"pig\", \"pig\", \"pig\", \"pig\", \"pig\", \"pig\", \"pig\", \"pig\", \"pig\", \"pig\", \"pizza\", \"pizza\", \"pizza\", \"pizza\", \"pizza\", \"pizza\", \"pizza\", \"pizza\", \"pizza\", \"pizza\", \"place\", \"place\", \"place\", \"place\", \"place\", \"place\", \"place\", \"place\", \"place\", \"place\", \"plate\", \"plate\", \"plate\", \"plate\", \"plate\", \"plate\", \"plate\", \"plate\", \"plate\", \"plate\", \"pleasure\", \"pleasure\", \"pleasure\", \"pleasure\", \"pleasure\", \"pleasure\", \"pleasure\", \"pleasure\", \"pleasure\", \"pleasure\", \"poke\", \"poke\", \"poke\", \"poke\", \"poke\", \"poke\", \"poke\", \"poke\", \"poke\", \"poke\", \"polish\", \"polish\", \"polish\", \"polish\", \"polish\", \"polish\", \"polish\", \"polish\", \"polish\", \"polish\", \"pork\", \"pork\", \"pork\", \"pork\", \"pork\", \"pork\", \"pork\", \"pork\", \"pork\", \"pork\", \"portion\", \"portion\", \"portion\", \"portion\", \"portion\", \"portion\", \"portion\", \"portion\", \"portion\", \"portion\", \"possible\", \"possible\", \"possible\", \"possible\", \"possible\", \"possible\", \"possible\", \"possible\", \"possible\", \"possible\", \"potato\", \"potato\", \"potato\", \"potato\", \"potato\", \"potato\", \"potato\", \"potato\", \"potato\", \"potato\", \"poutine\", \"poutine\", \"poutine\", \"poutine\", \"poutine\", \"poutine\", \"poutine\", \"poutine\", \"poutine\", \"poutine\", \"ppl\", \"ppl\", \"ppl\", \"ppl\", \"ppl\", \"ppl\", \"ppl\", \"ppl\", \"ppl\", \"ppl\", \"pressure\", \"pressure\", \"pressure\", \"pressure\", \"pressure\", \"pressure\", \"pressure\", \"pressure\", \"pressure\", \"pressure\", \"pretentious\", \"pretentious\", \"pretentious\", \"pretentious\", \"pretentious\", \"pretentious\", \"pretentious\", \"pretentious\", \"pretentious\", \"pretentious\", \"pretty\", \"pretty\", \"pretty\", \"pretty\", \"pretty\", \"pretty\", \"pretty\", \"pretty\", \"pretty\", \"pretty\", \"price\", \"price\", \"price\", \"price\", \"price\", \"price\", \"price\", \"price\", \"price\", \"price\", \"prime\", \"prime\", \"prime\", \"prime\", \"prime\", \"prime\", \"prime\", \"prime\", \"prime\", \"prime\", \"private\", \"private\", \"private\", \"private\", \"private\", \"private\", \"private\", \"private\", \"private\", \"private\", \"profit\", \"profit\", \"profit\", \"profit\", \"profit\", \"profit\", \"profit\", \"profit\", \"profit\", \"profit\", \"promptly\", \"promptly\", \"promptly\", \"promptly\", \"promptly\", \"promptly\", \"promptly\", \"promptly\", \"promptly\", \"promptly\", \"puff\", \"puff\", \"puff\", \"puff\", \"puff\", \"puff\", \"puff\", \"puff\", \"puff\", \"puff\", \"purchase\", \"purchase\", \"purchase\", \"purchase\", \"purchase\", \"purchase\", \"purchase\", \"purchase\", \"purchase\", \"purchase\", \"que\", \"que\", \"que\", \"que\", \"que\", \"que\", \"que\", \"que\", \"que\", \"que\", \"quick\", \"quick\", \"quick\", \"quick\", \"quick\", \"quick\", \"quick\", \"quick\", \"quick\", \"quick\", \"rating\", \"rating\", \"rating\", \"rating\", \"rating\", \"rating\", \"rating\", \"rating\", \"rating\", \"rating\", \"read\", \"read\", \"read\", \"read\", \"read\", \"read\", \"read\", \"read\", \"read\", \"read\", \"reasonable\", \"reasonable\", \"reasonable\", \"reasonable\", \"reasonable\", \"reasonable\", \"reasonable\", \"reasonable\", \"reasonable\", \"reasonable\", \"recommend\", \"recommend\", \"recommend\", \"recommend\", \"recommend\", \"recommend\", \"recommend\", \"recommend\", \"recommend\", \"recommend\", \"reduce\", \"reduce\", \"reduce\", \"reduce\", \"reduce\", \"reduce\", \"reduce\", \"reduce\", \"reduce\", \"reduce\", \"regularly\", \"regularly\", \"regularly\", \"regularly\", \"regularly\", \"regularly\", \"regularly\", \"regularly\", \"regularly\", \"regularly\", \"remodel\", \"remodel\", \"remodel\", \"remodel\", \"remodel\", \"remodel\", \"remodel\", \"remodel\", \"remodel\", \"remodel\", \"rent\", \"rent\", \"rent\", \"rent\", \"rent\", \"rent\", \"rent\", \"rent\", \"rent\", \"rent\", \"replacement\", \"replacement\", \"replacement\", \"replacement\", \"replacement\", \"replacement\", \"replacement\", \"replacement\", \"replacement\", \"replacement\", \"restaurant\", \"restaurant\", \"restaurant\", \"restaurant\", \"restaurant\", \"restaurant\", \"restaurant\", \"restaurant\", \"restaurant\", \"restaurant\", \"result\", \"result\", \"result\", \"result\", \"result\", \"result\", \"result\", \"result\", \"result\", \"result\", \"return\", \"return\", \"return\", \"return\", \"return\", \"return\", \"return\", \"return\", \"return\", \"return\", \"review\", \"review\", \"review\", \"review\", \"review\", \"review\", \"review\", \"review\", \"review\", \"review\", \"reviewer\", \"reviewer\", \"reviewer\", \"reviewer\", \"reviewer\", \"reviewer\", \"reviewer\", \"reviewer\", \"reviewer\", \"reviewer\", \"rice\", \"rice\", \"rice\", \"rice\", \"rice\", \"rice\", \"rice\", \"rice\", \"rice\", \"rice\", \"ricotta\", \"ricotta\", \"ricotta\", \"ricotta\", \"ricotta\", \"ricotta\", \"ricotta\", \"ricotta\", \"ricotta\", \"ricotta\", \"right\", \"right\", \"right\", \"right\", \"right\", \"right\", \"right\", \"right\", \"right\", \"right\", \"road\", \"road\", \"road\", \"road\", \"road\", \"road\", \"road\", \"road\", \"road\", \"road\", \"rob\", \"rob\", \"rob\", \"rob\", \"rob\", \"rob\", \"rob\", \"rob\", \"rob\", \"rob\", \"roll\", \"roll\", \"roll\", \"roll\", \"roll\", \"roll\", \"roll\", \"roll\", \"roll\", \"roll\", \"roof\", \"roof\", \"roof\", \"roof\", \"roof\", \"roof\", \"roof\", \"roof\", \"roof\", \"roof\", \"room\", \"room\", \"room\", \"room\", \"room\", \"room\", \"room\", \"room\", \"room\", \"room\", \"salad\", \"salad\", \"salad\", \"salad\", \"salad\", \"salad\", \"salad\", \"salad\", \"salad\", \"salad\", \"salt\", \"salt\", \"salt\", \"salt\", \"salt\", \"salt\", \"salt\", \"salt\", \"salt\", \"salt\", \"santa\", \"santa\", \"santa\", \"santa\", \"santa\", \"santa\", \"santa\", \"santa\", \"santa\", \"santa\", \"sauce\", \"sauce\", \"sauce\", \"sauce\", \"sauce\", \"sauce\", \"sauce\", \"sauce\", \"sauce\", \"sauce\", \"scare\", \"scare\", \"scare\", \"scare\", \"scare\", \"scare\", \"scare\", \"scare\", \"scare\", \"scare\", \"self\", \"self\", \"self\", \"self\", \"self\", \"self\", \"self\", \"self\", \"self\", \"self\", \"sell\", \"sell\", \"sell\", \"sell\", \"sell\", \"sell\", \"sell\", \"sell\", \"sell\", \"sell\", \"serve\", \"serve\", \"serve\", \"serve\", \"serve\", \"serve\", \"serve\", \"serve\", \"serve\", \"serve\", \"server\", \"server\", \"server\", \"server\", \"server\", \"server\", \"server\", \"server\", \"server\", \"server\", \"shave\", \"shave\", \"shave\", \"shave\", \"shave\", \"shave\", \"shave\", \"shave\", \"shave\", \"shave\", \"shawarma\", \"shawarma\", \"shawarma\", \"shawarma\", \"shawarma\", \"shawarma\", \"shawarma\", \"shawarma\", \"shawarma\", \"shawarma\", \"shoulder\", \"shoulder\", \"shoulder\", \"shoulder\", \"shoulder\", \"shoulder\", \"shoulder\", \"shoulder\", \"shoulder\", \"shoulder\", \"sized\", \"sized\", \"sized\", \"sized\", \"sized\", \"sized\", \"sized\", \"sized\", \"sized\", \"sized\", \"slice\", \"slice\", \"slice\", \"slice\", \"slice\", \"slice\", \"slice\", \"slice\", \"slice\", \"slice\", \"slider\", \"slider\", \"slider\", \"slider\", \"slider\", \"slider\", \"slider\", \"slider\", \"slider\", \"slider\", \"sloppy\", \"sloppy\", \"sloppy\", \"sloppy\", \"sloppy\", \"sloppy\", \"sloppy\", \"sloppy\", \"sloppy\", \"sloppy\", \"slow\", \"slow\", \"slow\", \"slow\", \"slow\", \"slow\", \"slow\", \"slow\", \"slow\", \"slow\", \"small\", \"small\", \"small\", \"small\", \"small\", \"small\", \"small\", \"small\", \"small\", \"small\", \"solution\", \"solution\", \"solution\", \"solution\", \"solution\", \"solution\", \"solution\", \"solution\", \"solution\", \"solution\", \"son\", \"son\", \"son\", \"son\", \"son\", \"son\", \"son\", \"son\", \"son\", \"son\", \"sooo\", \"sooo\", \"sooo\", \"sooo\", \"sooo\", \"sooo\", \"sooo\", \"sooo\", \"sooo\", \"sooo\", \"spa\", \"spa\", \"spa\", \"spa\", \"spa\", \"spa\", \"spa\", \"spa\", \"spa\", \"spa\", \"specifically\", \"specifically\", \"specifically\", \"specifically\", \"specifically\", \"specifically\", \"specifically\", \"specifically\", \"specifically\", \"specifically\", \"spot\", \"spot\", \"spot\", \"spot\", \"spot\", \"spot\", \"spot\", \"spot\", \"spot\", \"spot\", \"spray\", \"spray\", \"spray\", \"spray\", \"spray\", \"spray\", \"spray\", \"spray\", \"spray\", \"spray\", \"squeeze\", \"squeeze\", \"squeeze\", \"squeeze\", \"squeeze\", \"squeeze\", \"squeeze\", \"squeeze\", \"squeeze\", \"squeeze\", \"staff\", \"staff\", \"staff\", \"staff\", \"staff\", \"staff\", \"staff\", \"staff\", \"staff\", \"staff\", \"standard\", \"standard\", \"standard\", \"standard\", \"standard\", \"standard\", \"standard\", \"standard\", \"standard\", \"standard\", \"stay\", \"stay\", \"stay\", \"stay\", \"stay\", \"stay\", \"stay\", \"stay\", \"stay\", \"stay\", \"steak\", \"steak\", \"steak\", \"steak\", \"steak\", \"steak\", \"steak\", \"steak\", \"steak\", \"steak\", \"steal\", \"steal\", \"steal\", \"steal\", \"steal\", \"steal\", \"steal\", \"steal\", \"steal\", \"steal\", \"step\", \"step\", \"step\", \"step\", \"step\", \"step\", \"step\", \"step\", \"step\", \"step\", \"stick\", \"stick\", \"stick\", \"stick\", \"stick\", \"stick\", \"stick\", \"stick\", \"stick\", \"stick\", \"sticker\", \"sticker\", \"sticker\", \"sticker\", \"sticker\", \"sticker\", \"sticker\", \"sticker\", \"sticker\", \"sticker\", \"stomach\", \"stomach\", \"stomach\", \"stomach\", \"stomach\", \"stomach\", \"stomach\", \"stomach\", \"stomach\", \"stomach\", \"stool\", \"stool\", \"stool\", \"stool\", \"stool\", \"stool\", \"stool\", \"stool\", \"stool\", \"stool\", \"stop\", \"stop\", \"stop\", \"stop\", \"stop\", \"stop\", \"stop\", \"stop\", \"stop\", \"stop\", \"store\", \"store\", \"store\", \"store\", \"store\", \"store\", \"store\", \"store\", \"store\", \"store\", \"straight\", \"straight\", \"straight\", \"straight\", \"straight\", \"straight\", \"straight\", \"straight\", \"straight\", \"straight\", \"stuff\", \"stuff\", \"stuff\", \"stuff\", \"stuff\", \"stuff\", \"stuff\", \"stuff\", \"stuff\", \"stuff\", \"subway\", \"subway\", \"subway\", \"subway\", \"subway\", \"subway\", \"subway\", \"subway\", \"subway\", \"subway\", \"suggest\", \"suggest\", \"suggest\", \"suggest\", \"suggest\", \"suggest\", \"suggest\", \"suggest\", \"suggest\", \"suggest\", \"summer\", \"summer\", \"summer\", \"summer\", \"summer\", \"summer\", \"summer\", \"summer\", \"summer\", \"summer\", \"sundae\", \"sundae\", \"sundae\", \"sundae\", \"sundae\", \"sundae\", \"sundae\", \"sundae\", \"sundae\", \"sundae\", \"super\", \"super\", \"super\", \"super\", \"super\", \"super\", \"super\", \"super\", \"super\", \"super\", \"superb\", \"superb\", \"superb\", \"superb\", \"superb\", \"superb\", \"superb\", \"superb\", \"superb\", \"superb\", \"sure\", \"sure\", \"sure\", \"sure\", \"sure\", \"sure\", \"sure\", \"sure\", \"sure\", \"sure\", \"sweet\", \"sweet\", \"sweet\", \"sweet\", \"sweet\", \"sweet\", \"sweet\", \"sweet\", \"sweet\", \"sweet\", \"t\", \"t\", \"t\", \"t\", \"t\", \"t\", \"t\", \"t\", \"t\", \"t\", \"table\", \"table\", \"table\", \"table\", \"table\", \"table\", \"table\", \"table\", \"table\", \"table\", \"taco\", \"taco\", \"taco\", \"taco\", \"taco\", \"taco\", \"taco\", \"taco\", \"taco\", \"taco\", \"tacos\", \"tacos\", \"tacos\", \"tacos\", \"tacos\", \"tacos\", \"tacos\", \"tacos\", \"tacos\", \"tacos\", \"talented\", \"talented\", \"talented\", \"talented\", \"talented\", \"talented\", \"talented\", \"talented\", \"talented\", \"talented\", \"tall\", \"tall\", \"tall\", \"tall\", \"tall\", \"tall\", \"tall\", \"tall\", \"tall\", \"tall\", \"tamale\", \"tamale\", \"tamale\", \"tamale\", \"tamale\", \"tamale\", \"tamale\", \"tamale\", \"tamale\", \"tamale\", \"tan\", \"tan\", \"tan\", \"tan\", \"tan\", \"tan\", \"tan\", \"tan\", \"tan\", \"tan\", \"taro\", \"taro\", \"taro\", \"taro\", \"taro\", \"taro\", \"taro\", \"taro\", \"taro\", \"taro\", \"taste\", \"taste\", \"taste\", \"taste\", \"taste\", \"taste\", \"taste\", \"taste\", \"taste\", \"taste\", \"tasty\", \"tasty\", \"tasty\", \"tasty\", \"tasty\", \"tasty\", \"tasty\", \"tasty\", \"tasty\", \"tasty\", \"tea\", \"tea\", \"tea\", \"tea\", \"tea\", \"tea\", \"tea\", \"tea\", \"tea\", \"tea\", \"tell\", \"tell\", \"tell\", \"tell\", \"tell\", \"tell\", \"tell\", \"tell\", \"tell\", \"tell\", \"tend\", \"tend\", \"tend\", \"tend\", \"tend\", \"tend\", \"tend\", \"tend\", \"tend\", \"tend\", \"tequila\", \"tequila\", \"tequila\", \"tequila\", \"tequila\", \"tequila\", \"tequila\", \"tequila\", \"tequila\", \"tequila\", \"terrible\", \"terrible\", \"terrible\", \"terrible\", \"terrible\", \"terrible\", \"terrible\", \"terrible\", \"terrible\", \"terrible\", \"test\", \"test\", \"test\", \"test\", \"test\", \"test\", \"test\", \"test\", \"test\", \"test\", \"thanksgiving\", \"thanksgiving\", \"thanksgiving\", \"thanksgiving\", \"thanksgiving\", \"thanksgiving\", \"thanksgiving\", \"thanksgiving\", \"thanksgiving\", \"thanksgiving\", \"thing\", \"thing\", \"thing\", \"thing\", \"thing\", \"thing\", \"thing\", \"thing\", \"thing\", \"thing\", \"think\", \"think\", \"think\", \"think\", \"think\", \"think\", \"think\", \"think\", \"think\", \"think\", \"time\", \"time\", \"time\", \"time\", \"time\", \"time\", \"time\", \"time\", \"time\", \"time\", \"timing\", \"timing\", \"timing\", \"timing\", \"timing\", \"timing\", \"timing\", \"timing\", \"timing\", \"timing\", \"tire\", \"tire\", \"tire\", \"tire\", \"tire\", \"tire\", \"tire\", \"tire\", \"tire\", \"tire\", \"toast\", \"toast\", \"toast\", \"toast\", \"toast\", \"toast\", \"toast\", \"toast\", \"toast\", \"toast\", \"tom\", \"tom\", \"tom\", \"tom\", \"tom\", \"tom\", \"tom\", \"tom\", \"tom\", \"tom\", \"tomorrow\", \"tomorrow\", \"tomorrow\", \"tomorrow\", \"tomorrow\", \"tomorrow\", \"tomorrow\", \"tomorrow\", \"tomorrow\", \"tomorrow\", \"totally\", \"totally\", \"totally\", \"totally\", \"totally\", \"totally\", \"totally\", \"totally\", \"totally\", \"totally\", \"towel\", \"towel\", \"towel\", \"towel\", \"towel\", \"towel\", \"towel\", \"towel\", \"towel\", \"towel\", \"trade\", \"trade\", \"trade\", \"trade\", \"trade\", \"trade\", \"trade\", \"trade\", \"trade\", \"trade\", \"treat\", \"treat\", \"treat\", \"treat\", \"treat\", \"treat\", \"treat\", \"treat\", \"treat\", \"treat\", \"trim\", \"trim\", \"trim\", \"trim\", \"trim\", \"trim\", \"trim\", \"trim\", \"trim\", \"trim\", \"try\", \"try\", \"try\", \"try\", \"try\", \"try\", \"try\", \"try\", \"try\", \"try\", \"tr\\u00e8s\", \"tr\\u00e8s\", \"tr\\u00e8s\", \"tr\\u00e8s\", \"tr\\u00e8s\", \"tr\\u00e8s\", \"tr\\u00e8s\", \"tr\\u00e8s\", \"tr\\u00e8s\", \"tr\\u00e8s\", \"type\", \"type\", \"type\", \"type\", \"type\", \"type\", \"type\", \"type\", \"type\", \"type\", \"typically\", \"typically\", \"typically\", \"typically\", \"typically\", \"typically\", \"typically\", \"typically\", \"typically\", \"typically\", \"un\", \"un\", \"un\", \"un\", \"un\", \"un\", \"un\", \"un\", \"un\", \"un\", \"unbelievable\", \"unbelievable\", \"unbelievable\", \"unbelievable\", \"unbelievable\", \"unbelievable\", \"unbelievable\", \"unbelievable\", \"unbelievable\", \"unbelievable\", \"une\", \"une\", \"une\", \"une\", \"une\", \"une\", \"une\", \"une\", \"une\", \"une\", \"update\", \"update\", \"update\", \"update\", \"update\", \"update\", \"update\", \"update\", \"update\", \"update\", \"upper\", \"upper\", \"upper\", \"upper\", \"upper\", \"upper\", \"upper\", \"upper\", \"upper\", \"upper\", \"use\", \"use\", \"use\", \"use\", \"use\", \"use\", \"use\", \"use\", \"use\", \"use\", \"vegan\", \"vegan\", \"vegan\", \"vegan\", \"vegan\", \"vegan\", \"vegan\", \"vegan\", \"vegan\", \"vegan\", \"vegas\", \"vegas\", \"vegas\", \"vegas\", \"vegas\", \"vegas\", \"vegas\", \"vegas\", \"vegas\", \"vegas\", \"veggie\", \"veggie\", \"veggie\", \"veggie\", \"veggie\", \"veggie\", \"veggie\", \"veggie\", \"veggie\", \"veggie\", \"vietnamese\", \"vietnamese\", \"vietnamese\", \"vietnamese\", \"vietnamese\", \"vietnamese\", \"vietnamese\", \"vietnamese\", \"vietnamese\", \"vietnamese\", \"visit\", \"visit\", \"visit\", \"visit\", \"visit\", \"visit\", \"visit\", \"visit\", \"visit\", \"visit\", \"wait\", \"wait\", \"wait\", \"wait\", \"wait\", \"wait\", \"wait\", \"wait\", \"wait\", \"wait\", \"waitstaff\", \"waitstaff\", \"waitstaff\", \"waitstaff\", \"waitstaff\", \"waitstaff\", \"waitstaff\", \"waitstaff\", \"waitstaff\", \"waitstaff\", \"walk\", \"walk\", \"walk\", \"walk\", \"walk\", \"walk\", \"walk\", \"walk\", \"walk\", \"walk\", \"walking\", \"walking\", \"walking\", \"walking\", \"walking\", \"walking\", \"walking\", \"walking\", \"walking\", \"walking\", \"wallet\", \"wallet\", \"wallet\", \"wallet\", \"wallet\", \"wallet\", \"wallet\", \"wallet\", \"wallet\", \"wallet\", \"want\", \"want\", \"want\", \"want\", \"want\", \"want\", \"want\", \"want\", \"want\", \"want\", \"waste\", \"waste\", \"waste\", \"waste\", \"waste\", \"waste\", \"waste\", \"waste\", \"waste\", \"waste\", \"wax\", \"wax\", \"wax\", \"wax\", \"wax\", \"wax\", \"wax\", \"wax\", \"wax\", \"wax\", \"way\", \"way\", \"way\", \"way\", \"way\", \"way\", \"way\", \"way\", \"way\", \"way\", \"week\", \"week\", \"week\", \"week\", \"week\", \"week\", \"week\", \"week\", \"week\", \"week\", \"whiskey\", \"whiskey\", \"whiskey\", \"whiskey\", \"whiskey\", \"whiskey\", \"whiskey\", \"whiskey\", \"whiskey\", \"whiskey\", \"wing\", \"wing\", \"wing\", \"wing\", \"wing\", \"wing\", \"wing\", \"wing\", \"wing\", \"wing\", \"wish\", \"wish\", \"wish\", \"wish\", \"wish\", \"wish\", \"wish\", \"wish\", \"wish\", \"wish\", \"wonderful\", \"wonderful\", \"wonderful\", \"wonderful\", \"wonderful\", \"wonderful\", \"wonderful\", \"wonderful\", \"wonderful\", \"wonderful\", \"work\", \"work\", \"work\", \"work\", \"work\", \"work\", \"work\", \"work\", \"work\", \"work\", \"worker\", \"worker\", \"worker\", \"worker\", \"worker\", \"worker\", \"worker\", \"worker\", \"worker\", \"worker\", \"worth\", \"worth\", \"worth\", \"worth\", \"worth\", \"worth\", \"worth\", \"worth\", \"worth\", \"worth\", \"wrap\", \"wrap\", \"wrap\", \"wrap\", \"wrap\", \"wrap\", \"wrap\", \"wrap\", \"wrap\", \"wrap\", \"wrong\", \"wrong\", \"wrong\", \"wrong\", \"wrong\", \"wrong\", \"wrong\", \"wrong\", \"wrong\", \"wrong\", \"year\", \"year\", \"year\", \"year\", \"year\", \"year\", \"year\", \"year\", \"year\", \"year\", \"yes\", \"yes\", \"yes\", \"yes\", \"yes\", \"yes\", \"yes\", \"yes\", \"yes\", \"yes\", \"yo\", \"yo\", \"yo\", \"yo\", \"yo\", \"yo\", \"yo\", \"yo\", \"yo\", \"yo\", \"young\", \"young\", \"young\", \"young\", \"young\", \"young\", \"young\", \"young\", \"young\", \"young\", \"\\u00e0\", \"\\u00e0\", \"\\u00e0\", \"\\u00e0\", \"\\u00e0\", \"\\u00e0\", \"\\u00e0\", \"\\u00e0\", \"\\u00e0\", \"\\u00e0\"]}, \"R\": 30, \"lambda.step\": 0.01, \"plot.opts\": {\"xlab\": \"PC1\", \"ylab\": \"PC2\"}, \"topic.order\": [1, 6, 9, 7, 3, 4, 8, 10, 2, 5]};\n",
       "\n",
       "function LDAvis_load_lib(url, callback){\n",
       "  var s = document.createElement('script');\n",
       "  s.src = url;\n",
       "  s.async = true;\n",
       "  s.onreadystatechange = s.onload = callback;\n",
       "  s.onerror = function(){console.warn(\"failed to load library \" + url);};\n",
       "  document.getElementsByTagName(\"head\")[0].appendChild(s);\n",
       "}\n",
       "\n",
       "if(typeof(LDAvis) !== \"undefined\"){\n",
       "   // already loaded: just create the visualization\n",
       "   !function(LDAvis){\n",
       "       new LDAvis(\"#\" + \"ldavis_el592741407064770664247848027500\", ldavis_el592741407064770664247848027500_data);\n",
       "   }(LDAvis);\n",
       "}else if(typeof define === \"function\" && define.amd){\n",
       "   // require.js is available: use it to load d3/LDAvis\n",
       "   require.config({paths: {d3: \"https://cdnjs.cloudflare.com/ajax/libs/d3/3.5.5/d3.min\"}});\n",
       "   require([\"d3\"], function(d3){\n",
       "      window.d3 = d3;\n",
       "      LDAvis_load_lib(\"https://cdn.rawgit.com/bmabey/pyLDAvis/files/ldavis.v1.0.0.js\", function(){\n",
       "        new LDAvis(\"#\" + \"ldavis_el592741407064770664247848027500\", ldavis_el592741407064770664247848027500_data);\n",
       "      });\n",
       "    });\n",
       "}else{\n",
       "    // require.js not available: dynamically load d3 & LDAvis\n",
       "    LDAvis_load_lib(\"https://cdnjs.cloudflare.com/ajax/libs/d3/3.5.5/d3.min.js\", function(){\n",
       "         LDAvis_load_lib(\"https://cdn.rawgit.com/bmabey/pyLDAvis/files/ldavis.v1.0.0.js\", function(){\n",
       "                 new LDAvis(\"#\" + \"ldavis_el592741407064770664247848027500\", ldavis_el592741407064770664247848027500_data);\n",
       "            })\n",
       "         });\n",
       "}\n",
       "</script>"
      ],
      "text/plain": [
       "PreparedData(topic_coordinates=              x         y  topics  cluster       Freq\n",
       "topic                                                \n",
       "0     -0.000175 -0.006120       1        1  10.387084\n",
       "5      0.001221  0.000722       2        1  10.119632\n",
       "8      0.001070  0.003111       3        1  10.101554\n",
       "6      0.001955  0.002648       4        1  10.051452\n",
       "2     -0.003919 -0.000272       5        1  10.035892\n",
       "3      0.005383 -0.003239       6        1   9.926855\n",
       "7      0.000684  0.001596       7        1   9.889719\n",
       "9     -0.005592 -0.001320       8        1   9.886578\n",
       "1      0.000997  0.000803       9        1   9.806995\n",
       "4     -0.001623  0.002071      10        1   9.794239, topic_info=           Term         Freq        Total Category  logprob  loglift\n",
       "159       great  4336.000000  4336.000000  Default  30.0000  30.0000\n",
       "111        food  5033.000000  5033.000000  Default  29.0000  29.0000\n",
       "10         like  3789.000000  3789.000000  Default  28.0000  28.0000\n",
       "100       place  5323.000000  5323.000000  Default  27.0000  27.0000\n",
       "28         come  3919.000000  3919.000000  Default  26.0000  26.0000\n",
       "..          ...          ...          ...      ...      ...      ...\n",
       "468       drink   147.799746  1429.850942  Topic10  -5.5789   0.0539\n",
       "159       great   259.565274  4336.228996  Topic10  -5.0158  -0.4924\n",
       "263  definitely   141.943497  1459.127876  Topic10  -5.6194  -0.0068\n",
       "203  experience   140.857960  1480.727220  Topic10  -5.6271  -0.0292\n",
       "386        tell   134.377667  1535.615084  Topic10  -5.6742  -0.1127\n",
       "\n",
       "[796 rows x 6 columns], token_table=      Topic      Freq  Term\n",
       "term                       \n",
       "1038      1  0.078779  able\n",
       "1038      2  0.059084  able\n",
       "1038      3  0.098473  able\n",
       "1038      4  0.083702  able\n",
       "1038      5  0.142786  able\n",
       "...     ...       ...   ...\n",
       "2009      6  0.097376     à\n",
       "2009      7  0.064917     à\n",
       "2009      8  0.081147     à\n",
       "2009      9  0.113605     à\n",
       "2009     10  0.129835     à\n",
       "\n",
       "[4570 rows x 3 columns], R=30, lambda_step=0.01, plot_opts={'xlab': 'PC1', 'ylab': 'PC2'}, topic_order=[1, 6, 9, 7, 3, 4, 8, 10, 2, 5])"
      ]
     },
     "execution_count": 54,
     "metadata": {},
     "output_type": "execute_result"
    }
   ],
   "source": [
    "pyLDAvis.gensim.prepare(lda, corpus, id2word)"
   ]
  },
  {
   "cell_type": "code",
   "execution_count": 56,
   "metadata": {},
   "outputs": [
    {
     "name": "stderr",
     "output_type": "stream",
     "text": [
      "/Applications/anaconda3/envs/U4-S1-NLP/lib/python3.7/site-packages/ipykernel/ipkernel.py:283: DeprecationWarning: `should_run_async` will not call `transform_cell` automatically in the future. Please pass the result to `transformed_cell` argument and any exception that happen during thetransform in `preprocessing_exc_tuple` in IPython 7.17 and above.\n",
      "  and should_run_async(code)\n"
     ]
    }
   ],
   "source": [
    "df['primary_topic'] = topics.idxmax(axis=1)"
   ]
  },
  {
   "cell_type": "code",
   "execution_count": 58,
   "metadata": {},
   "outputs": [
    {
     "name": "stderr",
     "output_type": "stream",
     "text": [
      "/Applications/anaconda3/envs/U4-S1-NLP/lib/python3.7/site-packages/ipykernel/ipkernel.py:283: DeprecationWarning: `should_run_async` will not call `transform_cell` automatically in the future. Please pass the result to `transformed_cell` argument and any exception that happen during thetransform in `preprocessing_exc_tuple` in IPython 7.17 and above.\n",
      "  and should_run_async(code)\n"
     ]
    },
    {
     "data": {
      "text/html": [
       "<div>\n",
       "<style scoped>\n",
       "    .dataframe tbody tr th:only-of-type {\n",
       "        vertical-align: middle;\n",
       "    }\n",
       "\n",
       "    .dataframe tbody tr th {\n",
       "        vertical-align: top;\n",
       "    }\n",
       "\n",
       "    .dataframe thead th {\n",
       "        text-align: right;\n",
       "    }\n",
       "</style>\n",
       "<table border=\"1\" class=\"dataframe\">\n",
       "  <thead>\n",
       "    <tr style=\"text-align: right;\">\n",
       "      <th></th>\n",
       "      <th>business_id</th>\n",
       "      <th>cool</th>\n",
       "      <th>date</th>\n",
       "      <th>funny</th>\n",
       "      <th>review_id</th>\n",
       "      <th>stars</th>\n",
       "      <th>text</th>\n",
       "      <th>useful</th>\n",
       "      <th>user_id</th>\n",
       "      <th>tokens</th>\n",
       "      <th>tokens_string</th>\n",
       "      <th>clean_keywords</th>\n",
       "      <th>primary_topic</th>\n",
       "    </tr>\n",
       "  </thead>\n",
       "  <tbody>\n",
       "    <tr>\n",
       "      <th>0</th>\n",
       "      <td>nDuEqIyRc8YKS1q1fX0CZg</td>\n",
       "      <td>1</td>\n",
       "      <td>2015-03-31 16:50:30</td>\n",
       "      <td>0</td>\n",
       "      <td>eZs2tpEJtXPwawvHnHZIgQ</td>\n",
       "      <td>1</td>\n",
       "      <td>BEWARE!!! FAKE, FAKE, FAKE....We also own a sm...</td>\n",
       "      <td>10</td>\n",
       "      <td>n1LM36qNg4rqGXIcvVXv8w</td>\n",
       "      <td>[beware, fake, fake, fake, small, business, lo...</td>\n",
       "      <td>beware fake fake fake small business los alami...</td>\n",
       "      <td>[beware, fake, fake, fake, small, business, lo...</td>\n",
       "      <td>\"food\", \"good\", \"place\", \"great\", \"order\"</td>\n",
       "    </tr>\n",
       "    <tr>\n",
       "      <th>1</th>\n",
       "      <td>eMYeEapscbKNqUDCx705hg</td>\n",
       "      <td>0</td>\n",
       "      <td>2015-12-16 05:31:03</td>\n",
       "      <td>0</td>\n",
       "      <td>DoQDWJsNbU0KL1O29l_Xug</td>\n",
       "      <td>4</td>\n",
       "      <td>Came here for lunch Togo. Service was quick. S...</td>\n",
       "      <td>0</td>\n",
       "      <td>5CgjjDAic2-FAvCtiHpytA</td>\n",
       "      <td>[come, lunch, togo, quick, staff, friendly, co...</td>\n",
       "      <td>come lunch togo quick staff friendly complaint...</td>\n",
       "      <td>[come, lunch, togo, quick, staff, friendly, co...</td>\n",
       "      <td>\"good\", \"food\", \"time\", \"place\", \"order\"</td>\n",
       "    </tr>\n",
       "    <tr>\n",
       "      <th>2</th>\n",
       "      <td>6Q7-wkCPc1KF75jZLOTcMw</td>\n",
       "      <td>1</td>\n",
       "      <td>2010-06-20 19:14:48</td>\n",
       "      <td>1</td>\n",
       "      <td>DDOdGU7zh56yQHmUnL1idQ</td>\n",
       "      <td>3</td>\n",
       "      <td>I've been to Vegas dozens of times and had nev...</td>\n",
       "      <td>2</td>\n",
       "      <td>BdV-cf3LScmb8kZ7iiBcMA</td>\n",
       "      <td>[vegas, dozen, time, step, foot, circus, circu...</td>\n",
       "      <td>vegas dozen time step foot circus circus reaso...</td>\n",
       "      <td>[vegas, dozen, time, step, foot, circus, circu...</td>\n",
       "      <td>\"good\", \"place\", \"food\", \"great\", \"like\"</td>\n",
       "    </tr>\n",
       "    <tr>\n",
       "      <th>3</th>\n",
       "      <td>k3zrItO4l9hwfLRwHBDc9w</td>\n",
       "      <td>3</td>\n",
       "      <td>2010-07-13 00:33:45</td>\n",
       "      <td>4</td>\n",
       "      <td>LfTMUWnfGFMOfOIyJcwLVA</td>\n",
       "      <td>1</td>\n",
       "      <td>We went here on a night where they closed off ...</td>\n",
       "      <td>5</td>\n",
       "      <td>cZZnBqh4gAEy4CdNvJailQ</td>\n",
       "      <td>[go, night, close, street, party, good, actual...</td>\n",
       "      <td>go night close street party good actually grou...</td>\n",
       "      <td>[night, close, street, party, good, actually, ...</td>\n",
       "      <td>\"food\", \"good\", \"place\", \"great\", \"order\"</td>\n",
       "    </tr>\n",
       "    <tr>\n",
       "      <th>4</th>\n",
       "      <td>6hpfRwGlOzbNv7k5eP9rsQ</td>\n",
       "      <td>1</td>\n",
       "      <td>2018-06-30 02:30:01</td>\n",
       "      <td>0</td>\n",
       "      <td>zJSUdI7bJ8PNJAg4lnl_Gg</td>\n",
       "      <td>4</td>\n",
       "      <td>3.5 to 4 stars\\n\\nNot bad for the price, $12.9...</td>\n",
       "      <td>5</td>\n",
       "      <td>n9QO4ClYAS7h9fpQwa5bhA</td>\n",
       "      <td>[star, bad, price, lunch, senior, pay, eat, ho...</td>\n",
       "      <td>star bad price lunch senior pay eat hot food s...</td>\n",
       "      <td>[star, bad, price, lunch, senior, pay, eat, ho...</td>\n",
       "      <td>\"good\", \"time\", \"food\", \"place\", \"come\"</td>\n",
       "    </tr>\n",
       "  </tbody>\n",
       "</table>\n",
       "</div>"
      ],
      "text/plain": [
       "              business_id  cool                date  funny  \\\n",
       "0  nDuEqIyRc8YKS1q1fX0CZg     1 2015-03-31 16:50:30      0   \n",
       "1  eMYeEapscbKNqUDCx705hg     0 2015-12-16 05:31:03      0   \n",
       "2  6Q7-wkCPc1KF75jZLOTcMw     1 2010-06-20 19:14:48      1   \n",
       "3  k3zrItO4l9hwfLRwHBDc9w     3 2010-07-13 00:33:45      4   \n",
       "4  6hpfRwGlOzbNv7k5eP9rsQ     1 2018-06-30 02:30:01      0   \n",
       "\n",
       "                review_id  stars  \\\n",
       "0  eZs2tpEJtXPwawvHnHZIgQ      1   \n",
       "1  DoQDWJsNbU0KL1O29l_Xug      4   \n",
       "2  DDOdGU7zh56yQHmUnL1idQ      3   \n",
       "3  LfTMUWnfGFMOfOIyJcwLVA      1   \n",
       "4  zJSUdI7bJ8PNJAg4lnl_Gg      4   \n",
       "\n",
       "                                                text  useful  \\\n",
       "0  BEWARE!!! FAKE, FAKE, FAKE....We also own a sm...      10   \n",
       "1  Came here for lunch Togo. Service was quick. S...       0   \n",
       "2  I've been to Vegas dozens of times and had nev...       2   \n",
       "3  We went here on a night where they closed off ...       5   \n",
       "4  3.5 to 4 stars\\n\\nNot bad for the price, $12.9...       5   \n",
       "\n",
       "                  user_id                                             tokens  \\\n",
       "0  n1LM36qNg4rqGXIcvVXv8w  [beware, fake, fake, fake, small, business, lo...   \n",
       "1  5CgjjDAic2-FAvCtiHpytA  [come, lunch, togo, quick, staff, friendly, co...   \n",
       "2  BdV-cf3LScmb8kZ7iiBcMA  [vegas, dozen, time, step, foot, circus, circu...   \n",
       "3  cZZnBqh4gAEy4CdNvJailQ  [go, night, close, street, party, good, actual...   \n",
       "4  n9QO4ClYAS7h9fpQwa5bhA  [star, bad, price, lunch, senior, pay, eat, ho...   \n",
       "\n",
       "                                       tokens_string  \\\n",
       "0  beware fake fake fake small business los alami...   \n",
       "1  come lunch togo quick staff friendly complaint...   \n",
       "2  vegas dozen time step foot circus circus reaso...   \n",
       "3  go night close street party good actually grou...   \n",
       "4  star bad price lunch senior pay eat hot food s...   \n",
       "\n",
       "                                      clean_keywords  \\\n",
       "0  [beware, fake, fake, fake, small, business, lo...   \n",
       "1  [come, lunch, togo, quick, staff, friendly, co...   \n",
       "2  [vegas, dozen, time, step, foot, circus, circu...   \n",
       "3  [night, close, street, party, good, actually, ...   \n",
       "4  [star, bad, price, lunch, senior, pay, eat, ho...   \n",
       "\n",
       "                               primary_topic  \n",
       "0  \"food\", \"good\", \"place\", \"great\", \"order\"  \n",
       "1   \"good\", \"food\", \"time\", \"place\", \"order\"  \n",
       "2   \"good\", \"place\", \"food\", \"great\", \"like\"  \n",
       "3  \"food\", \"good\", \"place\", \"great\", \"order\"  \n",
       "4    \"good\", \"time\", \"food\", \"place\", \"come\"  "
      ]
     },
     "execution_count": 58,
     "metadata": {},
     "output_type": "execute_result"
    }
   ],
   "source": [
    "df.head()"
   ]
  },
  {
   "cell_type": "code",
   "execution_count": 59,
   "metadata": {},
   "outputs": [
    {
     "name": "stderr",
     "output_type": "stream",
     "text": [
      "/Applications/anaconda3/envs/U4-S1-NLP/lib/python3.7/site-packages/ipykernel/ipkernel.py:283: DeprecationWarning: `should_run_async` will not call `transform_cell` automatically in the future. Please pass the result to `transformed_cell` argument and any exception that happen during thetransform in `preprocessing_exc_tuple` in IPython 7.17 and above.\n",
      "  and should_run_async(code)\n"
     ]
    },
    {
     "data": {
      "text/plain": [
       "\"good\", \"place\", \"great\", \"come\", \"time\"     1333\n",
       "\"good\", \"food\", \"time\", \"place\", \"order\"     1039\n",
       "\"come\", \"food\", \"good\", \"place\", \"time\"      1037\n",
       "\"good\", \"great\", \"food\", \"place\", \"order\"    1014\n",
       "\"food\", \"good\", \"place\", \"great\", \"order\"    1010\n",
       "\"good\", \"time\", \"food\", \"place\", \"come\"       998\n",
       "\"good\", \"place\", \"food\", \"great\", \"like\"      992\n",
       "\"place\", \"good\", \"like\", \"time\", \"food\"       962\n",
       "\"good\", \"food\", \"place\", \"great\", \"like\"      854\n",
       "\"good\", \"place\", \"come\", \"time\", \"food\"       761\n",
       "Name: primary_topic, dtype: int64"
      ]
     },
     "execution_count": 59,
     "metadata": {},
     "output_type": "execute_result"
    }
   ],
   "source": [
    "df['primary_topic'].value_counts()"
   ]
  },
  {
   "cell_type": "code",
   "execution_count": 61,
   "metadata": {},
   "outputs": [
    {
     "name": "stderr",
     "output_type": "stream",
     "text": [
      "/Applications/anaconda3/envs/U4-S1-NLP/lib/python3.7/site-packages/ipykernel/ipkernel.py:283: DeprecationWarning: `should_run_async` will not call `transform_cell` automatically in the future. Please pass the result to `transformed_cell` argument and any exception that happen during thetransform in `preprocessing_exc_tuple` in IPython 7.17 and above.\n",
      "  and should_run_async(code)\n"
     ]
    }
   ],
   "source": [
    "agg = pd.pivot_table(df, values=['text'],\n",
    "                     index=['primary_topic'],\n",
    "                     columns=['stars'], aggfunc='count')"
   ]
  },
  {
   "cell_type": "code",
   "execution_count": 62,
   "metadata": {},
   "outputs": [
    {
     "name": "stderr",
     "output_type": "stream",
     "text": [
      "/Applications/anaconda3/envs/U4-S1-NLP/lib/python3.7/site-packages/ipykernel/ipkernel.py:283: DeprecationWarning: `should_run_async` will not call `transform_cell` automatically in the future. Please pass the result to `transformed_cell` argument and any exception that happen during thetransform in `preprocessing_exc_tuple` in IPython 7.17 and above.\n",
      "  and should_run_async(code)\n"
     ]
    }
   ],
   "source": [
    "agg = agg.reset_index()"
   ]
  },
  {
   "cell_type": "code",
   "execution_count": 63,
   "metadata": {},
   "outputs": [
    {
     "name": "stderr",
     "output_type": "stream",
     "text": [
      "/Applications/anaconda3/envs/U4-S1-NLP/lib/python3.7/site-packages/ipykernel/ipkernel.py:283: DeprecationWarning: `should_run_async` will not call `transform_cell` automatically in the future. Please pass the result to `transformed_cell` argument and any exception that happen during thetransform in `preprocessing_exc_tuple` in IPython 7.17 and above.\n",
      "  and should_run_async(code)\n"
     ]
    },
    {
     "data": {
      "text/html": [
       "<div>\n",
       "<style scoped>\n",
       "    .dataframe tbody tr th:only-of-type {\n",
       "        vertical-align: middle;\n",
       "    }\n",
       "\n",
       "    .dataframe tbody tr th {\n",
       "        vertical-align: top;\n",
       "    }\n",
       "\n",
       "    .dataframe thead th {\n",
       "        text-align: right;\n",
       "    }\n",
       "</style>\n",
       "<table border=\"1\" class=\"dataframe\">\n",
       "  <thead>\n",
       "    <tr style=\"text-align: right;\">\n",
       "      <th></th>\n",
       "      <th>primary_topic</th>\n",
       "      <th>1</th>\n",
       "      <th>2</th>\n",
       "      <th>3</th>\n",
       "      <th>4</th>\n",
       "      <th>5</th>\n",
       "    </tr>\n",
       "  </thead>\n",
       "  <tbody>\n",
       "    <tr>\n",
       "      <th>0</th>\n",
       "      <td>\"come\", \"food\", \"good\", \"place\", \"time\"</td>\n",
       "      <td>150</td>\n",
       "      <td>83</td>\n",
       "      <td>96</td>\n",
       "      <td>247</td>\n",
       "      <td>461</td>\n",
       "    </tr>\n",
       "    <tr>\n",
       "      <th>1</th>\n",
       "      <td>\"food\", \"good\", \"place\", \"great\", \"order\"</td>\n",
       "      <td>143</td>\n",
       "      <td>90</td>\n",
       "      <td>136</td>\n",
       "      <td>244</td>\n",
       "      <td>397</td>\n",
       "    </tr>\n",
       "    <tr>\n",
       "      <th>2</th>\n",
       "      <td>\"good\", \"food\", \"place\", \"great\", \"like\"</td>\n",
       "      <td>146</td>\n",
       "      <td>81</td>\n",
       "      <td>121</td>\n",
       "      <td>181</td>\n",
       "      <td>325</td>\n",
       "    </tr>\n",
       "    <tr>\n",
       "      <th>3</th>\n",
       "      <td>\"good\", \"food\", \"time\", \"place\", \"order\"</td>\n",
       "      <td>128</td>\n",
       "      <td>98</td>\n",
       "      <td>91</td>\n",
       "      <td>234</td>\n",
       "      <td>488</td>\n",
       "    </tr>\n",
       "    <tr>\n",
       "      <th>4</th>\n",
       "      <td>\"good\", \"great\", \"food\", \"place\", \"order\"</td>\n",
       "      <td>162</td>\n",
       "      <td>64</td>\n",
       "      <td>101</td>\n",
       "      <td>199</td>\n",
       "      <td>488</td>\n",
       "    </tr>\n",
       "  </tbody>\n",
       "</table>\n",
       "</div>"
      ],
      "text/plain": [
       "                               primary_topic    1   2    3    4    5\n",
       "0    \"come\", \"food\", \"good\", \"place\", \"time\"  150  83   96  247  461\n",
       "1  \"food\", \"good\", \"place\", \"great\", \"order\"  143  90  136  244  397\n",
       "2   \"good\", \"food\", \"place\", \"great\", \"like\"  146  81  121  181  325\n",
       "3   \"good\", \"food\", \"time\", \"place\", \"order\"  128  98   91  234  488\n",
       "4  \"good\", \"great\", \"food\", \"place\", \"order\"  162  64  101  199  488"
      ]
     },
     "execution_count": 63,
     "metadata": {},
     "output_type": "execute_result"
    }
   ],
   "source": [
    "agg.columns = ['primary_topic', '1', '2', '3', '4', '5']\n",
    "agg.head()"
   ]
  },
  {
   "cell_type": "markdown",
   "metadata": {
    "id": "kU4xV8OFx-7h"
   },
   "source": [
    "## Stretch Goals\n",
    "\n",
    "Complete one of more of these to push your score towards a three: \n",
    "* Create more visualizations of the LDA results and provide written analysis\n",
    "* Incorporate RandomizedSearchCV into docoument classification pipeline\n",
    "* Incorporate named entity recognition into your analysis\n",
    "* Compare vectorization methods in the classification section\n",
    "* Analyze more (or all) of the yelp dataset - this one is v. hard. \n",
    "* Use a generator object on the reviews file - this would help you with the analyzing the whole dataset.\n",
    "* Incorporate any of the other yelp dataset entities in your analysis (business, users, etc.)"
   ]
  },
  {
   "cell_type": "code",
   "execution_count": 64,
   "metadata": {},
   "outputs": [
    {
     "name": "stderr",
     "output_type": "stream",
     "text": [
      "/Applications/anaconda3/envs/U4-S1-NLP/lib/python3.7/site-packages/ipykernel/ipkernel.py:283: DeprecationWarning: `should_run_async` will not call `transform_cell` automatically in the future. Please pass the result to `transformed_cell` argument and any exception that happen during thetransform in `preprocessing_exc_tuple` in IPython 7.17 and above.\n",
      "  and should_run_async(code)\n"
     ]
    },
    {
     "data": {
      "image/png": "[encoded data removed]",
      "text/plain": [
       "<Figure size 432x1080 with 1 Axes>"
      ]
     },
     "metadata": {},
     "output_type": "display_data"
    }
   ],
   "source": [
    "import seaborn as sns\n",
    "import matplotlib.pyplot as plt\n",
    "\n",
    "sns.set(style=\"whitegrid\")\n",
    "\n",
    "# Initialize the matplotlib figure\n",
    "f, ax = plt.subplots(figsize=(6, 15))\n",
    "\n",
    "sns.set_color_codes('pastel')\n",
    "sns.barplot(x='1', y='primary_topic', data=agg, label=\"1\", color=\"b\")\n",
    "\n",
    "sns.set_color_codes('muted')\n",
    "sns.barplot(x='2', y='primary_topic', data=agg, label=\"2\", color=\"b\")\n",
    "\n",
    "sns.set_color_codes('muted')\n",
    "sns.barplot(x='3', y='primary_topic', data=agg, label=\"3\", color=\"b\")\n",
    "\n",
    "sns.set_color_codes('muted')\n",
    "sns.barplot(x='4', y='primary_topic', data=agg, label=\"4\", color=\"b\")\n",
    "\n",
    "sns.set_color_codes('muted')\n",
    "sns.barplot(x='5', y='primary_topic', data=agg, label=\"5\", color=\"b\")\n",
    "\n",
    "ax.legend(ncol=2, loc=\"lower right\", frameon=True)\n",
    "ax.set(xlim=(0,5000), ylabel=\"\", xlabel=\"Count of Reviews\")\n",
    "sns.despine(left=True, bottom=True)"
   ]
  },
  {
   "cell_type": "code",
   "execution_count": null,
   "metadata": {},
   "outputs": [],
   "source": []
  }
 ],
 "metadata": {
  "colab": {
   "name": "LS_DS_415_Sprint_Challenge_Practice.ipynb",
   "provenance": []
  },
  "kernel_info": {
   "name": "u4-s1-nlp"
  },
  "kernelspec": {
   "display_name": "U4-S1-NLP (Python3)",
   "language": "python",
   "name": "u4-s1-nlp"
  },
  "language_info": {
   "codemirror_mode": {
    "name": "ipython",
    "version": 3
   },
   "file_extension": ".py",
   "mimetype": "text/x-python",
   "name": "python",
   "nbconvert_exporter": "python",
   "pygments_lexer": "ipython3",
   "version": "3.7.0"
  },
  "nteract": {
   "version": "0.22.4"
  },
  "toc-autonumbering": false
 },
 "nbformat": 4,
 "nbformat_minor": 1
}
